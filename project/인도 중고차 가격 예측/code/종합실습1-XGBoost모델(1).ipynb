{
 "cells": [
  {
   "cell_type": "markdown",
   "id": "a63d20f5-b454-4a09-85d7-fb19402c28cc",
   "metadata": {},
   "source": [
    "# 1. 데이터 전처리"
   ]
  },
  {
   "cell_type": "code",
   "execution_count": 1,
   "id": "5d072180-6f12-4568-a136-91ded4892ab8",
   "metadata": {},
   "outputs": [],
   "source": [
    "import pandas as pd\n",
    "\n",
    "import numpy as np\n",
    "\n",
    "import matplotlib\n",
    "import matplotlib.pyplot as plt\n",
    "import seaborn as sns\n",
    "import statsmodels.formula.api as smf\n",
    "from statsmodels.api import qqplot, add_constant\n",
    "from statsmodels.stats.outliers_influence import variance_inflation_factor\n",
    "\n",
    "from sklearn.model_selection import train_test_split\n",
    "from sklearn.linear_model import LinearRegression\n",
    "from sklearn.feature_selection import RFE\n",
    "from sklearn.preprocessing import StandardScaler\n",
    "from sklearn.metrics import r2_score\n",
    "\n",
    "from sklearn.tree import DecisionTreeRegressor\n",
    "from sklearn.ensemble import RandomForestRegressor\n",
    "from sklearn.ensemble import GradientBoostingRegressor\n",
    "\n",
    "from sklearn.metrics import mean_squared_error\n",
    "from sklearn.metrics import mean_absolute_error\n",
    "from sklearn.metrics import mean_absolute_percentage_error\n",
    "\n",
    "from sklearn.linear_model import Ridge, Lasso, ElasticNet"
   ]
  },
  {
   "cell_type": "code",
   "execution_count": 2,
   "id": "3b843915-1141-4a48-a261-478701ea9aac",
   "metadata": {},
   "outputs": [],
   "source": [
    "import matplotlib.pyplot as plt\n",
    "%matplotlib inline\n",
    "\n",
    "import platform\n",
    "platform.system()\n",
    "\n",
    "# 운영체제별 한글 폰트 설정\n",
    "if platform.system() == 'Darwin': # Mac 환경 폰트 설정\n",
    "    plt.rc('font', family='AppleGothic')\n",
    "elif platform.system() == 'Windows': # Windows 환경 폰트 설정\n",
    "    plt.rc('font', family='Malgun Gothic')\n",
    "\n",
    "plt.rc('axes', unicode_minus=False) # 마이너스 폰트 설정\n",
    "\n",
    "\n",
    "import warnings\n",
    "warnings.filterwarnings('ignore')"
   ]
  },
  {
   "cell_type": "code",
   "execution_count": 3,
   "id": "e3e99a25-f56e-4379-b5b4-3e4af41fd1b7",
   "metadata": {},
   "outputs": [],
   "source": [
    "import matplotlib.pyplot as plt\n",
    "plt.rcParams['font.family'] = 'NanumGothic'\n",
    "\n",
    "matplotlib.rc(\"axes\", unicode_minus = False)"
   ]
  },
  {
   "cell_type": "code",
   "execution_count": 4,
   "id": "d3e3e30b-7403-48ad-955a-2b9be0976a00",
   "metadata": {},
   "outputs": [
    {
     "data": {
      "text/html": [
       "<div>\n",
       "<style scoped>\n",
       "    .dataframe tbody tr th:only-of-type {\n",
       "        vertical-align: middle;\n",
       "    }\n",
       "\n",
       "    .dataframe tbody tr th {\n",
       "        vertical-align: top;\n",
       "    }\n",
       "\n",
       "    .dataframe thead th {\n",
       "        text-align: right;\n",
       "    }\n",
       "</style>\n",
       "<table border=\"1\" class=\"dataframe\">\n",
       "  <thead>\n",
       "    <tr style=\"text-align: right;\">\n",
       "      <th></th>\n",
       "      <th>Name</th>\n",
       "      <th>Location</th>\n",
       "      <th>Price</th>\n",
       "      <th>Year</th>\n",
       "      <th>Kilometers_Driven</th>\n",
       "      <th>Fuel_Type</th>\n",
       "      <th>Transmission</th>\n",
       "      <th>Owner_Type</th>\n",
       "      <th>Mileage</th>\n",
       "      <th>Engine</th>\n",
       "      <th>Power</th>\n",
       "      <th>Seats</th>\n",
       "      <th>New_Price</th>\n",
       "    </tr>\n",
       "  </thead>\n",
       "  <tbody>\n",
       "    <tr>\n",
       "      <th>0</th>\n",
       "      <td>Maruti Wagon R LXI CNG</td>\n",
       "      <td>Mumbai</td>\n",
       "      <td>2682.68</td>\n",
       "      <td>2010</td>\n",
       "      <td>72000</td>\n",
       "      <td>CNG</td>\n",
       "      <td>Manual</td>\n",
       "      <td>First</td>\n",
       "      <td>26.6 kmpl</td>\n",
       "      <td>998 CC</td>\n",
       "      <td>58.16 bhp</td>\n",
       "      <td>5.0</td>\n",
       "      <td>NaN</td>\n",
       "    </tr>\n",
       "    <tr>\n",
       "      <th>1</th>\n",
       "      <td>Hyundai Creta 1.6 CRDi SX Option</td>\n",
       "      <td>Pune</td>\n",
       "      <td>19162.00</td>\n",
       "      <td>2015</td>\n",
       "      <td>41000</td>\n",
       "      <td>Diesel</td>\n",
       "      <td>Manual</td>\n",
       "      <td>First</td>\n",
       "      <td>19.67 kmpl</td>\n",
       "      <td>1582 CC</td>\n",
       "      <td>126.2 bhp</td>\n",
       "      <td>5.0</td>\n",
       "      <td>NaN</td>\n",
       "    </tr>\n",
       "    <tr>\n",
       "      <th>2</th>\n",
       "      <td>Honda Jazz V</td>\n",
       "      <td>Chennai</td>\n",
       "      <td>6898.32</td>\n",
       "      <td>2011</td>\n",
       "      <td>46000</td>\n",
       "      <td>Petrol</td>\n",
       "      <td>Manual</td>\n",
       "      <td>First</td>\n",
       "      <td>18.2 kmpl</td>\n",
       "      <td>1199 CC</td>\n",
       "      <td>88.7 bhp</td>\n",
       "      <td>5.0</td>\n",
       "      <td>8.61 Lakh</td>\n",
       "    </tr>\n",
       "  </tbody>\n",
       "</table>\n",
       "</div>"
      ],
      "text/plain": [
       "                               Name Location     Price  Year  \\\n",
       "0            Maruti Wagon R LXI CNG   Mumbai   2682.68  2010   \n",
       "1  Hyundai Creta 1.6 CRDi SX Option     Pune  19162.00  2015   \n",
       "2                      Honda Jazz V  Chennai   6898.32  2011   \n",
       "\n",
       "   Kilometers_Driven Fuel_Type Transmission Owner_Type     Mileage   Engine  \\\n",
       "0              72000       CNG       Manual      First   26.6 kmpl   998 CC   \n",
       "1              41000    Diesel       Manual      First  19.67 kmpl  1582 CC   \n",
       "2              46000    Petrol       Manual      First   18.2 kmpl  1199 CC   \n",
       "\n",
       "       Power  Seats  New_Price  \n",
       "0  58.16 bhp    5.0        NaN  \n",
       "1  126.2 bhp    5.0        NaN  \n",
       "2   88.7 bhp    5.0  8.61 Lakh  "
      ]
     },
     "execution_count": 4,
     "metadata": {},
     "output_type": "execute_result"
    }
   ],
   "source": [
    "df = pd.read_csv(\"Car.csv\")\n",
    "df.head(3)"
   ]
  },
  {
   "cell_type": "code",
   "execution_count": 5,
   "id": "48212691-630d-46ae-a769-86c2d916c106",
   "metadata": {},
   "outputs": [],
   "source": [
    "# 수치형 값과 문자형 값을 구분\n",
    "df[['Mileage_kmpl','Mileage']]= df['Mileage'].str.split(expand=True)\n",
    "df[['Engine_CC','Engine']]= df['Engine'].str.split(expand=True)\n",
    "df[['Power_bhp','Power']]= df['Power'].str.split(expand=True)\n",
    "df[['New_Price_Lakh','New_Price']]= df['New_Price'].str.split(expand=True)"
   ]
  },
  {
   "cell_type": "code",
   "execution_count": 6,
   "id": "44d97dda-b673-4ac0-bfe3-dda59d1b3050",
   "metadata": {},
   "outputs": [],
   "source": [
    "# 수치형 변수 float형으로 변환\n",
    "\n",
    "df['Mileage_kmpl'] = df['Mileage_kmpl'].astype('float')\n",
    "df['Engine_CC'] = df['Engine_CC'].astype('float')\n",
    "df['Power_bhp'] = df['Power_bhp'].replace('null', np.nan)\n",
    "df['Power_bhp'] = df['Power_bhp'].astype('float')\n",
    "\n",
    "df['New_Price_Lakh'] = df['New_Price_Lakh'].replace('null', np.nan)\n",
    "df['New_Price_Lakh'] = df['New_Price_Lakh'].astype('float')"
   ]
  },
  {
   "cell_type": "code",
   "execution_count": 7,
   "id": "220fa32a-421c-444a-99fe-8966bdeb2d4a",
   "metadata": {},
   "outputs": [],
   "source": [
    "# 문자형 값을 나타낸 열 제거\n",
    "\n",
    "df.drop(columns=['Mileage','Engine','Power','New_Price'], inplace=True)"
   ]
  },
  {
   "cell_type": "markdown",
   "id": "34ce6d03-bf46-4d6c-bb6a-65e8ea3e4e90",
   "metadata": {},
   "source": [
    "### 이상치, 결측치 확인 및 제거"
   ]
  },
  {
   "cell_type": "code",
   "execution_count": 8,
   "id": "c40de8a7-a41c-4d4b-a063-a135cd998cd3",
   "metadata": {},
   "outputs": [],
   "source": [
    "df_train = df[df['Price'].notnull()]"
   ]
  },
  {
   "cell_type": "code",
   "execution_count": 9,
   "id": "fc874416-bbf4-4c2d-a268-0da9bb7c32ca",
   "metadata": {
    "scrolled": true
   },
   "outputs": [],
   "source": [
    "df_train[df_train['Name']=='Honda City 1.5 GXI'] # 전체 데이터에서 모델명이 동일하면 좌석, 엔진, 파워 동일하게 채움\n",
    "df_train.loc[df_train['Name']=='Honda City 1.5 GXI', 'Seats'] = 5.0\n",
    "df_train.loc[df_train['Name']=='Honda City 1.5 GXI', 'Mileage_kmpl'] = 12.8\n",
    "df_train.loc[df_train['Name']=='Honda City 1.5 GXI', 'Power_bhp'] = 100.0"
   ]
  },
  {
   "cell_type": "code",
   "execution_count": 10,
   "id": "9f73e94f-8769-4ff7-b579-a782a8dc6383",
   "metadata": {},
   "outputs": [],
   "source": [
    "df_train[df_train['Name']=='Toyota Etios Liva V'] # 전체 데이터에서 모델명이 동일하면 좌석, 엔진, 파워 동일하게 채움\n",
    "df_train.loc[df_train['Name']=='Toyota Etios Liva V', 'Seats'] = 5.0\n",
    "df_train.loc[(df_train['Name']=='Toyota Etios Liva V') & (df_train['Engine_CC'].isnull()), 'Engine_CC'] = round((1197.0*1.033),0) # 동일한 모델이지만 마일값이 1.03배 만큼 차이남\n",
    "df_train.loc[(df_train['Name']=='Toyota Etios Liva V') & (df_train['Power_bhp'].isnull()), 'Power_bhp'] = round((78.9*1.033),1)        # 엔진, 파워도 1.03배 만큼 증가시킴"
   ]
  },
  {
   "cell_type": "code",
   "execution_count": 11,
   "id": "044a6bd1-bb5f-485b-8d8f-f3da50d8783b",
   "metadata": {},
   "outputs": [],
   "source": [
    "df_train[['Brand' , 'Name']] = df_train['Name'].str.split(n=1, expand=True)"
   ]
  },
  {
   "cell_type": "code",
   "execution_count": 12,
   "id": "2c59e1ad-951a-45b5-93e9-d4c1c1633a20",
   "metadata": {},
   "outputs": [],
   "source": [
    "df_train = df_train[df_train.groupby('Brand')['Brand'].transform('size') >= 50]\n",
    "df_train = df_train[df_train.groupby('Year')['Year'].transform('size') >= 50]"
   ]
  },
  {
   "cell_type": "code",
   "execution_count": 13,
   "id": "7a191ade-b51d-4cd1-a41a-aa4cdb340e9a",
   "metadata": {},
   "outputs": [],
   "source": [
    "# 같은 제조사의 같은 시리즈 명의 엔진, 좌석, 파워의 평균을 넣어준다.\n",
    "\n",
    "# Swift_Mil_mean=df_train[df_train['Name'].str.contains('Swift')]['Mileage_kmpl'].mean()\n",
    "Swift_Seat = df_train[df_train['Name'].str.contains('Swift')]['Seats'].mean() # 5밖에 없어서 5임\n",
    "Swift_Engine_mean = df_train[df_train['Name'].str.contains('Swift')]['Engine_CC'].mean() # 평균들을 다 구해준다.\n",
    "Swift_Power_mean = df_train[df_train['Name'].str.contains('Swift')]['Power_bhp'].mean()"
   ]
  },
  {
   "cell_type": "code",
   "execution_count": 14,
   "id": "3553d982-5784-4cca-8e5b-d6ad424c68ed",
   "metadata": {
    "scrolled": true
   },
   "outputs": [],
   "source": [
    "df_train.loc[(df_train['Name'].str.contains('Swift')) & (df_train['Engine_CC'].isnull()), 'Engine_CC']= Swift_Engine_mean\n",
    "df_train.loc[(df_train['Name'].str.contains('Swift')) & (df_train['Seats'].isnull()), 'Seats']= Swift_Seat\n",
    "df_train.loc[(df_train['Name'].str.contains('Swift')) & (df_train['Power_bhp'].isnull()), 'Power_bhp']= Swift_Power_mean"
   ]
  },
  {
   "cell_type": "code",
   "execution_count": 15,
   "id": "992cbd7c-9d8b-4e9b-aa97-1a0a8e27de9c",
   "metadata": {},
   "outputs": [],
   "source": [
    "# City 1.5 GXI 차량의 Engine 결측값 대체\n",
    "\n",
    "df_train.loc[(df_train['Name'].str.contains('City 1.5 GXI')), 'Engine_CC'] = 1493.0"
   ]
  },
  {
   "cell_type": "code",
   "execution_count": 16,
   "id": "18e7849d-35cb-4bdb-bc09-95bc171cdb50",
   "metadata": {},
   "outputs": [],
   "source": [
    "df_train.loc[(df_train['Name'].str.contains('5 Series 520d'))& (df_train['Engine_CC'].isnull()),'Engine_CC' ] = 1995.0\n",
    "df_train.loc[(df_train['Name'].str.contains('5 Series 520d'))& (df_train['Power_bhp'].isnull()),'Power_bhp' ] = 190.00\n",
    "df_train.loc[(df_train['Name'].str.contains('5 Series 520d'))& (df_train['Seats'].isnull()),'Seats' ] = 5.0"
   ]
  },
  {
   "cell_type": "code",
   "execution_count": 17,
   "id": "692080e5-bac0-4cd9-883e-ba0b6577053b",
   "metadata": {},
   "outputs": [],
   "source": [
    "df_train.loc[(df_train['Name'].str.contains('Santro'))& (df_train['Engine_CC'].isnull()),'Engine_CC'] = 1086.0\n",
    "df_train.loc[(df_train['Name'].str.contains('Santro'))& (df_train['Power_bhp'].isnull()),'Power_bhp'] = 62\n",
    "df_train.loc[(df_train['Name'].str.contains('Santro'))& (df_train['Mileage_kmpl']==0),'Mileage_kmpl'] = 17.92"
   ]
  },
  {
   "cell_type": "code",
   "execution_count": 18,
   "id": "8eaa205c-1408-4e90-90bc-16d99693810b",
   "metadata": {},
   "outputs": [],
   "source": [
    "Swift_Seat = df_train[df_train['Name'].str.contains('Etios')]['Seats'].mode()[0] \n",
    "Swift_Engine_mean = df_train[df_train['Name'].str.contains('Etios')]['Engine_CC'].mean() # 평균들을 다 구해준다.\n",
    "Swift_Power_mean = df_train[df_train['Name'].str.contains('Etios')]['Power_bhp'].mean()\n",
    "Swift_Mil_mode = df_train[df_train['Name'].str.contains('Etios')]['Mileage_kmpl'].mode()[0]\n",
    "\n",
    "df_train.loc[(df_train['Name'].str.contains('Etios')) & (df_train['Engine_CC'].isnull()), 'Engine_CC']= Swift_Engine_mean\n",
    "df_train.loc[(df_train['Name'].str.contains('Etios')) & (df_train['Seats'].isnull()), 'Seats']= Swift_Seat\n",
    "df_train.loc[(df_train['Name'].str.contains('Etios')) & (df_train['Power_bhp'].isnull()), 'Power_bhp']= Swift_Power_mean\n",
    "df_train.loc[(df_train['Name'].str.contains('Etios')) & (df_train['Mileage_kmpl']==0), 'Mileage_kmpl']= Swift_Mil_mode"
   ]
  },
  {
   "cell_type": "code",
   "execution_count": 19,
   "id": "71aa9369-fab2-4502-adb6-d80239258b88",
   "metadata": {},
   "outputs": [],
   "source": [
    "Swift_Seat = df_train[df_train['Name'].str.contains('Fiesta')]['Seats'].mode()[0] # 5밖에 없어서 5임\n",
    "Swift_Engine_mean = df_train[df_train['Name'].str.contains('Fiesta')]['Engine_CC'].mean() # 평균들을 다 구해준다.\n",
    "Swift_Power_mean = df_train[df_train['Name'].str.contains('Fiesta')]['Power_bhp'].mean()\n",
    "Swift_Mil_mode = df_train[df_train['Name'].str.contains('Fiesta')]['Mileage_kmpl'].mode()[0]\n",
    "\n",
    "df_train.loc[(df_train['Name'].str.contains('Fiesta')) & (df_train['Engine_CC'].isnull()), 'Engine_CC']= Swift_Engine_mean\n",
    "df_train.loc[(df_train['Name'].str.contains('Fiesta')) & (df_train['Seats'].isnull()), 'Seats']= Swift_Seat\n",
    "df_train.loc[(df_train['Name'].str.contains('Fiesta')) & (df_train['Power_bhp'].isnull()), 'Power_bhp']= Swift_Power_mean\n",
    "df_train.loc[(df_train['Name'].str.contains('Fiesta')) & (df_train['Mileage_kmpl']==0), 'Mileage_kmpl']= Swift_Mil_mode"
   ]
  },
  {
   "cell_type": "code",
   "execution_count": 20,
   "id": "492b25db-b9b9-44f2-8d33-a82588d6181e",
   "metadata": {},
   "outputs": [],
   "source": [
    "Swift_Seat = df_train[df_train['Name'].str.contains('Indica')]['Seats'].mode()[0] # 5밖에 없어서 5임\n",
    "Swift_Engine_mean = df_train[df_train['Name'].str.contains('Indica')]['Engine_CC'].mean() # 평균들을 다 구해준다.\n",
    "Swift_Power_mean = df_train[df_train['Name'].str.contains('Indica')]['Power_bhp'].mean()\n",
    "Swift_Mil_mode = df_train[df_train['Name'].str.contains('Indica')]['Mileage_kmpl'].mode()[0]\n",
    "\n",
    "df_train.loc[(df_train['Name'].str.contains('Indica')) & (df_train['Engine_CC'].isnull()), 'Engine_CC']= Swift_Engine_mean\n",
    "df_train.loc[(df_train['Name'].str.contains('Indica')) & (df_train['Seats'].isnull()), 'Seats']= Swift_Seat\n",
    "df_train.loc[(df_train['Name'].str.contains('Indica')) & (df_train['Power_bhp'].isnull()), 'Power_bhp']= Swift_Power_mean\n",
    "df_train.loc[(df_train['Name'].str.contains('Indica')) & (df_train['Mileage_kmpl']==0), 'Mileage_kmpl']= Swift_Mil_mode"
   ]
  },
  {
   "cell_type": "code",
   "execution_count": 21,
   "id": "2acd4be6-a15b-4f3c-a59b-ae763935a9cc",
   "metadata": {},
   "outputs": [],
   "source": [
    "df_train = df_train.drop(df_train[df_train['Seats']==0].index) # seats가 0인 값 제거\n",
    "df_train = df_train.drop(df_train[df_train['Mileage_kmpl']<5].index) # mileage <5 제거"
   ]
  },
  {
   "cell_type": "code",
   "execution_count": 22,
   "id": "9cd8e473-699b-44dd-bc13-459e46cf1ffe",
   "metadata": {
    "scrolled": true
   },
   "outputs": [],
   "source": [
    "df_train.drop(columns=\"New_Price_Lakh\", inplace=True)\n",
    "df_train.isnull().sum()\n",
    "df_train.dropna(subset=['Price'], inplace=True)"
   ]
  },
  {
   "cell_type": "code",
   "execution_count": 23,
   "id": "8dbcc5d2-c9bc-491b-ba0b-d9b68452a262",
   "metadata": {},
   "outputs": [],
   "source": [
    "df_train.dropna(subset=\"Power_bhp\",inplace=True)\n",
    "df_train['Seats'].fillna(df_train['Seats'].mode()[0], inplace=True) \n",
    "df_train.dropna(subset=\"Mileage_kmpl\",inplace=True)"
   ]
  },
  {
   "cell_type": "code",
   "execution_count": 24,
   "id": "dd6b92ec-e83c-4262-8cf0-efdf56904b28",
   "metadata": {},
   "outputs": [],
   "source": [
    "df_train.drop(df_train[df_train['Price']>160000].index, inplace=True) # 주행거리 이상치 제거\n",
    "df_train.drop(columns=\"Name\", inplace=True) # 이름 변수 제거\n",
    "df_train.drop(df_train[df_train['Kilometers_Driven']>3000000].index, inplace=True) # 주행거리 이상치 제거"
   ]
  },
  {
   "cell_type": "markdown",
   "id": "b4f4cda4-1f3b-4be6-a5c6-36706f953b97",
   "metadata": {},
   "source": [
    "### 파생변수 추가"
   ]
  },
  {
   "cell_type": "code",
   "execution_count": 25,
   "id": "e687ab39-172e-4d17-ab2b-bbd34867f7c8",
   "metadata": {
    "scrolled": true
   },
   "outputs": [],
   "source": [
    "df_train.loc[df_train['Year']<=2012,'Year_cat'] = \"2012이전\"\n",
    "df_train.loc[df_train['Year']>2012,'Year_cat'] = \"2012이후\""
   ]
  },
  {
   "cell_type": "code",
   "execution_count": 26,
   "id": "8e121b60-4ac7-4791-a9c1-610d445d9a00",
   "metadata": {},
   "outputs": [],
   "source": [
    "df_train.loc[df_train['Engine_CC']<1000,'car_cat'] = \"경차\"\n",
    "df_train.loc[(df_train['Engine_CC']>=1000) & (df_train['Engine_CC']<1600),'car_cat'] = \"소형\"\n",
    "df_train.loc[(df_train['Engine_CC']>=1600) & (df_train['Engine_CC']<2000),'car_cat'] = \"중형\"\n",
    "df_train.loc[df_train['Engine_CC']>=2000,'car_cat'] = \"대형\""
   ]
  },
  {
   "cell_type": "code",
   "execution_count": 27,
   "id": "d1d98a34-6ad5-47b2-b1dd-71a9183ac7b5",
   "metadata": {},
   "outputs": [],
   "source": [
    "df_train['연식'] = 2020 - df_train['Year']\n",
    "year_mean=df_train.groupby(['연식'])['Price'].mean().round(3).reset_index()\n",
    "year_mean.columns = ['연식', '연식_mean']\n",
    "df_train=pd.merge(df_train, year_mean, on=\"연식\", how='left')"
   ]
  },
  {
   "cell_type": "code",
   "execution_count": 28,
   "id": "7498fb8d-70c7-45e6-a79c-a217e6ee8751",
   "metadata": {},
   "outputs": [],
   "source": [
    "df_train.loc[(df_train['Kilometers_Driven']/df_train['연식'])>12000, '가성비']='bad'\n",
    "df_train.loc[(df_train['Kilometers_Driven']/df_train['연식'])<=12000, '가성비']='good'"
   ]
  },
  {
   "cell_type": "code",
   "execution_count": 29,
   "id": "6e375777-8427-4541-b600-55c09e451d60",
   "metadata": {},
   "outputs": [],
   "source": [
    "df_train.loc[(df_train['Mileage_kmpl']>=15), 'Mil_cat'] = '1등급' # 연비가 15이상이면 1등급\n",
    "df_train.loc[(df_train['Mileage_kmpl']<15), 'Mil_cat'] = '2등급 이하' #연비가 15미만이면 2등급 이하"
   ]
  },
  {
   "cell_type": "code",
   "execution_count": 30,
   "id": "5ff87230-1a61-4ad7-8a58-895fd35ee958",
   "metadata": {},
   "outputs": [],
   "source": [
    "grouped = df_train.groupby('Mil_cat')['Price'].mean().round(3).reset_index() # 2개 등급으로 나눔\n",
    "grouped.columns = ['Mil_cat', 'Mil_cat_mean']\n",
    " \n",
    "df_train=pd.merge(df_train, grouped, on=\"Mil_cat\", how='left')"
   ]
  },
  {
   "cell_type": "code",
   "execution_count": 31,
   "id": "79f06fe3-2ae3-4fe7-a658-f9efc2b6f2af",
   "metadata": {},
   "outputs": [],
   "source": [
    "# 경제 수준에 따라 구분\n",
    "\n",
    "df_train.loc[df_train['Location']=='Mumbai', 'Location_cat'] = 'high'  \n",
    "df_train.loc[df_train['Location']=='Hyderabad', 'Location_cat'] = 'high'\n",
    "\n",
    "df_train.loc[df_train['Location']=='Coimbatore', 'Location_cat'] = 'medium'\n",
    "df_train.loc[df_train['Location']=='Kochi', 'Location_cat'] = 'medium'\n",
    "df_train.loc[df_train['Location']=='Pune', 'Location_cat'] = 'medium'\n",
    "df_train.loc[df_train['Location']=='Delhi', 'Location_cat'] = 'medium'\n",
    "\n",
    "df_train.loc[df_train['Location']=='Kolkata', 'Location_cat'] = 'low'\n",
    "df_train.loc[df_train['Location']=='Chennai', 'Location_cat'] = 'low'\n",
    "df_train.loc[df_train['Location']=='Jaipur', 'Location_cat'] = 'low'\n",
    "df_train.loc[df_train['Location']=='Bangalore', 'Location_cat'] = 'low'\n",
    "df_train.loc[df_train['Location']=='Ahmedabad', 'Location_cat'] = 'low'\n",
    "\n",
    "df_train.loc[df_train['Seats']<= 5.0, 'Seats_5'] = '5 좌석'  # 좌석 5, 5미만, 5초과로 구분\n",
    "df_train.loc[df_train['Seats'] > 5.0, 'Seats_5'] = '5 초과 좌석'\n",
    "df_train.loc[df_train['Seats'] < 5.0, 'Seats_5'] = '5 미만 좌석'\n",
    "\n",
    "df_train['new_Year'] = df_train['Year']  # 2010년도 이하 수치가 적어서 2010년 이하로 묶어서 new_Year변수 생성\n",
    "df_train.loc[df_train['Year'] <= 2010, 'new_Year'] = '2010년 이하'"
   ]
  },
  {
   "cell_type": "code",
   "execution_count": 32,
   "id": "15034768-8610-41ee-980c-15a9e234c39b",
   "metadata": {},
   "outputs": [],
   "source": [
    "import xgboost as xgb\n",
    "from sklearn.model_selection import GridSearchCV\n",
    "from xgboost.sklearn import XGBRegressor"
   ]
  },
  {
   "cell_type": "code",
   "execution_count": 33,
   "id": "040576a5-d6c3-4a94-91cb-3286670f87b3",
   "metadata": {},
   "outputs": [],
   "source": [
    "df_x = df_train.drop(columns=\"Price\")\n",
    "df_y = df_train['Price']"
   ]
  },
  {
   "cell_type": "code",
   "execution_count": 34,
   "id": "3bb0756d-eaf5-45ce-842c-31f0878c2fa6",
   "metadata": {},
   "outputs": [],
   "source": [
    "from sklearn.preprocessing import StandardScaler\n",
    "\n",
    "scaler = StandardScaler()\n",
    "\n",
    "df_numeric = df_x.select_dtypes(include=\"number\")  # 숫자형 변수만 선택\n",
    "df_x[df_numeric.columns] = scaler.fit_transform(df_x[df_numeric.columns])"
   ]
  },
  {
   "cell_type": "code",
   "execution_count": 35,
   "id": "fa26c90d-c3e6-4b80-975e-7b9db2f57063",
   "metadata": {},
   "outputs": [],
   "source": [
    "df_raw_dummy = pd.get_dummies(df_x)\n",
    "df_raw_y = df_y\n",
    "df_raw_x = df_raw_dummy"
   ]
  },
  {
   "cell_type": "code",
   "execution_count": 36,
   "id": "eaed39ab-1212-4071-b06a-fd535c6fc77e",
   "metadata": {},
   "outputs": [],
   "source": [
    "df_train_x, df_test_x, df_train_y, df_test_y = train_test_split(df_raw_x, df_raw_y\n",
    "                                                                , test_size = 0.3, random_state = 1234) "
   ]
  },
  {
   "cell_type": "code",
   "execution_count": 37,
   "id": "b3b0f887-23a2-4cac-88be-b5dae94155ec",
   "metadata": {},
   "outputs": [],
   "source": [
    "# xgb_model = xgb.XGBRegressor()\n",
    "\n",
    "# # 탐색할 하이퍼파라미터 범위 설정\n",
    "# param_grid = {\n",
    "#     'max_depth': [3, 4, 5],\n",
    "#     'learning_rate': [0.01, 0.05, 0.1],\n",
    "#     'n_estimators': [100, 150, 200],\n",
    "#     'reg_alpha': [0, 0.1, 0.5],\n",
    "#     'reg_lambda': [0, 0.1, 0.5]\n",
    "# }\n",
    "\n",
    "# # 그리드 서치를 사용하여 최적의 하이퍼파라미터 탐색\n",
    "# grid_search = GridSearchCV(estimator=xgb_model, param_grid=param_grid, scoring='neg_mean_squared_error', cv=10)\n",
    "# grid_search.fit(df_train_x, df_train_y)\n",
    "\n",
    "# # 최적의 하이퍼파라미터 출력\n",
    "# print(\"Best parameters found: \", grid_search.best_params_)\n",
    "\n",
    "# best_xgb_model = grid_search.best_estimator_\n",
    "# train_pred = best_xgb_model.predict(df_train_x)\n",
    "# test_pred = best_xgb_model.predict(df_test_x)"
   ]
  },
  {
   "cell_type": "code",
   "execution_count": 38,
   "id": "befeb667-b1c8-4c2b-8326-dc775e409884",
   "metadata": {},
   "outputs": [
    {
     "name": "stdout",
     "output_type": "stream",
     "text": [
      "Score on training set: 0.985\n",
      "Score on test set: 0.865\n"
     ]
    }
   ],
   "source": [
    "xgb_model = XGBRegressor(learning_rate=0.1,max_depth= 5,n_estimators= 200,reg_alpha= 0.1,reg_lambda= 0.5, random_state=1234)\n",
    "xgb_model.fit(df_train_x, df_train_y)\n",
    "# Train 데이터 설명력\n",
    "print(\"Score on training set: {:.3f}\".format(xgb_model.score(df_train_x, df_train_y)))\n",
    "# Test 데이터 설명력\n",
    "print(\"Score on test set: {:.3f}\".format(xgb_model.score(df_test_x, df_test_y)))"
   ]
  },
  {
   "cell_type": "code",
   "execution_count": 39,
   "id": "29a31368-6a93-4236-8079-9ec331e9944a",
   "metadata": {},
   "outputs": [
    {
     "name": "stdout",
     "output_type": "stream",
     "text": [
      "MSE : 34445908.715518564\n",
      "RMSE : 5869.0637000733395\n",
      "MAE : 2353.4212344405537\n"
     ]
    }
   ],
   "source": [
    "rf_y_pred = xgb_model.predict(df_test_x)\n",
    "print(\"MSE :\",mean_squared_error(df_test_y, rf_y_pred))\n",
    "print(\"RMSE :\",mean_squared_error(df_test_y, rf_y_pred, squared=False))\n",
    "print(\"MAE :\",mean_absolute_error(df_test_y, rf_y_pred))"
   ]
  },
  {
   "cell_type": "code",
   "execution_count": 40,
   "id": "5895a893-b6cb-45ce-aa00-ace0bbe1325a",
   "metadata": {},
   "outputs": [
    {
     "data": {
      "text/html": [
       "<div>\n",
       "<style scoped>\n",
       "    .dataframe tbody tr th:only-of-type {\n",
       "        vertical-align: middle;\n",
       "    }\n",
       "\n",
       "    .dataframe tbody tr th {\n",
       "        vertical-align: top;\n",
       "    }\n",
       "\n",
       "    .dataframe thead th {\n",
       "        text-align: right;\n",
       "    }\n",
       "</style>\n",
       "<table border=\"1\" class=\"dataframe\">\n",
       "  <thead>\n",
       "    <tr style=\"text-align: right;\">\n",
       "      <th></th>\n",
       "      <th>Feature</th>\n",
       "      <th>Importance</th>\n",
       "    </tr>\n",
       "  </thead>\n",
       "  <tbody>\n",
       "    <tr>\n",
       "      <th>5</th>\n",
       "      <td>Power_bhp</td>\n",
       "      <td>0.294</td>\n",
       "    </tr>\n",
       "    <tr>\n",
       "      <th>0</th>\n",
       "      <td>Year</td>\n",
       "      <td>0.099</td>\n",
       "    </tr>\n",
       "    <tr>\n",
       "      <th>36</th>\n",
       "      <td>Brand_Land</td>\n",
       "      <td>0.045</td>\n",
       "    </tr>\n",
       "    <tr>\n",
       "      <th>24</th>\n",
       "      <td>Transmission_Automatic</td>\n",
       "      <td>0.043</td>\n",
       "    </tr>\n",
       "    <tr>\n",
       "      <th>60</th>\n",
       "      <td>Seats_5_5 좌석</td>\n",
       "      <td>0.041</td>\n",
       "    </tr>\n",
       "    <tr>\n",
       "      <th>...</th>\n",
       "      <td>...</td>\n",
       "      <td>...</td>\n",
       "    </tr>\n",
       "    <tr>\n",
       "      <th>8</th>\n",
       "      <td>Mil_cat_mean</td>\n",
       "      <td>0.000</td>\n",
       "    </tr>\n",
       "    <tr>\n",
       "      <th>25</th>\n",
       "      <td>Transmission_Manual</td>\n",
       "      <td>0.000</td>\n",
       "    </tr>\n",
       "    <tr>\n",
       "      <th>22</th>\n",
       "      <td>Fuel_Type_LPG</td>\n",
       "      <td>0.000</td>\n",
       "    </tr>\n",
       "    <tr>\n",
       "      <th>20</th>\n",
       "      <td>Fuel_Type_CNG</td>\n",
       "      <td>0.000</td>\n",
       "    </tr>\n",
       "    <tr>\n",
       "      <th>71</th>\n",
       "      <td>new_Year_2010년 이하</td>\n",
       "      <td>0.000</td>\n",
       "    </tr>\n",
       "  </tbody>\n",
       "</table>\n",
       "<p>72 rows × 2 columns</p>\n",
       "</div>"
      ],
      "text/plain": [
       "                   Feature  Importance\n",
       "5                Power_bhp       0.294\n",
       "0                     Year       0.099\n",
       "36              Brand_Land       0.045\n",
       "24  Transmission_Automatic       0.043\n",
       "60            Seats_5_5 좌석       0.041\n",
       "..                     ...         ...\n",
       "8             Mil_cat_mean       0.000\n",
       "25     Transmission_Manual       0.000\n",
       "22           Fuel_Type_LPG       0.000\n",
       "20           Fuel_Type_CNG       0.000\n",
       "71       new_Year_2010년 이하       0.000\n",
       "\n",
       "[72 rows x 2 columns]"
      ]
     },
     "execution_count": 40,
     "metadata": {},
     "output_type": "execute_result"
    }
   ],
   "source": [
    "v_feature_name = df_train_x.columns\n",
    "df_importance = pd.DataFrame()\n",
    "df_importance[\"Feature\"] = v_feature_name\n",
    "df_importance[\"Importance\"] = xgb_model.feature_importances_\n",
    "\n",
    "# df_feature_importance의 테이블을 중요도 순으로 정렬\n",
    "df_importance.sort_values(\"Importance\", ascending=False, inplace = True)\n",
    "df_importance.round(3)"
   ]
  },
  {
   "cell_type": "code",
   "execution_count": 41,
   "id": "2d01abf4-2c70-4363-81ad-bcc98552d3c3",
   "metadata": {},
   "outputs": [
    {
     "data": {
      "image/png": "[encoded data removed]",
      "text/plain": [
       "<Figure size 640x480 with 1 Axes>"
      ]
     },
     "metadata": {},
     "output_type": "display_data"
    }
   ],
   "source": [
    "df_importance = pd.DataFrame()\n",
    "df_importance[\"Feature\"] = v_feature_name\n",
    "df_importance[\"Importance\"] = xgb_model.feature_importances_\n",
    "\n",
    "# df_feature_importance의 테이블을 중요도별로 정렬\n",
    "df_importance.sort_values(\"Importance\", ascending=False, inplace = True)\n",
    "df_importance.sort_values(\"Importance\", ascending=True, inplace = True)\n",
    "coordinates = range(len(df_importance))\n",
    "top_10_importance = df_importance.nlargest(10, \"Importance\")\n",
    "\n",
    "# 시각화\n",
    "coordinates = range(len(top_10_importance))\n",
    "plt.barh(y=coordinates[::-1], width=top_10_importance[\"Importance\"])\n",
    "plt.yticks(coordinates[::-1], top_10_importance[\"Feature\"], fontsize=10)\n",
    "plt.xlabel(\"변수 중요도\")\n",
    "plt.ylabel(\"변수\")\n",
    "plt.title(\"상위 10개 변수 중요도\")\n",
    "plt.show()"
   ]
  },
  {
   "cell_type": "code",
   "execution_count": 42,
   "id": "fec02a03-ccbe-403e-bfa4-1371f411b693",
   "metadata": {},
   "outputs": [],
   "source": [
    "low_importance_variables = df_importance[df_importance[\"Importance\"] ==0][\"Feature\"].tolist()\n",
    "\n",
    "# df_train_x에서 중요도가 낮은 변수들을 제거\n",
    "df_train_x_drop = df_train_x.drop(columns=low_importance_variables)\n",
    "df_test_x_drop = df_test_x.drop(columns=low_importance_variables)"
   ]
  },
  {
   "cell_type": "code",
   "execution_count": 43,
   "id": "918d4e0b-0e60-45a3-bc9c-8d750682101b",
   "metadata": {},
   "outputs": [
    {
     "name": "stdout",
     "output_type": "stream",
     "text": [
      "Score on training set: 0.985\n",
      "Score on test set: 0.865\n",
      "MSE : 34445908.715518564\n",
      "RMSE : 5869.0637000733395\n",
      "MAE : 2353.4212344405537\n"
     ]
    }
   ],
   "source": [
    "xgb_model = XGBRegressor(learning_rate=0.1,max_depth= 5,n_estimators= 200,reg_alpha= 0.1,reg_lambda= 0.5, random_state=1234)\n",
    "xgb_model.fit(df_train_x, df_train_y)\n",
    "# Train 데이터 설명력\n",
    "print(\"Score on training set: {:.3f}\".format(xgb_model.score(df_train_x, df_train_y)))\n",
    "# Test 데이터 설명력\n",
    "print(\"Score on test set: {:.3f}\".format(xgb_model.score(df_test_x, df_test_y)))\n",
    "\n",
    "rf_y_pred = xgb_model.predict(df_test_x)\n",
    "print(\"MSE :\",mean_squared_error(df_test_y, rf_y_pred))\n",
    "print(\"RMSE :\",mean_squared_error(df_test_y, rf_y_pred, squared=False))\n",
    "print(\"MAE :\",mean_absolute_error(df_test_y, rf_y_pred))"
   ]
  },
  {
   "cell_type": "code",
   "execution_count": null,
   "id": "8b52d4c0-256a-4033-830b-af03ad26e35c",
   "metadata": {},
   "outputs": [],
   "source": []
  },
  {
   "cell_type": "code",
   "execution_count": null,
   "id": "b22b8b05-f3fd-4065-b4cb-f94f23bac5fa",
   "metadata": {},
   "outputs": [],
   "source": []
  },
  {
   "cell_type": "code",
   "execution_count": null,
   "id": "fcbff375-4127-4e42-89a1-5419b8529411",
   "metadata": {},
   "outputs": [],
   "source": []
  }
 ],
 "metadata": {
  "kernelspec": {
   "display_name": "Python 3 (ipykernel)",
   "language": "python",
   "name": "python3"
  },
  "language_info": {
   "codemirror_mode": {
    "name": "ipython",
    "version": 3
   },
   "file_extension": ".py",
   "mimetype": "text/x-python",
   "name": "python",
   "nbconvert_exporter": "python",
   "pygments_lexer": "ipython3",
   "version": "3.11.8"
  }
 },
 "nbformat": 4,
 "nbformat_minor": 5
}
