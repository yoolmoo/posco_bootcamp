{
 "cells": [
  {
   "cell_type": "code",
   "execution_count": 1,
   "id": "b009ebfd",
   "metadata": {},
   "outputs": [],
   "source": [
    "import pandas as pd\n",
    "\n",
    "import numpy as np\n",
    "\n",
    "import matplotlib\n",
    "import matplotlib.pyplot as plt\n",
    "import seaborn as sns\n",
    "import statsmodels.formula.api as smf\n",
    "from statsmodels.api import qqplot, add_constant\n",
    "from statsmodels.stats.outliers_influence import variance_inflation_factor\n",
    "\n",
    "from sklearn.model_selection import train_test_split\n",
    "from sklearn.linear_model import LinearRegression\n",
    "from sklearn.feature_selection import RFE\n",
    "from sklearn.preprocessing import StandardScaler\n",
    "from sklearn.metrics import r2_score\n",
    "\n",
    "from sklearn.tree import DecisionTreeRegressor\n",
    "from sklearn.ensemble import RandomForestRegressor\n",
    "from sklearn.ensemble import GradientBoostingRegressor\n",
    "\n",
    "from sklearn.metrics import mean_squared_error\n",
    "from sklearn.metrics import mean_absolute_error\n",
    "from sklearn.metrics import mean_absolute_percentage_error\n",
    "\n",
    "from sklearn.linear_model import Ridge, Lasso, ElasticNet"
   ]
  },
  {
   "cell_type": "code",
   "execution_count": 2,
   "id": "e37b837a",
   "metadata": {},
   "outputs": [],
   "source": [
    "import matplotlib.pyplot as plt\n",
    "%matplotlib inline\n",
    "\n",
    "import platform\n",
    "platform.system()\n",
    "\n",
    "# 운영체제별 한글 폰트 설정\n",
    "if platform.system() == 'Darwin': # Mac 환경 폰트 설정\n",
    "    plt.rc('font', family='AppleGothic')\n",
    "elif platform.system() == 'Windows': # Windows 환경 폰트 설정\n",
    "    plt.rc('font', family='Malgun Gothic')\n",
    "\n",
    "plt.rc('axes', unicode_minus=False) # 마이너스 폰트 설정\n",
    "\n",
    "\n",
    "import warnings\n",
    "warnings.filterwarnings('ignore')"
   ]
  },
  {
   "cell_type": "code",
   "execution_count": 3,
   "id": "469d7a0f",
   "metadata": {},
   "outputs": [],
   "source": [
    "import matplotlib.pyplot as plt\n",
    "plt.rcParams['font.family'] = 'NanumGothic'\n",
    "\n",
    "matplotlib.rc(\"axes\", unicode_minus = False)"
   ]
  },
  {
   "cell_type": "code",
   "execution_count": 4,
   "id": "0672ba89",
   "metadata": {},
   "outputs": [
    {
     "data": {
      "text/html": [
       "<div>\n",
       "<style scoped>\n",
       "    .dataframe tbody tr th:only-of-type {\n",
       "        vertical-align: middle;\n",
       "    }\n",
       "\n",
       "    .dataframe tbody tr th {\n",
       "        vertical-align: top;\n",
       "    }\n",
       "\n",
       "    .dataframe thead th {\n",
       "        text-align: right;\n",
       "    }\n",
       "</style>\n",
       "<table border=\"1\" class=\"dataframe\">\n",
       "  <thead>\n",
       "    <tr style=\"text-align: right;\">\n",
       "      <th></th>\n",
       "      <th>plate_no</th>\n",
       "      <th>rolling_date</th>\n",
       "      <th>scale</th>\n",
       "      <th>spec_long</th>\n",
       "      <th>spec_country</th>\n",
       "      <th>steel_kind</th>\n",
       "      <th>pt_thick</th>\n",
       "      <th>pt_width</th>\n",
       "      <th>pt_length</th>\n",
       "      <th>hsb</th>\n",
       "      <th>...</th>\n",
       "      <th>fur_heat_temp</th>\n",
       "      <th>fur_heat_time</th>\n",
       "      <th>fur_soak_temp</th>\n",
       "      <th>fur_soak_time</th>\n",
       "      <th>fur_total_time</th>\n",
       "      <th>fur_ex_temp</th>\n",
       "      <th>rolling_method</th>\n",
       "      <th>rolling_temp</th>\n",
       "      <th>descaling_count</th>\n",
       "      <th>work_group</th>\n",
       "    </tr>\n",
       "  </thead>\n",
       "  <tbody>\n",
       "    <tr>\n",
       "      <th>0</th>\n",
       "      <td>PLT_1001</td>\n",
       "      <td>03JAN2023:07:07:53</td>\n",
       "      <td>양품</td>\n",
       "      <td>AB/EH32-TM</td>\n",
       "      <td>미국</td>\n",
       "      <td>T</td>\n",
       "      <td>32</td>\n",
       "      <td>3700</td>\n",
       "      <td>15100</td>\n",
       "      <td>적용</td>\n",
       "      <td>...</td>\n",
       "      <td>1144</td>\n",
       "      <td>116</td>\n",
       "      <td>1133</td>\n",
       "      <td>59</td>\n",
       "      <td>259</td>\n",
       "      <td>1133</td>\n",
       "      <td>TMCP(온도제어)</td>\n",
       "      <td>934</td>\n",
       "      <td>8</td>\n",
       "      <td>1조</td>\n",
       "    </tr>\n",
       "    <tr>\n",
       "      <th>1</th>\n",
       "      <td>PLT_1002</td>\n",
       "      <td>03JAN2023:07:21:22</td>\n",
       "      <td>양품</td>\n",
       "      <td>AB/EH32-TM</td>\n",
       "      <td>미국</td>\n",
       "      <td>T</td>\n",
       "      <td>32</td>\n",
       "      <td>3700</td>\n",
       "      <td>15100</td>\n",
       "      <td>적용</td>\n",
       "      <td>...</td>\n",
       "      <td>1144</td>\n",
       "      <td>122</td>\n",
       "      <td>1135</td>\n",
       "      <td>53</td>\n",
       "      <td>238</td>\n",
       "      <td>1135</td>\n",
       "      <td>TMCP(온도제어)</td>\n",
       "      <td>937</td>\n",
       "      <td>8</td>\n",
       "      <td>1조</td>\n",
       "    </tr>\n",
       "    <tr>\n",
       "      <th>2</th>\n",
       "      <td>PLT_1003</td>\n",
       "      <td>03JAN2023:07:31:15</td>\n",
       "      <td>양품</td>\n",
       "      <td>NV-E36-TM</td>\n",
       "      <td>영국</td>\n",
       "      <td>T</td>\n",
       "      <td>33</td>\n",
       "      <td>3600</td>\n",
       "      <td>19200</td>\n",
       "      <td>적용</td>\n",
       "      <td>...</td>\n",
       "      <td>1129</td>\n",
       "      <td>116</td>\n",
       "      <td>1121</td>\n",
       "      <td>55</td>\n",
       "      <td>258</td>\n",
       "      <td>1121</td>\n",
       "      <td>TMCP(온도제어)</td>\n",
       "      <td>889</td>\n",
       "      <td>8</td>\n",
       "      <td>1조</td>\n",
       "    </tr>\n",
       "  </tbody>\n",
       "</table>\n",
       "<p>3 rows × 22 columns</p>\n",
       "</div>"
      ],
      "text/plain": [
       "   plate_no        rolling_date scale   spec_long spec_country steel_kind  \\\n",
       "0  PLT_1001  03JAN2023:07:07:53    양품  AB/EH32-TM           미국          T   \n",
       "1  PLT_1002  03JAN2023:07:21:22    양품  AB/EH32-TM           미국          T   \n",
       "2  PLT_1003  03JAN2023:07:31:15    양품   NV-E36-TM           영국          T   \n",
       "\n",
       "   pt_thick  pt_width  pt_length hsb  ... fur_heat_temp fur_heat_time  \\\n",
       "0        32      3700      15100  적용  ...          1144           116   \n",
       "1        32      3700      15100  적용  ...          1144           122   \n",
       "2        33      3600      19200  적용  ...          1129           116   \n",
       "\n",
       "   fur_soak_temp  fur_soak_time  fur_total_time  fur_ex_temp  rolling_method  \\\n",
       "0           1133             59             259         1133      TMCP(온도제어)   \n",
       "1           1135             53             238         1135      TMCP(온도제어)   \n",
       "2           1121             55             258         1121      TMCP(온도제어)   \n",
       "\n",
       "   rolling_temp descaling_count  work_group  \n",
       "0           934               8          1조  \n",
       "1           937               8          1조  \n",
       "2           889               8          1조  \n",
       "\n",
       "[3 rows x 22 columns]"
      ]
     },
     "execution_count": 4,
     "metadata": {},
     "output_type": "execute_result"
    }
   ],
   "source": [
    "df = pd.read_csv(\"SCALE불량.csv\", encoding = \"euc-kr\")\n",
    "df.head(3)"
   ]
  },
  {
   "cell_type": "code",
   "execution_count": 5,
   "id": "166d2923",
   "metadata": {},
   "outputs": [
    {
     "data": {
      "text/plain": [
       "array(['양품', '불량'], dtype=object)"
      ]
     },
     "execution_count": 5,
     "metadata": {},
     "output_type": "execute_result"
    }
   ],
   "source": [
    "df['scale'].unique()"
   ]
  },
  {
   "cell_type": "code",
   "execution_count": 6,
   "id": "97b93871-60c1-43d6-a99a-73dd184bd7cf",
   "metadata": {},
   "outputs": [],
   "source": [
    "df['scale'] = df['scale'].replace({'양품': 0, '불량': 1})"
   ]
  },
  {
   "cell_type": "code",
   "execution_count": 7,
   "id": "1bc33f3f",
   "metadata": {},
   "outputs": [],
   "source": [
    "# from sklearn.preprocessing import LabelEncoder\n",
    "\n",
    "# label_encoder = LabelEncoder()\n",
    "\n",
    "# # 'hsb' 열을 숫자로 인코딩\n",
    "# df['hsb'] = label_encoder.fit_transform(df['hsb']) # 1: 적용, 0 : 미적용"
   ]
  },
  {
   "cell_type": "code",
   "execution_count": 8,
   "id": "ae46f020",
   "metadata": {
    "scrolled": true
   },
   "outputs": [
    {
     "name": "stdout",
     "output_type": "stream",
     "text": [
      "<class 'pandas.core.frame.DataFrame'>\n",
      "RangeIndex: 1000 entries, 0 to 999\n",
      "Data columns (total 22 columns):\n",
      " #   Column           Non-Null Count  Dtype \n",
      "---  ------           --------------  ----- \n",
      " 0   plate_no         1000 non-null   object\n",
      " 1   rolling_date     1000 non-null   object\n",
      " 2   scale            1000 non-null   int64 \n",
      " 3   spec_long        1000 non-null   object\n",
      " 4   spec_country     1000 non-null   object\n",
      " 5   steel_kind       1000 non-null   object\n",
      " 6   pt_thick         1000 non-null   int64 \n",
      " 7   pt_width         1000 non-null   int64 \n",
      " 8   pt_length        1000 non-null   int64 \n",
      " 9   hsb              1000 non-null   object\n",
      " 10  fur_no           1000 non-null   object\n",
      " 11  fur_input_row    1000 non-null   object\n",
      " 12  fur_heat_temp    1000 non-null   int64 \n",
      " 13  fur_heat_time    1000 non-null   int64 \n",
      " 14  fur_soak_temp    1000 non-null   int64 \n",
      " 15  fur_soak_time    1000 non-null   int64 \n",
      " 16  fur_total_time   1000 non-null   int64 \n",
      " 17  fur_ex_temp      1000 non-null   int64 \n",
      " 18  rolling_method   1000 non-null   object\n",
      " 19  rolling_temp     1000 non-null   int64 \n",
      " 20  descaling_count  1000 non-null   int64 \n",
      " 21  work_group       1000 non-null   object\n",
      "dtypes: int64(12), object(10)\n",
      "memory usage: 172.0+ KB\n"
     ]
    }
   ],
   "source": [
    "df.info()"
   ]
  },
  {
   "cell_type": "code",
   "execution_count": 9,
   "id": "453e689f-f052-4ac5-995b-1683cc7ee622",
   "metadata": {},
   "outputs": [],
   "source": [
    "df['rolling_date'] = pd.to_datetime(df['rolling_date'], format='%d%b%Y:%H:%M:%S', errors='coerce')\n",
    "df['hour'] = df['rolling_date'].dt.hour\n",
    "df.drop(columns=[\"rolling_date\",'fur_ex_temp','plate_no'],inplace=True)"
   ]
  },
  {
   "cell_type": "code",
   "execution_count": 10,
   "id": "c503ed8a-828a-4a10-84ca-76cef8cd7ee0",
   "metadata": {},
   "outputs": [
    {
     "data": {
      "text/html": [
       "<div>\n",
       "<style scoped>\n",
       "    .dataframe tbody tr th:only-of-type {\n",
       "        vertical-align: middle;\n",
       "    }\n",
       "\n",
       "    .dataframe tbody tr th {\n",
       "        vertical-align: top;\n",
       "    }\n",
       "\n",
       "    .dataframe thead th {\n",
       "        text-align: right;\n",
       "    }\n",
       "</style>\n",
       "<table border=\"1\" class=\"dataframe\">\n",
       "  <thead>\n",
       "    <tr style=\"text-align: right;\">\n",
       "      <th></th>\n",
       "      <th>scale</th>\n",
       "      <th>pt_thick</th>\n",
       "      <th>pt_width</th>\n",
       "      <th>pt_length</th>\n",
       "      <th>fur_heat_temp</th>\n",
       "      <th>fur_heat_time</th>\n",
       "      <th>fur_soak_temp</th>\n",
       "      <th>fur_soak_time</th>\n",
       "      <th>fur_total_time</th>\n",
       "      <th>rolling_temp</th>\n",
       "      <th>descaling_count</th>\n",
       "    </tr>\n",
       "  </thead>\n",
       "  <tbody>\n",
       "    <tr>\n",
       "      <th>scale</th>\n",
       "      <td>1.000000</td>\n",
       "      <td>-0.098090</td>\n",
       "      <td>-0.189536</td>\n",
       "      <td>0.052115</td>\n",
       "      <td>0.222493</td>\n",
       "      <td>-0.035826</td>\n",
       "      <td>0.327817</td>\n",
       "      <td>-0.219581</td>\n",
       "      <td>-0.127695</td>\n",
       "      <td>0.375704</td>\n",
       "      <td>-0.040011</td>\n",
       "    </tr>\n",
       "    <tr>\n",
       "      <th>pt_thick</th>\n",
       "      <td>-0.098090</td>\n",
       "      <td>1.000000</td>\n",
       "      <td>-0.319894</td>\n",
       "      <td>-0.867125</td>\n",
       "      <td>-0.525317</td>\n",
       "      <td>0.206644</td>\n",
       "      <td>-0.665964</td>\n",
       "      <td>0.357260</td>\n",
       "      <td>0.338078</td>\n",
       "      <td>-0.363406</td>\n",
       "      <td>-0.845324</td>\n",
       "    </tr>\n",
       "    <tr>\n",
       "      <th>pt_width</th>\n",
       "      <td>-0.189536</td>\n",
       "      <td>-0.319894</td>\n",
       "      <td>1.000000</td>\n",
       "      <td>0.147979</td>\n",
       "      <td>0.200737</td>\n",
       "      <td>-0.100876</td>\n",
       "      <td>0.216879</td>\n",
       "      <td>-0.097273</td>\n",
       "      <td>-0.133329</td>\n",
       "      <td>-0.060320</td>\n",
       "      <td>0.350132</td>\n",
       "    </tr>\n",
       "    <tr>\n",
       "      <th>pt_length</th>\n",
       "      <td>0.052115</td>\n",
       "      <td>-0.867125</td>\n",
       "      <td>0.147979</td>\n",
       "      <td>1.000000</td>\n",
       "      <td>0.470846</td>\n",
       "      <td>-0.137895</td>\n",
       "      <td>0.603303</td>\n",
       "      <td>-0.333730</td>\n",
       "      <td>-0.276402</td>\n",
       "      <td>0.290828</td>\n",
       "      <td>0.818483</td>\n",
       "    </tr>\n",
       "    <tr>\n",
       "      <th>fur_heat_temp</th>\n",
       "      <td>0.222493</td>\n",
       "      <td>-0.525317</td>\n",
       "      <td>0.200737</td>\n",
       "      <td>0.470846</td>\n",
       "      <td>1.000000</td>\n",
       "      <td>-0.163792</td>\n",
       "      <td>0.787203</td>\n",
       "      <td>-0.373154</td>\n",
       "      <td>-0.313632</td>\n",
       "      <td>0.268803</td>\n",
       "      <td>0.488292</td>\n",
       "    </tr>\n",
       "    <tr>\n",
       "      <th>fur_heat_time</th>\n",
       "      <td>-0.035826</td>\n",
       "      <td>0.206644</td>\n",
       "      <td>-0.100876</td>\n",
       "      <td>-0.137895</td>\n",
       "      <td>-0.163792</td>\n",
       "      <td>1.000000</td>\n",
       "      <td>-0.349176</td>\n",
       "      <td>0.114804</td>\n",
       "      <td>0.736069</td>\n",
       "      <td>-0.083188</td>\n",
       "      <td>-0.166892</td>\n",
       "    </tr>\n",
       "    <tr>\n",
       "      <th>fur_soak_temp</th>\n",
       "      <td>0.327817</td>\n",
       "      <td>-0.665964</td>\n",
       "      <td>0.216879</td>\n",
       "      <td>0.603303</td>\n",
       "      <td>0.787203</td>\n",
       "      <td>-0.349176</td>\n",
       "      <td>1.000000</td>\n",
       "      <td>-0.596820</td>\n",
       "      <td>-0.560808</td>\n",
       "      <td>0.459210</td>\n",
       "      <td>0.627843</td>\n",
       "    </tr>\n",
       "    <tr>\n",
       "      <th>fur_soak_time</th>\n",
       "      <td>-0.219581</td>\n",
       "      <td>0.357260</td>\n",
       "      <td>-0.097273</td>\n",
       "      <td>-0.333730</td>\n",
       "      <td>-0.373154</td>\n",
       "      <td>0.114804</td>\n",
       "      <td>-0.596820</td>\n",
       "      <td>1.000000</td>\n",
       "      <td>0.632995</td>\n",
       "      <td>-0.308021</td>\n",
       "      <td>-0.399353</td>\n",
       "    </tr>\n",
       "    <tr>\n",
       "      <th>fur_total_time</th>\n",
       "      <td>-0.127695</td>\n",
       "      <td>0.338078</td>\n",
       "      <td>-0.133329</td>\n",
       "      <td>-0.276402</td>\n",
       "      <td>-0.313632</td>\n",
       "      <td>0.736069</td>\n",
       "      <td>-0.560808</td>\n",
       "      <td>0.632995</td>\n",
       "      <td>1.000000</td>\n",
       "      <td>-0.208733</td>\n",
       "      <td>-0.339263</td>\n",
       "    </tr>\n",
       "    <tr>\n",
       "      <th>rolling_temp</th>\n",
       "      <td>0.375704</td>\n",
       "      <td>-0.363406</td>\n",
       "      <td>-0.060320</td>\n",
       "      <td>0.290828</td>\n",
       "      <td>0.268803</td>\n",
       "      <td>-0.083188</td>\n",
       "      <td>0.459210</td>\n",
       "      <td>-0.308021</td>\n",
       "      <td>-0.208733</td>\n",
       "      <td>1.000000</td>\n",
       "      <td>0.250112</td>\n",
       "    </tr>\n",
       "    <tr>\n",
       "      <th>descaling_count</th>\n",
       "      <td>-0.040011</td>\n",
       "      <td>-0.845324</td>\n",
       "      <td>0.350132</td>\n",
       "      <td>0.818483</td>\n",
       "      <td>0.488292</td>\n",
       "      <td>-0.166892</td>\n",
       "      <td>0.627843</td>\n",
       "      <td>-0.399353</td>\n",
       "      <td>-0.339263</td>\n",
       "      <td>0.250112</td>\n",
       "      <td>1.000000</td>\n",
       "    </tr>\n",
       "  </tbody>\n",
       "</table>\n",
       "</div>"
      ],
      "text/plain": [
       "                    scale  pt_thick  pt_width  pt_length  fur_heat_temp  \\\n",
       "scale            1.000000 -0.098090 -0.189536   0.052115       0.222493   \n",
       "pt_thick        -0.098090  1.000000 -0.319894  -0.867125      -0.525317   \n",
       "pt_width        -0.189536 -0.319894  1.000000   0.147979       0.200737   \n",
       "pt_length        0.052115 -0.867125  0.147979   1.000000       0.470846   \n",
       "fur_heat_temp    0.222493 -0.525317  0.200737   0.470846       1.000000   \n",
       "fur_heat_time   -0.035826  0.206644 -0.100876  -0.137895      -0.163792   \n",
       "fur_soak_temp    0.327817 -0.665964  0.216879   0.603303       0.787203   \n",
       "fur_soak_time   -0.219581  0.357260 -0.097273  -0.333730      -0.373154   \n",
       "fur_total_time  -0.127695  0.338078 -0.133329  -0.276402      -0.313632   \n",
       "rolling_temp     0.375704 -0.363406 -0.060320   0.290828       0.268803   \n",
       "descaling_count -0.040011 -0.845324  0.350132   0.818483       0.488292   \n",
       "\n",
       "                 fur_heat_time  fur_soak_temp  fur_soak_time  fur_total_time  \\\n",
       "scale                -0.035826       0.327817      -0.219581       -0.127695   \n",
       "pt_thick              0.206644      -0.665964       0.357260        0.338078   \n",
       "pt_width             -0.100876       0.216879      -0.097273       -0.133329   \n",
       "pt_length            -0.137895       0.603303      -0.333730       -0.276402   \n",
       "fur_heat_temp        -0.163792       0.787203      -0.373154       -0.313632   \n",
       "fur_heat_time         1.000000      -0.349176       0.114804        0.736069   \n",
       "fur_soak_temp        -0.349176       1.000000      -0.596820       -0.560808   \n",
       "fur_soak_time         0.114804      -0.596820       1.000000        0.632995   \n",
       "fur_total_time        0.736069      -0.560808       0.632995        1.000000   \n",
       "rolling_temp         -0.083188       0.459210      -0.308021       -0.208733   \n",
       "descaling_count      -0.166892       0.627843      -0.399353       -0.339263   \n",
       "\n",
       "                 rolling_temp  descaling_count  \n",
       "scale                0.375704        -0.040011  \n",
       "pt_thick            -0.363406        -0.845324  \n",
       "pt_width            -0.060320         0.350132  \n",
       "pt_length            0.290828         0.818483  \n",
       "fur_heat_temp        0.268803         0.488292  \n",
       "fur_heat_time       -0.083188        -0.166892  \n",
       "fur_soak_temp        0.459210         0.627843  \n",
       "fur_soak_time       -0.308021        -0.399353  \n",
       "fur_total_time      -0.208733        -0.339263  \n",
       "rolling_temp         1.000000         0.250112  \n",
       "descaling_count      0.250112         1.000000  "
      ]
     },
     "execution_count": 10,
     "metadata": {},
     "output_type": "execute_result"
    }
   ],
   "source": [
    "numeric_df = df.select_dtypes(include=['float64', 'int64']) \n",
    "numeric_df.corr()  "
   ]
  },
  {
   "cell_type": "code",
   "execution_count": 11,
   "id": "6a3f8e65-5e1a-4d49-8dee-6c2f8539b649",
   "metadata": {},
   "outputs": [],
   "source": [
    "df.loc[df['rolling_temp'] >900, 'rolling_temp_>900'] = 1\n",
    "df.loc[df['rolling_temp'] <=900, 'rolling_temp_>900'] = 0\n",
    "\n",
    "df['pt_area'] = df['pt_length'] * df['pt_width']\n",
    "df['fur_temp_gap'] = df['fur_heat_temp'] - df['fur_soak_temp']\n",
    "\n",
    "df = df[df['rolling_temp'] != 0]"
   ]
  },
  {
   "cell_type": "code",
   "execution_count": 14,
   "id": "2b7a580b-507b-4b6c-9597-886c16e8335f",
   "metadata": {},
   "outputs": [
    {
     "name": "stdout",
     "output_type": "stream",
     "text": [
      "Chi-square test for spec_long:\n",
      "Chi-square test statistic: 235.94685749378158\n",
      "P-value: 3.113316475144594e-21\n",
      "유의수준 0.05에서 귀무가설 기각: 'scale'과 spec_long 사이에는 유의한 관련성이 있다.\n",
      "\n",
      "\n",
      "Chi-square test for spec_country:\n",
      "Chi-square test statistic: 69.80075036426382\n",
      "P-value: 4.4922555761885164e-13\n",
      "유의수준 0.05에서 귀무가설 기각: 'scale'과 spec_country 사이에는 유의한 관련성이 있다.\n",
      "\n",
      "\n",
      "Chi-square test for steel_kind:\n",
      "Chi-square test statistic: 76.25774182995244\n",
      "P-value: 2.489547428454086e-18\n",
      "유의수준 0.05에서 귀무가설 기각: 'scale'과 steel_kind 사이에는 유의한 관련성이 있다.\n",
      "\n",
      "\n",
      "Chi-square test for hsb:\n",
      "Chi-square test statistic: 105.51048606504317\n",
      "P-value: 9.439705302426995e-25\n",
      "유의수준 0.05에서 귀무가설 기각: 'scale'과 hsb 사이에는 유의한 관련성이 있다.\n",
      "\n",
      "\n",
      "Chi-square test for fur_no:\n",
      "Chi-square test statistic: 3.1186222255276252\n",
      "P-value: 0.2102808811312071\n",
      "유의수준 0.05에서 귀무가설 채택: 'scale'과 fur_no 사이에는 유의한 관련성이 없다.\n",
      "\n",
      "\n",
      "Chi-square test for fur_input_row:\n",
      "Chi-square test statistic: 0.9203672191669445\n",
      "P-value: 0.3373785709791819\n",
      "유의수준 0.05에서 귀무가설 채택: 'scale'과 fur_input_row 사이에는 유의한 관련성이 없다.\n",
      "\n",
      "\n",
      "Chi-square test for rolling_method:\n",
      "Chi-square test statistic: 44.88003167017692\n",
      "P-value: 2.0948325380804966e-11\n",
      "유의수준 0.05에서 귀무가설 기각: 'scale'과 rolling_method 사이에는 유의한 관련성이 있다.\n",
      "\n",
      "\n",
      "Chi-square test for work_group:\n",
      "Chi-square test statistic: 13.900577240005461\n",
      "P-value: 0.003043655675169395\n",
      "유의수준 0.05에서 귀무가설 기각: 'scale'과 work_group 사이에는 유의한 관련성이 있다.\n",
      "\n",
      "\n"
     ]
    }
   ],
   "source": [
    "from scipy.stats import chi2_contingency\n",
    "\n",
    "# object 타입인 변수들의 열 이름 리스트\n",
    "object_columns = ['spec_long', 'spec_country', 'steel_kind','hsb' , 'fur_no', 'fur_input_row', 'rolling_method', 'work_group']\n",
    "\n",
    "for column in object_columns:\n",
    "    # 카이제곱 검정을 위한 교차표 생성\n",
    "    cross_tab = pd.crosstab(df['scale'], df[column])\n",
    "    \n",
    "    # 카이제곱 검정 수행\n",
    "    chi2, p_value, _, _ = chi2_contingency(cross_tab)\n",
    "    \n",
    "    # 결과 출력\n",
    "    print(f\"Chi-square test for {column}:\")\n",
    "    print(\"Chi-square test statistic:\", chi2)\n",
    "    print(\"P-value:\", p_value)\n",
    "    if p_value < 0.05:\n",
    "        print(\"유의수준 0.05에서 귀무가설 기각: 'scale'과\", column, \"사이에는 유의한 관련성이 있다.\")\n",
    "    else:\n",
    "        print(\"유의수준 0.05에서 귀무가설 채택: 'scale'과\", column, \"사이에는 유의한 관련성이 없다.\")\n",
    "    print(\"\\n\")"
   ]
  },
  {
   "cell_type": "code",
   "execution_count": 15,
   "id": "5b4619bc-a117-4a4b-a79a-228b31ab00a1",
   "metadata": {},
   "outputs": [
    {
     "ename": "NameError",
     "evalue": "name 'ᄆᄂᄋ' is not defined",
     "output_type": "error",
     "traceback": [
      "\u001b[0;31m---------------------------------------------------------------------------\u001b[0m",
      "\u001b[0;31mNameError\u001b[0m                                 Traceback (most recent call last)",
      "Cell \u001b[0;32mIn[15], line 1\u001b[0m\n\u001b[0;32m----> 1\u001b[0m ㅁㄴㅇ\n",
      "\u001b[0;31mNameError\u001b[0m: name 'ᄆᄂᄋ' is not defined"
     ]
    }
   ],
   "source": [
    "ㅁㄴㅇ"
   ]
  },
  {
   "cell_type": "code",
   "execution_count": null,
   "id": "73b873f1-337d-4c99-beea-7cb5ca4aaf9d",
   "metadata": {},
   "outputs": [],
   "source": []
  },
  {
   "cell_type": "markdown",
   "id": "48b5dc36",
   "metadata": {},
   "source": [
    "#### rolling_date를 문자를 제거한 후 daytime으로 변환하여 날짜까지 나타내는 Datetime과 시간 값을 가진 time으로 나눔"
   ]
  },
  {
   "cell_type": "code",
   "execution_count": null,
   "id": "1ee7d795",
   "metadata": {},
   "outputs": [],
   "source": [
    "df['datetime'] = pd.to_datetime(df['rolling_date'], format='%d%b%Y:%H:%M:%S', errors='coerce')\n",
    "df['hour'] = df['datetime'].dt.hour"
   ]
  },
  {
   "cell_type": "code",
   "execution_count": null,
   "id": "234a99d0",
   "metadata": {},
   "outputs": [],
   "source": []
  },
  {
   "cell_type": "code",
   "execution_count": null,
   "id": "f0d05d96",
   "metadata": {
    "scrolled": true
   },
   "outputs": [],
   "source": [
    "percentage_by_hour = df.groupby('hour')['scale'].mean() * 100"
   ]
  },
  {
   "cell_type": "markdown",
   "id": "08a4bd9e",
   "metadata": {},
   "source": [
    "#### 파생변수 생성"
   ]
  },
  {
   "cell_type": "code",
   "execution_count": null,
   "id": "7a042f90",
   "metadata": {},
   "outputs": [],
   "source": [
    "# 후판 면적 파생변수 생성\n"
   ]
  },
  {
   "cell_type": "code",
   "execution_count": null,
   "id": "aecaf184",
   "metadata": {
    "scrolled": true
   },
   "outputs": [],
   "source": [
    "# 가열대와 균열대 온도차 파생변수 생성\n"
   ]
  },
  {
   "cell_type": "code",
   "execution_count": null,
   "id": "e965d0aa",
   "metadata": {},
   "outputs": [],
   "source": [
    "df[(df['hsb']==\"적용\") & (df['scale']==1)]"
   ]
  },
  {
   "cell_type": "code",
   "execution_count": null,
   "id": "ada53cad",
   "metadata": {},
   "outputs": [],
   "source": [
    "df_scale_1 = df[df['scale']==1]\n",
    "df_scale_0 = df[df['scale']==0]"
   ]
  },
  {
   "cell_type": "code",
   "execution_count": null,
   "id": "8273706f",
   "metadata": {},
   "outputs": [],
   "source": [
    "sns.boxplot(df_scale_0)"
   ]
  },
  {
   "cell_type": "markdown",
   "id": "6015d8e4",
   "metadata": {},
   "source": [
    "#### 이상치 확인"
   ]
  },
  {
   "cell_type": "code",
   "execution_count": null,
   "id": "f80a6d27",
   "metadata": {},
   "outputs": [],
   "source": [
    "df.describe()"
   ]
  },
  {
   "cell_type": "code",
   "execution_count": null,
   "id": "735ddaff",
   "metadata": {},
   "outputs": [],
   "source": [
    "df['rolling_temp'].unique()"
   ]
  },
  {
   "cell_type": "code",
   "execution_count": null,
   "id": "528e66a2",
   "metadata": {},
   "outputs": [],
   "source": [
    "df.info()"
   ]
  },
  {
   "cell_type": "markdown",
   "id": "282a7282",
   "metadata": {},
   "source": [
    "#### rolling_temp = 0인 값은 이상치로 판단하여 제거"
   ]
  },
  {
   "cell_type": "code",
   "execution_count": null,
   "id": "039c1feb",
   "metadata": {
    "scrolled": true
   },
   "outputs": [],
   "source": []
  },
  {
   "cell_type": "code",
   "execution_count": null,
   "id": "bbb2ac8f",
   "metadata": {},
   "outputs": [],
   "source": [
    "df.info()"
   ]
  },
  {
   "cell_type": "markdown",
   "id": "0eb8aa11",
   "metadata": {},
   "source": [
    "### 카이제곱 검정"
   ]
  },
  {
   "cell_type": "code",
   "execution_count": null,
   "id": "ebefac61",
   "metadata": {},
   "outputs": [],
   "source": [
    "# chi-square test 실행\n",
    "chi, pval, dof, expected = stats.chi2_contingency(df)\n",
    "\n",
    "# chi-square test 결과 출력\n",
    "print( \"chi-square test \")\n",
    "print( ' chisq: {0:0.3f}' .format(chi))\n",
    "print( ' p: {0:0.3f}'.format(pval))\n",
    "print( ' degree pf freedom: {}' .format(dof))\n",
    "print( ' expected value: \\n{}' .format(expected.round(3)))"
   ]
  },
  {
   "cell_type": "code",
   "execution_count": null,
   "id": "7dd721cc",
   "metadata": {},
   "outputs": [],
   "source": []
  }
 ],
 "metadata": {
  "kernelspec": {
   "display_name": "Python 3 (ipykernel)",
   "language": "python",
   "name": "python3"
  },
  "language_info": {
   "codemirror_mode": {
    "name": "ipython",
    "version": 3
   },
   "file_extension": ".py",
   "mimetype": "text/x-python",
   "name": "python",
   "nbconvert_exporter": "python",
   "pygments_lexer": "ipython3",
   "version": "3.11.8"
  }
 },
 "nbformat": 4,
 "nbformat_minor": 5
}
