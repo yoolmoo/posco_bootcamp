{
 "cells": [
  {
   "cell_type": "code",
   "execution_count": 1,
   "id": "0f31291a-7cd7-4526-a963-7080de7236ce",
   "metadata": {},
   "outputs": [],
   "source": [
    "import pandas as pd\n",
    "import numpy as np\n",
    "import seaborn as sns\n",
    "import matplotlib.pyplot as plt\n",
    "import warnings\n",
    "warnings.filterwarnings('ignore')"
   ]
  },
  {
   "cell_type": "code",
   "execution_count": 2,
   "id": "14ec6b9c-6806-4e9d-b00e-40c6d5446264",
   "metadata": {},
   "outputs": [],
   "source": [
    "import matplotlib\n",
    "import matplotlib.pyplot as plt\n",
    "plt.rcParams['font.family'] = 'NanumGothic'\n",
    "\n",
    "matplotlib.rc(\"axes\", unicode_minus = False)"
   ]
  },
  {
   "cell_type": "code",
   "execution_count": 3,
   "id": "e3790be5-7417-4254-9be6-99b07a380265",
   "metadata": {},
   "outputs": [],
   "source": [
    "df1 = pd.read_csv(\"01 Oxidation.csv\")\n",
    "df2 = pd.read_csv(\"02 Photo_softbake.csv\")\n",
    "df3 = pd.read_csv(\"03 Photo_lithograpy.csv\")\n",
    "df4 = pd.read_csv(\"04 Etching.csv\")\n",
    "df5 = pd.read_csv(\"05 Ion_Implantation.csv\")\n",
    "df6 = pd.read_csv(\"06 Inspect.csv\")"
   ]
  },
  {
   "cell_type": "code",
   "execution_count": 4,
   "id": "cfc8bad3-18cb-43f1-bd1c-7bbfc7163d8b",
   "metadata": {},
   "outputs": [],
   "source": [
    "df = pd.merge(df1, df2, on=['No_Die','Lot_Num', 'Wafer_Num','Datetime'])\n",
    "df = pd.merge(df, df3, on=['No_Die','Lot_Num', 'Wafer_Num','Datetime'])\n",
    "df = pd.merge(df, df4, on=['No_Die','Lot_Num', 'Wafer_Num','Datetime'])\n",
    "df = pd.merge(df, df5, on=['No_Die','Lot_Num', 'Wafer_Num','Datetime'])\n",
    "df = pd.merge(df, df6, on=['No_Die','Lot_Num', 'Wafer_Num','Datetime'])"
   ]
  },
  {
   "cell_type": "code",
   "execution_count": 5,
   "id": "587f2b7b-5130-46f8-b82e-4d22185bb662",
   "metadata": {},
   "outputs": [],
   "source": [
    "df.dropna(subset=\"Thin F2\", inplace=True) # 다른 변수들과의 연관성을 찾지못함, 한 행에 여러 열들 결측값 가짐\n",
    "# pd.set_option('display.max_row', 200)\n",
    "# pd.set_option('display.max_columns', 200)"
   ]
  },
  {
   "cell_type": "code",
   "execution_count": 6,
   "id": "8b1bfdab-68c3-446d-9b13-e85be3c070e4",
   "metadata": {},
   "outputs": [],
   "source": [
    "df['Ox_Chamber'] = df['Ox_Chamber'].astype('str')\n",
    "df['photo_soft_Chamber'] = df['photo_soft_Chamber'].astype('str')\n",
    "df['lithography_Chamber'] = df['lithography_Chamber'].astype('str')\n",
    "df['Etching_Chamber'] = df['Etching_Chamber'].astype('str')\n",
    "df['Chamber_Num'] = df['Chamber_Num'].astype('str')\n",
    "df['path'] = df['Ox_Chamber']+df['photo_soft_Chamber']+df['lithography_Chamber']+df['Etching_Chamber']+df['Chamber_Num']"
   ]
  },
  {
   "cell_type": "code",
   "execution_count": 7,
   "id": "473e2781-842c-490c-ab04-86d823e303ec",
   "metadata": {
    "scrolled": true
   },
   "outputs": [],
   "source": [
    "df.drop(df[df['Oxid_time']<0].index, inplace=True) # 산화시간이 음수\n",
    "df.drop(df[df['Target']==0].index, inplace=True) # target 값이 0\n",
    "df.drop(columns = [\"Wafer_map\",\"Error_message\"],inplace=True) # 웨이퍼맵, 에러메시지"
   ]
  },
  {
   "cell_type": "code",
   "execution_count": 8,
   "id": "1335a37d-5e7f-4308-b788-e3394e9a72cc",
   "metadata": {},
   "outputs": [],
   "source": [
    "# 시간 데이터 datetime 유형으로 변환\n",
    "df['Datetime'] = pd.to_datetime(df['Datetime'], format='%d-%m-%Y')\n",
    "\n",
    "# 195이상 = 불량(1), 195미만 = 양품(0)\n",
    "df.loc[df['Target'] >= 195, '불량_195이상'] =1\n",
    "df.loc[df['Target'] < 195, '불량_195이상'] =0"
   ]
  },
  {
   "cell_type": "code",
   "execution_count": 9,
   "id": "6db7cfb0-e884-47a0-b1e2-b338eb40b7fd",
   "metadata": {},
   "outputs": [],
   "source": [
    "df.loc[df['Thin F4']<0, 'Thin F4']=df['Thin F4'].median()\n",
    "df.loc[df['Flux90s']<0, 'Flux90s']=df['Flux90s'].median()\n",
    "df.loc[df['Flux160s']<0, 'Flux160s']=df['Flux160s'].median()\n",
    "df.loc[df['Flux160s']<5, 'Flux160s']=df['Flux160s'].median()"
   ]
  },
  {
   "cell_type": "code",
   "execution_count": 10,
   "id": "acd283d7-4f43-4240-a57b-b403e041b72b",
   "metadata": {},
   "outputs": [],
   "source": [
    "df['Thin F1'].fillna(df['Thin F1'].median(), inplace=True)\n",
    "df['Thin F3'].fillna(df['Thin F3'].median(), inplace=True)\n",
    "df['Flux60s'].fillna(df['Flux90s'].median(), inplace=True)\n",
    "df['Flux90s'].fillna(df['Flux90s'].median(), inplace=True)\n",
    "df['Flux480s'].fillna(df['Flux90s'].median(), inplace=True)\n",
    "df['Flux840s'].fillna(df['Flux90s'].median(), inplace=True)"
   ]
  },
  {
   "cell_type": "markdown",
   "id": "2cd4b6f3-d202-400e-9d08-81a9885dfa06",
   "metadata": {},
   "source": [
    "### 불필요한 열 제거"
   ]
  },
  {
   "cell_type": "code",
   "execution_count": 11,
   "id": "64a1766d-1b14-42bc-b817-57fe8c553a4b",
   "metadata": {},
   "outputs": [],
   "source": [
    "# 불필요한 열 제거 \n",
    "# df.drop(columns=[\"No_Die\", \"Lot_Num\", \"Wafer_Num\"], inplace=True)\n",
    "df.drop(columns=['Vapor','process','Wavelength'])\n",
    "df.loc[df['Flux840s'] == 8.137500e+16, 'Flux840s'] = df['Flux840s'].mode()[0]\n",
    "df.loc[df['Flux480s'] == 8.137500e+16, 'Flux480s'] = df['Flux480s'].mode()[0]"
   ]
  },
  {
   "cell_type": "code",
   "execution_count": 12,
   "id": "edecc600-f595-458e-b623-d16f3670e486",
   "metadata": {},
   "outputs": [],
   "source": [
    "df_new = df[['Temp_OXid','ppm','Pressure','type','Oxid_time',\n",
    "        'N2_HMDS', 'pressure_HMDS', 'temp_HMDS', 'temp_HMDS_bake',\n",
    "       'time_HMDS_bake', 'spin1', 'spin2', 'spin3', 'photoresist_bake',\n",
    "       'temp_softbake', 'time_softbake', 'UV_type', 'Energy_Exposure',       \n",
    "        'Temp_Etching', 'Source_Power',\n",
    "       'input_Energy', 'Temp_implantation', 'Furance_Temp', 'RTA_Temp',\n",
    "       '불량_195이상', 'path']]"
   ]
  },
  {
   "cell_type": "code",
   "execution_count": 13,
   "id": "8832c036-a9a5-4332-b72d-9b97879283f9",
   "metadata": {},
   "outputs": [
    {
     "name": "stdout",
     "output_type": "stream",
     "text": [
      "<class 'pandas.core.frame.DataFrame'>\n",
      "Index: 1693 entries, 0 to 1703\n",
      "Data columns (total 26 columns):\n",
      " #   Column             Non-Null Count  Dtype  \n",
      "---  ------             --------------  -----  \n",
      " 0   Temp_OXid          1693 non-null   float64\n",
      " 1   ppm                1693 non-null   float64\n",
      " 2   Pressure           1693 non-null   float64\n",
      " 3   type               1693 non-null   object \n",
      " 4   Oxid_time          1693 non-null   int64  \n",
      " 5   N2_HMDS            1693 non-null   float64\n",
      " 6   pressure_HMDS      1693 non-null   float64\n",
      " 7   temp_HMDS          1693 non-null   float64\n",
      " 8   temp_HMDS_bake     1693 non-null   float64\n",
      " 9   time_HMDS_bake     1693 non-null   float64\n",
      " 10  spin1              1693 non-null   float64\n",
      " 11  spin2              1693 non-null   float64\n",
      " 12  spin3              1693 non-null   float64\n",
      " 13  photoresist_bake   1693 non-null   float64\n",
      " 14  temp_softbake      1693 non-null   float64\n",
      " 15  time_softbake      1693 non-null   float64\n",
      " 16  UV_type            1693 non-null   object \n",
      " 17  Energy_Exposure    1693 non-null   float64\n",
      " 18  Temp_Etching       1693 non-null   float64\n",
      " 19  Source_Power       1693 non-null   float64\n",
      " 20  input_Energy       1693 non-null   float64\n",
      " 21  Temp_implantation  1693 non-null   float64\n",
      " 22  Furance_Temp       1693 non-null   float64\n",
      " 23  RTA_Temp           1693 non-null   int64  \n",
      " 24  불량_195이상           1693 non-null   float64\n",
      " 25  path               1693 non-null   object \n",
      "dtypes: float64(21), int64(2), object(3)\n",
      "memory usage: 357.1+ KB\n"
     ]
    }
   ],
   "source": [
    "df_new.info()"
   ]
  },
  {
   "cell_type": "code",
   "execution_count": 13,
   "id": "0abf3719-729d-43f9-b8ed-cdaec4eee43e",
   "metadata": {},
   "outputs": [],
   "source": [
    "# 데이터 구성:Series, DataFrame\n",
    "import pandas as pd\n",
    "# 행렬 연산\n",
    "import numpy as np\n",
    "# 데이터 시각화\n",
    "import matplotlib.pyplot as plt\n",
    "import matplotlib\n",
    "# scaling\n",
    "from sklearn.preprocessing import StandardScaler\n",
    "# 데이터 분할:train, test\n",
    "from sklearn.model_selection import train_test_split\n",
    "# 로지스틱 회귀\n",
    "from statsmodels.api import Logit\n",
    "# 분류모델 평가 함수\n",
    "from sklearn.metrics import accuracy_score, f1_score \n",
    "from sklearn.metrics import confusion_matrix, classification_report"
   ]
  },
  {
   "cell_type": "code",
   "execution_count": 24,
   "id": "30f690ef-59b2-49ef-b55f-0ed5f0fc50ed",
   "metadata": {},
   "outputs": [],
   "source": [
    "from sklearn.preprocessing import LabelEncoder\n",
    "from sklearn.preprocessing import MinMaxScaler\n",
    "# LabelEncoder 객체 생성\n",
    "label_encoder = LabelEncoder()\n",
    "\n",
    "df_raw_x = df_new.drop(\"불량_195이상\", axis = 1)\n",
    "df_raw_y = df_new[\"불량_195이상\"] \n",
    "\n",
    "# MinMaxScaler 객체 생성\n",
    "numeric_columns = df_raw_x.select_dtypes(include=['number']).columns\n",
    "scaler = MinMaxScaler()\n",
    "\n",
    "df_raw_x[numeric_columns] = scaler.fit_transform(df_raw_x[numeric_columns])\n",
    "\n",
    "df_raw_x = pd.get_dummies(df_raw_x, columns=df_raw_x.select_dtypes(include=['object']).columns)\n",
    "df_raw_x = df_raw_x.astype({column: int for column in df_raw_x.select_dtypes(include=['bool']).columns})\n",
    "\n",
    "# df_train_x, df_test_x, df_train_y, df_test_y = train_test_split(\n",
    "#     df_raw_x, df_raw_y, test_size = 0.3, random_state = 1234, stratify=df_raw_y) "
   ]
  },
  {
   "cell_type": "code",
   "execution_count": 44,
   "id": "a4af6e64-e203-4430-8480-64d1e081a60a",
   "metadata": {},
   "outputs": [
    {
     "name": "stdout",
     "output_type": "stream",
     "text": [
      "train data size : (1192, 26)\n",
      "test data size : (512, 26)\n"
     ]
    }
   ],
   "source": [
    "# train_test_split(데이터, test_size = test 데이터 비율, random_state: 랜덤)\n",
    "df_train, df_test = train_test_split(df_scaled, # 데이터\n",
    "                                     test_size = 0.3, # test 데이터의 비율\n",
    "                                     random_state = 1234)  # random state\n",
    "\n",
    "print(\"train data size : {}\".format(df_train.shape))\n",
    "print(\"test data size : {}\".format(df_test.shape))"
   ]
  },
  {
   "cell_type": "code",
   "execution_count": 48,
   "id": "a0d95b16-53ea-4ad9-970f-ae06f876233b",
   "metadata": {},
   "outputs": [
    {
     "name": "stdout",
     "output_type": "stream",
     "text": [
      "Optimization terminated successfully.\n",
      "         Current function value: 0.228165\n",
      "         Iterations: 67\n",
      "         Function evaluations: 68\n",
      "         Gradient evaluations: 68\n",
      "                           Logit Regression Results                           \n",
      "==============================================================================\n",
      "Dep. Variable:               불량_195이상   No. Observations:                 1178\n",
      "Model:                          Logit   Df Residuals:                     1152\n",
      "Method:                           MLE   Df Model:                           25\n",
      "Date:                Tue, 19 Mar 2024   Pseudo R-squ.:                  0.1341\n",
      "Time:                        14:05:16   Log-Likelihood:                -268.78\n",
      "converged:                       True   LL-Null:                       -310.40\n",
      "Covariance Type:            nonrobust   LLR p-value:                 3.514e-08\n",
      "=====================================================================================\n",
      "                        coef    std err          z      P>|z|      [0.025      0.975]\n",
      "-------------------------------------------------------------------------------------\n",
      "Intercept            -2.8280      0.255    -11.106      0.000      -3.327      -2.329\n",
      "C(type)[T.wet]       -0.9457      0.316     -2.991      0.003      -1.565      -0.326\n",
      "C(UV_type)[T.H]       0.2320      0.314      0.738      0.461      -0.384       0.848\n",
      "C(UV_type)[T.I]       0.6522      0.365      1.786      0.074      -0.064       1.368\n",
      "Temp_OXid            -0.4192      0.200     -2.093      0.036      -0.812      -0.027\n",
      "ppm                  -0.1772      0.193     -0.920      0.358      -0.555       0.200\n",
      "Pressure              0.5868      0.161      3.652      0.000       0.272       0.902\n",
      "Oxid_time            -0.1614      0.129     -1.253      0.210      -0.414       0.091\n",
      "N2_HMDS              -0.1854      0.127     -1.459      0.144      -0.434       0.064\n",
      "pressure_HMDS         0.0053      0.122      0.044      0.965      -0.234       0.245\n",
      "temp_HMDS             0.0886      0.121      0.730      0.465      -0.149       0.327\n",
      "temp_HMDS_bake       -0.0375      0.155     -0.241      0.809      -0.342       0.267\n",
      "time_HMDS_bake       -0.1149      0.125     -0.918      0.359      -0.360       0.130\n",
      "spin1                -0.2420      0.163     -1.488      0.137      -0.561       0.077\n",
      "spin2                 0.0989      0.145      0.679      0.497      -0.186       0.384\n",
      "spin3                 0.0303      0.176      0.172      0.864      -0.315       0.376\n",
      "photoresist_bake     -0.2235      0.155     -1.438      0.150      -0.528       0.081\n",
      "temp_softbake        -0.2362      0.163     -1.447      0.148      -0.556       0.084\n",
      "time_softbake         0.1701      0.126      1.353      0.176      -0.076       0.416\n",
      "Energy_Exposure       0.1058      0.165      0.640      0.522      -0.218       0.430\n",
      "Temp_Etching          0.0917      0.144      0.635      0.525      -0.191       0.374\n",
      "Source_Power         -0.0178      0.165     -0.108      0.914      -0.342       0.306\n",
      "input_Energy         -0.2143      0.138     -1.555      0.120      -0.484       0.056\n",
      "Temp_implantation     0.1042      0.164      0.635      0.525      -0.217       0.426\n",
      "Furance_Temp         -0.0774      0.132     -0.585      0.559      -0.337       0.182\n",
      "RTA_Temp             -0.1208      0.170     -0.712      0.476      -0.453       0.212\n",
      "=====================================================================================\n"
     ]
    }
   ],
   "source": [
    "from statsmodels.formula.api import logit\n",
    "\n",
    "# 로지스틱 회귀 모델 생성\n",
    "log_model = logit(\"불량_195이상 ~ Temp_OXid + ppm + Pressure + C(type) + Oxid_time + N2_HMDS + \\\n",
    "pressure_HMDS + temp_HMDS + temp_HMDS_bake + time_HMDS_bake + spin1 + spin2 + spin3 + \\\n",
    "photoresist_bake + temp_softbake + time_softbake + C(UV_type) + Energy_Exposure + Temp_Etching \\\n",
    "+ Source_Power + input_Energy + Temp_implantation + Furance_Temp + RTA_Temp\", df_train)\n",
    "\n",
    "# 모델 학습 (BFGS 최적화 알고리즘 사용)\n",
    "log_result = log_model.fit(method='bfgs', maxiter=100)\n",
    "\n",
    "# 모델 요약\n",
    "print(log_result.summary())"
   ]
  },
  {
   "cell_type": "code",
   "execution_count": 69,
   "id": "311d894a-7a85-48fc-9a54-f42cfe3c3c8e",
   "metadata": {},
   "outputs": [
    {
     "name": "stdout",
     "output_type": "stream",
     "text": [
      "Optimization terminated successfully.\n",
      "         Current function value: 0.234066\n",
      "         Iterations: 49\n",
      "         Function evaluations: 50\n",
      "         Gradient evaluations: 50\n",
      "                           Logit Regression Results                           \n",
      "==============================================================================\n",
      "Dep. Variable:               불량_195이상   No. Observations:                 1178\n",
      "Model:                          Logit   Df Residuals:                     1170\n",
      "Method:                           MLE   Df Model:                            7\n",
      "Date:                Tue, 19 Mar 2024   Pseudo R-squ.:                  0.1117\n",
      "Time:                        14:08:56   Log-Likelihood:                -275.73\n",
      "converged:                       True   LL-Null:                       -310.40\n",
      "Covariance Type:            nonrobust   LLR p-value:                 2.011e-12\n",
      "====================================================================================\n",
      "                       coef    std err          z      P>|z|      [0.025      0.975]\n",
      "------------------------------------------------------------------------------------\n",
      "Intercept           -2.8394      0.244    -11.632      0.000      -3.318      -2.361\n",
      "C(type)[T.wet]      -0.8538      0.312     -2.737      0.006      -1.465      -0.242\n",
      "C(UV_type)[T.H]      0.3841      0.289      1.328      0.184      -0.183       0.951\n",
      "C(UV_type)[T.I]      0.6878      0.351      1.962      0.050       0.001       1.375\n",
      "Temp_OXid           -0.4655      0.147     -3.174      0.002      -0.753      -0.178\n",
      "Pressure             0.5293      0.138      3.844      0.000       0.259       0.799\n",
      "spin1               -0.2730      0.138     -1.983      0.047      -0.543      -0.003\n",
      "photoresist_bake    -0.3105      0.137     -2.261      0.024      -0.580      -0.041\n",
      "====================================================================================\n"
     ]
    }
   ],
   "source": [
    "from statsmodels.formula.api import logit\n",
    "\n",
    "# 로지스틱 회귀 모델 생성\n",
    "log_model = logit(\"불량_195이상 ~ Temp_OXid + Pressure + C(type)   + \\\n",
    " spin1  + photoresist_bake + C(UV_type)  \", df_train)\n",
    "\n",
    "# 모델 학습 (BFGS 최적화 알고리즘 사용)\n",
    "log_result = log_model.fit(method='bfgs', maxiter=100)\n",
    "\n",
    "# 모델 요약\n",
    "print(log_result.summary())"
   ]
  },
  {
   "cell_type": "code",
   "execution_count": 71,
   "id": "8041d150-63fb-4144-9643-95a814bbd738",
   "metadata": {},
   "outputs": [
    {
     "name": "stdout",
     "output_type": "stream",
     "text": [
      "Train 예측 결과 \n",
      " 1153    0\n",
      "27      0\n",
      "1017    0\n",
      "781     0\n",
      "89      0\n",
      "dtype: int64 \n",
      "\n",
      "Confusion Matrix: \n",
      "[[1105    0]\n",
      " [  83    4]] \n",
      "\n",
      "Test 예측 결과 \n",
      " 216     0\n",
      "1115    0\n",
      "188     0\n",
      "1144    0\n",
      "803     0\n",
      "dtype: int64 \n",
      "\n",
      "Confusion Matrix: \n",
      "[[478   0]\n",
      " [ 31   3]] \n",
      "\n"
     ]
    }
   ],
   "source": [
    "# train 데이터 예측\n",
    "y_pred_train = log_result.predict(df_train)\n",
    "# 0과 1의 값을 가진 class로 변환\n",
    "y_pred_train_class = (y_pred_train > 0.5).astype(int)  # 0.5 : “1/0” 판정 임계값(1 발생 확률) 변경 가능 \n",
    "print(\"Train 예측 결과 \\n\", y_pred_train_class.head(), \"\\n\")\n",
    "print(\"Confusion Matrix: \\n{}\".format(confusion_matrix(df_train[\"불량_195이상\"],y_pred_train_class)),\"\\n\")\n",
    "\n",
    "# test 데이터 예측\n",
    "y_pred_test = log_result.predict(df_test)\n",
    "# 0과 1의 값을 가진 class로 변환\n",
    "y_pred_test_class = (y_pred_test > 0.5).astype(int)\n",
    "print(\"Test 예측 결과 \\n\", y_pred_test_class.head(),\"\\n\")\n",
    "print(\"Confusion Matrix: \\n{}\".format(confusion_matrix(df_test[\"불량_195이상\"],y_pred_test_class)),\"\\n\")"
   ]
  },
  {
   "cell_type": "code",
   "execution_count": 72,
   "id": "a58e8854-5435-4d44-af17-0b1a70e4550e",
   "metadata": {},
   "outputs": [
    {
     "name": "stdout",
     "output_type": "stream",
     "text": [
      "Train 예측/분류 결과\n",
      "Accuracy: 0.930\n",
      "\n",
      "Confusion Matrix: \n",
      "[[1105    0]\n",
      " [  83    4]] \n",
      "\n",
      "              precision    recall  f1-score   support\n",
      "\n",
      "           0      0.930     1.000     0.964      1105\n",
      "           1      1.000     0.046     0.088        87\n",
      "\n",
      "    accuracy                          0.930      1192\n",
      "   macro avg      0.965     0.523     0.526      1192\n",
      "weighted avg      0.935     0.930     0.900      1192\n",
      "\n",
      "Test 예측/분류 결과\n",
      "Accuracy: 0.939\n",
      "\n",
      "Confusion Matrix: \n",
      "[[478   0]\n",
      " [ 31   3]] \n",
      "\n",
      "              precision    recall  f1-score   support\n",
      "\n",
      "           0      0.939     1.000     0.969       478\n",
      "           1      1.000     0.088     0.162        34\n",
      "\n",
      "    accuracy                          0.939       512\n",
      "   macro avg      0.970     0.544     0.565       512\n",
      "weighted avg      0.943     0.939     0.915       512\n",
      "\n"
     ]
    }
   ],
   "source": [
    "# 실제 train 데이터와 예측 결과 비교\n",
    "print(\"Train 예측/분류 결과\")\n",
    "print(\"Accuracy: {0:.3f}\\n\".format(accuracy_score(df_train[\"불량_195이상\"], y_pred_train_class)))\n",
    "print(\"Confusion Matrix: \\n{}\".format(confusion_matrix(df_train[\"불량_195이상\"],y_pred_train_class)),\"\\n\")\n",
    "print(classification_report(df_train[\"불량_195이상\"], y_pred_train_class, digits=3))\n",
    "\n",
    "# 실제 train 데이터와 예측 결과 비교\n",
    "print(\"Test 예측/분류 결과\")\n",
    "print(\"Accuracy: {0:.3f}\\n\".format(accuracy_score(df_test[\"불량_195이상\"], y_pred_test_class)))\n",
    "print(\"Confusion Matrix: \\n{}\".format(confusion_matrix(df_test[\"불량_195이상\"],y_pred_test_class)),\"\\n\")\n",
    "print(classification_report(df_test[\"불량_195이상\"], y_pred_test_class, digits=3))"
   ]
  },
  {
   "cell_type": "code",
   "execution_count": 26,
   "id": "f1e1efbe-6ac9-4f2d-95cd-39a18dd00f51",
   "metadata": {},
   "outputs": [],
   "source": [
    "# train_test_split(데이터, test_size = test 데이터 비율, random_state: 랜덤)\n",
    "X_train, X_test , y_train, y_test = train_test_split(df_raw_x, df_raw_y, # 데이터\n",
    "                                     test_size = 0.3, # test 데이터의 비율\n",
    "                                     random_state = 1234)  # random state"
   ]
  },
  {
   "cell_type": "code",
   "execution_count": 27,
   "id": "f3cdb145-495e-4619-8771-47be396d30ba",
   "metadata": {
    "scrolled": true
   },
   "outputs": [
    {
     "name": "stdout",
     "output_type": "stream",
     "text": [
      "Confusion matrix: \n",
      "[[464   0]\n",
      " [ 43   1]]\n",
      "              precision    recall  f1-score   support\n",
      "\n",
      "         0.0       0.92      1.00      0.96       464\n",
      "         1.0       1.00      0.02      0.04        44\n",
      "\n",
      "    accuracy                           0.92       508\n",
      "   macro avg       0.96      0.51      0.50       508\n",
      "weighted avg       0.92      0.92      0.88       508\n",
      "\n"
     ]
    }
   ],
   "source": [
    "from sklearn.linear_model import LogisticRegression\n",
    "logistic_model = LogisticRegression()\n",
    "logistic_model.fit(X_train, y_train)\n",
    "\n",
    "y_pred = logistic_model.predict(X_test)\n",
    "print(\"Confusion matrix: \\n{}\".format(confusion_matrix(y_test, y_pred)))\n",
    "print(classification_report(y_test, y_pred))"
   ]
  },
  {
   "cell_type": "code",
   "execution_count": 31,
   "id": "f5b816b6-f788-4758-9c53-b0b4884d37ec",
   "metadata": {},
   "outputs": [
    {
     "name": "stdout",
     "output_type": "stream",
     "text": [
      "Confusion matrix: \n",
      "[[420  44]\n",
      " [ 32  12]]\n",
      "              precision    recall  f1-score   support\n",
      "\n",
      "         0.0       0.93      0.91      0.92       464\n",
      "         1.0       0.21      0.27      0.24        44\n",
      "\n",
      "    accuracy                           0.85       508\n",
      "   macro avg       0.57      0.59      0.58       508\n",
      "weighted avg       0.87      0.85      0.86       508\n",
      "\n"
     ]
    }
   ],
   "source": [
    "from imblearn.over_sampling import SMOTE\n",
    "from sklearn.linear_model import LogisticRegression\n",
    "\n",
    "# SMOTE를 적용하여 불균형 데이터를 조정\n",
    "smote = SMOTE(random_state=42)\n",
    "X_resampled, y_resampled = smote.fit_resample(X_train, y_train)\n",
    "\n",
    "# 로지스틱 회귀모델 학습\n",
    "logistic_model = LogisticRegression()\n",
    "logistic_model.fit(X_resampled, y_resampled)\n",
    "\n",
    "# 모델 성능 평가\n",
    "y_pred = logistic_model.predict(X_test)\n",
    "print(\"Confusion matrix: \\n{}\".format(confusion_matrix(y_test, y_pred)))\n",
    "print(classification_report(y_test, y_pred))"
   ]
  },
  {
   "cell_type": "code",
   "execution_count": null,
   "id": "ed04bc8f-f21e-4cfb-80ff-f383f804125e",
   "metadata": {},
   "outputs": [],
   "source": []
  }
 ],
 "metadata": {
  "kernelspec": {
   "display_name": "Python 3 (ipykernel)",
   "language": "python",
   "name": "python3"
  },
  "language_info": {
   "codemirror_mode": {
    "name": "ipython",
    "version": 3
   },
   "file_extension": ".py",
   "mimetype": "text/x-python",
   "name": "python",
   "nbconvert_exporter": "python",
   "pygments_lexer": "ipython3",
   "version": "3.11.8"
  }
 },
 "nbformat": 4,
 "nbformat_minor": 5
}
