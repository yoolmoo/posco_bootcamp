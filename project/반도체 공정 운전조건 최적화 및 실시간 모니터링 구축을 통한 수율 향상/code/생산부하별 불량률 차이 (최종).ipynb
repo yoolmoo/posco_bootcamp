{
 "cells": [
  {
   "cell_type": "code",
   "execution_count": 1,
   "id": "0f31291a-7cd7-4526-a963-7080de7236ce",
   "metadata": {},
   "outputs": [],
   "source": [
    "import pandas as pd\n",
    "import numpy as np\n",
    "import seaborn as sns\n",
    "import matplotlib.pyplot as plt\n",
    "import warnings\n",
    "warnings.filterwarnings('ignore')"
   ]
  },
  {
   "cell_type": "code",
   "execution_count": 2,
   "id": "14ec6b9c-6806-4e9d-b00e-40c6d5446264",
   "metadata": {},
   "outputs": [],
   "source": [
    "import matplotlib\n",
    "import matplotlib.pyplot as plt\n",
    "plt.rcParams['font.family'] = 'NanumGothic'\n",
    "\n",
    "matplotlib.rc(\"axes\", unicode_minus = False)"
   ]
  },
  {
   "cell_type": "code",
   "execution_count": 3,
   "id": "e3790be5-7417-4254-9be6-99b07a380265",
   "metadata": {},
   "outputs": [],
   "source": [
    "df1 = pd.read_csv(\"01 Oxidation.csv\")\n",
    "df2 = pd.read_csv(\"02 Photo_softbake.csv\")\n",
    "df3 = pd.read_csv(\"03 Photo_lithograpy.csv\")\n",
    "df4 = pd.read_csv(\"04 Etching.csv\")\n",
    "df5 = pd.read_csv(\"05 Ion_Implantation.csv\")\n",
    "df6 = pd.read_csv(\"06 Inspect.csv\")"
   ]
  },
  {
   "cell_type": "code",
   "execution_count": 4,
   "id": "cfc8bad3-18cb-43f1-bd1c-7bbfc7163d8b",
   "metadata": {},
   "outputs": [],
   "source": [
    "df = pd.merge(df1, df2, on=['No_Die','Lot_Num', 'Wafer_Num','Datetime'])\n",
    "df = pd.merge(df, df3, on=['No_Die','Lot_Num', 'Wafer_Num','Datetime'])\n",
    "df = pd.merge(df, df4, on=['No_Die','Lot_Num', 'Wafer_Num','Datetime'])\n",
    "df = pd.merge(df, df5, on=['No_Die','Lot_Num', 'Wafer_Num','Datetime'])\n",
    "df = pd.merge(df, df6, on=['No_Die','Lot_Num', 'Wafer_Num','Datetime'])"
   ]
  },
  {
   "cell_type": "code",
   "execution_count": 5,
   "id": "587f2b7b-5130-46f8-b82e-4d22185bb662",
   "metadata": {},
   "outputs": [],
   "source": [
    "df.dropna(subset=\"Thin F2\", inplace=True) # 다른 변수들과의 연관성을 찾지못함, 한 행에 여러 열들 결측값 가짐\n",
    "# pd.set_option('display.max_row', 200)\n",
    "# pd.set_option('display.max_columns', 200)"
   ]
  },
  {
   "cell_type": "code",
   "execution_count": 6,
   "id": "8b1bfdab-68c3-446d-9b13-e85be3c070e4",
   "metadata": {},
   "outputs": [],
   "source": [
    "df['Ox_Chamber'] = df['Ox_Chamber'].astype('str')\n",
    "df['photo_soft_Chamber'] = df['photo_soft_Chamber'].astype('str')\n",
    "df['lithography_Chamber'] = df['lithography_Chamber'].astype('str')\n",
    "df['Etching_Chamber'] = df['Etching_Chamber'].astype('str')\n",
    "df['Chamber_Num'] = df['Chamber_Num'].astype('str')\n",
    "df['path'] = df['Ox_Chamber']+df['photo_soft_Chamber']+df['lithography_Chamber']+df['Etching_Chamber']+df['Chamber_Num']"
   ]
  },
  {
   "cell_type": "code",
   "execution_count": 7,
   "id": "473e2781-842c-490c-ab04-86d823e303ec",
   "metadata": {
    "scrolled": true
   },
   "outputs": [],
   "source": [
    "df.drop(df[df['Oxid_time']<0].index, inplace=True) # 산화시간이 음수\n",
    "df.drop(df[df['Target']==0].index, inplace=True) # target 값이 0\n",
    "df.drop(columns = [\"Wafer_map\",\"Error_message\"],inplace=True) # 웨이퍼맵, 에러메시지"
   ]
  },
  {
   "cell_type": "code",
   "execution_count": 8,
   "id": "1335a37d-5e7f-4308-b788-e3394e9a72cc",
   "metadata": {},
   "outputs": [],
   "source": [
    "# 시간 데이터 datetime 유형으로 변환\n",
    "df['Datetime'] = pd.to_datetime(df['Datetime'], format='%d-%m-%Y')\n",
    "\n",
    "# 195이상 = 불량(1), 195미만 = 양품(0)\n",
    "df.loc[df['Target'] >= 195, '불량_195이상'] =1\n",
    "df.loc[df['Target'] < 195, '불량_195이상'] =0"
   ]
  },
  {
   "cell_type": "code",
   "execution_count": 9,
   "id": "6db7cfb0-e884-47a0-b1e2-b338eb40b7fd",
   "metadata": {},
   "outputs": [],
   "source": [
    "df.loc[df['Thin F4']<0, 'Thin F4']=df['Thin F4'].median()\n",
    "df.loc[df['Flux90s']<0, 'Flux90s']=df['Flux90s'].median()\n",
    "df.loc[df['Flux160s']<0, 'Flux160s']=df['Flux160s'].median()\n",
    "df.loc[df['Flux160s']<5, 'Flux160s']=df['Flux160s'].median()"
   ]
  },
  {
   "cell_type": "code",
   "execution_count": 10,
   "id": "acd283d7-4f43-4240-a57b-b403e041b72b",
   "metadata": {},
   "outputs": [],
   "source": [
    "df['Thin F1'].fillna(df['Thin F1'].median(), inplace=True)\n",
    "df['Thin F3'].fillna(df['Thin F3'].median(), inplace=True)\n",
    "df['Flux60s'].fillna(df['Flux90s'].median(), inplace=True)\n",
    "df['Flux90s'].fillna(df['Flux90s'].median(), inplace=True)\n",
    "df['Flux480s'].fillna(df['Flux90s'].median(), inplace=True)\n",
    "df['Flux840s'].fillna(df['Flux90s'].median(), inplace=True)"
   ]
  },
  {
   "cell_type": "markdown",
   "id": "2cd4b6f3-d202-400e-9d08-81a9885dfa06",
   "metadata": {},
   "source": [
    "### 불필요한 열 제거"
   ]
  },
  {
   "cell_type": "code",
   "execution_count": 11,
   "id": "64a1766d-1b14-42bc-b817-57fe8c553a4b",
   "metadata": {},
   "outputs": [],
   "source": [
    "# 불필요한 열 제거 \n",
    "# df.drop(columns=[\"No_Die\", \"Lot_Num\", \"Wafer_Num\"], inplace=True)\n",
    "df.drop(columns=['Vapor','process','Wavelength'])\n",
    "df.loc[df['Flux840s'] == 8.137500e+16, 'Flux840s'] = df['Flux840s'].mode()[0]\n",
    "df.loc[df['Flux480s'] == 8.137500e+16, 'Flux480s'] = df['Flux480s'].mode()[0]\n",
    "# df = df[['Temp_Oxid','ppm','Pressure','type','Oxid_time',\n",
    "#         'N2_HMDS', 'pressure_HMDS', 'temp_HMDS', 'temp_HMDS_bake',\n",
    "#        'time_HMDS_bake', 'spin1', 'spin2', 'spin3', 'photoresist_bake',\n",
    "#        'temp_softbake', 'time_softbake', 'UV_type', 'Energy_Exposure',\n",
    "       \n",
    "#         'Temp_Etching', 'Source_Power',\n",
    "#        'input_Energy', 'Temp_implantation', 'Furance_Temp', 'RTA_Temp',\n",
    "#        'Target', 'path', '불량_195이상']]"
   ]
  },
  {
   "cell_type": "code",
   "execution_count": 12,
   "id": "8832c036-a9a5-4332-b72d-9b97879283f9",
   "metadata": {},
   "outputs": [
    {
     "data": {
      "text/plain": [
       "Index(['No_Die', 'Ox_Chamber', 'process', 'type', 'Temp_OXid', 'Vapor', 'ppm',\n",
       "       'Pressure', 'Oxid_time', 'thickness', 'Lot_Num', 'Wafer_Num',\n",
       "       'Datetime', 'photo_soft_Chamber', 'process 2', 'resist_target',\n",
       "       'N2_HMDS', 'pressure_HMDS', 'temp_HMDS', 'temp_HMDS_bake',\n",
       "       'time_HMDS_bake', 'spin1', 'spin2', 'spin3', 'photoresist_bake',\n",
       "       'temp_softbake', 'time_softbake', 'lithography_Chamber', 'Process 2-1',\n",
       "       'Line_CD', 'UV_type', 'Wavelength', 'Resolution', 'Energy_Exposure',\n",
       "       'Etching_Chamber', 'Process 3', 'Thin F4', 'Thin F3', 'Thin F2',\n",
       "       'Thin F1', 'Temp_Etching', 'Source_Power', 'Selectivity', 'Chamber_Num',\n",
       "       'process4', 'Flux60s', 'Flux90s', 'Flux160s', 'Flux480s', 'Flux840s',\n",
       "       'input_Energy', 'Temp_implantation', 'Furance_Temp', 'RTA_Temp',\n",
       "       'Target', 'path', '불량_195이상'],\n",
       "      dtype='object')"
      ]
     },
     "execution_count": 12,
     "metadata": {},
     "output_type": "execute_result"
    }
   ],
   "source": [
    "df.columns"
   ]
  },
  {
   "cell_type": "code",
   "execution_count": 13,
   "id": "1c33e210-b26c-487e-a609-c6a60ae895a5",
   "metadata": {},
   "outputs": [
    {
     "name": "stdout",
     "output_type": "stream",
     "text": [
      "Columns with negative values:\n",
      "[]\n",
      "\n",
      "Number of rows with negative values in each column:\n",
      "Temp_OXid            0\n",
      "ppm                  0\n",
      "Pressure             0\n",
      "Oxid_time            0\n",
      "thickness            0\n",
      "Lot_Num              0\n",
      "Wafer_Num            0\n",
      "resist_target        0\n",
      "N2_HMDS              0\n",
      "pressure_HMDS        0\n",
      "temp_HMDS            0\n",
      "temp_HMDS_bake       0\n",
      "time_HMDS_bake       0\n",
      "spin1                0\n",
      "spin2                0\n",
      "spin3                0\n",
      "photoresist_bake     0\n",
      "temp_softbake        0\n",
      "time_softbake        0\n",
      "Line_CD              0\n",
      "Wavelength           0\n",
      "Resolution           0\n",
      "Energy_Exposure      0\n",
      "Thin F4              0\n",
      "Thin F3              0\n",
      "Thin F2              0\n",
      "Thin F1              0\n",
      "Temp_Etching         0\n",
      "Source_Power         0\n",
      "Selectivity          0\n",
      "Flux60s              0\n",
      "Flux90s              0\n",
      "Flux160s             0\n",
      "Flux480s             0\n",
      "Flux840s             0\n",
      "input_Energy         0\n",
      "Temp_implantation    0\n",
      "Furance_Temp         0\n",
      "RTA_Temp             0\n",
      "Target               0\n",
      "불량_195이상             0\n",
      "dtype: int64\n"
     ]
    }
   ],
   "source": [
    "negative_values = df.select_dtypes(include=['number']).lt(0)\n",
    "\n",
    "# 음수 값을 가진 열 목록 출력\n",
    "columns_with_negative_values = negative_values.any()\n",
    "print(\"Columns with negative values:\")\n",
    "print(columns_with_negative_values[columns_with_negative_values].index.tolist())\n",
    "\n",
    "# 각 열에서 음수 값을 포함한 행 수 출력\n",
    "print(\"\\nNumber of rows with negative values in each column:\")\n",
    "print(negative_values.sum())"
   ]
  },
  {
   "cell_type": "code",
   "execution_count": 14,
   "id": "1937e137-1d36-4427-8869-6b41e31727c3",
   "metadata": {},
   "outputs": [
    {
     "name": "stdout",
     "output_type": "stream",
     "text": [
      "<class 'pandas.core.frame.DataFrame'>\n",
      "Index: 1693 entries, 0 to 1703\n",
      "Data columns (total 57 columns):\n",
      " #   Column               Non-Null Count  Dtype         \n",
      "---  ------               --------------  -----         \n",
      " 0   No_Die               1693 non-null   object        \n",
      " 1   Ox_Chamber           1693 non-null   object        \n",
      " 2   process              1693 non-null   object        \n",
      " 3   type                 1693 non-null   object        \n",
      " 4   Temp_OXid            1693 non-null   float64       \n",
      " 5   Vapor                1693 non-null   object        \n",
      " 6   ppm                  1693 non-null   float64       \n",
      " 7   Pressure             1693 non-null   float64       \n",
      " 8   Oxid_time            1693 non-null   int64         \n",
      " 9   thickness            1693 non-null   float64       \n",
      " 10  Lot_Num              1693 non-null   int64         \n",
      " 11  Wafer_Num            1693 non-null   int64         \n",
      " 12  Datetime             1693 non-null   datetime64[ns]\n",
      " 13  photo_soft_Chamber   1693 non-null   object        \n",
      " 14  process 2            1693 non-null   object        \n",
      " 15  resist_target        1693 non-null   float64       \n",
      " 16  N2_HMDS              1693 non-null   float64       \n",
      " 17  pressure_HMDS        1693 non-null   float64       \n",
      " 18  temp_HMDS            1693 non-null   float64       \n",
      " 19  temp_HMDS_bake       1693 non-null   float64       \n",
      " 20  time_HMDS_bake       1693 non-null   float64       \n",
      " 21  spin1                1693 non-null   float64       \n",
      " 22  spin2                1693 non-null   float64       \n",
      " 23  spin3                1693 non-null   float64       \n",
      " 24  photoresist_bake     1693 non-null   float64       \n",
      " 25  temp_softbake        1693 non-null   float64       \n",
      " 26  time_softbake        1693 non-null   float64       \n",
      " 27  lithography_Chamber  1693 non-null   object        \n",
      " 28  Process 2-1          1693 non-null   object        \n",
      " 29  Line_CD              1693 non-null   float64       \n",
      " 30  UV_type              1693 non-null   object        \n",
      " 31  Wavelength           1693 non-null   int64         \n",
      " 32  Resolution           1693 non-null   float64       \n",
      " 33  Energy_Exposure      1693 non-null   float64       \n",
      " 34  Etching_Chamber      1693 non-null   object        \n",
      " 35  Process 3            1693 non-null   object        \n",
      " 36  Thin F4              1693 non-null   float64       \n",
      " 37  Thin F3              1693 non-null   float64       \n",
      " 38  Thin F2              1693 non-null   float64       \n",
      " 39  Thin F1              1693 non-null   float64       \n",
      " 40  Temp_Etching         1693 non-null   float64       \n",
      " 41  Source_Power         1693 non-null   float64       \n",
      " 42  Selectivity          1693 non-null   float64       \n",
      " 43  Chamber_Num          1693 non-null   object        \n",
      " 44  process4             1693 non-null   object        \n",
      " 45  Flux60s              1693 non-null   float64       \n",
      " 46  Flux90s              1693 non-null   float64       \n",
      " 47  Flux160s             1693 non-null   float64       \n",
      " 48  Flux480s             1693 non-null   float64       \n",
      " 49  Flux840s             1693 non-null   float64       \n",
      " 50  input_Energy         1693 non-null   float64       \n",
      " 51  Temp_implantation    1693 non-null   float64       \n",
      " 52  Furance_Temp         1693 non-null   float64       \n",
      " 53  RTA_Temp             1693 non-null   int64         \n",
      " 54  Target               1693 non-null   float64       \n",
      " 55  path                 1693 non-null   object        \n",
      " 56  불량_195이상             1693 non-null   float64       \n",
      "dtypes: datetime64[ns](1), float64(36), int64(5), object(15)\n",
      "memory usage: 767.1+ KB\n"
     ]
    }
   ],
   "source": [
    "df.info()"
   ]
  },
  {
   "cell_type": "code",
   "execution_count": 15,
   "id": "9eeb44fa-db4b-42bc-af07-fa4c1d5d7f77",
   "metadata": {
    "scrolled": true
   },
   "outputs": [
    {
     "data": {
      "text/plain": [
       "path\n",
       "22222    44\n",
       "13222    43\n",
       "21222    42\n",
       "32222    42\n",
       "23222    42\n",
       "         ..\n",
       "32322     9\n",
       "32233     9\n",
       "32211     9\n",
       "32122     9\n",
       "31211     9\n",
       "Name: count, Length: 81, dtype: int64"
      ]
     },
     "execution_count": 15,
     "metadata": {},
     "output_type": "execute_result"
    }
   ],
   "source": [
    "# pd.set_option('display.max_row', 200)\n",
    "# pd.set_option('display.max_columns', 200)\n",
    "df['path'].value_counts()"
   ]
  },
  {
   "cell_type": "code",
   "execution_count": 16,
   "id": "330145f4-d164-411f-9c7a-182cc98d9ca1",
   "metadata": {},
   "outputs": [],
   "source": [
    "# paths = []\n",
    "\n",
    "# # df['path']의 유일한 값들을 paths 리스트에 추가\n",
    "# for path in df['path'].unique():\n",
    "#     paths.append(str(path))\n",
    "\n",
    "# def calculate_control_limits(data):\n",
    "#     CL = data.mean()\n",
    "#     UCL = CL + 3 * np.sqrt(CL)\n",
    "#     LCL = CL - 3 * np.sqrt(CL)\n",
    "#     return CL, UCL, LCL\n",
    "\n",
    "# # 각 path에 대해 그래프 그리기\n",
    "# for path in paths:\n",
    "#     # 해당 path에 대한 데이터 추출\n",
    "#     filtered_df = df[df['path'] == path]\n",
    "    \n",
    "#     # CL, UCL, LCL 계산\n",
    "#     CL, UCL, LCL = calculate_control_limits(filtered_df['Target'])\n",
    "    \n",
    "#     # 경계선 안에 있는 값의 비율 계산\n",
    "#     inside_limit = filtered_df[(filtered_df['Target'] >= LCL) & (filtered_df['Target'] <= UCL)]\n",
    "#     inside_ratio = len(inside_limit) / len(filtered_df) * 100\n",
    "    \n",
    "#     # 경계선 밖에 있는 값의 비율 계산\n",
    "#     outside_limit = filtered_df[(filtered_df['Target'] < LCL) | (filtered_df['Target'] > UCL)]\n",
    "#     outside_ratio = len(outside_limit) / len(filtered_df) * 100\n",
    "    \n",
    "#     # C 관리도 그리기\n",
    "#     plt.figure(figsize=(10, 6))\n",
    "#     plt.plot(filtered_df['No_Die'], filtered_df['Target'], marker='o', linestyle='-')\n",
    "#     plt.axhline(y=CL, color='b', linestyle='--', label='CL')\n",
    "#     plt.axhline(y=UCL, color='r', linestyle='--', label='UCL')\n",
    "#     plt.axhline(y=LCL, color='g', linestyle='--', label='LCL')\n",
    "    \n",
    "#     # 경계선 안에 있는 값과 밖에 있는 값의 비율 출력\n",
    "#     plt.text(0.05, 0.9, f'Inside Limit: {inside_ratio:.2f}%', transform=plt.gca().transAxes)\n",
    "#     plt.text(0.05, 0.85, f'Outside Limit: {outside_ratio:.2f}%', transform=plt.gca().transAxes)\n",
    "    \n",
    "#     # 그래프 타이틀과 축 라벨 설정\n",
    "#     plt.title(f'C 관리도 (path: {path})')\n",
    "#     plt.xlabel('Target')\n",
    "#     plt.ylabel('No_Die')\n",
    "    \n",
    "#     # 범례 표시\n",
    "#     plt.legend()\n",
    "    \n",
    "#     # 그래프 출력\n",
    "#     plt.show()"
   ]
  },
  {
   "cell_type": "code",
   "execution_count": 17,
   "id": "23958d6a-2182-4250-b13d-3eaef583031f",
   "metadata": {},
   "outputs": [],
   "source": [
    "# inside_ratios = {}\n",
    "# outside_ratios = {}\n",
    "\n",
    "# # 각 path에 대해 경계선 내부 및 외부 비율 계산\n",
    "# for path in paths:\n",
    "#     filtered_df = df[df['path'] == path]\n",
    "#     CL, UCL, LCL = calculate_control_limits(filtered_df['Target'])\n",
    "    \n",
    "#     inside_limit = filtered_df[(filtered_df['Target'] >= LCL) & (filtered_df['Target'] <= UCL)]\n",
    "#     inside_ratio = len(inside_limit) / len(filtered_df) * 100\n",
    "    \n",
    "#     outside_limit = filtered_df[(filtered_df['Target'] < LCL) | (filtered_df['Target'] > UCL)]\n",
    "#     outside_ratio = len(outside_limit) / len(filtered_df) * 100\n",
    "    \n",
    "#     inside_ratios[path] = inside_ratio\n",
    "#     outside_ratios[path] = outside_ratio\n",
    "\n",
    "# # 경계선 내부 비율 상위 5개\n",
    "# top_inside = dict(sorted(inside_ratios.items(), key=lambda item: item[1], reverse=True)[:5])\n",
    "\n",
    "# # 경계선 외부 비율 상위 5개\n",
    "# top_outside = dict(sorted(outside_ratios.items(), key=lambda item: item[1], reverse=True)[:5])\n",
    "\n",
    "# plt.figure(figsize=(5, 4))\n",
    "# sns.barplot(x=list(top_inside.keys()), y=list(top_inside.values()), palette='Blues_d')\n",
    "# plt.title('Top 5 Paths by Inside Limit Ratio')\n",
    "# plt.xlabel('Path')\n",
    "# plt.ylabel('Inside Limit Ratio (%)')\n",
    "# plt.xticks(rotation=45)\n",
    "# plt.grid(axis='y', linestyle='--', alpha=0.7)\n",
    "# plt.tight_layout()\n",
    "# plt.show()\n",
    "\n",
    "# # 경계선 외부 비율 상위 5개를 막대 그래프로 표시\n",
    "# plt.figure(figsize=(5, 4))\n",
    "# sns.barplot(x=list(top_outside.keys()), y=list(top_outside.values()), palette='Reds_d')\n",
    "# plt.title('Top 5 Paths by Outside Limit Ratio')\n",
    "# plt.xlabel('Path')\n",
    "# plt.ylabel('Outside Limit Ratio (%)')\n",
    "# plt.xticks(rotation=45)\n",
    "# plt.grid(axis='y', linestyle='--', alpha=0.7)\n",
    "# plt.tight_layout()\n",
    "# plt.show()"
   ]
  },
  {
   "cell_type": "code",
   "execution_count": 18,
   "id": "5e5487d9-f50e-4441-aed5-b1595a415bcf",
   "metadata": {},
   "outputs": [
    {
     "data": {
      "text/plain": [
       "path\n",
       "22222    44\n",
       "13222    43\n",
       "21222    42\n",
       "32222    42\n",
       "23222    42\n",
       "11222    41\n",
       "31222    35\n",
       "33222    34\n",
       "12222    32\n",
       "12111    30\n",
       "11311    30\n",
       "11133    30\n",
       "13111    29\n",
       "12333    29\n",
       "22111    29\n",
       "21111    29\n",
       "12311    29\n",
       "21311    29\n",
       "11333    29\n",
       "11111    29\n",
       "21133    29\n",
       "13311    28\n",
       "13333    28\n",
       "12133    28\n",
       "21333    28\n",
       "32111    26\n",
       "31311    26\n",
       "31133    26\n",
       "23333    26\n",
       "23111    26\n",
       "33133    26\n",
       "32311    26\n",
       "33311    26\n",
       "23311    26\n",
       "31111    26\n",
       "31333    26\n",
       "32133    26\n",
       "22333    26\n",
       "33111    25\n",
       "33333    25\n",
       "22311    25\n",
       "22133    24\n",
       "13133    22\n",
       "23133    20\n",
       "32333    18\n",
       "12211    12\n",
       "12122    12\n",
       "12233    12\n",
       "12322    12\n",
       "13122    12\n",
       "13211    12\n",
       "13233    12\n",
       "11322    12\n",
       "11233    12\n",
       "11211    12\n",
       "11122    12\n",
       "13322    12\n",
       "22122    12\n",
       "21322    12\n",
       "21122    12\n",
       "21233    12\n",
       "22211    11\n",
       "22233    11\n",
       "21211    11\n",
       "31233     9\n",
       "23233     9\n",
       "22322     9\n",
       "23122     9\n",
       "23211     9\n",
       "23322     9\n",
       "31322     9\n",
       "33322     9\n",
       "33233     9\n",
       "33211     9\n",
       "33122     9\n",
       "31122     9\n",
       "32322     9\n",
       "32233     9\n",
       "32211     9\n",
       "32122     9\n",
       "31211     9\n",
       "Name: count, dtype: int64"
      ]
     },
     "execution_count": 18,
     "metadata": {},
     "output_type": "execute_result"
    }
   ],
   "source": [
    "pd.set_option('display.max_row', 200)\n",
    "df['path'].value_counts()"
   ]
  },
  {
   "cell_type": "code",
   "execution_count": 19,
   "id": "87e32d2a-629d-4f7f-939e-06fdf3354e3f",
   "metadata": {},
   "outputs": [],
   "source": [
    "# high_err_chips = df[(df['path']=='22222')|(df['path']=='13222')|(df['path']=='21222')|(df['path']=='32222')|(df['path']=='23222')]['Target'].sum()\n",
    "# low_err_chips = df[(df['path']=='32333')|(df['path']=='12211')|(df['path']=='12122')|(df['path']=='12233')|(df['path']=='12322')]['Target'].sum()"
   ]
  },
  {
   "cell_type": "code",
   "execution_count": 20,
   "id": "5f0c1791-8e16-444d-95da-17974685e817",
   "metadata": {},
   "outputs": [],
   "source": [
    "high_err_chips = df[(df['path']=='22222')|(df['path']=='21222')|(df['path']=='32222')|(df['path']=='23222')]['Target'].sum()\n",
    "low_err_chips = df[(df['path']=='11122')|(df['path']=='21211')|(df['path']=='22233')|(df['path']=='22211')]['Target'].sum()"
   ]
  },
  {
   "cell_type": "code",
   "execution_count": 21,
   "id": "1c07a41a-5fc9-407f-9ed2-51c289fcdd97",
   "metadata": {},
   "outputs": [
    {
     "name": "stdout",
     "output_type": "stream",
     "text": [
      "18538.0\n",
      "3765.0\n"
     ]
    }
   ],
   "source": [
    "print(high_err_chips)\n",
    "print(low_err_chips)"
   ]
  },
  {
   "cell_type": "code",
   "execution_count": 22,
   "id": "e62ec586-c37c-4a64-871a-02028a37f3a4",
   "metadata": {},
   "outputs": [],
   "source": [
    "top5_counts = df['path'].value_counts().head(5)\n",
    "bottom5_counts = df['path'].value_counts().tail(5)\n",
    "\n",
    "A = pd.DataFrame({'과부하' : [high_err_chips, 2000 * top5_counts.sum() - high_err_chips],\n",
    "                 '저부하' : [low_err_chips, 2000 * bottom5_counts.sum() - low_err_chips]})\n",
    "A.index = ['불량칩수', '양품칩수']"
   ]
  },
  {
   "cell_type": "code",
   "execution_count": 23,
   "id": "0f126a21-256b-417f-adca-68ec9aebf8a4",
   "metadata": {},
   "outputs": [
    {
     "name": "stdout",
     "output_type": "stream",
     "text": [
      "카이제곱 통계량: 5.049140424607866\n",
      "p-value: 0.02463815820127554\n",
      "자유도: 1\n",
      "기대값:\n",
      "               과부하          저부하\n",
      "불량칩수   18412.94186   3890.05814\n",
      "양품칩수  407587.05814  86109.94186\n"
     ]
    }
   ],
   "source": [
    "from scipy.stats import chi2_contingency\n",
    "\n",
    "# A 데이터프레임 생성\n",
    "A = pd.DataFrame({'과부하' : [high_err_chips, 2000 * top5_counts.sum() - high_err_chips],\n",
    "                  '저부하' : [low_err_chips, 2000 * bottom5_counts.sum() - low_err_chips]})\n",
    "A.index = ['불량칩수', '양품칩수']\n",
    "\n",
    "# 카이제곱 검정 수행\n",
    "chi2_stat, p_val, dof, ex = chi2_contingency(A)\n",
    "\n",
    "print(\"카이제곱 통계량:\", chi2_stat)\n",
    "print(\"p-value:\", p_val)\n",
    "print(\"자유도:\", dof)\n",
    "print(\"기대값:\")\n",
    "print(pd.DataFrame(ex, index=A.index, columns=A.columns))"
   ]
  },
  {
   "cell_type": "code",
   "execution_count": 24,
   "id": "61e90960-9284-4da1-98be-5baff04a795e",
   "metadata": {},
   "outputs": [
    {
     "data": {
      "text/html": [
       "<div>\n",
       "<style scoped>\n",
       "    .dataframe tbody tr th:only-of-type {\n",
       "        vertical-align: middle;\n",
       "    }\n",
       "\n",
       "    .dataframe tbody tr th {\n",
       "        vertical-align: top;\n",
       "    }\n",
       "\n",
       "    .dataframe thead th {\n",
       "        text-align: right;\n",
       "    }\n",
       "</style>\n",
       "<table border=\"1\" class=\"dataframe\">\n",
       "  <thead>\n",
       "    <tr style=\"text-align: right;\">\n",
       "      <th></th>\n",
       "      <th>과부하</th>\n",
       "      <th>저부하</th>\n",
       "    </tr>\n",
       "  </thead>\n",
       "  <tbody>\n",
       "    <tr>\n",
       "      <th>불량칩수</th>\n",
       "      <td>18538.0</td>\n",
       "      <td>3765.0</td>\n",
       "    </tr>\n",
       "    <tr>\n",
       "      <th>양품칩수</th>\n",
       "      <td>407462.0</td>\n",
       "      <td>86235.0</td>\n",
       "    </tr>\n",
       "  </tbody>\n",
       "</table>\n",
       "</div>"
      ],
      "text/plain": [
       "           과부하      저부하\n",
       "불량칩수   18538.0   3765.0\n",
       "양품칩수  407462.0  86235.0"
      ]
     },
     "execution_count": 24,
     "metadata": {},
     "output_type": "execute_result"
    }
   ],
   "source": [
    "A"
   ]
  },
  {
   "cell_type": "code",
   "execution_count": 25,
   "id": "4b622343-0ae7-476b-8956-8141de5f6722",
   "metadata": {},
   "outputs": [
    {
     "name": "stdout",
     "output_type": "stream",
     "text": [
      "기대값:\n"
     ]
    },
    {
     "data": {
      "text/html": [
       "<div>\n",
       "<style scoped>\n",
       "    .dataframe tbody tr th:only-of-type {\n",
       "        vertical-align: middle;\n",
       "    }\n",
       "\n",
       "    .dataframe tbody tr th {\n",
       "        vertical-align: top;\n",
       "    }\n",
       "\n",
       "    .dataframe thead th {\n",
       "        text-align: right;\n",
       "    }\n",
       "</style>\n",
       "<table border=\"1\" class=\"dataframe\">\n",
       "  <thead>\n",
       "    <tr style=\"text-align: right;\">\n",
       "      <th></th>\n",
       "      <th>과부하</th>\n",
       "      <th>저부하</th>\n",
       "    </tr>\n",
       "  </thead>\n",
       "  <tbody>\n",
       "    <tr>\n",
       "      <th>불량칩수</th>\n",
       "      <td>18412.94186</td>\n",
       "      <td>3890.05814</td>\n",
       "    </tr>\n",
       "    <tr>\n",
       "      <th>양품칩수</th>\n",
       "      <td>407587.05814</td>\n",
       "      <td>86109.94186</td>\n",
       "    </tr>\n",
       "  </tbody>\n",
       "</table>\n",
       "</div>"
      ],
      "text/plain": [
       "               과부하          저부하\n",
       "불량칩수   18412.94186   3890.05814\n",
       "양품칩수  407587.05814  86109.94186"
      ]
     },
     "execution_count": 25,
     "metadata": {},
     "output_type": "execute_result"
    }
   ],
   "source": [
    "print(\"기대값:\")\n",
    "pd.DataFrame(ex, index=A.index, columns=A.columns)"
   ]
  },
  {
   "cell_type": "code",
   "execution_count": 26,
   "id": "312ff4b2-4f23-4d46-8ad8-10a37fd0251b",
   "metadata": {},
   "outputs": [
    {
     "name": "stdout",
     "output_type": "stream",
     "text": [
      "과부하의 불량칩수 비율: 0.04351643192488263\n",
      "저부하의 불량칩수 비율: 0.041833333333333333\n"
     ]
    }
   ],
   "source": [
    "overload_defective_chips = 18538.0\n",
    "overload_total_chips = 18538.0 + 407462.0\n",
    "\n",
    "underload_defective_chips =3765.0\n",
    "underload_total_chips = 3765.0 + 86235.0\n",
    "\n",
    "# 과부하의 불량칩수 비율 계산\n",
    "overload_defective_ratio = overload_defective_chips / overload_total_chips\n",
    "\n",
    "# 저부하의 불량칩수 비율 계산\n",
    "underload_defective_ratio = underload_defective_chips / underload_total_chips\n",
    "\n",
    "print(\"과부하의 불량칩수 비율:\", overload_defective_ratio)\n",
    "print(\"저부하의 불량칩수 비율:\", underload_defective_ratio)"
   ]
  },
  {
   "cell_type": "code",
   "execution_count": 27,
   "id": "5895d7db-44d5-4931-bd47-757601b9f7db",
   "metadata": {},
   "outputs": [
    {
     "data": {
      "image/png": "[encoded data removed]",
      "text/plain": [
       "<Figure size 640x480 with 1 Axes>"
      ]
     },
     "metadata": {},
     "output_type": "display_data"
    }
   ],
   "source": [
    "categories = ['과부하', '저부하']\n",
    "ratios = [overload_defective_ratio, underload_defective_ratio]\n",
    "\n",
    "colors = ['#FF9999', '#66B2FF']\n",
    "plt.bar(categories, ratios, color=colors)\n",
    "plt.title('과부하와 저부하의 불량칩수 비율')\n",
    "plt.xlabel('상태')\n",
    "plt.ylabel('불량칩수 비율')\n",
    "plt.ylim(0.04, 0.045)  # y축 범위 조정\n",
    "plt.show()"
   ]
  },
  {
   "cell_type": "code",
   "execution_count": 28,
   "id": "40338f84-2a6e-4b7d-a3da-86ec7851c285",
   "metadata": {},
   "outputs": [
    {
     "data": {
      "image/png": "[encoded data removed]",
      "text/plain": [
       "<Figure size 1200x600 with 1 Axes>"
      ]
     },
     "metadata": {},
     "output_type": "display_data"
    }
   ],
   "source": [
    "top_palette = ['#cb181d', '#fb6a4a', '#fcae91', '#fee5d9']\n",
    "bottom_palette =['#08306b', '#08519c', '#3182bd', '#6baed6', '#bdd7e7']\n",
    "\n",
    "plt.figure(figsize=(12, 6))\n",
    "\n",
    "# 상위 4개의 카테고리와 하위 4개의 카테고리를 모두 포함한 그래프\n",
    "top_4_paths = df['path'].value_counts().index[:4]\n",
    "top_paths = df['path'].value_counts()\n",
    "top_paths = top_paths[top_paths >= 10]\n",
    "bottom_paths = ['11122', '21211', '22233', '22211']  # 원하는 순서로 변경한 하위 path\n",
    "filtered_df = df[df['path'].isin(top_4_paths) | df['path'].isin(bottom_paths)]\n",
    "ordered_paths = list(top_4_paths) + ['...'] + bottom_paths  # 내림차순으로 정렬된 카테고리 리스트에 ... 추가\n",
    "sns.countplot(data=filtered_df, x='path', order=ordered_paths, palette=top_palette + bottom_palette)\n",
    "plt.title('부하 상위 4개와 하위 4개')\n",
    "plt.xlabel('Path')\n",
    "plt.ylabel('Count')\n",
    "plt.xticks(rotation=45)  # x축 라벨 회전\n",
    "plt.gca().set_xticks(range(len(ordered_paths)))  # x축 눈금 설정\n",
    "plt.gca().set_xticklabels(ordered_paths)  # x축 눈금 라벨 설정\n",
    "\n",
    "plt.tight_layout()  # 그래프 간 간격 조정\n",
    "plt.show()"
   ]
  },
  {
   "cell_type": "code",
   "execution_count": null,
   "id": "68e861cb-ace6-42be-b522-0ccdb779dbdd",
   "metadata": {},
   "outputs": [],
   "source": []
  }
 ],
 "metadata": {
  "kernelspec": {
   "display_name": "Python 3 (ipykernel)",
   "language": "python",
   "name": "python3"
  },
  "language_info": {
   "codemirror_mode": {
    "name": "ipython",
    "version": 3
   },
   "file_extension": ".py",
   "mimetype": "text/x-python",
   "name": "python",
   "nbconvert_exporter": "python",
   "pygments_lexer": "ipython3",
   "version": "3.11.8"
  }
 },
 "nbformat": 4,
 "nbformat_minor": 5
}
