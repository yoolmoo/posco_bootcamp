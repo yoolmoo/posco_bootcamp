{
 "cells": [
  {
   "cell_type": "code",
   "execution_count": 1,
   "id": "0f31291a-7cd7-4526-a963-7080de7236ce",
   "metadata": {},
   "outputs": [],
   "source": [
    "import pandas as pd\n",
    "import numpy as np\n",
    "import seaborn as sns\n",
    "import matplotlib.pyplot as plt\n",
    "import warnings\n",
    "warnings.filterwarnings('ignore')"
   ]
  },
  {
   "cell_type": "code",
   "execution_count": 2,
   "id": "14ec6b9c-6806-4e9d-b00e-40c6d5446264",
   "metadata": {},
   "outputs": [],
   "source": [
    "import matplotlib\n",
    "import matplotlib.pyplot as plt\n",
    "plt.rcParams['font.family'] = 'NanumGothic'\n",
    "\n",
    "matplotlib.rc(\"axes\", unicode_minus = False)"
   ]
  },
  {
   "cell_type": "code",
   "execution_count": 3,
   "id": "e3790be5-7417-4254-9be6-99b07a380265",
   "metadata": {},
   "outputs": [],
   "source": [
    "df1 = pd.read_csv(\"/home/piai/바탕화면/반도체 공정 프로젝트/B1_반도체/01 Oxidation.csv\")\n",
    "df2 = pd.read_csv(\"/home/piai/바탕화면/반도체 공정 프로젝트/B1_반도체/02 Photo_softbake.csv\")\n",
    "df3 = pd.read_csv(\"/home/piai/바탕화면/반도체 공정 프로젝트/B1_반도체/03 Photo_lithograpy.csv\")\n",
    "df4 = pd.read_csv(\"/home/piai/바탕화면/반도체 공정 프로젝트/B1_반도체/04 Etching.csv\")\n",
    "df5 = pd.read_csv(\"/home/piai/바탕화면/반도체 공정 프로젝트/B1_반도체/05 Ion_Implantation.csv\")\n",
    "df6 = pd.read_csv(\"/home/piai/바탕화면/반도체 공정 프로젝트/B1_반도체/06 Inspect.csv\")"
   ]
  },
  {
   "cell_type": "code",
   "execution_count": 4,
   "id": "cfc8bad3-18cb-43f1-bd1c-7bbfc7163d8b",
   "metadata": {},
   "outputs": [],
   "source": [
    "df = pd.merge(df1, df2, on=['No_Die','Lot_Num', 'Wafer_Num','Datetime'])\n",
    "df = pd.merge(df, df3, on=['No_Die','Lot_Num', 'Wafer_Num','Datetime'])\n",
    "df = pd.merge(df, df4, on=['No_Die','Lot_Num', 'Wafer_Num','Datetime'])\n",
    "df = pd.merge(df, df5, on=['No_Die','Lot_Num', 'Wafer_Num','Datetime'])\n",
    "df = pd.merge(df, df6, on=['No_Die','Lot_Num', 'Wafer_Num','Datetime'])"
   ]
  },
  {
   "cell_type": "code",
   "execution_count": 5,
   "id": "587f2b7b-5130-46f8-b82e-4d22185bb662",
   "metadata": {},
   "outputs": [],
   "source": [
    "df.dropna(subset=\"Thin F2\", inplace=True) # 다른 변수들과의 연관성을 찾지못함, 한 행에 여러 열들 결측값 가짐\n",
    "# pd.set_option('display.max_row', 200)\n",
    "# pd.set_option('display.max_columns', 200)"
   ]
  },
  {
   "cell_type": "code",
   "execution_count": 6,
   "id": "8b1bfdab-68c3-446d-9b13-e85be3c070e4",
   "metadata": {},
   "outputs": [],
   "source": [
    "df['Ox_Chamber'] = df['Ox_Chamber'].astype('str')\n",
    "df['photo_soft_Chamber'] = df['photo_soft_Chamber'].astype('str')\n",
    "df['lithography_Chamber'] = df['lithography_Chamber'].astype('str')\n",
    "df['Etching_Chamber'] = df['Etching_Chamber'].astype('str')\n",
    "df['Chamber_Num'] = df['Chamber_Num'].astype('str')\n",
    "df['path'] = df['Ox_Chamber']+df['photo_soft_Chamber']+df['lithography_Chamber']+df['Etching_Chamber']+df['Chamber_Num']"
   ]
  },
  {
   "cell_type": "code",
   "execution_count": 7,
   "id": "473e2781-842c-490c-ab04-86d823e303ec",
   "metadata": {
    "scrolled": true
   },
   "outputs": [],
   "source": [
    "df.drop(df[df['Oxid_time']<0].index, inplace=True) # 산화시간이 음수\n",
    "df.drop(df[df['Target']==0].index, inplace=True) # target 값이 0\n",
    "df.drop(columns = [\"Wafer_map\",\"Error_message\"],inplace=True) # 웨이퍼맵, 에러메시지"
   ]
  },
  {
   "cell_type": "code",
   "execution_count": 8,
   "id": "1335a37d-5e7f-4308-b788-e3394e9a72cc",
   "metadata": {},
   "outputs": [],
   "source": [
    "# 시간 데이터 datetime 유형으로 변환\n",
    "df['Datetime'] = pd.to_datetime(df['Datetime'], format='%d-%m-%Y')\n",
    "\n",
    "# 195이상 = 불량(1), 195미만 = 양품(0)\n",
    "df.loc[df['Target'] >= 195, '불량_195이상'] =1\n",
    "df.loc[df['Target'] < 195, '불량_195이상'] =0"
   ]
  },
  {
   "cell_type": "code",
   "execution_count": 9,
   "id": "6db7cfb0-e884-47a0-b1e2-b338eb40b7fd",
   "metadata": {},
   "outputs": [],
   "source": [
    "df.loc[df['Thin F4']<0, 'Thin F4']=df['Thin F4'].median()\n",
    "df.loc[df['Flux90s']<0, 'Flux90s']=df['Flux90s'].median()\n",
    "df.loc[df['Flux160s']<0, 'Flux160s']=df['Flux160s'].median()\n",
    "df.loc[df['Flux160s']<5, 'Flux160s']=df['Flux160s'].median()"
   ]
  },
  {
   "cell_type": "code",
   "execution_count": 10,
   "id": "acd283d7-4f43-4240-a57b-b403e041b72b",
   "metadata": {},
   "outputs": [],
   "source": [
    "df['Thin F1'].fillna(df['Thin F1'].median(), inplace=True)\n",
    "df['Thin F3'].fillna(df['Thin F3'].median(), inplace=True)\n",
    "df['Flux60s'].fillna(df['Flux90s'].median(), inplace=True)\n",
    "df['Flux90s'].fillna(df['Flux90s'].median(), inplace=True)\n",
    "df['Flux480s'].fillna(df['Flux90s'].median(), inplace=True)\n",
    "df['Flux840s'].fillna(df['Flux90s'].median(), inplace=True)"
   ]
  },
  {
   "cell_type": "markdown",
   "id": "2cd4b6f3-d202-400e-9d08-81a9885dfa06",
   "metadata": {},
   "source": [
    "### 불필요한 열 제거"
   ]
  },
  {
   "cell_type": "code",
   "execution_count": 11,
   "id": "64a1766d-1b14-42bc-b817-57fe8c553a4b",
   "metadata": {},
   "outputs": [],
   "source": [
    "# 불필요한 열 제거 \n",
    "# df.drop(columns=[\"No_Die\", \"Lot_Num\", \"Wafer_Num\"], inplace=True)\n",
    "df.drop(columns=['Vapor','process','Wavelength'])\n",
    "df.loc[df['Flux840s'] == 8.137500e+16, 'Flux840s'] = df['Flux840s'].mode()[0]\n",
    "df.loc[df['Flux480s'] == 8.137500e+16, 'Flux480s'] = df['Flux480s'].mode()[0]"
   ]
  },
  {
   "cell_type": "code",
   "execution_count": 12,
   "id": "edecc600-f595-458e-b623-d16f3670e486",
   "metadata": {},
   "outputs": [],
   "source": [
    "df_new = df[['Temp_OXid','ppm','Pressure','type','Oxid_time',\n",
    "        'N2_HMDS', 'pressure_HMDS', 'temp_HMDS', 'temp_HMDS_bake',\n",
    "       'time_HMDS_bake', 'spin1', 'spin2', 'spin3', 'photoresist_bake',\n",
    "       'temp_softbake', 'time_softbake', 'UV_type', 'Energy_Exposure',       \n",
    "        'Temp_Etching', 'Source_Power',\n",
    "       'input_Energy', 'Temp_implantation', 'Furance_Temp', 'RTA_Temp',\n",
    "       '불량_195이상', 'path']]"
   ]
  },
  {
   "cell_type": "code",
   "execution_count": 13,
   "id": "32c09858-5c1b-46ad-b4f5-43fe5e7ba974",
   "metadata": {},
   "outputs": [],
   "source": [
    "# 데이터 구성:Series, DataFrame\n",
    "import pandas as pd\n",
    "# 데이터 시각화\n",
    "import matplotlib.pyplot as plt\n",
    "import matplotlib\n",
    "\n",
    "# 데이터 분할:train, test\n",
    "from sklearn.model_selection import train_test_split\n",
    "# 분류 Gradient Boosting\n",
    "from sklearn.ensemble import GradientBoostingClassifier\n",
    "# 최적 모델, 파라미터 탐색\n",
    "from sklearn.model_selection import GridSearchCV\n",
    "\n",
    "# 분류모델 평가 함수\n",
    "from sklearn.metrics import accuracy_score, roc_auc_score, precision_score, recall_score, f1_score\n",
    "from sklearn.metrics import confusion_matrix, classification_report"
   ]
  },
  {
   "cell_type": "code",
   "execution_count": 14,
   "id": "4d4b4fcd",
   "metadata": {},
   "outputs": [
    {
     "name": "stdout",
     "output_type": "stream",
     "text": [
      "분할 전 설명변수 데이터 : (1693, 25)\n",
      "분할 수 설명변수 데이터 : Train (1185, 25)   Test (508, 25)\n"
     ]
    }
   ],
   "source": [
    "from sklearn.preprocessing import LabelEncoder\n",
    "\n",
    "label_encoder = LabelEncoder()\n",
    "\n",
    "for column in df_new.columns:\n",
    "    if df_new[column].dtype == 'object':\n",
    "        df_new[column] = label_encoder.fit_transform(df_new[column])\n",
    "\n",
    "df_raw_x = df_new.drop(\"불량_195이상\", axis = 1, inplace = False)    \n",
    "df_raw_y = df_new[\"불량_195이상\"]\n",
    "\n",
    "df_train_x, df_test_x, df_train_y, df_test_y = train_test_split(\n",
    "    df_raw_x, df_raw_y, test_size = 0.3, random_state = 123, stratify=df_raw_y) \n",
    "\n",
    "print(\"분할 전 설명변수 데이터 :\",df_raw_x.shape)\n",
    "print(\"분할 수 설명변수 데이터 : Train\", df_train_x.shape, \"  Test\",df_test_x.shape)"
   ]
  },
  {
   "cell_type": "code",
   "execution_count": 15,
   "id": "38312783-aaf1-41d2-a0ff-a57d84d996d0",
   "metadata": {},
   "outputs": [],
   "source": [
    "# df_raw_dummy = pd.get_dummies(df_new).astype(int)\n",
    "\n",
    "# df_raw_x = df_raw_dummy.drop(\"불량_195이상\", axis = 1, inplace = False)\n",
    "# df_raw_y = df_raw_dummy[\"불량_195이상\"] \n",
    "\n",
    "# df_train_x, df_test_x, df_train_y, df_test_y = train_test_split(\n",
    "#     df_raw_x, df_raw_y, test_size = 0.3, random_state = 123, stratify=df_raw_y) \n",
    "\n",
    "# print(\"분할 전 설명변수 데이터 :\", df_raw_x.shape)\n",
    "# print(\"분할 후 설명변수 데이터 :Train\", df_train_x.shape, \"  Test\",df_test_x.shape)"
   ]
  },
  {
   "cell_type": "code",
   "execution_count": 16,
   "id": "84cc8d3f-6667-4b4a-a53f-ca495d33a6cf",
   "metadata": {},
   "outputs": [
    {
     "name": "stdout",
     "output_type": "stream",
     "text": [
      "Accuracy on training set: 0.985\n",
      "Accuracy on test set: 0.939\n"
     ]
    }
   ],
   "source": [
    "# 그래디언트 부스팅 모델 생성: GradientBoostingClassifier\n",
    "gb_uncust = GradientBoostingClassifier(random_state=123)\n",
    "gb_uncust.fit(df_train_x, df_train_y)\n",
    "\n",
    "prediction_proba = gb_uncust.predict_proba(df_train_x)  # df_test_x로 변경 가능\n",
    "\n",
    "# 예측 확률을 바탕으로 0.5 임계값을 넘는지 확인하여 최종 예측 결과 생성\n",
    "predictions = (prediction_proba[:, 1] > 0.2).astype(int)\n",
    "\n",
    "# train 모델 정확도\n",
    "print(\"Accuracy on training set: {:.3f}\".format(gb_uncust.score (df_train_x, df_train_y)))\n",
    "# test 모델 정확도\n",
    "print(\"Accuracy on test set: {:.3f}\".format(gb_uncust.score (df_test_x, df_test_y)))"
   ]
  },
  {
   "cell_type": "code",
   "execution_count": 17,
   "id": "080e4650-b3cb-4b1f-850d-c842ce5f7995",
   "metadata": {},
   "outputs": [],
   "source": [
    "# estimator = GradientBoostingClassifier( random_state=1234)\n",
    "# # 구하고자 하는 parameter와 범위\n",
    "# param_grid = {\"learning_rate\": [0.1, 0.3, 0.5, 0.7, 1],\n",
    "#               \"max_depth\": list(range(3,13)),\n",
    "#               \"min_samples_leaf\": [5,10,15,20,25,30],\n",
    "#              'n_estimators' : [100,150,200,250,300]}\n",
    "# # 정확도가 높은 최적 parameter 찾기\n",
    "# grid_gb = GridSearchCV(estimator, param_grid, scoring=\"accuracy\", n_jobs = -1)\n",
    "# grid_gb.fit(df_train_x, df_train_y)\n",
    "# print(\"best estimator model: \\n{}\".format(grid_gb.best_estimator_))\n",
    "# print(\"\\nbest parameter: \\n{}\".format(grid_gb.best_params_))\n",
    "# print(\"\\nbest score: \\n{}\".format(grid_gb.best_score_.round(3)))"
   ]
  },
  {
   "cell_type": "code",
   "execution_count": 18,
   "id": "929910bc",
   "metadata": {},
   "outputs": [
    {
     "name": "stdout",
     "output_type": "stream",
     "text": [
      "Train Accuracy: 1.000\n",
      "Test Accuracy: 0.970\n",
      "\n",
      "Test Confusion matrix: \n",
      "[[466   6]\n",
      " [  7  29]]\n",
      "              precision    recall  f1-score   support\n",
      "\n",
      "         0.0      0.985     0.987     0.986       472\n",
      "         1.0      0.829     0.806     0.817        36\n",
      "\n",
      "    accuracy                          0.974       508\n",
      "   macro avg      0.907     0.896     0.902       508\n",
      "weighted avg      0.974     0.974     0.974       508\n",
      "\n"
     ]
    }
   ],
   "source": [
    "best_grad = GradientBoostingClassifier(learning_rate=0.3, max_depth=9, min_samples_leaf=30, n_estimators=200, random_state=123)\n",
    "\n",
    "best_grad.fit(df_train_x, df_train_y)\n",
    "\n",
    "# 예측 확률을 얻기 위해 predict_proba 메소드 사용\n",
    "y_proba = best_grad.predict_proba(df_test_x)[:, 1]\n",
    "\n",
    "# 0.3 임계값을 사용하여 최종 예측을 결정\n",
    "y_pred = (y_proba > 0.1).astype(int)\n",
    "\n",
    "print(\"Train Accuracy: {:.3f}\".format(best_grad.score(df_train_x, df_train_y)))\n",
    "print(\"Test Accuracy: {:.3f}\\n\".format(best_grad.score(df_test_x, df_test_y)))\n",
    "print(\"Test Confusion matrix: \\n{}\".format(confusion_matrix(df_test_y, y_pred)))\n",
    "print(classification_report(df_test_y, y_pred, digits=3))\n"
   ]
  },
  {
   "cell_type": "code",
   "execution_count": 19,
   "id": "6443a12d-5133-4c3f-9bcc-e1a111d40f48",
   "metadata": {},
   "outputs": [
    {
     "data": {
      "text/html": [
       "<div>\n",
       "<style scoped>\n",
       "    .dataframe tbody tr th:only-of-type {\n",
       "        vertical-align: middle;\n",
       "    }\n",
       "\n",
       "    .dataframe tbody tr th {\n",
       "        vertical-align: top;\n",
       "    }\n",
       "\n",
       "    .dataframe thead th {\n",
       "        text-align: right;\n",
       "    }\n",
       "</style>\n",
       "<table border=\"1\" class=\"dataframe\">\n",
       "  <thead>\n",
       "    <tr style=\"text-align: right;\">\n",
       "      <th></th>\n",
       "      <th>Feature</th>\n",
       "      <th>Importance</th>\n",
       "    </tr>\n",
       "  </thead>\n",
       "  <tbody>\n",
       "    <tr>\n",
       "      <th>18</th>\n",
       "      <td>Temp_Etching</td>\n",
       "      <td>0.101</td>\n",
       "    </tr>\n",
       "    <tr>\n",
       "      <th>2</th>\n",
       "      <td>Pressure</td>\n",
       "      <td>0.085</td>\n",
       "    </tr>\n",
       "    <tr>\n",
       "      <th>4</th>\n",
       "      <td>Oxid_time</td>\n",
       "      <td>0.076</td>\n",
       "    </tr>\n",
       "    <tr>\n",
       "      <th>20</th>\n",
       "      <td>input_Energy</td>\n",
       "      <td>0.074</td>\n",
       "    </tr>\n",
       "    <tr>\n",
       "      <th>12</th>\n",
       "      <td>spin3</td>\n",
       "      <td>0.071</td>\n",
       "    </tr>\n",
       "    <tr>\n",
       "      <th>13</th>\n",
       "      <td>photoresist_bake</td>\n",
       "      <td>0.065</td>\n",
       "    </tr>\n",
       "    <tr>\n",
       "      <th>14</th>\n",
       "      <td>temp_softbake</td>\n",
       "      <td>0.064</td>\n",
       "    </tr>\n",
       "    <tr>\n",
       "      <th>5</th>\n",
       "      <td>N2_HMDS</td>\n",
       "      <td>0.055</td>\n",
       "    </tr>\n",
       "    <tr>\n",
       "      <th>0</th>\n",
       "      <td>Temp_OXid</td>\n",
       "      <td>0.046</td>\n",
       "    </tr>\n",
       "    <tr>\n",
       "      <th>21</th>\n",
       "      <td>Temp_implantation</td>\n",
       "      <td>0.044</td>\n",
       "    </tr>\n",
       "    <tr>\n",
       "      <th>7</th>\n",
       "      <td>temp_HMDS</td>\n",
       "      <td>0.032</td>\n",
       "    </tr>\n",
       "    <tr>\n",
       "      <th>10</th>\n",
       "      <td>spin1</td>\n",
       "      <td>0.032</td>\n",
       "    </tr>\n",
       "    <tr>\n",
       "      <th>1</th>\n",
       "      <td>ppm</td>\n",
       "      <td>0.031</td>\n",
       "    </tr>\n",
       "    <tr>\n",
       "      <th>22</th>\n",
       "      <td>Furance_Temp</td>\n",
       "      <td>0.031</td>\n",
       "    </tr>\n",
       "    <tr>\n",
       "      <th>17</th>\n",
       "      <td>Energy_Exposure</td>\n",
       "      <td>0.028</td>\n",
       "    </tr>\n",
       "    <tr>\n",
       "      <th>15</th>\n",
       "      <td>time_softbake</td>\n",
       "      <td>0.027</td>\n",
       "    </tr>\n",
       "    <tr>\n",
       "      <th>19</th>\n",
       "      <td>Source_Power</td>\n",
       "      <td>0.027</td>\n",
       "    </tr>\n",
       "    <tr>\n",
       "      <th>8</th>\n",
       "      <td>temp_HMDS_bake</td>\n",
       "      <td>0.026</td>\n",
       "    </tr>\n",
       "    <tr>\n",
       "      <th>6</th>\n",
       "      <td>pressure_HMDS</td>\n",
       "      <td>0.023</td>\n",
       "    </tr>\n",
       "    <tr>\n",
       "      <th>24</th>\n",
       "      <td>path</td>\n",
       "      <td>0.016</td>\n",
       "    </tr>\n",
       "    <tr>\n",
       "      <th>11</th>\n",
       "      <td>spin2</td>\n",
       "      <td>0.016</td>\n",
       "    </tr>\n",
       "    <tr>\n",
       "      <th>23</th>\n",
       "      <td>RTA_Temp</td>\n",
       "      <td>0.012</td>\n",
       "    </tr>\n",
       "    <tr>\n",
       "      <th>3</th>\n",
       "      <td>type</td>\n",
       "      <td>0.010</td>\n",
       "    </tr>\n",
       "    <tr>\n",
       "      <th>16</th>\n",
       "      <td>UV_type</td>\n",
       "      <td>0.008</td>\n",
       "    </tr>\n",
       "    <tr>\n",
       "      <th>9</th>\n",
       "      <td>time_HMDS_bake</td>\n",
       "      <td>0.000</td>\n",
       "    </tr>\n",
       "  </tbody>\n",
       "</table>\n",
       "</div>"
      ],
      "text/plain": [
       "              Feature  Importance\n",
       "18       Temp_Etching       0.101\n",
       "2            Pressure       0.085\n",
       "4           Oxid_time       0.076\n",
       "20       input_Energy       0.074\n",
       "12              spin3       0.071\n",
       "13   photoresist_bake       0.065\n",
       "14      temp_softbake       0.064\n",
       "5             N2_HMDS       0.055\n",
       "0           Temp_OXid       0.046\n",
       "21  Temp_implantation       0.044\n",
       "7           temp_HMDS       0.032\n",
       "10              spin1       0.032\n",
       "1                 ppm       0.031\n",
       "22       Furance_Temp       0.031\n",
       "17    Energy_Exposure       0.028\n",
       "15      time_softbake       0.027\n",
       "19       Source_Power       0.027\n",
       "8      temp_HMDS_bake       0.026\n",
       "6       pressure_HMDS       0.023\n",
       "24               path       0.016\n",
       "11              spin2       0.016\n",
       "23           RTA_Temp       0.012\n",
       "3                type       0.010\n",
       "16            UV_type       0.008\n",
       "9      time_HMDS_bake       0.000"
      ]
     },
     "execution_count": 19,
     "metadata": {},
     "output_type": "execute_result"
    }
   ],
   "source": [
    "v_feature_name = df_train_x.columns\n",
    "\n",
    "df_importance = pd.DataFrame()\n",
    "df_importance [\"Feature\"] = v_feature_name\n",
    "df_importance [\"Importance\"] = best_grad.feature_importances_\n",
    "df_importance .sort_values(\"Importance\", ascending=False, inplace = True)\n",
    "df_importance .round(3)"
   ]
  },
  {
   "cell_type": "code",
   "execution_count": 20,
   "id": "d9017416-31ea-4f41-bcfb-c4b594c32554",
   "metadata": {},
   "outputs": [
    {
     "data": {
      "image/png": "[encoded data removed]",
      "text/plain": [
       "<Figure size 640x480 with 1 Axes>"
      ]
     },
     "metadata": {},
     "output_type": "display_data"
    }
   ],
   "source": [
    "df_importance = pd.DataFrame()\n",
    "df_importance[\"Feature\"] = v_feature_name\n",
    "df_importance[\"Importance\"] = best_grad.feature_importances_\n",
    "\n",
    "# df_feature_importance의 테이블을 중요도별로 정렬\n",
    "df_importance.sort_values(\"Importance\", ascending=False, inplace = True)\n",
    "df_importance.sort_values(\"Importance\", ascending=True, inplace = True)\n",
    "coordinates = range(len(df_importance))\n",
    "top_10_importance = df_importance.nlargest(10, \"Importance\")\n",
    "\n",
    "# 시각화\n",
    "coordinates = range(len(top_10_importance))\n",
    "plt.barh(y=coordinates[::-1], width=top_10_importance[\"Importance\"])\n",
    "plt.yticks(coordinates[::-1], top_10_importance[\"Feature\"], fontsize=10)\n",
    "plt.xlabel(\"변수 중요도\")\n",
    "plt.ylabel(\"변수\")\n",
    "plt.title(\"상위 10개 변수 중요도\")\n",
    "plt.show()"
   ]
  },
  {
   "cell_type": "markdown",
   "id": "a219556c-9150-403a-b776-ecd9defe825f",
   "metadata": {},
   "source": [
    "### SMOTE"
   ]
  },
  {
   "cell_type": "code",
   "execution_count": 21,
   "id": "28f5d0b7-2255-48f5-9151-dd187a5b5be2",
   "metadata": {},
   "outputs": [],
   "source": [
    "from imblearn.over_sampling import SMOTE\n",
    "from sklearn.model_selection import train_test_split\n",
    "from sklearn.metrics import classification_report"
   ]
  },
  {
   "cell_type": "code",
   "execution_count": 22,
   "id": "585b41b3-22dd-4095-ae1f-486f14f83bd0",
   "metadata": {},
   "outputs": [
    {
     "name": "stdout",
     "output_type": "stream",
     "text": [
      "              precision    recall  f1-score   support\n",
      "\n",
      "         0.0       0.97      0.96      0.96       472\n",
      "         1.0       0.51      0.56      0.53        36\n",
      "\n",
      "    accuracy                           0.93       508\n",
      "   macro avg       0.74      0.76      0.75       508\n",
      "weighted avg       0.93      0.93      0.93       508\n",
      "\n"
     ]
    }
   ],
   "source": [
    "smote = SMOTE(random_state=42)\n",
    "X_resampled, y_resampled = smote.fit_resample(df_train_x, df_train_y)\n",
    "gb_clf = GradientBoostingClassifier(random_state=42)\n",
    "gb_clf.fit(X_resampled, y_resampled)\n",
    "\n",
    "y_pred = gb_clf.predict(df_test_x)\n",
    "print(classification_report(df_test_y, y_pred))"
   ]
  },
  {
   "cell_type": "code",
   "execution_count": 23,
   "id": "8b158638-9804-4dad-a1dd-688d8c508fb6",
   "metadata": {},
   "outputs": [],
   "source": [
    "# estimator = GradientBoostingClassifier( random_state=1234)\n",
    "# # 구하고자 하는 parameter와 범위\n",
    "# param_grid = {\"learning_rate\": [0.1, 0.3, 0.5, 0.7, 1],\n",
    "#               \"max_depth\": list(range(3,13)),\n",
    "#               \"min_samples_leaf\": [5,10,15,20,25,30],\n",
    "#              'n_estimators' : [100,150,200,250,300]}\n",
    "# # 정확도가 높은 최적 parameter 찾기\n",
    "# grid_gb = GridSearchCV(estimator, param_grid, scoring=\"accuracy\", n_jobs = -1)\n",
    "# grid_gb.fit(X_resampled, y_resampled)\n",
    "# print(\"best estimator model: \\n{}\".format(grid_gb.best_estimator_))\n",
    "# print(\"\\nbest parameter: \\n{}\".format(grid_gb.best_params_))\n",
    "# print(\"\\nbest score: \\n{}\".format(grid_gb.best_score_.round(3)))"
   ]
  },
  {
   "cell_type": "code",
   "execution_count": 24,
   "id": "7dacf7ce-45a4-421f-b57e-578b8711cde0",
   "metadata": {},
   "outputs": [
    {
     "name": "stdout",
     "output_type": "stream",
     "text": [
      "Confusion matrix: \n",
      "[[467   5]\n",
      " [ 10  26]]\n",
      "              precision    recall  f1-score   support\n",
      "\n",
      "         0.0       0.98      0.99      0.98       472\n",
      "         1.0       0.84      0.72      0.78        36\n",
      "\n",
      "    accuracy                           0.97       508\n",
      "   macro avg       0.91      0.86      0.88       508\n",
      "weighted avg       0.97      0.97      0.97       508\n",
      "\n"
     ]
    }
   ],
   "source": [
    "best_grad= GradientBoostingClassifier(learning_rate=0.3, max_depth=9, min_samples_leaf=30, n_estimators=200,\n",
    "                           random_state=123)\n",
    "best_grad.fit(X_resampled, y_resampled)\n",
    "\n",
    "y_pred = best_grad.predict(df_test_x)\n",
    "print(\"Confusion matrix: \\n{}\".format(confusion_matrix(df_test_y, y_pred)))\n",
    "print(classification_report(df_test_y, y_pred))"
   ]
  },
  {
   "cell_type": "code",
   "execution_count": null,
   "id": "dd2327ff-e48c-4242-b28a-2534f415423e",
   "metadata": {},
   "outputs": [],
   "source": []
  },
  {
   "cell_type": "code",
   "execution_count": 40,
   "id": "7ebe8d94",
   "metadata": {},
   "outputs": [],
   "source": [
    "df_raw_x['Pressure'] = np.random.uniform(0.18, 0.192+0.003482*1000, size=len(df))\n",
    "df_raw_x['Temp_OXid'] = np.random.uniform(1294.578413-15.574712*1000, 1348.471208, size=len(df))\n",
    "df_raw_x['temp_softbake'] = np.random.uniform(95.281-0.392641*1000, 96.653, size=len(df))\n",
    "df_raw_x['photoresist_bake'] = np.random.uniform(5.135-0.030536*1000, 5.239, size=len(df))\n",
    "df_raw_x['Temp_Etching'] = np.random.uniform(68.150, 68.920+0.223740*1000, size=len(df))\n",
    "df_raw_x['Temp_implantation'] = np.random.uniform(97.744, 100.253+0.713040*1000, size=len(df))\n",
    "df_raw_x['spin1'] = np.random.uniform(492.2, 494+0.513626*1000, size=len(df))\n",
    "df_raw_x['spin3'] = np.random.uniform(5172.1-6.260140*1000, 5194.134, size=len(df))\n",
    "df_raw_x['Source_Power'] = np.random.uniform(49.342, 49.979+0.180593*1000, size=len(df))\n",
    "df_raw_x['temp_HMDS_bake'] = np.random.uniform(205.3-1.200229*1000, 209.5, size=len(df))\n",
    "df_raw_x['ppm'] = np.random.uniform(45.89-1.164920*1000, 49.91, size=len(df))\n",
    "df_raw_x['RTA_Temp'] = np.random.uniform(148, 149+0.293984*1000, size=len(df))"
   ]
  },
  {
   "cell_type": "code",
   "execution_count": 41,
   "id": "005c4031",
   "metadata": {},
   "outputs": [],
   "source": [
    "# df_raw_x['Pressure'] = np.random.uniform(0.18, 0.192+0.003482*10, size=len(df))\n",
    "# df_raw_x['Temp_OXid'] = np.random.uniform(1294.578413-15.574712*10, 1348.471208, size=len(df))\n",
    "# df_raw_x['temp_softbake'] = np.random.uniform(95.281-0.392641*10, 96.653, size=len(df))\n",
    "# df_raw_x['photoresist_bake'] = np.random.uniform(5.135-0.030536*10, 5.239, size=len(df))\n",
    "# df_raw_x['Temp_Etching'] = np.random.uniform(68.150, 68.920+0.223740*10, size=len(df))\n",
    "# df_raw_x['Temp_implantation'] = np.random.uniform(97.744, 100.253+0.713040*10, size=len(df))\n",
    "# df_raw_x['spin1'] = np.random.uniform(492.2, 494+0.513626*10, size=len(df))\n",
    "# df_raw_x['spin3'] = np.random.uniform(5172.1-6.260140*10, 5194.134, size=len(df))\n",
    "# df_raw_x['Source_Power'] = np.random.uniform(49.342, 49.979+0.180593*10, size=len(df))\n",
    "# df_raw_x['temp_HMDS_bake'] = np.random.uniform(205.3-1.200229*10, 209.5, size=len(df))\n",
    "# df_raw_x['ppm'] = np.random.uniform(45.89-1.164920*10, 49.91, size=len(df))\n",
    "# df_raw_x['RTA_Temp'] = np.random.uniform(148, 149+0.293984*10, size=len(df))"
   ]
  },
  {
   "cell_type": "code",
   "execution_count": 42,
   "id": "a6e5f1ba",
   "metadata": {},
   "outputs": [],
   "source": [
    "# df_raw_x['Pressure'] = np.random.uniform(0.18, 0.192, size=len(df))\n",
    "# df_raw_x['Temp_OXid'] = np.random.uniform(1294.578413, 1348.471208, size=len(df))\n",
    "# df_raw_x['temp_softbake'] = np.random.uniform(95.281, 96.653, size=len(df))\n",
    "# df_raw_x['photoresist_bake'] = np.random.uniform(5.135, 5.239, size=len(df))\n",
    "# # df_raw_x['Temp_Etching'] = np.random.uniform(68.150, 68.920, size=len(df))\n",
    "# # df_raw_x['Temp_implantation'] = np.random.uniform(97.744, 100.253, size=len(df))\n",
    "# # df_raw_x['spin1'] = np.random.uniform(492.2, 494, size=len(df))\n",
    "# # df_raw_x['spin3'] = np.random.uniform(5172.1, 5194.134, size=len(df))\n",
    "# # df_raw_x['Source_Power'] = np.random.uniform(49.342, 49.979, size=len(df))\n",
    "# # df_raw_x['temp_HMDS_bake'] = np.random.uniform(205.3, 209.5, size=len(df))\n",
    "# # df_raw_x['ppm'] = np.random.uniform(45.89, 49.91, size=len(df))\n",
    "# # df_raw_x['RTA_Temp'] = np.random.uniform(148, 149, size=len(df))"
   ]
  },
  {
   "cell_type": "code",
   "execution_count": 43,
   "id": "11bc46bb",
   "metadata": {},
   "outputs": [
    {
     "name": "stdout",
     "output_type": "stream",
     "text": [
      "[0. 0. 0. ... 0. 0. 0.]\n"
     ]
    }
   ],
   "source": [
    "best_grad = GradientBoostingClassifier(learning_rate=0.3, max_depth=9, min_samples_leaf=30, n_estimators=200, random_state=123)\n",
    "\n",
    "best_grad.fit(df_train_x, df_train_y)\n",
    "\n",
    "\n",
    "y_pred = best_grad.predict(df_raw_x)\n",
    "print(y_pred)"
   ]
  },
  {
   "cell_type": "code",
   "execution_count": 44,
   "id": "a8de0bd5",
   "metadata": {},
   "outputs": [
    {
     "name": "stdout",
     "output_type": "stream",
     "text": [
      "Number of 0's: 1592\n",
      "Number of 1's: 101\n"
     ]
    }
   ],
   "source": [
    "# y_pred에서 0의 개수\n",
    "num_zeros = np.sum(y_pred == 0)\n",
    "\n",
    "# y_pred에서 1의 개수\n",
    "num_ones = np.sum(y_pred == 1)\n",
    "\n",
    "print(f\"Number of 0's: {num_zeros}\")\n",
    "print(f\"Number of 1's: {num_ones}\")\n"
   ]
  },
  {
   "cell_type": "code",
   "execution_count": 30,
   "id": "aa2e4844",
   "metadata": {
    "scrolled": true
   },
   "outputs": [
    {
     "data": {
      "text/html": [
       "<div>\n",
       "<style scoped>\n",
       "    .dataframe tbody tr th:only-of-type {\n",
       "        vertical-align: middle;\n",
       "    }\n",
       "\n",
       "    .dataframe tbody tr th {\n",
       "        vertical-align: top;\n",
       "    }\n",
       "\n",
       "    .dataframe thead th {\n",
       "        text-align: right;\n",
       "    }\n",
       "</style>\n",
       "<table border=\"1\" class=\"dataframe\">\n",
       "  <thead>\n",
       "    <tr style=\"text-align: right;\">\n",
       "      <th></th>\n",
       "      <th>Pressure</th>\n",
       "      <th>Temp_OXid</th>\n",
       "      <th>temp_softbake</th>\n",
       "      <th>photoresist_bake</th>\n",
       "      <th>Temp_Etching</th>\n",
       "      <th>Temp_implantation</th>\n",
       "      <th>spin1</th>\n",
       "      <th>spin3</th>\n",
       "      <th>Source_Power</th>\n",
       "      <th>temp_HMDS_bake</th>\n",
       "      <th>ppm</th>\n",
       "      <th>RTA_Temp</th>\n",
       "    </tr>\n",
       "  </thead>\n",
       "  <tbody>\n",
       "    <tr>\n",
       "      <th>count</th>\n",
       "      <td>1693.000000</td>\n",
       "      <td>1693.000000</td>\n",
       "      <td>1693.000000</td>\n",
       "      <td>1693.000000</td>\n",
       "      <td>1693.000000</td>\n",
       "      <td>1693.000000</td>\n",
       "      <td>1693.000000</td>\n",
       "      <td>1693.000000</td>\n",
       "      <td>1693.000000</td>\n",
       "      <td>1693.000000</td>\n",
       "      <td>1693.000000</td>\n",
       "      <td>1693.000000</td>\n",
       "    </tr>\n",
       "    <tr>\n",
       "      <th>mean</th>\n",
       "      <td>0.203752</td>\n",
       "      <td>1243.468879</td>\n",
       "      <td>93.988455</td>\n",
       "      <td>5.036087</td>\n",
       "      <td>71.154075</td>\n",
       "      <td>103.163752</td>\n",
       "      <td>500.815121</td>\n",
       "      <td>5019.106823</td>\n",
       "      <td>51.241203</td>\n",
       "      <td>200.534802</td>\n",
       "      <td>33.389557</td>\n",
       "      <td>154.700532</td>\n",
       "    </tr>\n",
       "    <tr>\n",
       "      <th>std</th>\n",
       "      <td>0.013509</td>\n",
       "      <td>60.598882</td>\n",
       "      <td>1.561482</td>\n",
       "      <td>0.118555</td>\n",
       "      <td>0.792881</td>\n",
       "      <td>1.652589</td>\n",
       "      <td>3.001083</td>\n",
       "      <td>68.803928</td>\n",
       "      <td>0.639700</td>\n",
       "      <td>2.874814</td>\n",
       "      <td>8.076413</td>\n",
       "      <td>2.404828</td>\n",
       "    </tr>\n",
       "    <tr>\n",
       "      <th>min</th>\n",
       "      <td>0.180012</td>\n",
       "      <td>1138.975081</td>\n",
       "      <td>91.355051</td>\n",
       "      <td>4.830025</td>\n",
       "      <td>68.150000</td>\n",
       "      <td>97.744000</td>\n",
       "      <td>492.196000</td>\n",
       "      <td>4814.620000</td>\n",
       "      <td>49.342000</td>\n",
       "      <td>191.209000</td>\n",
       "      <td>21.070000</td>\n",
       "      <td>148.000000</td>\n",
       "    </tr>\n",
       "    <tr>\n",
       "      <th>25%</th>\n",
       "      <td>0.191872</td>\n",
       "      <td>1190.232601</td>\n",
       "      <td>92.649200</td>\n",
       "      <td>4.931953</td>\n",
       "      <td>70.754000</td>\n",
       "      <td>102.064000</td>\n",
       "      <td>498.878000</td>\n",
       "      <td>4970.858000</td>\n",
       "      <td>50.806000</td>\n",
       "      <td>198.351000</td>\n",
       "      <td>26.060000</td>\n",
       "      <td>153.000000</td>\n",
       "    </tr>\n",
       "    <tr>\n",
       "      <th>50%</th>\n",
       "      <td>0.204147</td>\n",
       "      <td>1243.790503</td>\n",
       "      <td>93.911188</td>\n",
       "      <td>5.035994</td>\n",
       "      <td>71.211000</td>\n",
       "      <td>103.298000</td>\n",
       "      <td>501.048000</td>\n",
       "      <td>5020.190000</td>\n",
       "      <td>51.247000</td>\n",
       "      <td>200.542000</td>\n",
       "      <td>33.590000</td>\n",
       "      <td>155.000000</td>\n",
       "    </tr>\n",
       "    <tr>\n",
       "      <th>75%</th>\n",
       "      <td>0.215673</td>\n",
       "      <td>1297.119713</td>\n",
       "      <td>95.410158</td>\n",
       "      <td>5.139482</td>\n",
       "      <td>71.615000</td>\n",
       "      <td>104.322000</td>\n",
       "      <td>503.123000</td>\n",
       "      <td>5072.106000</td>\n",
       "      <td>51.699000</td>\n",
       "      <td>202.786000</td>\n",
       "      <td>39.510000</td>\n",
       "      <td>156.000000</td>\n",
       "    </tr>\n",
       "    <tr>\n",
       "      <th>max</th>\n",
       "      <td>0.226813</td>\n",
       "      <td>1348.381307</td>\n",
       "      <td>96.652671</td>\n",
       "      <td>5.238960</td>\n",
       "      <td>73.081000</td>\n",
       "      <td>107.376000</td>\n",
       "      <td>509.055000</td>\n",
       "      <td>5194.134000</td>\n",
       "      <td>53.272000</td>\n",
       "      <td>209.521000</td>\n",
       "      <td>49.910000</td>\n",
       "      <td>162.000000</td>\n",
       "    </tr>\n",
       "  </tbody>\n",
       "</table>\n",
       "</div>"
      ],
      "text/plain": [
       "          Pressure    Temp_OXid  temp_softbake  photoresist_bake  \\\n",
       "count  1693.000000  1693.000000    1693.000000       1693.000000   \n",
       "mean      0.203752  1243.468879      93.988455          5.036087   \n",
       "std       0.013509    60.598882       1.561482          0.118555   \n",
       "min       0.180012  1138.975081      91.355051          4.830025   \n",
       "25%       0.191872  1190.232601      92.649200          4.931953   \n",
       "50%       0.204147  1243.790503      93.911188          5.035994   \n",
       "75%       0.215673  1297.119713      95.410158          5.139482   \n",
       "max       0.226813  1348.381307      96.652671          5.238960   \n",
       "\n",
       "       Temp_Etching  Temp_implantation        spin1        spin3  \\\n",
       "count   1693.000000        1693.000000  1693.000000  1693.000000   \n",
       "mean      71.154075         103.163752   500.815121  5019.106823   \n",
       "std        0.792881           1.652589     3.001083    68.803928   \n",
       "min       68.150000          97.744000   492.196000  4814.620000   \n",
       "25%       70.754000         102.064000   498.878000  4970.858000   \n",
       "50%       71.211000         103.298000   501.048000  5020.190000   \n",
       "75%       71.615000         104.322000   503.123000  5072.106000   \n",
       "max       73.081000         107.376000   509.055000  5194.134000   \n",
       "\n",
       "       Source_Power  temp_HMDS_bake          ppm     RTA_Temp  \n",
       "count   1693.000000     1693.000000  1693.000000  1693.000000  \n",
       "mean      51.241203      200.534802    33.389557   154.700532  \n",
       "std        0.639700        2.874814     8.076413     2.404828  \n",
       "min       49.342000      191.209000    21.070000   148.000000  \n",
       "25%       50.806000      198.351000    26.060000   153.000000  \n",
       "50%       51.247000      200.542000    33.590000   155.000000  \n",
       "75%       51.699000      202.786000    39.510000   156.000000  \n",
       "max       53.272000      209.521000    49.910000   162.000000  "
      ]
     },
     "execution_count": 30,
     "metadata": {},
     "output_type": "execute_result"
    }
   ],
   "source": [
    "df_raw_x[['Pressure', 'Temp_OXid', 'temp_softbake', 'photoresist_bake', 'Temp_Etching',\n",
    "           'Temp_implantation', 'spin1', 'spin3', 'Source_Power', 'temp_HMDS_bake', 'ppm', 'RTA_Temp']].describe()"
   ]
  },
  {
   "cell_type": "code",
   "execution_count": null,
   "id": "de97dd41",
   "metadata": {},
   "outputs": [],
   "source": []
  },
  {
   "cell_type": "code",
   "execution_count": 31,
   "id": "b5dceb65",
   "metadata": {},
   "outputs": [],
   "source": [
    "# df_raw_x['Pressure'] = np.random.uniform(0.18, 0.192+0.003482*10, size=len(df))\n",
    "# df_raw_x['Temp_OXid'] = np.random.uniform(1294.578413-15.574712*10, 1348.471208, size=len(df))\n",
    "# df_raw_x['temp_softbake'] = np.random.uniform(95.281-0.392641*10, 96.653, size=len(df))\n",
    "# df_raw_x['photoresist_bake'] = np.random.uniform(5.135-0.030536*10, 5.239, size=len(df))\n",
    "# df_raw_x['Temp_Etching'] = np.random.uniform(68.150, 68.920+0.223740*10, size=len(df))\n",
    "# df_raw_x['Temp_implantation'] = np.random.uniform(97.744, 100.253+0.713040*10, size=len(df))\n",
    "# df_raw_x['spin1'] = np.random.uniform(492.2, 494+0.513626*10, size=len(df))\n",
    "# df_raw_x['spin3'] = np.random.uniform(5172.1-6.260140*10, 5194.134, size=len(df))\n",
    "# df_raw_x['Source_Power'] = np.random.uniform(49.342, 49.979+0.180593*10, size=len(df))\n",
    "# df_raw_x['temp_HMDS_bake'] = np.random.uniform(205.3-1.200229*10, 209.5, size=len(df))\n",
    "# df_raw_x['ppm'] = np.random.uniform(45.89-1.164920*10, 49.91, size=len(df))\n",
    "# df_raw_x['RTA_Temp'] = np.random.uniform(148, 149+0.293984*10, size=len(df))"
   ]
  },
  {
   "cell_type": "code",
   "execution_count": 32,
   "id": "37ecd8c7",
   "metadata": {},
   "outputs": [],
   "source": [
    "# df_raw_x['Pressure'] = np.random.uniform(0.18, 0.192+0.003482*10, size=len(df))\n",
    "# df_raw_x['Temp_OXid'] = np.random.uniform(1294.578413-15.574712*10, 1348.471208, size=len(df))\n",
    "# df_raw_x['temp_softbake'] = np.random.uniform(95.281-0.392641*10, 96.653, size=len(df))\n",
    "# df_raw_x['photoresist_bake'] = np.random.uniform(5.135-0.030536*10, 5.239, size=len(df))\n",
    "# # df_raw_x['Temp_Etching'] = np.random.uniform(68.150, 68.920+0.223740*10, size=len(df))\n",
    "# # df_raw_x['Temp_implantation'] = np.random.uniform(97.744, 100.253+0.713040*10, size=len(df))\n",
    "# # df_raw_x['spin1'] = np.random.uniform(492.2, 494+0.513626*10, size=len(df))\n",
    "# # df_raw_x['spin3'] = np.random.uniform(5172.1-6.260140*10, 5194.134, size=len(df))\n",
    "# # df_raw_x['Source_Power'] = np.random.uniform(49.342, 49.979+0.180593*10, size=len(df))\n",
    "# # df_raw_x['temp_HMDS_bake'] = np.random.uniform(205.3-1.200229*10, 209.5, size=len(df))\n",
    "# # df_raw_x['ppm'] = np.random.uniform(45.89-1.164920*10, 49.91, size=len(df))\n",
    "# # df_raw_x['RTA_Temp'] = np.random.uniform(148, 149+0.293984*10, size=len(df))"
   ]
  },
  {
   "cell_type": "code",
   "execution_count": 33,
   "id": "74571c20",
   "metadata": {},
   "outputs": [],
   "source": [
    "# best_grad = GradientBoostingClassifier(learning_rate=0.3, max_depth=9, min_samples_leaf=30, n_estimators=200, random_state=123)\n",
    "\n",
    "# best_grad.fit(df_train_x, df_train_y)\n",
    "\n",
    "\n",
    "# y_pred = best_grad.predict(df_raw_x)\n",
    "# print(y_pred)"
   ]
  },
  {
   "cell_type": "code",
   "execution_count": 34,
   "id": "de37bf07",
   "metadata": {},
   "outputs": [],
   "source": [
    "# # y_pred에서 0의 개수\n",
    "# num_zeros = np.sum(y_pred == 0)\n",
    "\n",
    "# # y_pred에서 1의 개수\n",
    "# num_ones = np.sum(y_pred == 1)\n",
    "\n",
    "# print(f\"Number of 0's: {num_zeros}\")\n",
    "# print(f\"Number of 1's: {num_ones}\")"
   ]
  },
  {
   "cell_type": "code",
   "execution_count": null,
   "id": "82ddc598",
   "metadata": {},
   "outputs": [],
   "source": []
  }
 ],
 "metadata": {
  "kernelspec": {
   "display_name": "Python 3 (ipykernel)",
   "language": "python",
   "name": "python3"
  },
  "language_info": {
   "codemirror_mode": {
    "name": "ipython",
    "version": 3
   },
   "file_extension": ".py",
   "mimetype": "text/x-python",
   "name": "python",
   "nbconvert_exporter": "python",
   "pygments_lexer": "ipython3",
   "version": "3.10.9"
  }
 },
 "nbformat": 4,
 "nbformat_minor": 5
}
