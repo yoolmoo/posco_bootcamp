{
 "cells": [
  {
   "cell_type": "code",
   "execution_count": 2,
   "id": "0f31291a-7cd7-4526-a963-7080de7236ce",
   "metadata": {},
   "outputs": [],
   "source": [
    "import pandas as pd\n",
    "import numpy as np\n",
    "import seaborn as sns\n",
    "import matplotlib.pyplot as plt\n",
    "import warnings\n",
    "warnings.filterwarnings('ignore')"
   ]
  },
  {
   "cell_type": "code",
   "execution_count": 3,
   "id": "14ec6b9c-6806-4e9d-b00e-40c6d5446264",
   "metadata": {},
   "outputs": [],
   "source": [
    "import matplotlib\n",
    "import matplotlib.pyplot as plt\n",
    "plt.rcParams['font.family'] = 'NanumGothic'\n",
    "\n",
    "matplotlib.rc(\"axes\", unicode_minus = False)"
   ]
  },
  {
   "cell_type": "code",
   "execution_count": 4,
   "id": "e3790be5-7417-4254-9be6-99b07a380265",
   "metadata": {},
   "outputs": [],
   "source": [
    "df1 = pd.read_csv(\"01 Oxidation.csv\")\n",
    "df2 = pd.read_csv(\"02 Photo_softbake.csv\")\n",
    "df3 = pd.read_csv(\"03 Photo_lithograpy.csv\")\n",
    "df4 = pd.read_csv(\"04 Etching.csv\")\n",
    "df5 = pd.read_csv(\"05 Ion_Implantation.csv\")\n",
    "df6 = pd.read_csv(\"06 Inspect.csv\")"
   ]
  },
  {
   "cell_type": "code",
   "execution_count": 5,
   "id": "cfc8bad3-18cb-43f1-bd1c-7bbfc7163d8b",
   "metadata": {},
   "outputs": [],
   "source": [
    "df = pd.merge(df1, df2, on=['No_Die','Lot_Num', 'Wafer_Num','Datetime'])\n",
    "df = pd.merge(df, df3, on=['No_Die','Lot_Num', 'Wafer_Num','Datetime'])\n",
    "df = pd.merge(df, df4, on=['No_Die','Lot_Num', 'Wafer_Num','Datetime'])\n",
    "df = pd.merge(df, df5, on=['No_Die','Lot_Num', 'Wafer_Num','Datetime'])\n",
    "df = pd.merge(df, df6, on=['No_Die','Lot_Num', 'Wafer_Num','Datetime'])"
   ]
  },
  {
   "cell_type": "code",
   "execution_count": 6,
   "id": "587f2b7b-5130-46f8-b82e-4d22185bb662",
   "metadata": {},
   "outputs": [],
   "source": [
    "df.dropna(subset=\"Thin F2\", inplace=True) # 다른 변수들과의 연관성을 찾지못함, 한 행에 여러 열들 결측값 가짐\n",
    "# pd.set_option('display.max_row', 200)\n",
    "# pd.set_option('display.max_columns', 200)"
   ]
  },
  {
   "cell_type": "code",
   "execution_count": 7,
   "id": "8b1bfdab-68c3-446d-9b13-e85be3c070e4",
   "metadata": {},
   "outputs": [],
   "source": [
    "df['Ox_Chamber'] = df['Ox_Chamber'].astype('str')\n",
    "df['photo_soft_Chamber'] = df['photo_soft_Chamber'].astype('str')\n",
    "df['lithography_Chamber'] = df['lithography_Chamber'].astype('str')\n",
    "df['Etching_Chamber'] = df['Etching_Chamber'].astype('str')\n",
    "df['Chamber_Num'] = df['Chamber_Num'].astype('str')\n",
    "df['path'] = df['Ox_Chamber']+df['photo_soft_Chamber']+df['lithography_Chamber']+df['Etching_Chamber']+df['Chamber_Num']"
   ]
  },
  {
   "cell_type": "code",
   "execution_count": 8,
   "id": "473e2781-842c-490c-ab04-86d823e303ec",
   "metadata": {
    "scrolled": true
   },
   "outputs": [],
   "source": [
    "df.drop(df[df['Oxid_time']<0].index, inplace=True) # 산화시간이 음수\n",
    "df.drop(df[df['Target']==0].index, inplace=True) # target 값이 0\n",
    "df.drop(columns = [\"Wafer_map\",\"Error_message\"],inplace=True) # 웨이퍼맵, 에러메시지"
   ]
  },
  {
   "cell_type": "code",
   "execution_count": 9,
   "id": "1335a37d-5e7f-4308-b788-e3394e9a72cc",
   "metadata": {},
   "outputs": [],
   "source": [
    "# 시간 데이터 datetime 유형으로 변환\n",
    "df['Datetime'] = pd.to_datetime(df['Datetime'], format='%d-%m-%Y')\n",
    "\n",
    "# 195이상 = 불량(1), 195미만 = 양품(0)\n",
    "df.loc[df['Target'] >= 195, '불량_195이상'] =1\n",
    "df.loc[df['Target'] < 195, '불량_195이상'] =0"
   ]
  },
  {
   "cell_type": "code",
   "execution_count": 10,
   "id": "6db7cfb0-e884-47a0-b1e2-b338eb40b7fd",
   "metadata": {},
   "outputs": [],
   "source": [
    "df.loc[df['Thin F4']<0, 'Thin F4']=df['Thin F4'].median()\n",
    "df.loc[df['Flux90s']<0, 'Flux90s']=df['Flux90s'].median()\n",
    "df.loc[df['Flux160s']<0, 'Flux160s']=df['Flux160s'].median()\n",
    "df.loc[df['Flux160s']<5, 'Flux160s']=df['Flux160s'].median()"
   ]
  },
  {
   "cell_type": "code",
   "execution_count": 11,
   "id": "acd283d7-4f43-4240-a57b-b403e041b72b",
   "metadata": {},
   "outputs": [],
   "source": [
    "df['Thin F1'].fillna(df['Thin F1'].median(), inplace=True)\n",
    "df['Thin F3'].fillna(df['Thin F3'].median(), inplace=True)\n",
    "df['Flux60s'].fillna(df['Flux90s'].median(), inplace=True)\n",
    "df['Flux90s'].fillna(df['Flux90s'].median(), inplace=True)\n",
    "df['Flux480s'].fillna(df['Flux90s'].median(), inplace=True)\n",
    "df['Flux840s'].fillna(df['Flux90s'].median(), inplace=True)"
   ]
  },
  {
   "cell_type": "markdown",
   "id": "2cd4b6f3-d202-400e-9d08-81a9885dfa06",
   "metadata": {},
   "source": [
    "### 불필요한 열 제거"
   ]
  },
  {
   "cell_type": "code",
   "execution_count": 12,
   "id": "64a1766d-1b14-42bc-b817-57fe8c553a4b",
   "metadata": {},
   "outputs": [],
   "source": [
    "# 불필요한 열 제거 \n",
    "# df.drop(columns=[\"No_Die\", \"Lot_Num\", \"Wafer_Num\"], inplace=True)\n",
    "df.drop(columns=['Vapor','process','Wavelength'])\n",
    "df.loc[df['Flux840s'] == 8.137500e+16, 'Flux840s'] = df['Flux840s'].mode()[0]\n",
    "df.loc[df['Flux480s'] == 8.137500e+16, 'Flux480s'] = df['Flux480s'].mode()[0]"
   ]
  },
  {
   "cell_type": "code",
   "execution_count": 13,
   "id": "edecc600-f595-458e-b623-d16f3670e486",
   "metadata": {},
   "outputs": [],
   "source": [
    "df_new = df[['Temp_OXid','ppm','Pressure','type','Oxid_time',\n",
    "        'N2_HMDS', 'pressure_HMDS', 'temp_HMDS', 'temp_HMDS_bake',\n",
    "       'time_HMDS_bake', 'spin1', 'spin2', 'spin3', 'photoresist_bake',\n",
    "       'temp_softbake', 'time_softbake', 'UV_type', 'Energy_Exposure',       \n",
    "        'Temp_Etching', 'Source_Power',\n",
    "       'input_Energy', 'Temp_implantation', 'Furance_Temp', 'RTA_Temp',\n",
    "       '불량_195이상', 'path']]"
   ]
  },
  {
   "cell_type": "code",
   "execution_count": 14,
   "id": "f0e1ebd3-b9d0-445d-8698-c63acec5f3b7",
   "metadata": {},
   "outputs": [],
   "source": [
    "import xgboost as xgb\n",
    "from sklearn.model_selection import GridSearchCV\n",
    "from sklearn.metrics import accuracy_score\n",
    "\n",
    "# 데이터 구성:Series, DataFrame\n",
    "import pandas as pd\n",
    "# 데이터 시각화\n",
    "import matplotlib.pyplot as plt\n",
    "import matplotlib\n",
    "\n",
    "# 데이터 분할:train, test\n",
    "from sklearn.model_selection import train_test_split\n",
    "# 분류 Gradient Boosting\n",
    "from sklearn.ensemble import GradientBoostingClassifier\n",
    "# 최적 모델, 파라미터 탐색\n",
    "from sklearn.model_selection import GridSearchCV\n",
    "\n",
    "# 분류모델 평가 함수\n",
    "from sklearn.metrics import accuracy_score, roc_auc_score, precision_score, recall_score, f1_score\n",
    "from sklearn.metrics import confusion_matrix, classification_report"
   ]
  },
  {
   "cell_type": "code",
   "execution_count": 15,
   "id": "b644d7c2-b16d-43c5-a62c-31e42ab6e575",
   "metadata": {},
   "outputs": [],
   "source": [
    "from sklearn.preprocessing import LabelEncoder\n",
    "from sklearn.preprocessing import MinMaxScaler\n",
    "# LabelEncoder 객체 생성\n",
    "label_encoder = LabelEncoder()\n",
    "\n",
    "df_raw_x = df_new.drop(\"불량_195이상\", axis = 1)\n",
    "df_raw_y = df_new[\"불량_195이상\"] \n",
    "\n",
    "# MinMaxScaler 객체 생성\n",
    "numeric_columns = df_raw_x.select_dtypes(include=['number']).columns\n",
    "scaler = MinMaxScaler()\n",
    "\n",
    "df_raw_x[numeric_columns] = scaler.fit_transform(df_raw_x[numeric_columns])\n",
    "\n",
    "df_raw_x = pd.get_dummies(df_raw_x, columns=df_raw_x.select_dtypes(include=['object']).columns)\n",
    "df_raw_x = df_raw_x.astype({column: int for column in df_raw_x.select_dtypes(include=['bool']).columns})\n",
    "\n",
    "df_train_x, df_test_x, df_train_y, df_test_y = train_test_split(\n",
    "    df_raw_x, df_raw_y, test_size = 0.3, random_state = 1234, stratify=df_raw_y) "
   ]
  },
  {
   "cell_type": "code",
   "execution_count": 16,
   "id": "6bdb2b60-1a6b-4dd1-91f8-cd8e31b9fd27",
   "metadata": {},
   "outputs": [
    {
     "name": "stdout",
     "output_type": "stream",
     "text": [
      "Score on training set: 1.000\n",
      "Score on test set: 0.963\n"
     ]
    }
   ],
   "source": [
    "xgb_model = xgb.XGBClassifier(random_state=1234)\n",
    "\n",
    "xgb_model.fit(df_train_x, df_train_y)\n",
    "# Train 데이터 설명력\n",
    "print(\"Score on training set: {:.3f}\".format(xgb_model.score(df_train_x, df_train_y)))\n",
    "# Test 데이터 설명력\n",
    "print(\"Score on test set: {:.3f}\".format(xgb_model.score(df_test_x, df_test_y)))"
   ]
  },
  {
   "cell_type": "code",
   "execution_count": 17,
   "id": "1cf7c932-ec93-4a9b-a15f-07cd92894f2a",
   "metadata": {},
   "outputs": [
    {
     "name": "stdout",
     "output_type": "stream",
     "text": [
      "Best parameters found:  {'learning_rate': 0.05, 'max_depth': 6, 'n_estimators': 242, 'reg_alpha': 5.551695018865267e-08, 'reg_lambda': 7.513887184563936e-08}\n"
     ]
    }
   ],
   "source": [
    "from sklearn.model_selection import RandomizedSearchCV\n",
    "from xgboost import XGBClassifier\n",
    "from scipy.stats import uniform, randint\n",
    "\n",
    "# XGBoost 모델 정의\n",
    "xgb_model = XGBClassifier()\n",
    "\n",
    "# 탐색할 하이퍼파라미터의 분포 설정\n",
    "param_dist = {\n",
    "    'reg_lambda': uniform(1e-8, 1e-7 - 1e-8),\n",
    "    'reg_alpha': uniform(1e-8, 1e-7 - 1e-8),\n",
    "    'learning_rate': [0.001, 0.01, 0.05, 0.1],\n",
    "    'n_estimators': randint(100, 301),\n",
    "    'max_depth': randint(3, 10)\n",
    "}\n",
    "\n",
    "# 랜덤 서치 객체 생성\n",
    "random_search = RandomizedSearchCV(estimator=xgb_model, param_distributions=param_dist, scoring='accuracy',\n",
    "                                   cv=10, n_iter=100)\n",
    "\n",
    "# 랜덤 서치 수행\n",
    "random_search.fit(df_train_x, df_train_y)\n",
    "\n",
    "# 최적의 하이퍼파라미터 출력\n",
    "print(\"Best parameters found: \", random_search.best_params_)\n",
    "print(\"best estimator model: \\n{}\".format(random_search.best_estimator_))\n",
    "# 최적의 모델\n",
    "best_xgb_model = random_search.best_estimator_\n",
    "\n",
    "# 예측 수행\n",
    "train_pred = best_xgb_model.predict(df_train_x)\n",
    "test_pred = best_xgb_model.predict(df_test_x)"
   ]
  },
  {
   "cell_type": "code",
   "execution_count": null,
   "id": "379a4b5f-fd95-4728-803c-5d3220c06b89",
   "metadata": {},
   "outputs": [],
   "source": [
    "print(\"best estimator model: \\n{}\".format(random_search.best_estimator_))\n",
    "print(\"\\nbest parameter: \\n{}\".format(random_search.best_params_))\n",
    "print(\"\\nbest score: \\n{}\".format(random_search.best_score_.round(3)))"
   ]
  },
  {
   "cell_type": "code",
   "execution_count": 18,
   "id": "d674086c-4e66-4f49-b773-688b02fd6592",
   "metadata": {
    "scrolled": true
   },
   "outputs": [
    {
     "name": "stdout",
     "output_type": "stream",
     "text": [
      "Score on training set: 1.000\n",
      "Score on test set: 0.967\n",
      "Accuracy on training set: 1.000\n",
      "Accuracy on test set: 0.967\n",
      "\n",
      "Confusion matrix: \n",
      "[[470   2]\n",
      " [ 15  21]]\n",
      "              precision    recall  f1-score   support\n",
      "\n",
      "         0.0      0.969     0.996     0.982       472\n",
      "         1.0      0.913     0.583     0.712        36\n",
      "\n",
      "    accuracy                          0.967       508\n",
      "   macro avg      0.941     0.790     0.847       508\n",
      "weighted avg      0.965     0.967     0.963       508\n",
      "\n"
     ]
    }
   ],
   "source": [
    "xgb_model = xgb.XGBClassifier(learning_rate=0.5,max_depth=6 ,n_estimators= 242,reg_alpha= 5.551695018865267e-08\n",
    "                              ,reg_lambda= 7.513887184563936e-08, random_state=1234)\n",
    "xgb_model.fit(df_train_x, df_train_y)\n",
    "y_pred = xgb_model.predict(df_test_x)\n",
    "# Train 데이터 설명력\n",
    "print(\"Score on training set: {:.3f}\".format(xgb_model.score(df_train_x, df_train_y)))\n",
    "# Test 데이터 설명력\n",
    "print(\"Score on test set: {:.3f}\".format(xgb_model.score(df_test_x, df_test_y)))\n",
    "\n",
    "print(\"Accuracy on training set: {:.3f}\".format(xgb_model.score(df_train_x, df_train_y)))\n",
    "print(\"Accuracy on test set: {:.3f}\\n\".format(xgb_model.score(df_test_x, df_test_y)))\n",
    "print(\"Confusion matrix: \\n{}\".format(confusion_matrix(df_test_y, y_pred)))\n",
    "\n",
    "print(classification_report(df_test_y, y_pred, digits=3))"
   ]
  },
  {
   "cell_type": "code",
   "execution_count": null,
   "id": "b03000e6-0e23-49ed-9015-d35cc3aaf1a5",
   "metadata": {},
   "outputs": [],
   "source": [
    "v_feature_names = df_train_x.columns\n",
    "\n",
    "df_importance = pd.DataFrame()\n",
    "df_importance [\"Feature\"] = v_feature_names\n",
    "df_importance [\"Importance\"] = xgb_model.feature_importances_\n",
    "df_importance .sort_values(\"Importance\", ascending=False, inplace = True)\n",
    "df_importance .round(3)"
   ]
  },
  {
   "cell_type": "code",
   "execution_count": null,
   "id": "e2d90dc9-f78c-4692-9dbc-571b6da0e629",
   "metadata": {},
   "outputs": [],
   "source": [
    "df_importance = pd.DataFrame()\n",
    "df_importance[\"Feature\"] = v_feature_names\n",
    "df_importance[\"Importance\"] = xgb_model.feature_importances_\n",
    "\n",
    "# df_feature_importance의 테이블을 중요도별로 정렬\n",
    "df_importance.sort_values(\"Importance\", ascending=False, inplace = True)\n",
    "df_importance.sort_values(\"Importance\", ascending=True, inplace = True)\n",
    "coordinates = range(len(df_importance))\n",
    "top_10_importance = df_importance.nlargest(10, \"Importance\")\n",
    "\n",
    "# 시각화\n",
    "coordinates = range(len(top_10_importance))\n",
    "plt.barh(y=coordinates[::-1], width=top_10_importance[\"Importance\"])\n",
    "plt.yticks(coordinates[::-1], top_10_importance[\"Feature\"], fontsize=10)\n",
    "plt.xlabel(\"변수 중요도\")\n",
    "plt.ylabel(\"변수\")\n",
    "plt.title(\"상위 10개 변수 중요도\")\n",
    "plt.show()"
   ]
  },
  {
   "cell_type": "markdown",
   "id": "f1ff7891-b141-41a5-ae5c-7a1c8bf62b9b",
   "metadata": {},
   "source": [
    "### SMOTE"
   ]
  },
  {
   "cell_type": "code",
   "execution_count": 19,
   "id": "4d61b171-f26b-4a6c-972f-4db71d5e1de4",
   "metadata": {},
   "outputs": [],
   "source": [
    "from imblearn.over_sampling import SMOTE\n",
    "from sklearn.model_selection import train_test_split\n",
    "from sklearn.metrics import classification_report"
   ]
  },
  {
   "cell_type": "code",
   "execution_count": 20,
   "id": "749eaa0d-7427-48b7-b19c-8fa8a4f722fb",
   "metadata": {},
   "outputs": [
    {
     "name": "stdout",
     "output_type": "stream",
     "text": [
      "              precision    recall  f1-score   support\n",
      "\n",
      "         0.0       0.97      0.99      0.98       472\n",
      "         1.0       0.77      0.67      0.72        36\n",
      "\n",
      "    accuracy                           0.96       508\n",
      "   macro avg       0.87      0.83      0.85       508\n",
      "weighted avg       0.96      0.96      0.96       508\n",
      "\n"
     ]
    }
   ],
   "source": [
    "smote = SMOTE(random_state=42)\n",
    "X_resampled, y_resampled = smote.fit_resample(df_train_x, df_train_y)\n",
    "xgb_clf = xgb.XGBClassifier(random_state=42)\n",
    "xgb_clf.fit(X_resampled, y_resampled)\n",
    "\n",
    "y_pred = xgb_clf.predict(df_test_x)\n",
    "print(classification_report(df_test_y, y_pred))"
   ]
  },
  {
   "cell_type": "code",
   "execution_count": 23,
   "id": "73c6b11f-54cc-421c-a837-d2cd61cdca8e",
   "metadata": {},
   "outputs": [
    {
     "name": "stdout",
     "output_type": "stream",
     "text": [
      "best estimator model: \n",
      "XGBClassifier(base_score=None, booster=None, callbacks=None,\n",
      "              colsample_bylevel=None, colsample_bynode=None,\n",
      "              colsample_bytree=None, device=None, early_stopping_rounds=None,\n",
      "              enable_categorical=False, eval_metric=None, feature_types=None,\n",
      "              gamma=0.12620180126392483, grow_policy=None, importance_type=None,\n",
      "              interaction_constraints=None, learning_rate=0.07433674592574852,\n",
      "              max_bin=None, max_cat_threshold=None, max_cat_to_onehot=None,\n",
      "              max_delta_step=None, max_depth=6, max_leaves=None,\n",
      "              min_child_weight=None, missing=nan, monotone_constraints=None,\n",
      "              multi_strategy=None, n_estimators=181, n_jobs=None,\n",
      "              num_parallel_tree=None, random_state=None, ...)\n",
      "\n",
      "best parameter: \n",
      "{'gamma': 0.12620180126392483, 'learning_rate': 0.07433674592574852, 'max_depth': 6, 'n_estimators': 181, 'reg_alpha': 0.08883657957087174, 'reg_lambda': 0.05472367005012898}\n",
      "\n",
      "best score: \n",
      "0.989\n"
     ]
    }
   ],
   "source": [
    "from sklearn.model_selection import RandomizedSearchCV\n",
    "from xgboost import XGBClassifier\n",
    "from scipy.stats import uniform, randint\n",
    "\n",
    "# XGBoost 모델 정의\n",
    "xgb_model = XGBClassifier()\n",
    "\n",
    "# 탐색할 하이퍼파라미터의 분포 설정\n",
    "param_dist = {\n",
    "    'reg_lambda': uniform(1e-8, 0.1),\n",
    "    'reg_alpha': uniform(1e-8, 0.1),\n",
    "    'learning_rate': uniform(1e-4, 0.1),\n",
    "    'n_estimators': randint(100, 301),\n",
    "    'max_depth': randint(3, 10),\n",
    "    'gamma': uniform(0, 0.5)\n",
    "}\n",
    "\n",
    "# 랜덤 서치 객체 생성\n",
    "random_search = RandomizedSearchCV(estimator=xgb_model, param_distributions=param_dist, scoring='accuracy',\n",
    "                                   cv=10, n_iter=200)\n",
    "\n",
    "# 랜덤 서치 수행\n",
    "random_search.fit(X_resampled, y_resampled)\n",
    "\n",
    "best_xgb_model = random_search.best_estimator_\n",
    "print(\"best estimator model: \\n{}\".format(random_search.best_estimator_))\n",
    "print(\"\\nbest parameter: \\n{}\".format(random_search.best_params_))\n",
    "print(\"\\nbest score: \\n{}\".format(random_search.best_score_.round(3)))"
   ]
  },
  {
   "cell_type": "code",
   "execution_count": 24,
   "id": "bf176303-da2c-4eab-b344-a22e6b230edb",
   "metadata": {},
   "outputs": [
    {
     "name": "stdout",
     "output_type": "stream",
     "text": [
      "Confusion matrix: \n",
      "[[467   5]\n",
      " [ 13  23]]\n",
      "              precision    recall  f1-score   support\n",
      "\n",
      "         0.0       0.97      0.99      0.98       472\n",
      "         1.0       0.82      0.64      0.72        36\n",
      "\n",
      "    accuracy                           0.96       508\n",
      "   macro avg       0.90      0.81      0.85       508\n",
      "weighted avg       0.96      0.96      0.96       508\n",
      "\n"
     ]
    }
   ],
   "source": [
    "xgb_model = xgb.XGBClassifier(learning_rate=0.07433674592574852,max_depth=6 ,n_estimators= 181,\n",
    "                              reg_alpha= 0.08883657957087174,reg_lambda= 0.05472367005012898, \n",
    "                              gamma = 0.12620180126392483,\n",
    "                              random_state=1234)\n",
    "xgb_model.fit(X_resampled, y_resampled)\n",
    "\n",
    "y_pred = xgb_model.predict(df_test_x)\n",
    "\n",
    "print(\"Confusion matrix: \\n{}\".format(confusion_matrix(df_test_y, y_pred)))\n",
    "print(classification_report(df_test_y, y_pred))"
   ]
  },
  {
   "cell_type": "code",
   "execution_count": 25,
   "id": "ccb0c1c1-586e-4e14-8031-5e2d2f736488",
   "metadata": {},
   "outputs": [
    {
     "data": {
      "text/plain": [
       "Temp_OXid            0\n",
       "ppm                  0\n",
       "Pressure             0\n",
       "type                 0\n",
       "Oxid_time            0\n",
       "N2_HMDS              0\n",
       "pressure_HMDS        0\n",
       "temp_HMDS            0\n",
       "temp_HMDS_bake       0\n",
       "time_HMDS_bake       0\n",
       "spin1                0\n",
       "spin2                0\n",
       "spin3                0\n",
       "photoresist_bake     0\n",
       "temp_softbake        0\n",
       "time_softbake        0\n",
       "UV_type              0\n",
       "Energy_Exposure      0\n",
       "Temp_Etching         0\n",
       "Source_Power         0\n",
       "input_Energy         0\n",
       "Temp_implantation    0\n",
       "Furance_Temp         0\n",
       "RTA_Temp             0\n",
       "불량_195이상             0\n",
       "path                 0\n",
       "dtype: int64"
      ]
     },
     "execution_count": 25,
     "metadata": {},
     "output_type": "execute_result"
    }
   ],
   "source": [
    "df_new.isnull().sum()"
   ]
  },
  {
   "cell_type": "code",
   "execution_count": null,
   "id": "59b019c4-c912-439e-8ab8-3d401bbd73ba",
   "metadata": {},
   "outputs": [],
   "source": []
  }
 ],
 "metadata": {
  "kernelspec": {
   "display_name": "Python 3 (ipykernel)",
   "language": "python",
   "name": "python3"
  },
  "language_info": {
   "codemirror_mode": {
    "name": "ipython",
    "version": 3
   },
   "file_extension": ".py",
   "mimetype": "text/x-python",
   "name": "python",
   "nbconvert_exporter": "python",
   "pygments_lexer": "ipython3",
   "version": "3.11.8"
  }
 },
 "nbformat": 4,
 "nbformat_minor": 5
}
