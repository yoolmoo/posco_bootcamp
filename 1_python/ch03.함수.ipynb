{
 "cells": [
  {
   "cell_type": "markdown",
   "id": "6cbac6e7-7c96-4459-a390-cd1f0349d3d7",
   "metadata": {},
   "source": [
    "## 함수"
   ]
  },
  {
   "cell_type": "code",
   "execution_count": 63,
   "id": "754670fb-d7e0-4d12-816b-fc22183b9d7c",
   "metadata": {},
   "outputs": [
    {
     "name": "stdout",
     "output_type": "stream",
     "text": [
      "300\n"
     ]
    }
   ],
   "source": [
    "def add(a,b):\n",
    "    result = a + b\n",
    "    return result\n",
    "\n",
    "add_result= add(100, 200)\n",
    "print(add_result)\n",
    "\n",
    "def add3add5():\n",
    "    return 8\n",
    "\n",
    "def print_this(s):\n",
    "    print(s)"
   ]
  },
  {
   "cell_type": "code",
   "execution_count": 64,
   "id": "471236ac-78c5-4a23-8f55-02ce9a3733c7",
   "metadata": {},
   "outputs": [
    {
     "name": "stdout",
     "output_type": "stream",
     "text": [
      "7\n",
      "12\n"
     ]
    }
   ],
   "source": [
    "#함수 정의\n",
    "def add_and_mul(a,b):\n",
    "    return(a+b, a*b)\n",
    "\n",
    "#함수 호출\n",
    "add_res, mul_res = add_and_mul(3,4)\n",
    "print(add_res)\n",
    "print(mul_res)\n"
   ]
  },
  {
   "cell_type": "markdown",
   "id": "bc3c5cd1-a263-4a64-ad9d-6fc5b35eb678",
   "metadata": {},
   "source": [
    "## 실습1\n",
    "- len()구현 (len()을 사용하지 않고 구현할 것)\n",
    "- 요소의 개수가 같도록 마이렌 구현하기"
   ]
  },
  {
   "cell_type": "markdown",
   "id": "a58c67bf-0740-4bc6-9046-c1d69cc49f49",
   "metadata": {},
   "source": [
    "### 실습1 정답"
   ]
  },
  {
   "cell_type": "code",
   "execution_count": 1,
   "id": "4ef35097-9de9-4e65-95f2-20675be1255b",
   "metadata": {},
   "outputs": [
    {
     "name": "stdout",
     "output_type": "stream",
     "text": [
      "6 14\n",
      "6 14\n"
     ]
    }
   ],
   "source": [
    "def my_len(x): # input: 리스트, 문자열\n",
    "    length = 0\n",
    "    \n",
    "    for i in x:\n",
    "        length += 1\n",
    "\n",
    "    return length\n",
    "\n",
    "a = [5,5,6,7,8,3]\n",
    "b = 'Life is short.'\n",
    "print(len(a), len(b))\n",
    "# 내장 함수 len()\n",
    "print(my_len(a), my_len(b))"
   ]
  },
  {
   "cell_type": "markdown",
   "id": "17ca7a1d-ac63-4794-a763-9bd8067431d7",
   "metadata": {},
   "source": [
    "## 실습2\n",
    "양의 정수 a와 b를 전달받아 a부터 b까지 곱해서 반환하는 mult 함수를 작성하시오"
   ]
  },
  {
   "cell_type": "markdown",
   "id": "86116d5a-7def-4caf-8a39-aeec7d7ca8e4",
   "metadata": {},
   "source": [
    "실습2 정답"
   ]
  },
  {
   "cell_type": "code",
   "execution_count": 2,
   "id": "25a45581-fe45-4ebe-a8c8-75e317cb7b6e",
   "metadata": {},
   "outputs": [
    {
     "name": "stdout",
     "output_type": "stream",
     "text": [
      "6\n",
      "120\n"
     ]
    }
   ],
   "source": [
    "def mult(a,b):\n",
    "    result =1\n",
    "\n",
    "    for i in range(a,b+1,1) :# i: a~b\n",
    "        #result = result*i\n",
    "        result *= i\n",
    "\n",
    "    return result\n",
    "\n",
    "print(mult(1,3))\n",
    "print(mult(2,5))"
   ]
  },
  {
   "cell_type": "markdown",
   "id": "3bb20e24-a865-4e04-aa64-766e8d4a3734",
   "metadata": {},
   "source": [
    "## 실습3\n",
    "숫자로 구성된 리스트를 전달받아, 리스트에서 양수 값을 더한 결과와 음수 값을 더한 결과를 반환하는 함수를 작성하시오."
   ]
  },
  {
   "cell_type": "markdown",
   "id": "aee0d3ec-2342-4da3-896f-61924689203f",
   "metadata": {},
   "source": [
    "### 실습3정답"
   ]
  },
  {
   "cell_type": "code",
   "execution_count": 49,
   "id": "1c9f1ce9-ff2b-474e-b6bb-e4121b8b1686",
   "metadata": {},
   "outputs": [
    {
     "name": "stdout",
     "output_type": "stream",
     "text": [
      "7 -9\n",
      "1 -1\n"
     ]
    }
   ],
   "source": [
    "def sum_pos_neg(l): #input: list of numbers\n",
    "\n",
    "    possum, negsum = 0, 0\n",
    "\n",
    "    for i in l:\n",
    "         if i>0:\n",
    "             #possum = possum + i\n",
    "             possum += i\n",
    "         else: #else는 뒤에 조건없이 맨마지막,  elif는 뒤에 조건있음\n",
    "            negsum += i\n",
    "\n",
    "    return possum, negsum\n",
    "\n",
    "possum, negsum = sum_pos_neg([3,4,-6,-3])\n",
    "print(possum,negsum)음\n",
    "\n",
    "#위에랑 같은데 그냥 앞에 씀\n",
    "mylist = [0,0,0,0,0,0,0,0,0,1,-1]\n",
    "possum2, negsum2 = sum_pos_neg(mylist)\n",
    "print(possum2,negsum2)"
   ]
  },
  {
   "cell_type": "markdown",
   "id": "38c7726f-0956-4c7c-bc72-5b5af7393099",
   "metadata": {},
   "source": [
    "## 가변 매개변수"
   ]
  },
  {
   "cell_type": "code",
   "execution_count": 53,
   "id": "c799c710-9720-49b7-ad7f-2f508d553870",
   "metadata": {},
   "outputs": [
    {
     "name": "stdout",
     "output_type": "stream",
     "text": [
      "(1, 2, 3, 4, 5)\n"
     ]
    }
   ],
   "source": [
    "#몇개들어올지 모르는 변수 지정\n",
    "def count_even(*n):\n",
    "    print(n)\n",
    "\n",
    "count_even(1,2,3,4,5)"
   ]
  },
  {
   "cell_type": "code",
   "execution_count": 6,
   "id": "d90ddbec-f5b5-4d3c-9f01-91e6d3573ab5",
   "metadata": {},
   "outputs": [],
   "source": [
    "def f1(a, *b):\n",
    "    f1(1,2,3,4,5)"
   ]
  },
  {
   "cell_type": "markdown",
   "id": "668f9af7-0892-4aca-a710-50f198e701cd",
   "metadata": {},
   "source": [
    "## 실습4-매개변수\n",
    "1개 이상의 2차원 벡터들을 전달받아 벡터들의 합을 구하여 반환하는 함수를 작성하시오."
   ]
  },
  {
   "cell_type": "markdown",
   "id": "701315ad-1863-43f8-83e6-7c919d665ede",
   "metadata": {},
   "source": [
    "### 실습4 정답"
   ]
  },
  {
   "cell_type": "code",
   "execution_count": 22,
   "id": "2fedbec5-e051-413e-b0bb-c7e61ed0e912",
   "metadata": {},
   "outputs": [
    {
     "name": "stdout",
     "output_type": "stream",
     "text": [
      "[1.5, 1.5] [7.5, 5.5] [3.13, 3.72]\n"
     ]
    }
   ],
   "source": [
    "def vector_sum(vector, *vectors):\n",
    "    #vector: v1()[0,1]\n",
    "    #vectors:(v2, v3)([0.5, 0.5],[1,0])\n",
    "\n",
    "    #result는 2차원 벡터인데 v1의 경우만 확실히 들어와있기때문에(그뒤는 매개변수) v1으로 쓴것.v2도 되긴함\n",
    "    result=[v1[0], v1[1]]\n",
    "\n",
    "    for v in vectors:\n",
    "        result[0] = result[0] + v[0]\n",
    "        result[1] = result[1] + v[1]\n",
    "\n",
    "    return result\n",
    "    \n",
    "v1=[0, 1]\n",
    "v2=[0.5, 0.5]\n",
    "v3=[1, 0]\n",
    "v4=[6, 4]\n",
    "v5=[3.13, 2.72]\n",
    "m1 = vector_sum(v1, v2, v3)\n",
    "m2 = vector_sum(v1, v2, v3, v4)\n",
    "m3 = vector_sum(v3, v5)\n",
    "print(m1,m2,m3)        \n",
    "    "
   ]
  },
  {
   "cell_type": "markdown",
   "id": "dad160cc-e025-435a-890c-c039f4b3c347",
   "metadata": {},
   "source": [
    "### 디폴트 매개변수"
   ]
  },
  {
   "cell_type": "code",
   "execution_count": 26,
   "id": "cb5dae1b-5a66-488a-bf74-f4f9527606c2",
   "metadata": {},
   "outputs": [
    {
     "name": "stdout",
     "output_type": "stream",
     "text": [
      "My name is Gildong Hong.\n",
      "My name is Gildong Kim.\n"
     ]
    }
   ],
   "source": [
    "def print_name(first, second='Kim'): #second변수 기본값 'Kim'\n",
    "    print('My name is', first, second + '.')\n",
    "\n",
    "print_name('Gildong', 'Hong')#두번째인자존재\n",
    "print_name('Gildong')#두번재 인자없어서 디폴트값이 출력됨"
   ]
  },
  {
   "cell_type": "code",
   "execution_count": 28,
   "id": "7552fc73-93e3-4e76-9547-5adff990c796",
   "metadata": {},
   "outputs": [
    {
     "ename": "SyntaxError",
     "evalue": "non-default argument follows default argument (411828947.py, line 1)",
     "output_type": "error",
     "traceback": [
      "\u001b[0;36m  Cell \u001b[0;32mIn[28], line 1\u001b[0;36m\u001b[0m\n\u001b[0;31m    def print_name(first='kim', second):\u001b[0m\n\u001b[0m                                ^\u001b[0m\n\u001b[0;31mSyntaxError\u001b[0m\u001b[0;31m:\u001b[0m non-default argument follows default argument\n"
     ]
    }
   ],
   "source": [
    "def print_name(first='kim', second): \n",
    "#에러 발생, 앞매개변수가 디폴트면 뒤에오는 매개변수는 반드시 디폴트있어야함\n",
    "# 다시말해 디폴트값은 뒤에 몰아있어야함!"
   ]
  },
  {
   "cell_type": "code",
   "execution_count": 30,
   "id": "1bc02d47-54c2-4899-899e-845599d15988",
   "metadata": {},
   "outputs": [],
   "source": [
    "def calc(x,y=0,z=0):\n",
    "    return x+y+z\n",
    "\n",
    "result = calc(10,20,30)\n",
    "\n",
    "result = calc(z=30, y=20,x=10) # 명시적으로 적을때는 순서 달라도 괜찮음\n"
   ]
  },
  {
   "cell_type": "code",
   "execution_count": 33,
   "id": "3cb4b835-7257-4c5e-bb01-354d65d0fae7",
   "metadata": {},
   "outputs": [
    {
     "ename": "SyntaxError",
     "evalue": "cannot delete function call (3612020289.py, line 1)",
     "output_type": "error",
     "traceback": [
      "\u001b[0;36m  Cell \u001b[0;32mIn[33], line 1\u001b[0;36m\u001b[0m\n\u001b[0;31m    del calc(x, y=0, z=0):\u001b[0m\n\u001b[0m        ^\u001b[0m\n\u001b[0;31mSyntaxError\u001b[0m\u001b[0;31m:\u001b[0m cannot delete function call\n"
     ]
    }
   ],
   "source": [
    "del calc(x, y=0, z=0):\n",
    "    return x+y+z\n",
    "\n",
    "print(calc(y=20, x=10))\n",
    "\n",
    "print(calc(10, 30, y=20))#이건 y에 20넣을지 30넣을지 정확하지 않아서 오류남"
   ]
  },
  {
   "cell_type": "code",
   "execution_count": 37,
   "id": "05d2b312-24be-40f1-ae1b-43e3fdd7d865",
   "metadata": {},
   "outputs": [
    {
     "name": "stdout",
     "output_type": "stream",
     "text": [
      "ABC\n",
      "DEF\n"
     ]
    }
   ],
   "source": [
    "print(\"ABC\", end ='\\n') # 여기 end에는 개행이 디폴트값, 그래서 그냥 프린트하면 줄 다른거\n",
    "print(\"DEF\")"
   ]
  },
  {
   "cell_type": "code",
   "execution_count": 38,
   "id": "540e732e-66aa-45a8-8337-2d388a9f8fda",
   "metadata": {},
   "outputs": [
    {
     "name": "stdout",
     "output_type": "stream",
     "text": [
      "ABC    DEF\n"
     ]
    }
   ],
   "source": [
    "print(\"ABC\", end ='    ') #이건 공백4개라서 개행이 아닌 공백으로 값을 분리해줌 \n",
    "print(\"DEF\")"
   ]
  },
  {
   "cell_type": "markdown",
   "id": "3a353e1a-1ffb-48ff-b014-c3cf24151d50",
   "metadata": {},
   "source": [
    "## 실습5_디폴트 매개변수 답안"
   ]
  },
  {
   "cell_type": "code",
   "execution_count": 6,
   "id": "503dd198-c113-4628-b67c-5e2dfbd4e8ba",
   "metadata": {},
   "outputs": [
    {
     "name": "stdout",
     "output_type": "stream",
     "text": [
      "[1, 1, 2, 2, 3, 5, 9]\n",
      "[0, 4, 6, 9]\n",
      "[0, 0]\n"
     ]
    }
   ],
   "source": [
    "def merge_list(l1=[0], l2=[0]):\n",
    "    l3 = l1 + l2\n",
    "    l3.sort()#리스트 오름차순 정렬\n",
    "    result = l3\n",
    "    return result\n",
    "\n",
    "l = [3, 5, 9, 1, 2]\n",
    "ml1 = merge_list(l,[2,1])\n",
    "ml2 = merge_list([6,9,4])\n",
    "ml3 = merge_list()\n",
    "print(ml1) # [1, 1, 2, 2, 3, 5, 9]\n",
    "print(ml2) # [0, 4, 6, 9]\n",
    "print(ml3) # [0, 0]"
   ]
  },
  {
   "cell_type": "code",
   "execution_count": 41,
   "id": "2f6654e8-0354-4956-888c-1e08ecf86792",
   "metadata": {},
   "outputs": [
    {
     "ename": "NameError",
     "evalue": "name 'add_res' is not defined",
     "output_type": "error",
     "traceback": [
      "\u001b[0;31m---------------------------------------------------------------------------\u001b[0m",
      "\u001b[0;31mNameError\u001b[0m                                 Traceback (most recent call last)",
      "Cell \u001b[0;32mIn[41], line 9\u001b[0m\n\u001b[1;32m      6\u001b[0m y\u001b[38;5;241m=\u001b[39m\u001b[38;5;241m20\u001b[39m\n\u001b[1;32m      7\u001b[0m res\u001b[38;5;241m=\u001b[39madd_value(x, y)\n\u001b[0;32m----> 9\u001b[0m \u001b[38;5;28mprint\u001b[39m(add_res)\n",
      "\u001b[0;31mNameError\u001b[0m: name 'add_res' is not defined"
     ]
    }
   ],
   "source": [
    "def add_value(a, b):\n",
    "    add_res=a+b\n",
    "    return add_res\n",
    "\n",
    "x=10\n",
    "y=20\n",
    "res=add_value(x, y)#add_res가 만들어지지않았는데 사용됨??\n",
    "\n",
    "print(add_res)"
   ]
  },
  {
   "cell_type": "code",
   "execution_count": 42,
   "id": "d396db9d-3c42-4390-a32d-9254b1df2e64",
   "metadata": {},
   "outputs": [
    {
     "name": "stdout",
     "output_type": "stream",
     "text": [
      "30\n"
     ]
    }
   ],
   "source": [
    "def addX(_x):\n",
    "    return x+_x\n",
    "\n",
    "x=10\n",
    "y=20#add_res가 만들어지지않았는데 사용됨\n",
    "\n",
    "res=addX(y)\n",
    "print(res)"
   ]
  },
  {
   "cell_type": "code",
   "execution_count": 44,
   "id": "79898085-dcd6-4fa5-a96b-0ed9f2b4edca",
   "metadata": {},
   "outputs": [
    {
     "name": "stdout",
     "output_type": "stream",
     "text": [
      "100\n"
     ]
    }
   ],
   "source": [
    "def addX(_x):x #변수를 만들고나면 그 변수의 범위 파악이 중요함!\n",
    "    global \n",
    "    x=100\n",
    "    return x+_x\n",
    "\n",
    "x=10\n",
    "y=20\n",
    "\n",
    "res=addX(y)\n",
    "print(x)"
   ]
  },
  {
   "cell_type": "markdown",
   "id": "53f7a2c5-cb73-4688-95c9-f655d01f8c30",
   "metadata": {},
   "source": [
    "## 난수"
   ]
  },
  {
   "cell_type": "code",
   "execution_count": 47,
   "id": "95c5dee5-8157-4469-a0a8-02370ed78bfa",
   "metadata": {},
   "outputs": [
    {
     "data": {
      "text/plain": [
       "3"
      ]
     },
     "execution_count": 47,
     "metadata": {},
     "output_type": "execute_result"
    }
   ],
   "source": [
    "import random\n",
    "\n",
    "random.choice([1,2,3,4,5])#꼭 숫자일필요없음"
   ]
  },
  {
   "cell_type": "code",
   "execution_count": 55,
   "id": "925b5c17-4744-4562-85ae-6cf8bee2b61f",
   "metadata": {},
   "outputs": [
    {
     "name": "stdout",
     "output_type": "stream",
     "text": [
      "15\n",
      "[3, 4, 2, 5, 1]\n"
     ]
    },
    {
     "data": {
      "text/plain": [
       "[2, 5, 1]"
      ]
     },
     "execution_count": 55,
     "metadata": {},
     "output_type": "execute_result"
    }
   ],
   "source": [
    "import random\n",
    "\n",
    "a=10\n",
    "b=20\n",
    "print(random.randint(a,b))\n",
    "\n",
    "random.randrange(a,b+1)\n",
    "\n",
    "Ls=[1,2,3,4,5]\n",
    "\n",
    "random.shuffle(Ls)\n",
    "\n",
    "print(Ls)\n",
    "\n",
    "random.sample([1,2,3,4,5,6],3)"
   ]
  },
  {
   "cell_type": "markdown",
   "id": "366a7901-e515-4578-b0e8-7b4cdc7a92d1",
   "metadata": {},
   "source": [
    "## 실습6\n",
    "점심 메뉴 리스트에서 임의로 하나의 메뉴를 골라 정해주는 프로그램을 완성하시오."
   ]
  },
  {
   "cell_type": "code",
   "execution_count": 26,
   "id": "8e2525e1-6160-474f-a7e7-c5a91f571e32",
   "metadata": {},
   "outputs": [
    {
     "name": "stdout",
     "output_type": "stream",
     "text": [
      "오늘 점심은 김치찌개입니다.\n"
     ]
    }
   ],
   "source": [
    "import random\n",
    "menu = [\"된장찌개\", \"부대찌개\", \"김치찌개\", \"삼계탕\", \"파스타\", \"돈까스\", \"쌀국수\"]\n",
    "bab=random.choice(menu)\n",
    "print(\"오늘 점심은 \"+bab+\"입니다.\")#+쓰면 ,와 다르게 불필요한 공백을 줄일수있음"
   ]
  },
  {
   "cell_type": "code",
   "execution_count": null,
   "id": "5a63f2a9-932a-4022-b697-6213f502c1cb",
   "metadata": {},
   "outputs": [],
   "source": []
  },
  {
   "cell_type": "markdown",
   "id": "ab6a3c2f-75f6-4d95-94e6-0da556b9efbc",
   "metadata": {},
   "source": [
    "## 실습7\n",
    "로또 추첨 프로그램\n",
    "- 5개의 로또 번호 조합을 출력해주는 프로그램을 작성\n",
    "- 1~45 숫자 중 6개를 임의로 선택 후 정렬하여 출력\n",
    "- 단, 중복된 번호를 가질 수 없음\n",
    "\n",
    "이 문제 경우 우선적으로 프린트되어야할 문구가 존재함.\n",
    "이때 우리는 총 5번 같은 과정 반복\n",
    "그래서 for문으로 그 과정을 작성해 나감\n"
   ]
  },
  {
   "cell_type": "markdown",
   "id": "ce755220-7602-4a58-b943-b53e95407eeb",
   "metadata": {},
   "source": [
    "### 실습7 내정답"
   ]
  },
  {
   "cell_type": "code",
   "execution_count": 7,
   "id": "5b6915a9-4cc0-44b4-b90c-05147264cc6b",
   "metadata": {
    "scrolled": true
   },
   "outputs": [
    {
     "name": "stdout",
     "output_type": "stream",
     "text": [
      "** 로또 번호 자동 기입을 시작합니다 **\n",
      "1 번째 자동 기입 ==>  8 3 21 22 27 37\n",
      "2 번째 자동 기입 ==>  26 17 10 24 33 31\n",
      "3 번째 자동 기입 ==>  43 45 31 38 7 41\n",
      "4 번째 자동 기입 ==>  12 14 39 36 27 7\n",
      "5 번째 자동 기입 ==>  33 20 37 9 34 5\n"
     ]
    }
   ],
   "source": [
    "import random\n",
    "print(\"** 로또 번호 자동 기입을 시작합니다 **\")\n",
    "\n",
    "for i in range(1,6,1):\n",
    "    l=list(range(1,46))\n",
    "    lottos = random.sample(l,6)\n",
    "    print(i, \"번째 자동 기입 ==> \",*lottos)\n",
    "\n",
    "#프린트문을 for문 밖에다가ㅏ 적으면 5번째만 나온다!주의할것"
   ]
  },
  {
   "cell_type": "markdown",
   "id": "dc662fb8-2a5e-4d84-8587-6cdca95518ff",
   "metadata": {},
   "source": [
    "### 실습7 모범답안"
   ]
  },
  {
   "cell_type": "code",
   "execution_count": 17,
   "id": "f534284e-de69-49b1-9aab-487610aa2cf8",
   "metadata": {
    "scrolled": true
   },
   "outputs": [
    {
     "name": "stdout",
     "output_type": "stream",
     "text": [
      "** 로또 번호 자동 기입을 시작합니다 **\n",
      "1번째 자동 기입 ==> 39 30 18 8 25 6\n",
      "2번째 자동 기입 ==> 43 18 20 19 1 45\n",
      "3번째 자동 기입 ==> 43 41 35 9 30 21\n",
      "4번째 자동 기입 ==> 29 23 34 15 4 24\n",
      "5번째 자동 기입 ==> 29 40 19 26 13 30\n"
     ]
    }
   ],
   "source": [
    "import random\n",
    "print(\"** 로또 번호 자동 기입을 시작합니다 **\")\n",
    "\n",
    "for i in range(5): # i는 0부터 4까지 들어감감\n",
    "    #출력1 : \"몇번째 자동 기입 ==>\"\n",
    "    print(str(i+1)+\"번째 자동 기입 ==>\", end=\" \")\n",
    "\n",
    "    #출력2 : 6개의 랜덤한 숫자\n",
    "    lotto=random.sample(range(1,46), 6)\n",
    "    print(*lotto)"
   ]
  },
  {
   "cell_type": "markdown",
   "id": "f52b6c9c-7401-4cc4-b703-1c4cb12e9ec5",
   "metadata": {},
   "source": [
    "알아두면 좋은정보"
   ]
  },
  {
   "cell_type": "code",
   "execution_count": 1,
   "id": "f3f08536-1575-44b1-be9a-9aac6ae7c4ec",
   "metadata": {},
   "outputs": [
    {
     "name": "stdout",
     "output_type": "stream",
     "text": [
      "[1, 2, 3, 4, 5]\n",
      "1 2 3 4 5\n"
     ]
    }
   ],
   "source": [
    "l = [1,2,3,4,5]\n",
    "print(l)\n",
    "print(*l)#리스트에서 괄호빼고 원소들만 출력가능"
   ]
  },
  {
   "cell_type": "markdown",
   "id": "328a0c7d-1153-461d-bba2-f87b6c213e0a",
   "metadata": {},
   "source": [
    "## 실습8\n",
    "- 숫자로 구성된 리스트를 전달받아 최댓값, 최솟값을 반환하고, 두 수를 리스트에서 제거하는 함수를 작성하시오."
   ]
  },
  {
   "cell_type": "markdown",
   "id": "0a12c556-8621-4a51-9abb-2ff9d94c27d1",
   "metadata": {},
   "source": [
    "## 실습8 모범답안"
   ]
  },
  {
   "cell_type": "code",
   "execution_count": 3,
   "id": "9cd1ffbe-34ce-4644-adf1-d13e2910e716",
   "metadata": {},
   "outputs": [
    {
     "name": "stdout",
     "output_type": "stream",
     "text": [
      "1\n",
      "9\n",
      "[3, 5, 2]\n"
     ]
    }
   ],
   "source": [
    "def get_min_max(l): #input: A list of numbers\n",
    "    min_val=min(l)\n",
    "    max_val=max(l)\n",
    "\n",
    "    #mn_val, max_val removed from l\n",
    "    l.remove(min_val)\n",
    "    l.remove(max_val)\n",
    "\n",
    "    return min_val, max_val\n",
    "\n",
    "l = [3, 5, 9, 1, 2]\n",
    "min_val, max_val = get_min_max(l)\n",
    "\n",
    "print(min_val)\n",
    "print(max_val)\n",
    "print(l)"
   ]
  },
  {
   "cell_type": "markdown",
   "id": "46ca26ea-0c56-4836-9751-984ac4e5be32",
   "metadata": {},
   "source": [
    "## 실습9\n",
    "- 두 딕셔너리를 전달받아 각 딕셔너리에 등장한 값을 모두 더한 새로운 딕셔너리를 반환하는 함수 comb_dict()를 작성하시오."
   ]
  },
  {
   "cell_type": "code",
   "execution_count": 26,
   "id": "a6eaca0e-7aac-4747-8be6-609e2805a71c",
   "metadata": {},
   "outputs": [
    {
     "name": "stdout",
     "output_type": "stream",
     "text": [
      "{'a': 3, 'b': 3, 'd': 7, 'e': 9, 'c': 4}\n"
     ]
    }
   ],
   "source": [
    "def comb_dict(d1, d2):\n",
    "    res = d1.copy()#그냥 d1으로 하면 print(d3)했을때 d3과 같은 결과가 나올수있음. 서\n",
    "    #아예 res의 저장이 거기로 연결되기 때문. 따라서 카피본으로 수행\n",
    "\n",
    "    for k, v in d2.items():\n",
    "        \n",
    "        # 첫번째 경우:  e가  d1에 있는경우\n",
    "        if k in d1:\n",
    "            res[k] += v\n",
    "        \n",
    "        # 두번째 경우:  e가  d1에 없는경우\n",
    "        else:\n",
    "            res[k] = v\n",
    "\n",
    "    return res\n",
    "\n",
    "d1 = {'a': 1, 'b': 3, 'd': 7, 'e': 8}\n",
    "d2 = {'a': 2, 'c': 4, 'e': 1}\n",
    "d3 = comb_dict(d1, d2)\n",
    "print(d3)"
   ]
  },
  {
   "cell_type": "code",
   "execution_count": null,
   "id": "28a5059a-71e7-4b37-8d75-b15f20172db6",
   "metadata": {},
   "outputs": [],
   "source": []
  },
  {
   "cell_type": "markdown",
   "id": "8c603ade-1d7f-4b04-a611-6d09b9d7c1e6",
   "metadata": {},
   "source": [
    "## 실습10\n",
    "- 숫자를 2개 이상 입력 받아, 최댓값과 최솟값의 차를 반환하는 함수를 작성하시오."
   ]
  },
  {
   "cell_type": "markdown",
   "id": "0b74e1f2-eaa0-4c1b-a249-85467c19473f",
   "metadata": {},
   "source": [
    "## 실습10 모범답안"
   ]
  },
  {
   "cell_type": "code",
   "execution_count": 31,
   "id": "eb1569b5-87bb-406f-bff8-cc4929a973ac",
   "metadata": {},
   "outputs": [
    {
     "name": "stdout",
     "output_type": "stream",
     "text": [
      "4\n",
      "300\n"
     ]
    }
   ],
   "source": [
    "def diff(*l): #가변 매개변수\n",
    "    min_val=min(l)\n",
    "    max_val=max(l)\n",
    "    return max_val - min_val\n",
    "\n",
    "print(diff(1,2,3,4,5))\n",
    "print(diff(-100, 200))"
   ]
  },
  {
   "cell_type": "code",
   "execution_count": null,
   "id": "ae9b6d31-46c7-4708-a1ef-81bf1d2f2547",
   "metadata": {},
   "outputs": [],
   "source": []
  },
  {
   "cell_type": "code",
   "execution_count": null,
   "id": "f7a870d0-439c-4fa4-a7c5-b8a9cd350092",
   "metadata": {},
   "outputs": [],
   "source": []
  },
  {
   "cell_type": "code",
   "execution_count": null,
   "id": "b7a02baf-849e-47ea-9774-b9229c44adc0",
   "metadata": {},
   "outputs": [],
   "source": []
  },
  {
   "cell_type": "code",
   "execution_count": null,
   "id": "9cef4ff1-29fd-47a0-9ff6-3f50328e6351",
   "metadata": {},
   "outputs": [],
   "source": []
  },
  {
   "cell_type": "code",
   "execution_count": null,
   "id": "c79f89be-a084-442f-8701-04c2747e15f1",
   "metadata": {},
   "outputs": [],
   "source": []
  },
  {
   "cell_type": "code",
   "execution_count": null,
   "id": "e6e295ce-e413-49ea-9d0c-47417993e5ac",
   "metadata": {},
   "outputs": [],
   "source": []
  },
  {
   "cell_type": "code",
   "execution_count": null,
   "id": "bf1c7250-c80d-4c65-b396-cc23c3ab068a",
   "metadata": {},
   "outputs": [],
   "source": []
  },
  {
   "cell_type": "code",
   "execution_count": null,
   "id": "00bb1897-958f-471d-9479-e27d313ba1b7",
   "metadata": {},
   "outputs": [],
   "source": []
  }
 ],
 "metadata": {
  "kernelspec": {
   "display_name": "Python 3 (ipykernel)",
   "language": "python",
   "name": "python3"
  },
  "language_info": {
   "codemirror_mode": {
    "name": "ipython",
    "version": 3
   },
   "file_extension": ".py",
   "mimetype": "text/x-python",
   "name": "python",
   "nbconvert_exporter": "python",
   "pygments_lexer": "ipython3",
   "version": "3.11.5"
  }
 },
 "nbformat": 4,
 "nbformat_minor": 5
}
