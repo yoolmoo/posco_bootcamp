{
 "cells": [
  {
   "cell_type": "markdown",
   "id": "674597ba-2ee5-4a2c-89ba-431284c74ee2",
   "metadata": {},
   "source": [
    "### 집합\n",
    "순서없이 항목을 저장, 항목이 중복될 수 없음"
   ]
  },
  {
   "cell_type": "code",
   "execution_count": 4,
   "id": "90566951-c907-499a-824e-c958cbffb156",
   "metadata": {},
   "outputs": [
    {
     "data": {
      "text/plain": [
       "{1, 2, 3, 4}"
      ]
     },
     "execution_count": 4,
     "metadata": {},
     "output_type": "execute_result"
    }
   ],
   "source": [
    "s1=set([1,2,3,3,3,4,2])\n",
    "s1"
   ]
  },
  {
   "cell_type": "code",
   "execution_count": 5,
   "id": "448cdfc3-022f-4d3f-80ec-c72c1b8f8f03",
   "metadata": {},
   "outputs": [
    {
     "name": "stdout",
     "output_type": "stream",
     "text": [
      "{3, 4, 5}\n"
     ]
    }
   ],
   "source": [
    "s2 = {3,4,5}\n",
    "print(s2)"
   ]
  },
  {
   "cell_type": "code",
   "execution_count": 6,
   "id": "b4273579-36c1-485f-8ef0-dc0979b765db",
   "metadata": {},
   "outputs": [
    {
     "name": "stdout",
     "output_type": "stream",
     "text": [
      "HelloHello\n",
      "['H', 'e', 'l', 'l', 'o', 'H', 'e', 'l', 'l', 'o']\n",
      "{'l', 'H', 'e', 'o'}\n"
     ]
    }
   ],
   "source": [
    "word = 'Hello' *2\n",
    "print(word)\n",
    "\n",
    "word_list = list(word) #리스트로 변환\n",
    "print(word_list)\n",
    "\n",
    "s3 = set(word_list)\n",
    "print(s3)"
   ]
  },
  {
   "cell_type": "code",
   "execution_count": 10,
   "id": "02c98e6b-4eeb-4401-865b-958fa2a0b7ca",
   "metadata": {},
   "outputs": [
    {
     "name": "stdout",
     "output_type": "stream",
     "text": [
      "{1, 2, 3, 4, 5, 10}\n",
      "{1, 3, 4, 5, 10}\n",
      "{1, 3, 4, 5, 7, 9, 10}\n"
     ]
    }
   ],
   "source": [
    "s = {1,2,3,4,5,3,4}\n",
    "\n",
    "s.add(10) # s안에 추가\n",
    "print(s)\n",
    "s.remove(2)\n",
    "print(s)\n",
    "\n",
    "s.update([1,3,5,7,9])\n",
    "print(s)"
   ]
  },
  {
   "cell_type": "code",
   "execution_count": 12,
   "id": "6fea0e15-2c97-4fbe-92ab-72326a40d993",
   "metadata": {},
   "outputs": [
    {
     "ename": "KeyError",
     "evalue": "6",
     "output_type": "error",
     "traceback": [
      "\u001b[0;31m---------------------------------------------------------------------------\u001b[0m",
      "\u001b[0;31mKeyError\u001b[0m                                  Traceback (most recent call last)",
      "Cell \u001b[0;32mIn[12], line 2\u001b[0m\n\u001b[1;32m      1\u001b[0m s \u001b[38;5;241m=\u001b[39m {\u001b[38;5;241m1\u001b[39m,\u001b[38;5;241m2\u001b[39m,\u001b[38;5;241m3\u001b[39m,\u001b[38;5;241m4\u001b[39m,\u001b[38;5;241m5\u001b[39m}\n\u001b[0;32m----> 2\u001b[0m s\u001b[38;5;241m.\u001b[39mremove(\u001b[38;5;241m6\u001b[39m)\n",
      "\u001b[0;31mKeyError\u001b[0m: 6"
     ]
    }
   ],
   "source": [
    "s = {1,2,3,4,5}\n",
    "s.remove(6) #없는 원소라 에러"
   ]
  },
  {
   "cell_type": "code",
   "execution_count": 13,
   "id": "34ec882a-7113-4d26-be10-333af80c144d",
   "metadata": {},
   "outputs": [],
   "source": [
    "s = {1,2,3,4,5}\n",
    "s.discard(6) #없는 원소면 그냥 넘어감"
   ]
  },
  {
   "cell_type": "code",
   "execution_count": 14,
   "id": "6d148593-279b-430c-ab7b-c075deaecd47",
   "metadata": {},
   "outputs": [
    {
     "name": "stdout",
     "output_type": "stream",
     "text": [
      "set()\n"
     ]
    }
   ],
   "source": [
    "s = {1,2,3,4,5}\n",
    "s.clear()#셋 비우기\n",
    "print(s)"
   ]
  },
  {
   "cell_type": "code",
   "execution_count": 18,
   "id": "78313d8c-6006-46b1-a2ab-a373a4ec3f36",
   "metadata": {},
   "outputs": [
    {
     "name": "stdout",
     "output_type": "stream",
     "text": [
      "{1, 2, 3, 4, 5}\n"
     ]
    }
   ],
   "source": [
    "s1={1,2,3}\n",
    "s2={3,4,5}\n",
    "\n",
    "s3=s1.union(s2)#합집합\n",
    "print(s3)"
   ]
  },
  {
   "cell_type": "code",
   "execution_count": 20,
   "id": "91a23072-882b-4c29-b9a5-221e1bb9739c",
   "metadata": {},
   "outputs": [
    {
     "name": "stdout",
     "output_type": "stream",
     "text": [
      "{1, 2, 3, 4, 5}\n"
     ]
    }
   ],
   "source": [
    "s3=s1|s2 #합집합\n",
    "print(s3)"
   ]
  },
  {
   "cell_type": "code",
   "execution_count": 22,
   "id": "c499c1ba-df4a-4040-a92c-132ce58a7a2b",
   "metadata": {},
   "outputs": [
    {
     "name": "stdout",
     "output_type": "stream",
     "text": [
      "{3}\n"
     ]
    }
   ],
   "source": [
    "s3=s1&s2 #교집합\n",
    "print(s3)"
   ]
  },
  {
   "cell_type": "code",
   "execution_count": 24,
   "id": "90200f17-f7fc-4a25-87cd-3b388de5c773",
   "metadata": {},
   "outputs": [
    {
     "name": "stdout",
     "output_type": "stream",
     "text": [
      "{1, 2}\n"
     ]
    }
   ],
   "source": [
    "s3=s1 - s2 #차집합\n",
    "print(s3)"
   ]
  },
  {
   "cell_type": "markdown",
   "id": "c88ab676-aea3-47f5-8c38-59ad440b8839",
   "metadata": {},
   "source": [
    "# 실습1\n",
    "1부터 100까지 숫자 중 3과 5의 공배수를 집합 형태로 만들어 아래와 같이 출력하시오."
   ]
  },
  {
   "cell_type": "code",
   "execution_count": 62,
   "id": "1ea73dc8-13aa-4bcc-b751-ea9fa5129287",
   "metadata": {},
   "outputs": [
    {
     "name": "stdout",
     "output_type": "stream",
     "text": [
      "{75, 45, 15, 90, 60, 30}\n",
      "3과 5의 공배수: 6 개\n"
     ]
    }
   ],
   "source": [
    "s3 = set()\n",
    "for i in range(1, 100):\n",
    "    if i <= 100:\n",
    "        if i %3 ==0:\n",
    "            s3.add(i)\n",
    "s5 = set()\n",
    "for i in range(1, 100):\n",
    "    if i <= 100:\n",
    "        if i %5 ==0:\n",
    "            s5.add(i)\n",
    "s=s3 & s5\n",
    "print(s)\n",
    "print(\"3과 5의 공배수:\",len(s),\"개\")"
   ]
  },
  {
   "cell_type": "code",
   "execution_count": 65,
   "id": "9d333376-e4d9-45a5-a4c2-3c12d91b635a",
   "metadata": {},
   "outputs": [
    {
     "name": "stdout",
     "output_type": "stream",
     "text": [
      "{3, 6, 9, 12, 15, 18, 21, 24, 27, 30, 33, 36, 39, 42, 45, 48, 51, 54, 57, 60, 63, 66, 69, 72, 75, 78, 81, 84, 87, 90, 93, 96, 99}\n",
      "{4, 7, 10, 13, 16, 19, 22, 25, 28, 31, 34, 37, 40, 43, 46, 49, 52, 55, 58, 61, 64, 67, 70, 73, 76, 79, 82, 85, 88, 91, 94, 97, 100}\n",
      "{5, 10, 15, 20, 25, 30, 35, 40, 45, 50, 55, 60, 65, 70, 75, 80, 85, 90, 95, 100}\n"
     ]
    }
   ],
   "source": [
    "s3 = set([i for i in range(3, 101, 3)]) #1~100\n",
    "print(s3)\n",
    "\n",
    "l = [ i + 1 for i in range(3, 101, 3)]#i의 숫자들을 그대로 i안에 넣어야하기때문에 두번번/이건 i+1예시\n",
    "s3 = set(l)\n",
    "print(s3)\n",
    "\n",
    "\n",
    "s5=set([i for i in range(5, 101, 5)])\n",
    "print(s5)\n",
    "\n",
    "#range(a,b,c)\n",
    "#a~b(포함x), c만큼씩 건너뛰면서\n",
    "#range(1,5,2)\n",
    "#1, 3\n",
    "#rnage(3,101,3) => 3,6,9,12..."
   ]
  },
  {
   "cell_type": "markdown",
   "id": "d8ff4e14-5bd4-4845-98a6-3ffec3e9026c",
   "metadata": {},
   "source": [
    "## 실습1 정답"
   ]
  },
  {
   "cell_type": "code",
   "execution_count": 67,
   "id": "c8e7772e-9532-49f0-892c-1d01af5c6574",
   "metadata": {},
   "outputs": [
    {
     "name": "stdout",
     "output_type": "stream",
     "text": [
      "{75, 45, 15, 90, 60, 30}\n",
      "3과 5의 공배수: 6 개\n"
     ]
    }
   ],
   "source": [
    "s3 = set([i for i in range(3, 101, 3)]) #1~100\n",
    "s5=set([i for i in range(5, 101, 5)])\n",
    "\n",
    "s=s3 & s5\n",
    "print(s)\n",
    "print(\"3과 5의 공배수:\",len(s),\"개\")"
   ]
  },
  {
   "cell_type": "markdown",
   "id": "2c593f81-4bed-4bc2-92be-f2cb057885cb",
   "metadata": {},
   "source": [
    "## 딕셔너리\n",
    "- 키로 value를 관리\n",
    "- 빈 중괄호를 두면 빈 딕셔너리 생성"
   ]
  },
  {
   "cell_type": "code",
   "execution_count": 16,
   "id": "e4cf136f-b12e-4b55-ae25-af34540ea57e",
   "metadata": {},
   "outputs": [
    {
     "name": "stdout",
     "output_type": "stream",
     "text": [
      "{'kim': 3, 'park': 2}\n",
      "{'kim': 3, 'park': 2, 'youn': 1}\n",
      "dict_keys(['kim', 'park', 'youn'])\n",
      "dict_values([3, 2, 1])\n",
      "dict_items([('kim', 3), ('park', 2), ('youn', 1)])\n",
      "False\n",
      "{'park': 2, 'youn': 1}\n"
     ]
    }
   ],
   "source": [
    "d = {}\n",
    "\n",
    "#key: 'kim', value:1\n",
    "d['kim'] = 1\n",
    "\n",
    "#key:'park', value: 2\n",
    "d['park']=2\n",
    "\n",
    "#'kim': 1 -> 3\n",
    "d['kim']=3\n",
    "\n",
    "print(d)\n",
    "\n",
    "#key: 'youn', value:1\n",
    "d['youn']=1\n",
    "print(d)\n",
    "\n",
    "#키만 출력\n",
    "print(d.keys())\n",
    "\n",
    "#value만 출력\n",
    "print(d.values())\n",
    "\n",
    "#키랑 value출력\n",
    "print(d.items())\n",
    "'kim' in d\n",
    "\n",
    "print('a' in d)\n",
    "\n",
    "del d['kim']\n",
    "\n",
    "print(d)\n",
    "\n",
    "d.clear()"
   ]
  },
  {
   "cell_type": "markdown",
   "id": "13024fa1-23d0-4950-a2fc-d538ccd7d67d",
   "metadata": {},
   "source": [
    "## 실습2\n",
    "for 문을 사용하여 아래 딕셔너리 d의 모든 value를 출력해 보세요."
   ]
  },
  {
   "cell_type": "code",
   "execution_count": 71,
   "id": "728955a5-d9d3-49d1-8b21-f0aedee10fa0",
   "metadata": {},
   "outputs": [
    {
     "name": "stdout",
     "output_type": "stream",
     "text": [
      "3 2 1\n"
     ]
    }
   ],
   "source": [
    "d = {'kim': 3, 'park': 2, 'youn': 1}\n",
    "print(d['kim'],d['park'], d['youn'])"
   ]
  },
  {
   "cell_type": "code",
   "execution_count": 72,
   "id": "de97225c-2d8b-4b0c-a15d-7cbeefb3e998",
   "metadata": {},
   "outputs": [
    {
     "data": {
      "text/plain": [
       "dict_values([3, 2, 1])"
      ]
     },
     "execution_count": 72,
     "metadata": {},
     "output_type": "execute_result"
    }
   ],
   "source": [
    "d = {'kim': 3, 'park': 2, 'youn': 1}"
   ]
  },
  {
   "cell_type": "code",
   "execution_count": 43,
   "id": "906203c9-8c6f-42f3-a3d3-24380dd276ab",
   "metadata": {},
   "outputs": [
    {
     "name": "stdout",
     "output_type": "stream",
     "text": [
      "('kim', 3)\n",
      "('park', 2)\n",
      "('youn', 1)\n",
      "3\n",
      "2\n",
      "1\n"
     ]
    }
   ],
   "source": [
    "d = {'kim': 3, 'park': 2, 'youn': 1}\n",
    "\n",
    "#d의 원소 확인\n",
    "for elem in d.items():\n",
    "    print(elem)\n",
    "\n",
    "#키와 벨류값 나눠져서 저장됨\n",
    "for k,v in d.items():\n",
    "    print(v)\n"
   ]
  },
  {
   "cell_type": "markdown",
   "id": "676a302d-a6c4-4f26-be69-fdcf0e3563ea",
   "metadata": {},
   "source": [
    "### 실습2 정답"
   ]
  },
  {
   "cell_type": "code",
   "execution_count": 45,
   "id": "6149089b-0aee-44e2-9e77-2f674d699dec",
   "metadata": {},
   "outputs": [
    {
     "name": "stdout",
     "output_type": "stream",
     "text": [
      "3\n",
      "2\n",
      "1\n"
     ]
    }
   ],
   "source": [
    "d = {'kim':  3, 'park': 2, 'youn': 1}\n",
    "\n",
    "#키와 벨류값 나눠져서 저장됨\n",
    "for k,v in d.items():\n",
    "    print(v)"
   ]
  },
  {
   "cell_type": "markdown",
   "id": "e2172404-cce8-4317-8635-6de07e789e41",
   "metadata": {},
   "source": [
    "## 실습3\n",
    "어떤 문장을 입력 받으\n",
    "면 해당 문장에서 각 문자가 몇 개씩 나오는지 저장하는 딕셔너리를 만든 후, 아래와 같이 출력하시오."
   ]
  },
  {
   "cell_type": "code",
   "execution_count": 54,
   "id": "a5f75e5c-3e5d-4bdd-ae3e-0b60647c3756",
   "metadata": {},
   "outputs": [
    {
     "name": "stdin",
     "output_type": "stream",
     "text": [
      "Enter a sentence:  Python is fun!\n"
     ]
    },
    {
     "name": "stdout",
     "output_type": "stream",
     "text": [
      "{'i': 1, 'h': 1, 'n': 2, ' ': 2, 'o': 1, '!': 1, 'P': 1, 'u': 1, 't': 1, 'f': 1, 'y': 1, 's': 1}\n"
     ]
    }
   ],
   "source": [
    "s = input('Enter a sentence: ')\n",
    "\n",
    "#list는 순서있고 set은 순서없어서 키랑 벨류값 뽑기위해 다시 감싼것\n",
    "l=list(set(s))\n",
    "\n",
    "d={}\n",
    "\n",
    "#만약에 리스트안에 k가 있으면 그 개수를 세고 d[벨류]=키의 갯수\n",
    "for k in l:\n",
    "    c=s.count(k)\n",
    "    d[k]=c\n",
    "\n",
    "print(d)"
   ]
  },
  {
   "cell_type": "markdown",
   "id": "f0a89c57-11e6-4065-85c4-12d47f42469f",
   "metadata": {},
   "source": [
    "## List comprehension\n",
    "- 리스트에 for 문을 사용하여 반복적으로 표현식을 실행해서 리스트 원소들을 정의하는 용법\n",
    "- [ 표현식 for 요소 in 시퀀스자료형 [if 조건문] ]"
   ]
  },
  {
   "cell_type": "code",
   "execution_count": 64,
   "id": "a5484476-9396-40b0-9bcb-6e38eb98f476",
   "metadata": {},
   "outputs": [
    {
     "name": "stdout",
     "output_type": "stream",
     "text": [
      "[1, 2, 3, 4, 5]\n"
     ]
    }
   ],
   "source": [
    "#i에는 1,2,3,4,5가 차례로 들어감\n",
    "L =[i for i in range(1, 6)]\n",
    "print(L)"
   ]
  },
  {
   "cell_type": "code",
   "execution_count": 65,
   "id": "da2bb8f3-b9e6-48f2-b305-b5c400e7c394",
   "metadata": {},
   "outputs": [
    {
     "name": "stdout",
     "output_type": "stream",
     "text": [
      "[2, 4, 6, 8, 10]\n"
     ]
    }
   ],
   "source": [
    "#i에는 1,2,3,4,5가 차례로 들어가는데 거기에 2씩 곱해서 L에 들어감\n",
    "L =[i*2 for i in range(1, 6)]\n",
    "print(L)"
   ]
  },
  {
   "cell_type": "code",
   "execution_count": 66,
   "id": "e6e33465-0997-414d-bbfc-ff03cfbcf04f",
   "metadata": {},
   "outputs": [
    {
     "name": "stdout",
     "output_type": "stream",
     "text": [
      "[1, 4, 9, 16, 25]\n"
     ]
    }
   ],
   "source": [
    "#i에는 1,2,3,4,5가 차례로 들어가는데 거기에 제곱해서 L에 들어감\n",
    "L =[i**2 for i in range(1, 6)]\n",
    "print(L)"
   ]
  },
  {
   "cell_type": "code",
   "execution_count": 67,
   "id": "4a4aaa56-31c6-463c-9264-849bbfa4c246",
   "metadata": {},
   "outputs": [
    {
     "name": "stdout",
     "output_type": "stream",
     "text": [
      "[2, 4]\n"
     ]
    }
   ],
   "source": [
    "#i에는 1,2,3,4,5가 차례로 들어감\n",
    "#그 중에 짝수만!(나머지 0은 %기호 사용)\n",
    "L =[i for i in range(1, 6) if i%2==0]\n",
    "print(L)"
   ]
  },
  {
   "cell_type": "code",
   "execution_count": 70,
   "id": "4491ab6a-7503-4c6c-982f-92dbb8c0e004",
   "metadata": {},
   "outputs": [
    {
     "name": "stdout",
     "output_type": "stream",
     "text": [
      "[3, 4, 5, 6, 8, 10, 9, 12, 15]\n"
     ]
    }
   ],
   "source": [
    "L1=[1,2,3]\n",
    "L2=[3,4,5]\n",
    "\n",
    "L3=[x*y for x in L1 for y in L2]\n",
    "print(L3)"
   ]
  },
  {
   "cell_type": "code",
   "execution_count": 71,
   "id": "efb2e3a2-dda1-4c49-bf8b-3a43eb38602e",
   "metadata": {},
   "outputs": [
    {
     "name": "stdout",
     "output_type": "stream",
     "text": [
      "A\n"
     ]
    }
   ],
   "source": [
    "p = True #(Boolean)\n",
    "#p가 참일때는 A, 아닐때는 B출력\n",
    "print('A') if p else print('B')"
   ]
  },
  {
   "cell_type": "code",
   "execution_count": 72,
   "id": "882ffbbb-aaad-463c-94ef-e9fb22c47e4e",
   "metadata": {},
   "outputs": [
    {
     "name": "stdout",
     "output_type": "stream",
     "text": [
      "B\n"
     ]
    }
   ],
   "source": [
    "p = False #(Boolean)\n",
    "#p가 참일때는 A, 아닐때는 B출력\n",
    "print('A') if p else print('B')"
   ]
  },
  {
   "cell_type": "code",
   "execution_count": 79,
   "id": "30e57e3e-be91-4704-b12a-bb55d2780ae5",
   "metadata": {},
   "outputs": [
    {
     "name": "stdout",
     "output_type": "stream",
     "text": [
      "[(1, 4, 'a'), (2, 5, 'b'), (3, 6, 'c')]\n",
      "[5, 7, 9]\n"
     ]
    }
   ],
   "source": [
    "L1=[1,2,3]\n",
    "L2=[4,5,6]\n",
    "L3=['a','b','c']\n",
    "\n",
    "#출력물 이쁘게 보이기 위해서 list로 감쌈\n",
    "print(list(zip(L1,L2,L3)))\n",
    "\n",
    "print([sum(x) for x in zip((1,2,3),(4,5,6))])\n",
    "#zip->[(1,4),(2,5),(3,6)]\n",
    "#x-> (1,4)\n",
    "#y-> (2,5)\n",
    "#z-> (3,6)"
   ]
  },
  {
   "cell_type": "markdown",
   "id": "da25f97f-fc66-4902-b639-77a138ee8c73",
   "metadata": {},
   "source": [
    "## 실습4\n",
    "아래와 같이 주어진 2개의 리스트로 딕셔너리를 만들어 출력하시오. 단,순서는 다를 수 있음"
   ]
  },
  {
   "cell_type": "code",
   "execution_count": 91,
   "id": "de57b004-ee02-4671-870b-fc36b507a000",
   "metadata": {},
   "outputs": [
    {
     "ename": "SyntaxError",
     "evalue": "incomplete input (2878273258.py, line 7)",
     "output_type": "error",
     "traceback": [
      "\u001b[0;36m  Cell \u001b[0;32mIn[91], line 7\u001b[0;36m\u001b[0m\n\u001b[0;31m    \u001b[0m\n\u001b[0m    ^\u001b[0m\n\u001b[0;31mSyntaxError\u001b[0m\u001b[0;31m:\u001b[0m incomplete input\n"
     ]
    }
   ],
   "source": [
    "L1 = ['one', 'two', 'three', 'four']\n",
    "L2 = [1, 2, 3, 4]\n",
    "l=list(zip(L1, L2))\n",
    "d={}\n",
    "\n",
    "for k,v in d.items():\n",
    "    print()\n",
    "    실\n",
    "for k in l:\n",
    "    c=s.count(k)\n",
    "    d[k]=c"
   ]
  },
  {
   "cell_type": "markdown",
   "id": "dcb1919a-1047-4b73-9217-8fe3fff5c4e9",
   "metadata": {},
   "source": [
    "### 실습4 정답"
   ]
  },
  {
   "cell_type": "code",
   "execution_count": 98,
   "id": "0c2fbe82-cf61-425c-8d6e-1155b9d8304d",
   "metadata": {},
   "outputs": [
    {
     "name": "stdout",
     "output_type": "stream",
     "text": [
      "{'one': 1, 'two': 2, 'three': 3, 'four': 4}\n"
     ]
    }
   ],
   "source": [
    "L1 = ['one', 'two', 'three', 'four']\n",
    "L2 = [1, 2, 3, 4]\n",
    "\n",
    "L3 = list(zip(L1,L2))\n",
    "\n",
    "d={}\n",
    "\n",
    "for k, v in L3:\n",
    "    d[k]=v\n",
    "\n",
    "print(d)"
   ]
  },
  {
   "cell_type": "code",
   "execution_count": null,
   "id": "0bcd407c-a0b9-4001-9dd0-4dac7c7837af",
   "metadata": {},
   "outputs": [],
   "source": []
  }
 ],
 "metadata": {
  "kernelspec": {
   "display_name": "Python 3 (ipykernel)",
   "language": "python",
   "name": "python3"
  },
  "language_info": {
   "codemirror_mode": {
    "name": "ipython",
    "version": 3
   },
   "file_extension": ".py",
   "mimetype": "text/x-python",
   "name": "python",
   "nbconvert_exporter": "python",
   "pygments_lexer": "ipython3",
   "version": "3.11.5"
  }
 },
 "nbformat": 4,
 "nbformat_minor": 5
}
