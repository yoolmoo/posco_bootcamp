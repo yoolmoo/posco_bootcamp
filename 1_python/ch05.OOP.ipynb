{
 "cells": [
  {
   "cell_type": "markdown",
   "id": "f53eda30-a3e8-4a5b-9ff5-6aafabcb376e",
   "metadata": {},
   "source": [
    "객체 접근"
   ]
  },
  {
   "cell_type": "code",
   "execution_count": 1,
   "id": "e746ad65-9e13-45f2-b93f-bba716d423b8",
   "metadata": {},
   "outputs": [],
   "source": [
    "list_ex = list([1,2,3])"
   ]
  },
  {
   "cell_type": "code",
   "execution_count": 2,
   "id": "43176ae5-0228-4f45-af8e-dd7178b16108",
   "metadata": {},
   "outputs": [
    {
     "data": {
      "text/plain": [
       "2"
      ]
     },
     "execution_count": 2,
     "metadata": {},
     "output_type": "execute_result"
    }
   ],
   "source": [
    "list_ex.pop(1)"
   ]
  },
  {
   "cell_type": "markdown",
   "id": "0d9ac297-0f05-4fa7-8ce7-e7c9e97c4205",
   "metadata": {},
   "source": [
    "## 클래스\n",
    "- 마치 설계도\n",
    "- 객체는 그 설계도를 따라 만든 실체, 객체를 만들기 위한 틀"
   ]
  },
  {
   "cell_type": "markdown",
   "id": "c82aff98-1aaa-4ec7-8a5f-7c4510658449",
   "metadata": {},
   "source": [
    "### 클래스의 구성요소\n",
    "1. 변수(데이터 어트리뷰트)\n",
    "2. 메서드(메서드 어트리뷰트)"
   ]
  },
  {
   "cell_type": "code",
   "execution_count": 14,
   "id": "7e519b80-f923-4e5c-b00d-063d7b5a1ad0",
   "metadata": {},
   "outputs": [
    {
     "name": "stdout",
     "output_type": "stream",
     "text": [
      "MongJa\n",
      "MongJa\n",
      "wal wal\n"
     ]
    }
   ],
   "source": [
    "class Dog: #dog이라는 클래스 생성\n",
    "    \n",
    "    name = 'MongJa'\n",
    "\n",
    "    def bark(self): # 메서드 옆 self:이건 무조건 정의됨\n",
    "        return 'wal wal'\n",
    "\n",
    "print(Dog.name) # Dog클래스 안에 name이라는 함수에 접근\n",
    "\n",
    "dog1 = Dog() #dog1은 실제 강쥐 객체(인스턴스) 만들어줌\n",
    "\n",
    "print(dog1.name)\n",
    "print(dog1.bark()) # 뒤에 괄호를 붙여서 인자를 전달해줌\n",
    "#이때 정상적으로 실행되는 이유는 self에 자동으로 dog1이 들어감"
   ]
  },
  {
   "cell_type": "markdown",
   "id": "93d1db20-4acf-4e98-bd8d-5f025960c3fb",
   "metadata": {},
   "source": [
    "## 메서드 \n",
    ": 클래스안에 정의된 함수"
   ]
  },
  {
   "cell_type": "markdown",
   "id": "bc84fa72-deb7-4c3a-8a39-8c3e01ed61a3",
   "metadata": {},
   "source": [
    "## 특수 메서드 \n",
    "- 이름형태가 꼭 **__sample__**이렇게 됨"
   ]
  },
  {
   "cell_type": "code",
   "execution_count": 19,
   "id": "9b64f97f-6d30-42fe-a7af-d11621678c3e",
   "metadata": {},
   "outputs": [
    {
     "name": "stdout",
     "output_type": "stream",
     "text": [
      "init함수가 출력되었습니다\n"
     ]
    }
   ],
   "source": [
    "class Sample:\n",
    "    def __init__(self):\n",
    "        print('init함수가 출력되었습니다')\n",
    "\n",
    "a=Sample()#출력결과보면 자동적으로 init함수 출력"
   ]
  },
  {
   "cell_type": "markdown",
   "id": "43968c4f-9384-44d9-8f7a-9148dce5086d",
   "metadata": {},
   "source": [
    "### 바람직하지 않은 예시"
   ]
  },
  {
   "cell_type": "code",
   "execution_count": 29,
   "id": "a0efe0b3-e366-4425-afe9-388400abdd63",
   "metadata": {},
   "outputs": [
    {
     "name": "stdout",
     "output_type": "stream",
     "text": [
      "건물이름= 공학1동\n",
      "건물층수 3\n",
      "엘리베이터 유무= True\n",
      "\n",
      "건물이름= 공학1동\n",
      "건물층수 3\n",
      "엘리베이터 유무= True\n"
     ]
    }
   ],
   "source": [
    "class Building:\n",
    "    name = \"공학1동\"\n",
    "    h = 3\n",
    "    elev = True\n",
    "\n",
    "    def get_info(self): # self <- instance(얘를 부른 객체의 이름을 호출하겠다!!)\n",
    "        print(\"건물이름=\",self.name)\n",
    "        print(\"건물층수\",self.h)\n",
    "        print(\"엘리베이터 유무=\",self.elev)\n",
    "\n",
    "a = Building()\n",
    "b = Building()\n",
    "\n",
    "a.get_info()\n",
    "print()\n",
    "b.get_info()"
   ]
  },
  {
   "cell_type": "markdown",
   "id": "f1fc509f-86c2-4c29-8363-46535ebe4c4d",
   "metadata": {},
   "source": [
    "### 좋은 예시"
   ]
  },
  {
   "cell_type": "code",
   "execution_count": 34,
   "id": "722e5638-23a8-4deb-a391-dba01a172f88",
   "metadata": {},
   "outputs": [
    {
     "name": "stdout",
     "output_type": "stream",
     "text": [
      "건물이름= 공학1동\n",
      "건물층수 3\n",
      "엘리베이터 유무= True\n",
      "\n",
      "건물이름= 공학2동\n",
      "건물층수 10\n",
      "엘리베이터 유무= True\n"
     ]
    }
   ],
   "source": [
    "class Building:\n",
    "    def __init__(self, name=\"공학1동\", h=3, elev=True):\n",
    "        #self <- 이 함수를 호출한 인스턴스\n",
    "        self.name = name\n",
    "        self.h = h\n",
    "        self.elev = elev\n",
    "\n",
    "    def get_info(self):\n",
    "        print(\"건물이름=\",self.name)\n",
    "        print(\"건물층수\",self.h)\n",
    "        print(\"엘리베이터 유무=\",self.elev)\n",
    "\n",
    "a = Building() # 인자가 없어 디폴트값이 호출됨\n",
    "b = Building(\"공학2동\", 10, True)\n",
    "\n",
    "a.get_info()\n",
    "print()\n",
    "b.get_info()"
   ]
  },
  {
   "cell_type": "markdown",
   "id": "12ce4465-510c-4a80-b471-0e13078081e1",
   "metadata": {},
   "source": [
    "## 클래스 실습 예제 답안"
   ]
  },
  {
   "cell_type": "code",
   "execution_count": 12,
   "id": "17051133-e70d-4c27-8641-7c0af6d1e721",
   "metadata": {},
   "outputs": [
    {
     "name": "stdout",
     "output_type": "stream",
     "text": [
      "정유림 25 156 47\n",
      "정유림 26 156 47\n"
     ]
    }
   ],
   "source": [
    "class Person:\n",
    "    \n",
    "    def __init__(self, n, a, h, w):\n",
    "        self.name = n\n",
    "        self.age = a\n",
    "        self.height = h\n",
    "        self.weight = w\n",
    "        \n",
    "    def add_age(self):\n",
    "        #self의 나이 1증가\n",
    "        self.age += 1\n",
    "\n",
    "    def change_height(self,h):\n",
    "        #self의 키를 h로 수정\n",
    "        self.height = h\n",
    "\n",
    "    def change_weight(self,w):\n",
    "        #self의 몸무게를 w로 수정\n",
    "        self.weight = w\n",
    "\n",
    "    def get_info(self):\n",
    "        print(self.name,self.age, self.height,self.weight )\n",
    "        \n",
    "a=Person('정유림',25,156,47)\n",
    "\n",
    "#내 정보출력\n",
    "a.get_info()\n",
    "\n",
    "#나이 더하기\n",
    "a.add_age()\n",
    "\n",
    "#더해진 나이로 출력됨\n",
    "a.get_info()"
   ]
  },
  {
   "cell_type": "code",
   "execution_count": 18,
   "id": "7fd753fe-1463-4f19-abdd-6cd5574e63ff",
   "metadata": {},
   "outputs": [
    {
     "name": "stdout",
     "output_type": "stream",
     "text": [
      "8457440\n",
      "ABC\n",
      "139838891108976\n",
      "ABCD\n",
      "139838282449088\n",
      "139838282449088\n"
     ]
    }
   ],
   "source": [
    "#똑같은 w가 아님, 문자열은 수정불가능하기 떄문이다!\n",
    "w = 'ABC'\n",
    "print(id(w))\n",
    "print(w)초기값은\n",
    "\n",
    "w = 'ABCD'\n",
    "print(id(w))\n",
    "print(w)\n",
    "\n",
    "l = [1, 2, 3]\n",
    "print(id(l))\n",
    "l.append(4)\n",
    "print(id(l))"
   ]
  },
  {
   "cell_type": "code",
   "execution_count": 26,
   "id": "3562a617-e592-40a3-9b1c-a914654029ed",
   "metadata": {},
   "outputs": [
    {
     "data": {
      "text/plain": [
       "['roll over', 'play dead']"
      ]
     },
     "execution_count": 26,
     "metadata": {},
     "output_type": "execute_result"
    }
   ],
   "source": [
    "class Dog:\n",
    "\n",
    "    tricks=[]#클래스 변수\n",
    "\n",
    "    def __init__(self, name):\n",
    "        self.name = name #인스턴스 변수\n",
    "\n",
    "    def add_trick(self, trick):\n",
    "        self.tricks.append(trick)\n",
    "\n",
    "d=Dog('Fido')\n",
    "e=Dog('Buddy')\n",
    "d.add_trick('roll over')\n",
    "e.add_trick('play dead')\n",
    "d.tricks"
   ]
  },
  {
   "cell_type": "markdown",
   "id": "167037a6-6915-4739-9fdd-e78e2eb38032",
   "metadata": {},
   "source": [
    "## 실습문제1\n",
    " 은행 계좌 클래스 만들기\n",
    "- 계좌 클래스의 __init__ 인자는 balance와 name을 지님\n",
    "-  계좌 생성시 초기값으로 balance와 name을 지정 가능\n",
    "-  지정 안할 시 각 초기값은 0과 “none”을 가질 것\n",
    "-  계좌의 기능은 입금, 출금, 계좌정보출력\n",
    "-  출금은 출금하고자하는 금액이 잔고에 있을 때 출금할 것\n",
    "-  실행 시나리오\n",
    "-  계좌에 400원 입금 후 600원 출금하여 “잔액 부족” 출력하기\n",
    "-  계좌에 1000원 입금 900원 출금하여 잔고 100으로 만들기"
   ]
  },
  {
   "cell_type": "markdown",
   "id": "44ff702a-063b-4084-9d65-4b07f6510482",
   "metadata": {},
   "source": [
    "## 실습문제1&2 모범답안"
   ]
  },
  {
   "cell_type": "code",
   "execution_count": 20,
   "id": "78c15e5e-351c-4f98-9ab2-c9dfe554ae99",
   "metadata": {},
   "outputs": [
    {
     "name": "stdout",
     "output_type": "stream",
     "text": [
      "Balance: 100\n",
      "Name: Gildong Hong\n",
      "100\n",
      "110\n",
      "Balance: 700\n",
      "Name: A\n",
      "Balance: 1300\n",
      "Name: B\n"
     ]
    }
   ],
   "source": [
    "class BankAccount:\n",
    "    def __init__(self, balance=0, name=\"none\"):\n",
    "        self.balance = balance\n",
    "        self.name = name\n",
    "        \n",
    "    def deposit(self, amount):\n",
    "        #self's balance에 amount추가\n",
    "        self.balance += amount\n",
    "        \n",
    "    def withdraw(self, amount):\n",
    "        #self's balance로부터 amount만큼 삭제\n",
    "        #case1 : 잔액이 충분한 경우\n",
    "        #출금\n",
    "        if self.balance-amount >= 0:\n",
    "            self.balance -= amount\n",
    "            \n",
    "        #case2: 잔액 부족\n",
    "        else:\n",
    "            print('잔액 부족')\n",
    "        #에러 문구 출력\n",
    "\n",
    "    #실습문제2번 : 계좌이체 구현\n",
    "    def transfer(self, other, amount): \n",
    "        # self, other : BankAccount instance\n",
    "        # amount : number\n",
    "\n",
    "        #case 1 :잔액 충분\n",
    "        if self.balance >= amount:\n",
    "            self.withdraw(amount)\n",
    "            other.deposit(amount)\n",
    "        \n",
    "        #case 2 :잔액 부족\n",
    "        self.other=other\n",
    "        self.amount=amount\n",
    "        \n",
    "    \n",
    "    def get_info(self):\n",
    "        print(\"Balance:\", self.balance)\n",
    "        print(\"Name:\", self.name)\n",
    "\n",
    "a = BankAccount(100, \"Gildong Hong\")\n",
    "a.get_info()\n",
    "print(a.balance)\n",
    "\n",
    "a.deposit(10)\n",
    "print(a.balance)\n",
    "\n",
    "acc1=BankAccount(1000, 'A')\n",
    "acc2=BankAccount(1000, 'B')\n",
    "\n",
    "acc1.transfer(acc2, 300)\n",
    "\n",
    "acc1.get_info()\n",
    "acc2.get_info()\n"
   ]
  },
  {
   "cell_type": "markdown",
   "id": "a868838a-6178-4358-b1be-b9d66e8b671e",
   "metadata": {},
   "source": [
    "## 상속\n",
    ": 이미 만들어진 클래스를 물려받는것\n",
    "\n",
    "- class A(B):...\n",
    "- class A(B,C,D..):"
   ]
  },
  {
   "cell_type": "code",
   "execution_count": 28,
   "id": "95ccb1d6-aad2-444f-bfcd-97e1e5a360a1",
   "metadata": {},
   "outputs": [
    {
     "name": "stdout",
     "output_type": "stream",
     "text": [
      "A class\n"
     ]
    }
   ],
   "source": [
    "class A:\n",
    "    a=1\n",
    "    def print_a(self):\n",
    "        print(\"A class\")\n",
    "\n",
    "class B:\n",
    "    b=1\n",
    "    def print_b(self):\n",
    "        print(\"B class\")\n",
    "\n",
    "class C(A):\n",
    "    c = 1\n",
    "    def print_c(self):\n",
    "        print(\"C class\")\n",
    "\n",
    "c_ex=C()\n",
    "c_ex.print_a()\n"
   ]
  },
  {
   "cell_type": "code",
   "execution_count": 5,
   "id": "54655844-18f8-4a0b-a02d-13ed92075409",
   "metadata": {},
   "outputs": [
    {
     "name": "stdout",
     "output_type": "stream",
     "text": [
      "A class\n",
      "A test\n"
     ]
    },
    {
     "data": {
      "text/plain": [
       "[__main__.D, __main__.C, __main__.A, __main__.B, object]"
      ]
     },
     "execution_count": 5,
     "metadata": {},
     "output_type": "execute_result"
    }
   ],
   "source": [
    "class A:\n",
    "    a=1\n",
    "    def print_a(self):\n",
    "        print(\"A class\")\n",
    "\n",
    "    def test(self):\n",
    "        print(\"A test\")\n",
    "\n",
    "class B:\n",
    "    b=1\n",
    "    def print_b(self):\n",
    "        print(\"B class\")\n",
    "\n",
    "    def test(self):\n",
    "        print(\"B test\")\n",
    "\n",
    "class C(A):\n",
    "    c = 1\n",
    "    def print_c(self):\n",
    "        print(\"C class\")\n",
    "\n",
    "c_ex=C()\n",
    "c_ex.print_a()\n",
    "\n",
    "#여러개를 상속받는 클래스 D에선 괄호안 먼저나온게 우선순위가 높음\n",
    "class D(C, B): # c는 이미 A를 상속받은 상태 = C(A)\n",
    "    d=1\n",
    "\n",
    "\n",
    "d_ex=D()\n",
    "d_ex.test()\n",
    "\n",
    "D.mro()"
   ]
  },
  {
   "cell_type": "code",
   "execution_count": 10,
   "id": "d00db3aa-71ba-4d9c-a286-1ba00b94d4c9",
   "metadata": {},
   "outputs": [
    {
     "name": "stdout",
     "output_type": "stream",
     "text": [
      "This is A\n",
      "This is B\n"
     ]
    }
   ],
   "source": [
    "class A():\n",
    "    def __init__(self):\n",
    "        print(\"This is A\")\n",
    "\n",
    "    def test1(self):\n",
    "        pass\n",
    "\n",
    "    def test2(self):\n",
    "        pass\n",
    "        \n",
    "class B(A):#오버라이딩\n",
    "     def __init__(self):\n",
    "        super().__init__() #A.__init__()\n",
    "        print(\"This is B\")\n",
    "\n",
    "b=B()"
   ]
  },
  {
   "cell_type": "markdown",
   "id": "38254670-b788-4c95-a0ec-f2c3e1c3d380",
   "metadata": {},
   "source": [
    "## 실습 문제3\n",
    "- 최소 잔액을 유지해야 하는 계좌 클래스를 만드세요\n",
    "- 기본적으로 기존 실습 문제1의 계좌와 기능 동일함\n",
    "- 하지만 출금시 잔액이 최소 잔액 미만이 되면 출금 못함 그리고 “최소 잔액을 유지해야 합니다” 메세지 출력\n",
    "- 힌트 : 상속 및 오버라이딩 활용"
   ]
  },
  {
   "cell_type": "code",
   "execution_count": 10,
   "id": "716d4c8c-4363-46bc-a5aa-7cfc5b2c9f2a",
   "metadata": {},
   "outputs": [
    {
     "name": "stdout",
     "output_type": "stream",
     "text": [
      "최소 잔액을 유지해야 합니다\n"
     ]
    }
   ],
   "source": [
    "class BankAccount:\n",
    "    def __init__(self, balance=0, name=\"none\"):\n",
    "        self.balance = balance\n",
    "        self.name = name\n",
    "        \n",
    "    def deposit(self, amount):\n",
    "        #self's balance에 amount추가\n",
    "        self.balance += amount\n",
    "        \n",
    "    def withdraw(self, amount):\n",
    "        #self's balance로부터 amount만큼 삭제\n",
    "        #case1 : 잔액이 충분한 경우\n",
    "        #출금\n",
    "        if self.balance-amount >= 0:\n",
    "            self.balance -= amount\n",
    "            \n",
    "        #case2: 잔액 부족\n",
    "        else:\n",
    "            print('잔액 부족')\n",
    "        #에러 문구 출력\n",
    "\n",
    "    #실습문제2번 : 계좌이체 구현\n",
    "    def transfer(self, other, amount): \n",
    "        # self, other : BankAccount instance\n",
    "        # amount : number\n",
    "\n",
    "        #case 1 :잔액 충분\n",
    "        if self.balance >= amount:\n",
    "            self.withdraw(amount)\n",
    "            other.deposit(amount)\n",
    "        \n",
    "        #case 2 :잔액 부족\n",
    "        self.other=other\n",
    "        self.amount=amount\n",
    "        \n",
    "    \n",
    "    def get_info(self):\n",
    "        print(\"Balance:\", self.balance)\n",
    "        print(\"Name:\", self.name)\n",
    "\n",
    "\n",
    "#minimumbalanceAccount구현\n",
    "class MinimumBalanceAccount(BankAccount):\n",
    "    def __init__(self, balance=0, name=\"none\", min_bal=0):\n",
    "        #self.balance = balance\n",
    "        #self.name = name\n",
    "        super().__init__(balance, name)\n",
    "        self.min_bal = min_bal\n",
    "    \n",
    "    def withdraw(self, amount):\n",
    "        #self's balance에 amount추가\n",
    "        if self.balance - amount >= self.min_bal:\n",
    "            self.balance -= amount\n",
    "\n",
    "        else:\n",
    "            print(\"최소 잔액을 유지해야 합니다\")\n",
    "        \n",
    "#최소잔액보다 큰 금액 출금시도=>에러\n",
    "acc = MinimumBalanceAccount(500, 'Kim', 200)\n",
    "acc.withdraw(400)"
   ]
  },
  {
   "cell_type": "markdown",
   "id": "9bbefbd3-536f-4838-8519-61f99c1c0e88",
   "metadata": {},
   "source": [
    "## 연산자 오버로딩"
   ]
  },
  {
   "cell_type": "code",
   "execution_count": 26,
   "id": "47dd1207-55ee-4229-8c19-45f3cff66e35",
   "metadata": {},
   "outputs": [
    {
     "data": {
      "text/plain": [
       "3"
      ]
     },
     "execution_count": 26,
     "metadata": {},
     "output_type": "execute_result"
    }
   ],
   "source": [
    "a = 1\n",
    "b = 2\n",
    "\n",
    "a + b # a+b = a.__add__(b)"
   ]
  },
  {
   "cell_type": "code",
   "execution_count": 27,
   "id": "1208f217-104c-45e9-a232-cedca0217363",
   "metadata": {},
   "outputs": [],
   "source": [
    "acc = BankAccount(1000,'Kim')\n",
    "acc + 100 # acc의 잔액이 100증가\n"
   ]
  },
  {
   "cell_type": "code",
   "execution_count": 28,
   "id": "4c624468-addb-42d7-84de-a07118f2c558",
   "metadata": {},
   "outputs": [
    {
     "name": "stdout",
     "output_type": "stream",
     "text": [
      "1100\n"
     ]
    }
   ],
   "source": [
    "#위에 실습3 코드 복붙+특수메서드추가\n",
    "class BankAccount:\n",
    "    def __add__(self, amount):\n",
    "        # acc + 100 -> acc.__add__(100)\n",
    "\n",
    "        self.balance += 100     \n",
    "        \n",
    "    \n",
    "    def __init__(self, balance=0, name=\"none\"):\n",
    "        self.balance = balance\n",
    "        self.name = name\n",
    "        \n",
    "    def deposit(self, amount):\n",
    "        #self's balance에 amount추가\n",
    "        self.balance += amount\n",
    "        \n",
    "    def withdraw(self, amount):\n",
    "        #self's balance로부터 amount만큼 삭제\n",
    "        #case1 : 잔액이 충분한 경우\n",
    "        #출금\n",
    "        if self.balance-amount >= 0:\n",
    "            self.balance -= amount\n",
    "            \n",
    "        #case2: 잔액 부족\n",
    "        else:\n",
    "            print('잔액 부족')\n",
    "        #에러 문구 출력\n",
    "\n",
    "    #실습문제2번 : 계좌이체 구현\n",
    "    def transfer(self, other, amount): \n",
    "        # self, other : BankAccount instance\n",
    "        # amount : number\n",
    "\n",
    "        #case 1 :잔액 충분\n",
    "        if self.balance >= amount:\n",
    "            self.withdraw(amount)\n",
    "            other.deposit(amount)\n",
    "        \n",
    "        #case 2 :잔액 부족\n",
    "        self.other=other\n",
    "        self.amount=amount\n",
    "        \n",
    "    \n",
    "    def get_info(self):\n",
    "        print(\"Balance:\", self.balance)\n",
    "        print(\"Name:\", self.name)\n",
    "\n",
    "# 실제로 acc가 100이 늘어났음을 확인할 수 있음\n",
    "print(acc.balance)"
   ]
  },
  {
   "cell_type": "code",
   "execution_count": null,
   "id": "82d3bc73-eb99-4bdc-bb78-587611830bf2",
   "metadata": {},
   "outputs": [],
   "source": []
  },
  {
   "cell_type": "code",
   "execution_count": null,
   "id": "c9674c94-b1ac-45a9-8413-247c05bc2217",
   "metadata": {},
   "outputs": [],
   "source": []
  },
  {
   "cell_type": "code",
   "execution_count": null,
   "id": "cfcd8952-937d-4ff7-8daf-83cdc823f2a7",
   "metadata": {},
   "outputs": [],
   "source": []
  },
  {
   "cell_type": "code",
   "execution_count": null,
   "id": "0e172ca6-25dd-4695-b22e-1abfd694e084",
   "metadata": {},
   "outputs": [],
   "source": []
  },
  {
   "cell_type": "code",
   "execution_count": null,
   "id": "0354d210-43c0-436d-b0f5-77ecb1ce5e9b",
   "metadata": {},
   "outputs": [],
   "source": []
  },
  {
   "cell_type": "code",
   "execution_count": null,
   "id": "9f8197a9-7799-47b7-b867-e6bac72695a5",
   "metadata": {},
   "outputs": [],
   "source": []
  },
  {
   "cell_type": "code",
   "execution_count": null,
   "id": "4b4b2351-641b-469b-b84c-57611e36295d",
   "metadata": {},
   "outputs": [],
   "source": []
  },
  {
   "cell_type": "code",
   "execution_count": null,
   "id": "71096ff1-c471-4cf9-a7b5-95dcc1aac1da",
   "metadata": {},
   "outputs": [],
   "source": []
  },
  {
   "cell_type": "code",
   "execution_count": null,
   "id": "eb9511d0-58f3-4c26-bf6f-60130601c596",
   "metadata": {},
   "outputs": [],
   "source": []
  },
  {
   "cell_type": "code",
   "execution_count": null,
   "id": "d22401a8-ff3b-4796-b22b-f04417007885",
   "metadata": {},
   "outputs": [],
   "source": []
  },
  {
   "cell_type": "code",
   "execution_count": null,
   "id": "dfd8d264-9f2f-4a89-901a-11820a560dda",
   "metadata": {},
   "outputs": [],
   "source": []
  },
  {
   "cell_type": "code",
   "execution_count": null,
   "id": "430168da-801f-4665-8643-05950ec57a90",
   "metadata": {},
   "outputs": [],
   "source": []
  },
  {
   "cell_type": "code",
   "execution_count": null,
   "id": "d7f768e5-bda5-4ffa-84b9-27d9dd9082b4",
   "metadata": {},
   "outputs": [],
   "source": []
  },
  {
   "cell_type": "code",
   "execution_count": null,
   "id": "b915ef66-c121-42bf-9f73-e95559478cde",
   "metadata": {},
   "outputs": [],
   "source": []
  },
  {
   "cell_type": "code",
   "execution_count": null,
   "id": "df5b810f-6ef0-402e-afa2-bad8d2195e73",
   "metadata": {},
   "outputs": [],
   "source": []
  },
  {
   "cell_type": "code",
   "execution_count": null,
   "id": "9f4edb06-ec67-4422-81ab-c9bce8e04c18",
   "metadata": {},
   "outputs": [],
   "source": []
  },
  {
   "cell_type": "code",
   "execution_count": null,
   "id": "c940b51a-52e1-4c64-9d07-1e9ebcb1adb3",
   "metadata": {},
   "outputs": [],
   "source": []
  }
 ],
 "metadata": {
  "kernelspec": {
   "display_name": "Python 3 (ipykernel)",
   "language": "python",
   "name": "python3"
  },
  "language_info": {
   "codemirror_mode": {
    "name": "ipython",
    "version": 3
   },
   "file_extension": ".py",
   "mimetype": "text/x-python",
   "name": "python",
   "nbconvert_exporter": "python",
   "pygments_lexer": "ipython3",
   "version": "3.11.5"
  }
 },
 "nbformat": 4,
 "nbformat_minor": 5
}
