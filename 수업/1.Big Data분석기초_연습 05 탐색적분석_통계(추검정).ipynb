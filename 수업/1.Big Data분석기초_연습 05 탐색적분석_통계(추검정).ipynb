{
 "cells": [
  {
   "cell_type": "markdown",
   "metadata": {},
   "source": [
    "## 1.Big Data분석기초_연습_05_탐색적분석_통계(추검정)"
   ]
  },
  {
   "cell_type": "markdown",
   "metadata": {},
   "source": [
    "0. pytnon 패키지 불러오기"
   ]
  },
  {
   "cell_type": "code",
   "execution_count": 1,
   "metadata": {},
   "outputs": [],
   "source": [
    "# 데이터 구성 패키지: Series, DataFrame\n",
    "import pandas as pd\n",
    "# 행렬 연산 패키지\n",
    "import numpy as np\n",
    "\n",
    "# 데이터 시각화 패키지\n",
    "import matplotlib\n",
    "import matplotlib.pyplot as plt\n",
    "import seaborn as sns\n",
    "\n",
    "# 가설검정 및 통계 분석 패키지\n",
    "import scipy.stats as stats\n",
    "from statsmodels.formula.api import ols\n",
    "\n",
    "# 그래프 표시\n",
    "%matplotlib inline"
   ]
  },
  {
   "cell_type": "code",
   "execution_count": 2,
   "metadata": {},
   "outputs": [],
   "source": [
    "# 한글 폰트(맑은 고딕) 적용 : 윈도우, 구글 콜랩\n",
    "matplotlib.rc('font', family='Malgun Gothic')\n",
    "# 음수 표시\n",
    "matplotlib.rc('axes', unicode_minus = False)"
   ]
  },
  {
   "cell_type": "code",
   "execution_count": 3,
   "metadata": {},
   "outputs": [],
   "source": [
    "# 실행결과 경고메시지 출력 제외\n",
    "import warnings\n",
    "warnings.filterwarnings('ignore')"
   ]
  },
  {
   "cell_type": "markdown",
   "metadata": {},
   "source": [
    "### 1. 연습 (정규성 검정)\n",
    "   - 실습파일  camshaft 데이터 불러온다 \n",
    "   - 변수 Supp1에 대해 정규성을 검정( data set : camshaft )"
   ]
  },
  {
   "cell_type": "code",
   "execution_count": 4,
   "metadata": {},
   "outputs": [],
   "source": [
    "# 가설검정 및 통계 분석 패키지 가져오기\n",
    "# from scipy.stats import shapiro"
   ]
  },
  {
   "cell_type": "code",
   "execution_count": 5,
   "metadata": {},
   "outputs": [
    {
     "data": {
      "text/html": [
       "<div>\n",
       "<style scoped>\n",
       "    .dataframe tbody tr th:only-of-type {\n",
       "        vertical-align: middle;\n",
       "    }\n",
       "\n",
       "    .dataframe tbody tr th {\n",
       "        vertical-align: top;\n",
       "    }\n",
       "\n",
       "    .dataframe thead th {\n",
       "        text-align: right;\n",
       "    }\n",
       "</style>\n",
       "<table border=\"1\" class=\"dataframe\">\n",
       "  <thead>\n",
       "    <tr style=\"text-align: right;\">\n",
       "      <th></th>\n",
       "      <th>Length</th>\n",
       "      <th>Supp1</th>\n",
       "      <th>Supp2</th>\n",
       "    </tr>\n",
       "  </thead>\n",
       "  <tbody>\n",
       "    <tr>\n",
       "      <th>0</th>\n",
       "      <td>601.4</td>\n",
       "      <td>598.0</td>\n",
       "      <td>601.6</td>\n",
       "    </tr>\n",
       "    <tr>\n",
       "      <th>1</th>\n",
       "      <td>601.6</td>\n",
       "      <td>599.8</td>\n",
       "      <td>600.4</td>\n",
       "    </tr>\n",
       "    <tr>\n",
       "      <th>2</th>\n",
       "      <td>598.0</td>\n",
       "      <td>600.0</td>\n",
       "      <td>598.4</td>\n",
       "    </tr>\n",
       "    <tr>\n",
       "      <th>3</th>\n",
       "      <td>601.4</td>\n",
       "      <td>599.8</td>\n",
       "      <td>600.0</td>\n",
       "    </tr>\n",
       "    <tr>\n",
       "      <th>4</th>\n",
       "      <td>599.4</td>\n",
       "      <td>600.0</td>\n",
       "      <td>596.8</td>\n",
       "    </tr>\n",
       "  </tbody>\n",
       "</table>\n",
       "</div>"
      ],
      "text/plain": [
       "   Length  Supp1  Supp2\n",
       "0   601.4  598.0  601.6\n",
       "1   601.6  599.8  600.4\n",
       "2   598.0  600.0  598.4\n",
       "3   601.4  599.8  600.0\n",
       "4   599.4  600.0  596.8"
      ]
     },
     "execution_count": 5,
     "metadata": {},
     "output_type": "execute_result"
    }
   ],
   "source": [
    "# camshaft 데이터 가져오기\n",
    "df = pd.read_csv(\"D:/data/bigdata_기초01/camshaft.csv\")\n",
    "df.head()"
   ]
  },
  {
   "cell_type": "code",
   "execution_count": 6,
   "metadata": {},
   "outputs": [
    {
     "data": {
      "text/plain": [
       "NormaltestResult(statistic=2.2562877208229604, pvalue=0.3236334080481965)"
      ]
     },
     "execution_count": 6,
     "metadata": {},
     "output_type": "execute_result"
    }
   ],
   "source": [
    "stats.normaltest(df['Supp1'])"
   ]
  },
  {
   "cell_type": "code",
   "execution_count": 7,
   "metadata": {},
   "outputs": [],
   "source": [
    "# 정규성 검정 : Shapiro-Wilk Test\n",
    "statistic, p = stats.shapiro(df['Supp1'])"
   ]
  },
  {
   "cell_type": "code",
   "execution_count": 8,
   "metadata": {},
   "outputs": [
    {
     "name": "stdout",
     "output_type": "stream",
     "text": [
      "Shapiro-Wilk Test: statistic=0.9788166284561157, p-value=0.1074606254696846\n"
     ]
    }
   ],
   "source": [
    "print(\"Shapiro-Wilk Test: statistic={}, p-value={}\".format(statistic, p))"
   ]
  },
  {
   "cell_type": "code",
   "execution_count": 9,
   "metadata": {},
   "outputs": [],
   "source": [
    "# 정규성 검정 : perform Anderson-Darling Test \n",
    "statistic  = stats.anderson(df['Supp1'])"
   ]
  },
  {
   "cell_type": "code",
   "execution_count": 10,
   "metadata": {},
   "outputs": [
    {
     "name": "stdout",
     "output_type": "stream",
     "text": [
      "Anderson Test: statistic=AndersonResult(statistic=0.8444390379245448, critical_values=array([0.555, 0.632, 0.759, 0.885, 1.053]), significance_level=array([15. , 10. ,  5. ,  2.5,  1. ]), fit_result=  params: FitParams(loc=599.548, scale=0.61929904983886)\n",
      " success: True\n",
      " message: '`anderson` successfully fit the distribution to the data.'), p-value=0.1074606254696846\n"
     ]
    }
   ],
   "source": [
    "print(\"Anderson Test: statistic={}, p-value={}\".format(statistic, p))"
   ]
  },
  {
   "cell_type": "markdown",
   "metadata": {},
   "source": [
    "- ※ 정규성 검정에서는 p-value가 유의수준 0.05보다 클 경우 표본이 정규분포를 따른다고 판단할 수 있습니다. \n",
    "- ※ 따라서 p-value 0.107은 유의수준 5% 보다 크므로 표본이 정규분포를 따른다고 할 수 있습니다"
   ]
  },
  {
   "cell_type": "markdown",
   "metadata": {},
   "source": [
    "### 2. 연습 (모평균 구간추정)\n",
    "  - 새로운 품종의 배추 40통을 랜덤추출하여 무게를 측정할 결과가 다음과 같음\n",
    "  - (단,모표준편차는 0.397) 이 자료로부터 신품종 배추의 평균 무게에 대한 95% 신뢰구간을 구하시오."
   ]
  },
  {
   "cell_type": "code",
   "execution_count": 11,
   "metadata": {},
   "outputs": [
    {
     "data": {
      "text/html": [
       "<div>\n",
       "<style scoped>\n",
       "    .dataframe tbody tr th:only-of-type {\n",
       "        vertical-align: middle;\n",
       "    }\n",
       "\n",
       "    .dataframe tbody tr th {\n",
       "        vertical-align: top;\n",
       "    }\n",
       "\n",
       "    .dataframe thead th {\n",
       "        text-align: right;\n",
       "    }\n",
       "</style>\n",
       "<table border=\"1\" class=\"dataframe\">\n",
       "  <thead>\n",
       "    <tr style=\"text-align: right;\">\n",
       "      <th></th>\n",
       "      <th>wgt</th>\n",
       "    </tr>\n",
       "  </thead>\n",
       "  <tbody>\n",
       "    <tr>\n",
       "      <th>0</th>\n",
       "      <td>3.6</td>\n",
       "    </tr>\n",
       "    <tr>\n",
       "      <th>1</th>\n",
       "      <td>2.9</td>\n",
       "    </tr>\n",
       "    <tr>\n",
       "      <th>2</th>\n",
       "      <td>2.8</td>\n",
       "    </tr>\n",
       "    <tr>\n",
       "      <th>3</th>\n",
       "      <td>2.6</td>\n",
       "    </tr>\n",
       "    <tr>\n",
       "      <th>4</th>\n",
       "      <td>3.4</td>\n",
       "    </tr>\n",
       "  </tbody>\n",
       "</table>\n",
       "</div>"
      ],
      "text/plain": [
       "   wgt\n",
       "0  3.6\n",
       "1  2.9\n",
       "2  2.8\n",
       "3  2.6\n",
       "4  3.4"
      ]
     },
     "execution_count": 11,
     "metadata": {},
     "output_type": "execute_result"
    }
   ],
   "source": [
    "# 데이터 직접입력\n",
    "df = pd.DataFrame({'wgt':[3.6, 2.9, 2.8, 2.6, 3.4, 3.2, 2.2, 2.6, \n",
    "                          2.6, 2.4, 2.4, 2.6, 3.4, 2.4, 2.1, 2.6, \n",
    "                          3.0, 2.4, 2.7, 2.4, 2.6, 2.9, 2.9, 2.0, \n",
    "                          2.7, 2.2, 2.8, 2.7, 1.8, 2.5, 3.0, 3.2, \n",
    "                          2.8, 2.6, 3.2, 3.1, 2.9, 2.7, 2.7, 2.2]})\n",
    "df.head()"
   ]
  },
  {
   "cell_type": "code",
   "execution_count": 12,
   "metadata": {},
   "outputs": [
    {
     "name": "stdout",
     "output_type": "stream",
     "text": [
      "Shapiro-Wilk Test: statistic=0.9854053258895874, p-value=0.8764940500259399\n"
     ]
    }
   ],
   "source": [
    "statistic, p = stats.shapiro(df)\n",
    "print(\"Shapiro-Wilk Test: statistic={}, p-value={}\".format(statistic, p))"
   ]
  },
  {
   "cell_type": "code",
   "execution_count": 13,
   "metadata": {},
   "outputs": [
    {
     "name": "stdout",
     "output_type": "stream",
     "text": [
      "신뢰구간: ([2.57], [2.82])\n"
     ]
    }
   ],
   "source": [
    "# 모평균 신뢰구간 추정 : (loc: 평균의 값, scale: 변동 정도)  \n",
    "# 정규분포 구간 추정 함수 실행 (신뢰수준:0.95, 표본평균: 2.70, 모표준편차:0.397 )\n",
    "\n",
    "lower, upper = stats.norm.interval(0.95, loc = np.mean(df), \n",
    "                                   scale = 0.397/np.sqrt(40))\n",
    "print(\"신뢰구간: ({0}, {1})\" .format(lower.round(2), upper.round(2)))"
   ]
  },
  {
   "cell_type": "markdown",
   "metadata": {},
   "source": [
    "### 2. 연습 (모평균 신뢰구간 추정 - 모표준편차를 모르는 경우) \n",
    "  - 제품개발자는 새로 개발된 강종의 평균 인장강도를 55 kg/mm2으로 기대하고 있음. 이를 검증하기 위해 시험 생산되는 강종 중 임의로 20개의 코일을 대상으로 랜덤하게 시편을 채취하였음. "
   ]
  },
  {
   "cell_type": "code",
   "execution_count": 14,
   "metadata": {},
   "outputs": [
    {
     "data": {
      "text/html": [
       "<div>\n",
       "<style scoped>\n",
       "    .dataframe tbody tr th:only-of-type {\n",
       "        vertical-align: middle;\n",
       "    }\n",
       "\n",
       "    .dataframe tbody tr th {\n",
       "        vertical-align: top;\n",
       "    }\n",
       "\n",
       "    .dataframe thead th {\n",
       "        text-align: right;\n",
       "    }\n",
       "</style>\n",
       "<table border=\"1\" class=\"dataframe\">\n",
       "  <thead>\n",
       "    <tr style=\"text-align: right;\">\n",
       "      <th></th>\n",
       "      <th>streng</th>\n",
       "    </tr>\n",
       "  </thead>\n",
       "  <tbody>\n",
       "    <tr>\n",
       "      <th>0</th>\n",
       "      <td>54.1</td>\n",
       "    </tr>\n",
       "    <tr>\n",
       "      <th>1</th>\n",
       "      <td>53.3</td>\n",
       "    </tr>\n",
       "    <tr>\n",
       "      <th>2</th>\n",
       "      <td>56.1</td>\n",
       "    </tr>\n",
       "    <tr>\n",
       "      <th>3</th>\n",
       "      <td>55.7</td>\n",
       "    </tr>\n",
       "    <tr>\n",
       "      <th>4</th>\n",
       "      <td>54.0</td>\n",
       "    </tr>\n",
       "  </tbody>\n",
       "</table>\n",
       "</div>"
      ],
      "text/plain": [
       "   streng\n",
       "0    54.1\n",
       "1    53.3\n",
       "2    56.1\n",
       "3    55.7\n",
       "4    54.0"
      ]
     },
     "execution_count": 14,
     "metadata": {},
     "output_type": "execute_result"
    }
   ],
   "source": [
    "# df를 직접 입력 \n",
    "df = pd.DataFrame({'streng':[54.1, 53.3, 56.1, 55.7, 54.0, 54.1, 54.5, \n",
    "                             57.1, 55.2, 53.8, 54.1, 54.1, 56.1, 55.0, \n",
    "                             55.9, 56.0, 54.9, 54.3, 53.9, 55.0]})\n",
    "df.head()"
   ]
  },
  {
   "cell_type": "code",
   "execution_count": 15,
   "metadata": {},
   "outputs": [
    {
     "name": "stdout",
     "output_type": "stream",
     "text": [
      "신뢰구간: ([54.39], [55.33])\n"
     ]
    }
   ],
   "source": [
    "# t 분포 구간추정 함수 실행 : (loc: 평균의 값, scale: 변동 정도)  \n",
    "lower, upper = stats.t.interval(0.95, len(df)-1, loc = np.mean(df), \n",
    "                                scale = stats.sem(df))\n",
    "print(\"신뢰구간: ({0}, {1})\" .format(lower.round(2), upper.round(2)))"
   ]
  },
  {
   "cell_type": "markdown",
   "metadata": {},
   "source": [
    "### 3. 연습 (1-Sample t-test) : 모표준편차를 모를 때\n",
    "  - 고객서비스센터의 고객만족도 평균은 76.7이다. 개선활동을 완료한 후 다음과 같은 10개의 고객만족도 데이터를 얻었다.  개선활동이 만족도를 변화시켰는가? ( α =0.05 )\n",
    "  - 데이터 : 74.5, 81.2, 73.8, 82.0, 76.3, 75.7, 80.2, 72.6, 77.9, 82.8\n",
    "   (Mean =  77.7   S = 3.66)"
   ]
  },
  {
   "cell_type": "code",
   "execution_count": 16,
   "metadata": {},
   "outputs": [
    {
     "data": {
      "text/html": [
       "<div>\n",
       "<style scoped>\n",
       "    .dataframe tbody tr th:only-of-type {\n",
       "        vertical-align: middle;\n",
       "    }\n",
       "\n",
       "    .dataframe tbody tr th {\n",
       "        vertical-align: top;\n",
       "    }\n",
       "\n",
       "    .dataframe thead th {\n",
       "        text-align: right;\n",
       "    }\n",
       "</style>\n",
       "<table border=\"1\" class=\"dataframe\">\n",
       "  <thead>\n",
       "    <tr style=\"text-align: right;\">\n",
       "      <th></th>\n",
       "      <th>satisfaction</th>\n",
       "    </tr>\n",
       "  </thead>\n",
       "  <tbody>\n",
       "    <tr>\n",
       "      <th>0</th>\n",
       "      <td>74.5</td>\n",
       "    </tr>\n",
       "    <tr>\n",
       "      <th>1</th>\n",
       "      <td>81.2</td>\n",
       "    </tr>\n",
       "    <tr>\n",
       "      <th>2</th>\n",
       "      <td>73.8</td>\n",
       "    </tr>\n",
       "    <tr>\n",
       "      <th>3</th>\n",
       "      <td>82.0</td>\n",
       "    </tr>\n",
       "    <tr>\n",
       "      <th>4</th>\n",
       "      <td>76.3</td>\n",
       "    </tr>\n",
       "  </tbody>\n",
       "</table>\n",
       "</div>"
      ],
      "text/plain": [
       "   satisfaction\n",
       "0          74.5\n",
       "1          81.2\n",
       "2          73.8\n",
       "3          82.0\n",
       "4          76.3"
      ]
     },
     "execution_count": 16,
     "metadata": {},
     "output_type": "execute_result"
    }
   ],
   "source": [
    "# df를 직접 입력 \n",
    "df = pd.DataFrame({'satisfaction': [74.5, 81.2, 73.8, 82.0, 76.3, 75.7, 80.2, 72.6, \n",
    "                                    77.9, 82.8]})\n",
    "df.head()"
   ]
  },
  {
   "cell_type": "code",
   "execution_count": 17,
   "metadata": {},
   "outputs": [
    {
     "data": {
      "text/plain": [
       "<Axes: >"
      ]
     },
     "execution_count": 17,
     "metadata": {},
     "output_type": "execute_result"
    },
    {
     "data": {
      "image/png": "[encoded data removed]",
      "text/plain": [
       "<Figure size 640x480 with 1 Axes>"
      ]
     },
     "metadata": {},
     "output_type": "display_data"
    }
   ],
   "source": [
    "# boxplot\n",
    "df.boxplot()"
   ]
  },
  {
   "cell_type": "code",
   "execution_count": 18,
   "metadata": {},
   "outputs": [
    {
     "name": "stdout",
     "output_type": "stream",
     "text": [
      "statistic=0.9331594705581665, p-value=0.4796782433986664\n"
     ]
    }
   ],
   "source": [
    "# 정규성 검정: Shapiro-Wilk Test\n",
    "statistic, p = stats.shapiro(df)\n",
    "print(\"statistic={}, p-value={}\".format(statistic, p))"
   ]
  },
  {
   "cell_type": "markdown",
   "metadata": {},
   "source": [
    "※ 결론 : 정규분포를 따른다고 할 수 있다"
   ]
  },
  {
   "cell_type": "code",
   "execution_count": 19,
   "metadata": {
    "scrolled": true
   },
   "outputs": [],
   "source": [
    "# 1-Sample t-test\n",
    "t_result = stats.ttest_1samp(df, 76.7)\n",
    "\n",
    "# t값, p값 \n",
    "t, p = t_result.statistic, t_result.pvalue"
   ]
  },
  {
   "cell_type": "code",
   "execution_count": 20,
   "metadata": {},
   "outputs": [
    {
     "name": "stdout",
     "output_type": "stream",
     "text": [
      " 1-Sample t-test \n",
      "  t검정 통계량 : [0.86437028] \n",
      "  p-value : [0.40983028] \n"
     ]
    }
   ],
   "source": [
    "# 1-Sample t-test의 t값 p값 출력\n",
    "print( \" 1-Sample t-test \")\n",
    "print( \"  t검정 통계량 : {} \" .format(t)) ; print( \"  p-value : {} \" .format(p))"
   ]
  },
  {
   "cell_type": "markdown",
   "metadata": {},
   "source": [
    "※ 결론 : 유의수준 5%에서 검정결과, P값이 0.41이므로 개선활동으로 고객만족도 변화를 시켰다고 할 수 없다"
   ]
  },
  {
   "cell_type": "markdown",
   "metadata": {},
   "source": [
    "### 4. 연습 (2-Sample t-test) : 두 집단 간 평균이 같은지 검정\n",
    "  - 고객만족도 확인을 위하여 A고객과 B고객에 대해 Survey하여 다음의 데이터를 얻었다.A고객과 B고객의 모평균에 차이가 있다고 할 수 있는가?  (유의수준 α = 0.05)\n"
   ]
  },
  {
   "cell_type": "code",
   "execution_count": 21,
   "metadata": {
    "scrolled": true
   },
   "outputs": [
    {
     "data": {
      "text/html": [
       "<div>\n",
       "<style scoped>\n",
       "    .dataframe tbody tr th:only-of-type {\n",
       "        vertical-align: middle;\n",
       "    }\n",
       "\n",
       "    .dataframe tbody tr th {\n",
       "        vertical-align: top;\n",
       "    }\n",
       "\n",
       "    .dataframe thead th {\n",
       "        text-align: right;\n",
       "    }\n",
       "</style>\n",
       "<table border=\"1\" class=\"dataframe\">\n",
       "  <thead>\n",
       "    <tr style=\"text-align: right;\">\n",
       "      <th></th>\n",
       "      <th>A</th>\n",
       "      <th>B</th>\n",
       "    </tr>\n",
       "  </thead>\n",
       "  <tbody>\n",
       "    <tr>\n",
       "      <th>0</th>\n",
       "      <td>6</td>\n",
       "      <td>7</td>\n",
       "    </tr>\n",
       "    <tr>\n",
       "      <th>1</th>\n",
       "      <td>5</td>\n",
       "      <td>6</td>\n",
       "    </tr>\n",
       "    <tr>\n",
       "      <th>2</th>\n",
       "      <td>5</td>\n",
       "      <td>7</td>\n",
       "    </tr>\n",
       "    <tr>\n",
       "      <th>3</th>\n",
       "      <td>4</td>\n",
       "      <td>8</td>\n",
       "    </tr>\n",
       "    <tr>\n",
       "      <th>4</th>\n",
       "      <td>6</td>\n",
       "      <td>7</td>\n",
       "    </tr>\n",
       "  </tbody>\n",
       "</table>\n",
       "</div>"
      ],
      "text/plain": [
       "   A  B\n",
       "0  6  7\n",
       "1  5  6\n",
       "2  5  7\n",
       "3  4  8\n",
       "4  6  7"
      ]
     },
     "execution_count": 21,
     "metadata": {},
     "output_type": "execute_result"
    }
   ],
   "source": [
    "# 데이터 가져오기 ( data set : 2sample.csv ) \n",
    "# Data직접 입력 \n",
    "df = pd.DataFrame({'A': [6, 5, 5, 4, 6, 7, 6, 4, 5, 6, 4, 5, 5, 6, 4, 8, 6, 5, 6, 7], \n",
    "                   'B': [7, 6, 7, 8, 7, 8, 8, 5, 7, 6, 5, 5, 6, 6, 5, 7, 9, 7, 7, 8]})\n",
    "df.head()"
   ]
  },
  {
   "cell_type": "code",
   "execution_count": 22,
   "metadata": {},
   "outputs": [
    {
     "data": {
      "text/plain": [
       "<Axes: >"
      ]
     },
     "execution_count": 22,
     "metadata": {},
     "output_type": "execute_result"
    },
    {
     "data": {
      "image/png": "[encoded data removed]",
      "text/plain": [
       "<Figure size 640x480 with 1 Axes>"
      ]
     },
     "metadata": {},
     "output_type": "display_data"
    }
   ],
   "source": [
    "# Group별 boxplot\n",
    "df.boxplot()"
   ]
  },
  {
   "cell_type": "code",
   "execution_count": 23,
   "metadata": {},
   "outputs": [],
   "source": [
    "#'cust A' 정규성 검정: Shapiro-Wilk Test\n",
    "statistic, p = stats.shapiro(df['A'])"
   ]
  },
  {
   "cell_type": "code",
   "execution_count": 24,
   "metadata": {},
   "outputs": [
    {
     "name": "stdout",
     "output_type": "stream",
     "text": [
      "statistic=0.9094840288162231, p-value=0.06230909377336502\n"
     ]
    }
   ],
   "source": [
    "print(\"statistic={}, p-value={}\".format(statistic,p))"
   ]
  },
  {
   "cell_type": "code",
   "execution_count": 25,
   "metadata": {},
   "outputs": [],
   "source": [
    "#'cust B' 정규성 검정: Shapiro-Wilk Test\n",
    "statistic, p = stats.shapiro(df['B'])"
   ]
  },
  {
   "cell_type": "code",
   "execution_count": 26,
   "metadata": {},
   "outputs": [
    {
     "name": "stdout",
     "output_type": "stream",
     "text": [
      "statistic=0.914249062538147, p-value=0.07683517038822174\n"
     ]
    }
   ],
   "source": [
    "print(\"statistic={}, p-value={}\".format(statistic, p))"
   ]
  },
  {
   "cell_type": "markdown",
   "metadata": {},
   "source": [
    "※ 'cust A' p-value가 0.06 , 'cust B' p-value가 0.067 이므로, 두 집단 모두 정규성이 있다라고 할 수 있다"
   ]
  },
  {
   "cell_type": "code",
   "execution_count": 27,
   "metadata": {},
   "outputs": [
    {
     "data": {
      "text/plain": [
       "BartlettResult(statistic=0.0784806443146898, pvalue=0.7793670509889603)"
      ]
     },
     "execution_count": 27,
     "metadata": {},
     "output_type": "execute_result"
    }
   ],
   "source": [
    "# equal variance test \n",
    "stats.bartlett(df['A'], df['B'])"
   ]
  },
  {
   "cell_type": "markdown",
   "metadata": {},
   "source": [
    "※ p-value가 0.54이므로, 두 집단의 분산은 같다고 할 수 있다"
   ]
  },
  {
   "cell_type": "code",
   "execution_count": 28,
   "metadata": {},
   "outputs": [],
   "source": [
    "# 2-Sample t-test\n",
    "t_result = stats.ttest_ind(df['A'], df['B'], equal_var = True)\n",
    "\n",
    "# t값,  p값  \n",
    "t, p = t_result.statistic, t_result.pvalue"
   ]
  },
  {
   "cell_type": "code",
   "execution_count": 29,
   "metadata": {},
   "outputs": [
    {
     "name": "stdout",
     "output_type": "stream",
     "text": [
      " 2-Sample t-test \n",
      "  t검정통계량: -3.3349589531975052 \n",
      " p-value : 0.0019136289265287215 \n"
     ]
    }
   ],
   "source": [
    "# 2-Sample t-test의 t값 p값 출력\n",
    "print( \" 2-Sample t-test \")\n",
    "print( \"  t검정통계량: {} \" .format(t)) ; print( \" p-value : {} \" .format(p))"
   ]
  },
  {
   "cell_type": "markdown",
   "metadata": {},
   "source": [
    "※ 결론 : 유의수준 5%에서 검정결과 P값이 0.001 이므로 고객간에 고객만족도의 차이가 있다 "
   ]
  },
  {
   "cell_type": "markdown",
   "metadata": {},
   "source": [
    "### 5.연습 (Paired t-test):짝 이루는 집단의 평균 차이 검정\n",
    "  - 회사원 10명에 대해  영어점수가 학원가기 전의 점수와 학원수강 후에 영어점수가 짝을 이루고 있다. 회사원들의 성적은 학원가기 전후에 대해 차이가 있는지 검정하라. \n"
   ]
  },
  {
   "cell_type": "code",
   "execution_count": 30,
   "metadata": {},
   "outputs": [],
   "source": [
    "# df1, df2를 직접 입력 \n",
    "df1 = pd.DataFrame({'before': [720, 589, 780, 648, 720, 589, 780, 648, 780, 648]})\n",
    "df2 = pd.DataFrame({'after': [810, 670, 790, 712, 810, 670, 790, 712, 790, 712]})"
   ]
  },
  {
   "cell_type": "code",
   "execution_count": 31,
   "metadata": {},
   "outputs": [],
   "source": [
    "# Paired t-test\n",
    "t_result = stats.ttest_rel(df1['before'], df2['after'])\n",
    "\n",
    "# t값, p값 \n",
    "t, p = t_result.statistic, t_result.pvalue"
   ]
  },
  {
   "cell_type": "code",
   "execution_count": 32,
   "metadata": {},
   "outputs": [
    {
     "name": "stdout",
     "output_type": "stream",
     "text": [
      "Paired t-test \n",
      " t: -5.3239144979574125 \n",
      " p: 0.00047850760899337117 \n"
     ]
    }
   ],
   "source": [
    "# Paired t-test의 t값 p값 출력\n",
    "print( \"Paired t-test \")\n",
    "print( \" t: {} \" .format(t))\n",
    "print( \" p: {} \" .format(p))"
   ]
  },
  {
   "cell_type": "markdown",
   "metadata": {},
   "source": [
    "※ 결론 : 유의수준 5%에서 검정결과  P값이 \"0.0\" 이므로 학원 수강 전후의 점수는 차이가 있다고 할 수 있다."
   ]
  },
  {
   "cell_type": "markdown",
   "metadata": {},
   "source": [
    "### 6. 연습 (1 Propotion test)\n",
    "고급강 A제품을 가공하는 국내 고객사는 전체 중에 10% 정도가 품질만족을 나타내고 있다. \n",
    " 한 해 동안 A제품의 품질개선의 노력을 통하여 전체고객 중 100여 개의 업체를 표본으로 \u000b",
    " 하여 가공품질을 확인한 결과, 15개의 업체가 품질만족을 나타냈다. \u000b",
    " 그러면 기존보다 품질만족의 비율에 차이가 있겠는가?   (유의수준=0.05)"
   ]
  },
  {
   "cell_type": "code",
   "execution_count": 33,
   "metadata": {},
   "outputs": [],
   "source": [
    "# proportion test 패키지\n",
    "from statsmodels.stats.proportion import proportions_ztest"
   ]
  },
  {
   "cell_type": "code",
   "execution_count": 34,
   "metadata": {},
   "outputs": [],
   "source": [
    "# 가설 설정\n",
    "# Ho : p =  0.1\n",
    "# H1 : p ≠ 0.1      * p^ = x/n = 15/100= 0.15\n",
    "\n",
    "# 변수 선언 \n",
    "count = 15\n",
    "n_obs = 100\n",
    "value = 0.1\n",
    "\n",
    "# Proportion test 실행\n",
    "statistic, p = proportions_ztest(count, n_obs, value)"
   ]
  },
  {
   "cell_type": "code",
   "execution_count": 35,
   "metadata": {},
   "outputs": [
    {
     "name": "stdout",
     "output_type": "stream",
     "text": [
      "1 Proportion test\n",
      " z: 1.400\n",
      " p: 0.161\n"
     ]
    }
   ],
   "source": [
    "# Proportion test 결과 출력\n",
    "print( \"1 Proportion test\")\n",
    "print( ' z: {0:0.3f}' .format(statistic))\n",
    "print( ' p: {0:0.3f}'.format(p))"
   ]
  },
  {
   "cell_type": "markdown",
   "metadata": {},
   "source": [
    "※ 결론 : 결과적으로 고급강 A제품에 대해 품질개선 결과 기존 대비 사용비율이 차이가 있다고 할 수 없다."
   ]
  },
  {
   "cell_type": "markdown",
   "metadata": {},
   "source": [
    "### 7. 연습 (2 Propotion test)\n",
    "  - 동일한 제품을 생산하는 두 공장에서 불량률을 측정한 결과 아래와 같다.두 공정의 불량률이 같다고 할 수 있는가?(유의수준(a)=0.05) \n",
    "    - 공장 1 : N1 = 1000 , X1 = 4  \n",
    "    - 공장 2 : N2 = 1200 , X2 = 1"
   ]
  },
  {
   "cell_type": "code",
   "execution_count": 36,
   "metadata": {},
   "outputs": [
    {
     "name": "stdout",
     "output_type": "stream",
     "text": [
      "[4 1]\n"
     ]
    }
   ],
   "source": [
    "# 변수 선언 : 불량수\n",
    "count = np.array([4, 1])\n",
    "print(count)"
   ]
  },
  {
   "cell_type": "code",
   "execution_count": 37,
   "metadata": {},
   "outputs": [
    {
     "name": "stdout",
     "output_type": "stream",
     "text": [
      "[1000 1200]\n"
     ]
    }
   ],
   "source": [
    "# 변수 선언 : 관측치\n",
    "n_obs = np.array([1000, 1200])\n",
    "print(n_obs)"
   ]
  },
  {
   "cell_type": "code",
   "execution_count": 38,
   "metadata": {
    "scrolled": true
   },
   "outputs": [],
   "source": [
    "# Proportion test 실행\n",
    "stat, p = proportions_ztest(count, n_obs)"
   ]
  },
  {
   "cell_type": "code",
   "execution_count": 39,
   "metadata": {},
   "outputs": [
    {
     "name": "stdout",
     "output_type": "stream",
     "text": [
      "2 Proportion test \n",
      "z검정통계량:1.553\n",
      "p-value:0.120\n"
     ]
    }
   ],
   "source": [
    "# Proportion test 결과 출력\n",
    "print(\"2 Proportion test \")\n",
    "print('z검정통계량:{0:0.3f}'.format(stat)) ; print('p-value:{0:0.3f}'.format(p))"
   ]
  },
  {
   "cell_type": "markdown",
   "metadata": {},
   "source": [
    "※ 결론 : 유의수준 5%에서, p-value> 0.05 이므로 두 공장의 불량률은 차이가 있다고 할 수 없다."
   ]
  },
  {
   "cell_type": "markdown",
   "metadata": {},
   "source": [
    "### 8. 연습 (카이제곱 검정, chi-square test) \n",
    "   - 근무조별로 철강제품을 생산하고 있는데, 생산 제품의 규격이 3가지 종류가 있다.근무조별로 제품을 생산하는 부하는 차이가 있겠는가? (유의수준 0.05)"
   ]
  },
  {
   "cell_type": "code",
   "execution_count": 40,
   "metadata": {},
   "outputs": [
    {
     "data": {
      "text/html": [
       "<div>\n",
       "<style scoped>\n",
       "    .dataframe tbody tr th:only-of-type {\n",
       "        vertical-align: middle;\n",
       "    }\n",
       "\n",
       "    .dataframe tbody tr th {\n",
       "        vertical-align: top;\n",
       "    }\n",
       "\n",
       "    .dataframe thead th {\n",
       "        text-align: right;\n",
       "    }\n",
       "</style>\n",
       "<table border=\"1\" class=\"dataframe\">\n",
       "  <thead>\n",
       "    <tr style=\"text-align: right;\">\n",
       "      <th></th>\n",
       "      <th>Work_1</th>\n",
       "      <th>Work_2</th>\n",
       "      <th>Work_3</th>\n",
       "      <th>Work_4</th>\n",
       "    </tr>\n",
       "  </thead>\n",
       "  <tbody>\n",
       "    <tr>\n",
       "      <th>0</th>\n",
       "      <td>270</td>\n",
       "      <td>260</td>\n",
       "      <td>236</td>\n",
       "      <td>234</td>\n",
       "    </tr>\n",
       "    <tr>\n",
       "      <th>1</th>\n",
       "      <td>228</td>\n",
       "      <td>285</td>\n",
       "      <td>225</td>\n",
       "      <td>262</td>\n",
       "    </tr>\n",
       "    <tr>\n",
       "      <th>2</th>\n",
       "      <td>277</td>\n",
       "      <td>284</td>\n",
       "      <td>231</td>\n",
       "      <td>208</td>\n",
       "    </tr>\n",
       "  </tbody>\n",
       "</table>\n",
       "</div>"
      ],
      "text/plain": [
       "   Work_1  Work_2  Work_3  Work_4\n",
       "0     270     260     236     234\n",
       "1     228     285     225     262\n",
       "2     277     284     231     208"
      ]
     },
     "execution_count": 40,
     "metadata": {},
     "output_type": "execute_result"
    }
   ],
   "source": [
    "# df 생성  \n",
    "df = pd.DataFrame({'Work_1':[270, 228, 277], 'Work_2':[260, 285, 284],\n",
    "                   'Work_3':[236, 225, 231], 'Work_4':[234, 262, 208]})\n",
    "\n",
    "df.head()"
   ]
  },
  {
   "cell_type": "code",
   "execution_count": 41,
   "metadata": {},
   "outputs": [],
   "source": [
    "# from scipy.stats import chi2_contingency"
   ]
  },
  {
   "cell_type": "code",
   "execution_count": 42,
   "metadata": {},
   "outputs": [
    {
     "data": {
      "text/plain": [
       "(13.36627391246374,\n",
       " 0.03757449387917438,\n",
       " 6,\n",
       " array([[258.33333333, 276.33333333, 230.66666667, 234.66666667],\n",
       "        [258.33333333, 276.33333333, 230.66666667, 234.66666667],\n",
       "        [258.33333333, 276.33333333, 230.66666667, 234.66666667]]))"
      ]
     },
     "execution_count": 42,
     "metadata": {},
     "output_type": "execute_result"
    }
   ],
   "source": [
    "# chi-square test 실행\n",
    "chi, pval, dof, expected = stats.chi2_contingency(df)\n",
    "chi, pval, dof, expected"
   ]
  },
  {
   "cell_type": "code",
   "execution_count": 43,
   "metadata": {},
   "outputs": [
    {
     "name": "stdout",
     "output_type": "stream",
     "text": [
      "chi-square test \n",
      " chisq: 13.37\n",
      " p-value : 0.038\n",
      " degree of freedom: 6\n",
      " expected value: \n",
      "[[258.3 276.3 230.7 234.7]\n",
      " [258.3 276.3 230.7 234.7]\n",
      " [258.3 276.3 230.7 234.7]]\n"
     ]
    }
   ],
   "source": [
    "# chi-square test 결과 출력\n",
    "print( \"chi-square test \")\n",
    "print( ' chisq: {0:0.2f}' .format(chi))\n",
    "print( ' p-value : {0:0.3f}'.format(pval))\n",
    "print( ' degree of freedom: {}' .format(dof))\n",
    "print( ' expected value: \\n{}' .format(expected.round(1)))"
   ]
  },
  {
   "cell_type": "markdown",
   "metadata": {},
   "source": [
    "※ 결론 :  유의수준 5%에서 근무조별로 제품을 생산하는 부하 차이가 있다고 할 수 있다. "
   ]
  },
  {
   "cell_type": "markdown",
   "metadata": {},
   "source": [
    "### 9. 연습 (ANOVA) \n",
    "  - OO회사  마케팅실  그룹별 직원들의 TOEIC 성적에 차이가 있는지를 알고 싶다.\n",
    "  - A Group, B Group, C Group 간의 토익 점수의 차이 여부를 검정하여라. (유의수준(a)=0.05)"
   ]
  },
  {
   "cell_type": "code",
   "execution_count": 44,
   "metadata": {},
   "outputs": [
    {
     "data": {
      "text/html": [
       "<div>\n",
       "<style scoped>\n",
       "    .dataframe tbody tr th:only-of-type {\n",
       "        vertical-align: middle;\n",
       "    }\n",
       "\n",
       "    .dataframe tbody tr th {\n",
       "        vertical-align: top;\n",
       "    }\n",
       "\n",
       "    .dataframe thead th {\n",
       "        text-align: right;\n",
       "    }\n",
       "</style>\n",
       "<table border=\"1\" class=\"dataframe\">\n",
       "  <thead>\n",
       "    <tr style=\"text-align: right;\">\n",
       "      <th></th>\n",
       "      <th>A</th>\n",
       "      <th>B</th>\n",
       "      <th>C</th>\n",
       "    </tr>\n",
       "  </thead>\n",
       "  <tbody>\n",
       "    <tr>\n",
       "      <th>0</th>\n",
       "      <td>892</td>\n",
       "      <td>721</td>\n",
       "      <td>760</td>\n",
       "    </tr>\n",
       "    <tr>\n",
       "      <th>1</th>\n",
       "      <td>623</td>\n",
       "      <td>821</td>\n",
       "      <td>915</td>\n",
       "    </tr>\n",
       "    <tr>\n",
       "      <th>2</th>\n",
       "      <td>721</td>\n",
       "      <td>910</td>\n",
       "      <td>888</td>\n",
       "    </tr>\n",
       "    <tr>\n",
       "      <th>3</th>\n",
       "      <td>678</td>\n",
       "      <td>678</td>\n",
       "      <td>721</td>\n",
       "    </tr>\n",
       "    <tr>\n",
       "      <th>4</th>\n",
       "      <td>723</td>\n",
       "      <td>723</td>\n",
       "      <td>894</td>\n",
       "    </tr>\n",
       "  </tbody>\n",
       "</table>\n",
       "</div>"
      ],
      "text/plain": [
       "     A    B    C\n",
       "0  892  721  760\n",
       "1  623  821  915\n",
       "2  721  910  888\n",
       "3  678  678  721\n",
       "4  723  723  894"
      ]
     },
     "execution_count": 44,
     "metadata": {},
     "output_type": "execute_result"
    }
   ],
   "source": [
    "# df 입력\n",
    "df = pd.DataFrame({'A': [892, 623, 721, 678, 723, 790, 720, 670, 690, 771],\n",
    "                   'B': [721, 821, 910, 678, 723, 790, 711, 790, 745, 891],\n",
    "                   'C': [760, 915, 888, 721, 894, 834, 841, 912, 845, 889]})\n",
    "df.head()"
   ]
  },
  {
   "cell_type": "code",
   "execution_count": 45,
   "metadata": {},
   "outputs": [
    {
     "data": {
      "text/plain": [
       "<Axes: >"
      ]
     },
     "execution_count": 45,
     "metadata": {},
     "output_type": "execute_result"
    },
    {
     "data": {
      "image/png": "[encoded data removed]",
      "text/plain": [
       "<Figure size 640x480 with 1 Axes>"
      ]
     },
     "metadata": {},
     "output_type": "display_data"
    }
   ],
   "source": [
    "# Group별 boxplot\n",
    "df.boxplot(['A', 'B', 'C'])"
   ]
  },
  {
   "cell_type": "code",
   "execution_count": 46,
   "metadata": {},
   "outputs": [
    {
     "name": "stdout",
     "output_type": "stream",
     "text": [
      "statistic=0.9293239712715149, p-value=0.4412756860256195\n"
     ]
    }
   ],
   "source": [
    "# 'A' 정규성 검정: Shapiro-Wilk Test\n",
    "statistic, p = stats.shapiro(df['A'])\n",
    "print(\"statistic={}, p-value={}\".format(statistic,p))"
   ]
  },
  {
   "cell_type": "code",
   "execution_count": 47,
   "metadata": {},
   "outputs": [
    {
     "name": "stdout",
     "output_type": "stream",
     "text": [
      "statistic=0.924264669418335, p-value=0.39389991760253906\n"
     ]
    }
   ],
   "source": [
    "# 'B' 정규성 검정: Shapiro-Wilk Test\n",
    "statistic, p = stats.shapiro(df['B'])\n",
    "print(\"statistic={}, p-value={}\".format(statistic,p))"
   ]
  },
  {
   "cell_type": "code",
   "execution_count": 48,
   "metadata": {},
   "outputs": [
    {
     "name": "stdout",
     "output_type": "stream",
     "text": [
      "statistic=0.8679400682449341, p-value=0.0945814773440361\n"
     ]
    }
   ],
   "source": [
    "# 'C' 정규성 검정: Shapiro-Wilk Test\n",
    "statistic, p = stats.shapiro(df['C'])\n",
    "print(\"statistic={}, p-value={}\".format(statistic,p))"
   ]
  },
  {
   "cell_type": "code",
   "execution_count": 49,
   "metadata": {},
   "outputs": [
    {
     "data": {
      "text/plain": [
       "BartlettResult(statistic=0.29539604297661076, pvalue=0.8626915899335204)"
      ]
     },
     "execution_count": 49,
     "metadata": {},
     "output_type": "execute_result"
    }
   ],
   "source": [
    "# from scipy.stats import bartlett\n",
    "stats.bartlett(df['A'], df['B'], df['C'])"
   ]
  },
  {
   "cell_type": "code",
   "execution_count": 50,
   "metadata": {},
   "outputs": [],
   "source": [
    "# ANOVA 실행\n",
    "f_result = stats.f_oneway(df['A'], df['B'], df['C'])\n",
    "\n",
    "# ANOVA의 f값 p값 저장 \n",
    "f, p = f_result.statistic, f_result.pvalue"
   ]
  },
  {
   "cell_type": "code",
   "execution_count": 51,
   "metadata": {},
   "outputs": [
    {
     "name": "stdout",
     "output_type": "stream",
     "text": [
      "One-way ANOVA \n",
      " F통계량 : 7.09567210575343 \n",
      " p-value : 0.0033383379006591135 \n"
     ]
    }
   ],
   "source": [
    "# ANOVA의 f값, p값 출력\n",
    "print( \"One-way ANOVA \")\n",
    "print( \" F통계량 : {} \" .format(f))\n",
    "print( \" p-value : {} \" .format(p))"
   ]
  },
  {
   "cell_type": "markdown",
   "metadata": {},
   "source": [
    "※ 유의수준 0.05 에서 p-value가 0.003 이므로 마케팅실 그룹별 직원들의 TOEIC 성적에 차이가 있다고 할 수 있다 "
   ]
  },
  {
   "cell_type": "markdown",
   "metadata": {},
   "source": [
    "### 10.연습(ANOVA)"
   ]
  },
  {
   "cell_type": "code",
   "execution_count": 52,
   "metadata": {},
   "outputs": [],
   "source": [
    "# df 생성  \n",
    "df1 = [1, 2, 3, 4, 4, 5, 6, 6, 7, 8]\n",
    "df2 = [23, 29, 49, 64, 74, 87, 96, 97, 109, 119]"
   ]
  },
  {
   "cell_type": "code",
   "execution_count": 53,
   "metadata": {},
   "outputs": [],
   "source": [
    "# Correlation Analysis 실행\n",
    "corr, pval = stats.pearsonr(df1, df2)"
   ]
  },
  {
   "cell_type": "code",
   "execution_count": 54,
   "metadata": {},
   "outputs": [
    {
     "name": "stdout",
     "output_type": "stream",
     "text": [
      "Correlation Analysis \n",
      " corr: 0.989\n",
      " p-value : 0.000\n"
     ]
    }
   ],
   "source": [
    "# Correlation, p-value 결과 출력 \n",
    "print( \"Correlation Analysis \")\n",
    "print( ' corr: {0:0.3f}' .format(corr))\n",
    "print( ' p-value : {0:0.3f}'.format(pval))"
   ]
  },
  {
   "cell_type": "markdown",
   "metadata": {},
   "source": [
    "※ 결론 : 부품수리시간과 부품수간에 \"매우 강한 상관성\" 이 있다고 할 수 있다"
   ]
  },
  {
   "cell_type": "code",
   "execution_count": null,
   "metadata": {},
   "outputs": [],
   "source": []
  }
 ],
 "metadata": {
  "kernelspec": {
   "display_name": "Python 3 (ipykernel)",
   "language": "python",
   "name": "python3"
  },
  "language_info": {
   "codemirror_mode": {
    "name": "ipython",
    "version": 3
   },
   "file_extension": ".py",
   "mimetype": "text/x-python",
   "name": "python",
   "nbconvert_exporter": "python",
   "pygments_lexer": "ipython3",
   "version": "3.10.9"
  }
 },
 "nbformat": 4,
 "nbformat_minor": 2
}
