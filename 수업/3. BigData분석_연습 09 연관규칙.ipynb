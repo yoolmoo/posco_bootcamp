{
 "cells": [
  {
   "cell_type": "raw",
   "metadata": {},
   "source": [
    "!pip install mlxtend"
   ]
  },
  {
   "cell_type": "raw",
   "metadata": {},
   "source": [
    "!pip install apriori"
   ]
  },
  {
   "cell_type": "markdown",
   "metadata": {},
   "source": [
    "#### 패키지 불러오기"
   ]
  },
  {
   "cell_type": "code",
   "execution_count": null,
   "metadata": {},
   "outputs": [],
   "source": [
    "# 데이터 구성:Series, DataFrame\n",
    "import pandas as pd\n",
    "# 행렬 연산\n",
    "import numpy as np\n",
    "# 데이터 전처리 : 항목 값에 대한 index 생성\n",
    "from mlxtend.preprocessing import TransactionEncoder\n",
    "# 지지도 계산\n",
    "from mlxtend.frequent_patterns import apriori\n",
    "# 연관 규칙\n",
    "from mlxtend.frequent_patterns import association_rules"
   ]
  },
  {
   "cell_type": "markdown",
   "metadata": {},
   "source": [
    "#### 데이터 구성하기"
   ]
  },
  {
   "cell_type": "code",
   "execution_count": null,
   "metadata": {
    "scrolled": false
   },
   "outputs": [],
   "source": [
    "df_raw = pd.read_csv(\"D:/WORK/DATA/상품구매.csv\")\n",
    "# df_raw = pd.read_csv(\"D:/WORK/DATA/상품구매.csv\", engine = \"python\")\n",
    "df_raw.head(10)"
   ]
  },
  {
   "cell_type": "markdown",
   "metadata": {},
   "source": [
    "#### 데이터 구성-전처리"
   ]
  },
  {
   "cell_type": "code",
   "execution_count": null,
   "metadata": {},
   "outputs": [],
   "source": [
    "# 고객 ID 리스트 행성 및 정렬\n",
    "ID = list(set(df_raw[\"ID\"]))\n",
    "ID.sort()\n",
    "\n",
    "# 고객ID별 상품 매칭\n",
    "list_association = []\n",
    "for i in ID:\n",
    "    # ID별 구매 데이터 추출\n",
    "    tmp_list = list(df_raw[df_raw[\"ID\"] == i][\"PRODUCT\"])\n",
    "    tmp_list.sort()\n",
    "    # ID별 구매 데이터를 리스트에 담기\n",
    "    list_association.append(tmp_list)\n",
    "\n",
    "# 리스트 출력\n",
    "for row in list_association:\n",
    "    print(row)"
   ]
  },
  {
   "cell_type": "code",
   "execution_count": null,
   "metadata": {},
   "outputs": [],
   "source": [
    "# Items 기준으로 포함 여부에 따라 True/False 로 변환\n",
    "enc = TransactionEncoder()\n",
    "df_raw_enc = enc.fit_transform(X = list_association)\n",
    "\n",
    "# 함수 fit_transform 는 데이터를 행렬의 형태로 반환, pandas의 DataFrame의 형태로 변환\n",
    "df_asso = pd.DataFrame(df_raw_enc, columns = enc.columns_)\n",
    "\n",
    "df_asso.head()"
   ]
  },
  {
   "cell_type": "markdown",
   "metadata": {},
   "source": [
    "#### 연관규칙 생성"
   ]
  },
  {
   "cell_type": "code",
   "execution_count": null,
   "metadata": {},
   "outputs": [],
   "source": [
    "# 규칙 선택 최소 지지\n",
    "v_min_support = 0.4\n",
    "\n",
    "# 연관규칙 생성 및 지지도 임계값 적용\n",
    "# df_freq = apriori(df_asso, min_support = 0.4, use_colnames = True)  # 직접 입력 \n",
    "df_freq = apriori(df_asso, min_support = v_min_support, use_colnames = True) # 매개값 사용\n",
    "\n",
    "# itemsets 항목 확인\n",
    "df_freq.round(3) \n",
    "# df_freq[9:16].round(3) # 부분 확인"
   ]
  },
  {
   "cell_type": "markdown",
   "metadata": {},
   "source": [
    "#### 연관규칙 선택"
   ]
  },
  {
   "cell_type": "code",
   "execution_count": null,
   "metadata": {
    "scrolled": false
   },
   "outputs": [],
   "source": [
    "#향상도 기준 : lift\n",
    "df_asso_rule = association_rules(df_freq, metric=\"lift\" ,min_threshold = 1.3)\n",
    "df_asso_rule.round(3)"
   ]
  },
  {
   "cell_type": "code",
   "execution_count": null,
   "metadata": {
    "scrolled": false
   },
   "outputs": [],
   "source": [
    "#신뢰도 기준:confidence\n",
    "df_asso_rule = association_rules(df_freq, metric=\"confidence\" ,min_threshold = 0.7)\n",
    "df_asso_rule.round(3)"
   ]
  },
  {
   "cell_type": "markdown",
   "metadata": {},
   "source": [
    "## End of 연관규칙"
   ]
  }
 ],
 "metadata": {
  "kernelspec": {
   "display_name": "Python 3 (ipykernel)",
   "language": "python",
   "name": "python3"
  },
  "language_info": {
   "codemirror_mode": {
    "name": "ipython",
    "version": 3
   },
   "file_extension": ".py",
   "mimetype": "text/x-python",
   "name": "python",
   "nbconvert_exporter": "python",
   "pygments_lexer": "ipython3",
   "version": "3.9.12"
  }
 },
 "nbformat": 4,
 "nbformat_minor": 2
}
