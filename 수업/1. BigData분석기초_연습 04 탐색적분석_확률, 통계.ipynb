{
 "cells": [
  {
   "cell_type": "markdown",
   "metadata": {},
   "source": [
    "## 1.Big Data분석기초_연습_04_탐색적분석_확률, 통계"
   ]
  },
  {
   "cell_type": "markdown",
   "metadata": {},
   "source": [
    "### 1. 기술통계&확률"
   ]
  },
  {
   "cell_type": "markdown",
   "metadata": {},
   "source": [
    "0. python 패키지 불러오기"
   ]
  },
  {
   "cell_type": "code",
   "execution_count": null,
   "metadata": {},
   "outputs": [],
   "source": [
    "# 데이터 구성 패키지: Series, DataFrame\n",
    "import pandas as pd\n",
    "# 행렬 연산 패키지\n",
    "import numpy as np\n",
    "\n",
    "# 데이터 시각화 패키지\n",
    "import matplotlib\n",
    "import matplotlib.pyplot as plt\n",
    "import seaborn as sns\n",
    "\n",
    "# 통계 분석 패키지\n",
    "from scipy import stats\n",
    "import scipy.stats"
   ]
  },
  {
   "cell_type": "code",
   "execution_count": null,
   "metadata": {},
   "outputs": [],
   "source": [
    "# 한글 폰트(맑은 고딕) 적용 : 윈도우, 구글 콜랩\n",
    "matplotlib.rc(\"font\", family = \"Malgun Gothic\")\n",
    "# 음수 표시\n",
    "matplotlib.rc(\"axes\", unicode_minus = False)"
   ]
  },
  {
   "cell_type": "code",
   "execution_count": null,
   "metadata": {},
   "outputs": [],
   "source": [
    "# 실행결과 경고메시지 출력 제외\n",
    "import warnings\n",
    "warnings.filterwarnings('ignore')"
   ]
  },
  {
   "cell_type": "markdown",
   "metadata": {},
   "source": [
    "### 1) 연습 (기술통계) : 자동차 연비 Data Set에서 기술통계치 구하기\n",
    "   - 시내에서 연비(mpg) 통계치 : 데이터 수,평균,중앙값,표준편차, min, max, Q1, Q3  \n",
    "   - 자동차 모델별, mpg 통계치 : 데이터 수,평균,중앙값,표준편차, min, max, Q1, Q3 ( data.set : mycars.csv )"
   ]
  },
  {
   "cell_type": "markdown",
   "metadata": {},
   "source": [
    "STEP ❶ 데이터 구성하기"
   ]
  },
  {
   "cell_type": "code",
   "execution_count": null,
   "metadata": {
    "scrolled": false
   },
   "outputs": [],
   "source": [
    "# mycars 데이터 가져오기\n",
    "mycars = pd.read_csv(\"D:/data/bigdata_기초01/mycars.csv\")\n",
    "mycars.head()"
   ]
  },
  {
   "cell_type": "markdown",
   "metadata": {},
   "source": [
    "STEP ❷ 기술통계분석_시내/자동차 Model 별 연비(mpg) 통계치"
   ]
  },
  {
   "cell_type": "code",
   "execution_count": null,
   "metadata": {},
   "outputs": [],
   "source": [
    "# 1. 시내에서 연비(mpg) 통계치 : 기술통계량   \n",
    "mycars.describe().round(2)"
   ]
  },
  {
   "cell_type": "code",
   "execution_count": null,
   "metadata": {},
   "outputs": [],
   "source": [
    "# 2. 자동차 모델별, mpg별 통계치 : 모델별 mpg 데이터 subset\n",
    "df = mycars[['model','mpg']]\n",
    "df.head()"
   ]
  },
  {
   "cell_type": "code",
   "execution_count": null,
   "metadata": {},
   "outputs": [],
   "source": [
    "# 자동차 모델별, mpg  기술통계량\n",
    "df.groupby('model').describe()"
   ]
  },
  {
   "cell_type": "markdown",
   "metadata": {},
   "source": [
    "###  2) 연습_ 이산형_ 기술통계\n",
    "  - 제품(Cabbage)의 품질을 조사하여, 제품결함과 결함 발생한 기간을 조사한 Table.  \n",
    "  - 범주형 데이터에 대해,  counts, percents, cumulative counts, cumulative percents 계산\n",
    "  - ( Data set : Exh_QC1.csv )"
   ]
  },
  {
   "cell_type": "markdown",
   "metadata": {},
   "source": [
    "STEP ❶ 데이터 구성하기"
   ]
  },
  {
   "cell_type": "code",
   "execution_count": null,
   "metadata": {},
   "outputs": [],
   "source": [
    "#  Exh_QC1 데이터 가져오기\n",
    "QC1 = pd.read_csv(\"D:/data/bigdata_기초01/Exh_QC1.csv\")\n",
    "QC1.head()"
   ]
  },
  {
   "cell_type": "code",
   "execution_count": null,
   "metadata": {},
   "outputs": [],
   "source": [
    "# 제품 결함과 결함이 발생한 기간의 데이터 subset\n",
    "df = QC1[['Flaws', 'Period']]"
   ]
  },
  {
   "cell_type": "markdown",
   "metadata": {},
   "source": [
    "STEP ❷ 기술통계분석_제품결함/결함발생기간별 통계치"
   ]
  },
  {
   "cell_type": "markdown",
   "metadata": {},
   "source": [
    "- Flaws 변수 Count"
   ]
  },
  {
   "cell_type": "code",
   "execution_count": null,
   "metadata": {},
   "outputs": [],
   "source": [
    "# Flaws 변수 Count: value_counts(), 순서대로 정렬: .sort_index()\n",
    "count = df['Flaws'].value_counts().sort_index()\n",
    "count"
   ]
  },
  {
   "cell_type": "code",
   "execution_count": null,
   "metadata": {},
   "outputs": [],
   "source": [
    "# CumCnt(cumulative counts) 계산 : cumsum()\n",
    "cumcnt = np.cumsum(count)\n",
    "cumcnt"
   ]
  },
  {
   "cell_type": "code",
   "execution_count": null,
   "metadata": {},
   "outputs": [],
   "source": [
    "# Percent 계산: 직접\n",
    "percent = count / sum(count) * 100\n",
    "percent"
   ]
  },
  {
   "cell_type": "code",
   "execution_count": null,
   "metadata": {},
   "outputs": [],
   "source": [
    "# CumPct(cumulative percents) 계산: cumsum\n",
    "cumpct = np.cumsum(percent)\n",
    "cumpct"
   ]
  },
  {
   "cell_type": "code",
   "execution_count": null,
   "metadata": {},
   "outputs": [],
   "source": [
    "# DataFrame으로 취합\n",
    "df_count = pd.DataFrame({'Count': count, \n",
    "                         'CumCnt': cumcnt, \n",
    "                         'Percent': percent,\n",
    "                         'CumPct': cumpct})\n",
    "df_count"
   ]
  },
  {
   "cell_type": "code",
   "execution_count": null,
   "metadata": {},
   "outputs": [],
   "source": [
    "# Column의 name(좌측상단 이름) 생성\n",
    "df_count.columns.name = 'Flaws'\n",
    "df_count"
   ]
  },
  {
   "cell_type": "markdown",
   "metadata": {},
   "source": [
    "- Period 변수 Count"
   ]
  },
  {
   "cell_type": "code",
   "execution_count": null,
   "metadata": {},
   "outputs": [],
   "source": [
    "# Period 변수 Count: value_count, 순서대로 정렬: sort_index \n",
    "count2 = df['Period'].value_counts().sort_index()\n",
    "count2"
   ]
  },
  {
   "cell_type": "code",
   "execution_count": null,
   "metadata": {},
   "outputs": [],
   "source": [
    "# CumCnt(cumulative counts) 계산 : cumsum\n",
    "cumcnt2 = np.cumsum(count2)\n",
    "cumcnt2"
   ]
  },
  {
   "cell_type": "code",
   "execution_count": null,
   "metadata": {},
   "outputs": [],
   "source": [
    "# Percent 계산: 직접\n",
    "percent2 = count2 / sum(count2) * 100\n",
    "percent2"
   ]
  },
  {
   "cell_type": "code",
   "execution_count": null,
   "metadata": {},
   "outputs": [],
   "source": [
    "# CumPct(cumulative percents) 계산: cumsum\n",
    "cumpct2 = np.cumsum(percent2)\n",
    "cumpct2"
   ]
  },
  {
   "cell_type": "code",
   "execution_count": null,
   "metadata": {},
   "outputs": [],
   "source": [
    "# DataFrame으로 취합 \n",
    "df_count2 = pd.DataFrame({'Count': count2,\n",
    "                          'CumCnt': cumcnt2, \n",
    "                          'Percent': percent2,\n",
    "                          'CumPct': cumpct2})\n",
    "\n",
    "# Column의 name(좌측상단 이름) 생성 \n",
    "df_count2.columns.name='Period'\n",
    "df_count2"
   ]
  },
  {
   "cell_type": "markdown",
   "metadata": {},
   "source": [
    "### 3) 연습 (정규분포 확률계산)\n",
    " - A/S 작업을 수행하는데 걸리는 시간을 측정해 본 결과 평균 115분, 표준편차 20분이 소요된다는 것을 알았음. \n",
    " - 만일 A/S 작업시간의 허용범위가 135분 이내라면, 135분 이상 걸리는 A/S 작업비율은 어느 정도일까?"
   ]
  },
  {
   "cell_type": "code",
   "execution_count": null,
   "metadata": {},
   "outputs": [],
   "source": [
    "# 정규분포에서 누적확률 값 계산\n",
    "x = 135\n",
    "mu = 115\n",
    "sigma = 20\n",
    "\n",
    "# prob : 135분까지 누적확률값 계산\n",
    "prob = stats.norm.cdf(x, mu, sigma)"
   ]
  },
  {
   "cell_type": "code",
   "execution_count": null,
   "metadata": {},
   "outputs": [],
   "source": [
    "# 135분 이상의 누적확률값 계산\n",
    "print(\"{0} 분 이상 걸리는 A/S 작업 비율: {1:.1f}%\".format(x, (1-prob)*100))"
   ]
  },
  {
   "cell_type": "markdown",
   "metadata": {},
   "source": [
    "### 4) 연습 (정규분포 확률계산)\n",
    "  - 어떤 자동차 1리터당 주행거리가 평균 12km, 표준편차 3km인 정규분포를 이룬다. \n",
    "  - 1리터를 가지고 12km 이상 15km 이하를 달릴 확률은 얼마인가?"
   ]
  },
  {
   "cell_type": "code",
   "execution_count": null,
   "metadata": {},
   "outputs": [],
   "source": [
    "# 누적확률 값 계산\n",
    "x = 15\n",
    "mu = 12\n",
    "sigma = 3\n",
    "\n",
    "# prob1: 15 km 이하인 누적확률값 계산\n",
    "prob = stats.norm.cdf(x, mu, sigma)"
   ]
  },
  {
   "cell_type": "code",
   "execution_count": null,
   "metadata": {},
   "outputs": [],
   "source": [
    "print(\"{0} km ~ {1} km 달릴 확률 {2:.1f}%에 해당\".format(mu, x, (prob-0.5)*100))"
   ]
  },
  {
   "cell_type": "markdown",
   "metadata": {},
   "source": [
    "### 6)  연습 (t 분포 확률계산)\n",
    "  - 확률변수 t는 자유도가 5인  t-분포를 따른다. t 값이 1.53일 때,  P (T ≤ t)을 계산하시오"
   ]
  },
  {
   "cell_type": "code",
   "execution_count": null,
   "metadata": {},
   "outputs": [],
   "source": [
    "# t 분포 확률 계산하기\n",
    "t = 1.53\n",
    "df = 5\n",
    "\n",
    "# 누적확률 값 계산\n",
    "prob = stats.t.cdf(t, df)\n",
    "print(\" P(T<=t)= {:.1f}%\".format(prob*100))"
   ]
  },
  {
   "cell_type": "markdown",
   "metadata": {},
   "source": [
    "### 7) 연습 (χ2 분포, 확률 계산)\n",
    "  - 확률변수 χ2 는 자유도가 30 인 χ2 -분포를 따른다. \n",
    "  - χ2 값이  10 일 때,  P (X ≤ χ2 )을 계산하시오."
   ]
  },
  {
   "cell_type": "code",
   "execution_count": null,
   "metadata": {},
   "outputs": [],
   "source": [
    "# χ2 분포, 확률 계산하기\n",
    "chisq = 10\n",
    "df = 30\n",
    "\n",
    "# 누적확률 값 계산\n",
    "prob = stats.chi2.cdf(chisq, df)\n",
    "print(\"χ2 누적확률 계산 : p(X<={0}) = {1:.4f}\".format(chisq, prob))"
   ]
  },
  {
   "cell_type": "markdown",
   "metadata": {},
   "source": [
    "### 8) 연습 (F 분포, 확률 계산)\n",
    "  - 확률변수 F 는 각각 자유도가 15, 15 인  F-분포를 따른다. F 값이  2.0 일 때,  P (X ≤ F)을 계산하시오."
   ]
  },
  {
   "cell_type": "code",
   "execution_count": null,
   "metadata": {},
   "outputs": [],
   "source": [
    "# F 분포, 확률 계산하기\n",
    "f = 2.0\n",
    "df_num = 15\n",
    "df_den = 15\n",
    "\n",
    "# 누적확률 값 계산\n",
    "prob = stats.f.cdf(f, df_num, df_den)\n",
    "print(\"P(X <= F): {:.3f}\".format(prob))"
   ]
  },
  {
   "cell_type": "markdown",
   "metadata": {},
   "source": [
    "### 9) 연습 (이항 분포)\n",
    "   - 도장공정에서 광택도 불량이 40%나 된다고 함\n",
    "   - 3대의 차량을 임의로 선택했을 때 불량대수가 각각 0, 1, 2, 3 대가 나올 확률은 얼마인가"
   ]
  },
  {
   "cell_type": "code",
   "execution_count": null,
   "metadata": {},
   "outputs": [],
   "source": [
    "# 이항분포에서 확률 계산하기 : pmf(k,n,p) \n",
    "n = 3      # n : 3대의 차량 수\n",
    "p = 0.4    # 공정 불량\n",
    "\n",
    "for i in range(n+1) :\n",
    "   # 이항분포 Probability Mass Function\n",
    "    prob = stats.binom.pmf(k=i, n=n, p=p)  \n",
    "    print(\"P(X={0}) = {1:.3f}\".format(i, prob))"
   ]
  },
  {
   "cell_type": "markdown",
   "metadata": {},
   "source": [
    "## 2. 통계(추검정)"
   ]
  },
  {
   "cell_type": "code",
   "execution_count": null,
   "metadata": {},
   "outputs": [],
   "source": [
    "# 가설검정 및 통계 분석 패키지\n",
    "import scipy.stats as stats\n",
    "from statsmodels.formula.api import ols\n",
    "\n",
    "# proportion test 패키지\n",
    "from statsmodels.stats.proportion import proportions_ztest\n",
    "\n",
    "# ANOVA 분석 패키지\n",
    "from statsmodels.stats.anova import anova_lm"
   ]
  },
  {
   "cell_type": "markdown",
   "metadata": {},
   "source": [
    "- 정규성 검정 "
   ]
  },
  {
   "cell_type": "code",
   "execution_count": null,
   "metadata": {},
   "outputs": [],
   "source": [
    "# camshaft 데이터 가져오기\n",
    "df = pd.read_csv(\"D:/data/bigdata_기초01/camshaft.csv\")\n",
    "df.head()"
   ]
  },
  {
   "cell_type": "code",
   "execution_count": null,
   "metadata": {},
   "outputs": [],
   "source": [
    "# 정규성 검정 : Shapiro-Wilk Test\n",
    "statistic, p = stats.shapiro(df['Supp1'])\n",
    "\n",
    "print(\"Shapiro-Wilk Test: statistic={}, p-value={}\".format(statistic, p))"
   ]
  },
  {
   "cell_type": "markdown",
   "metadata": {},
   "source": [
    "- 모평균 구간추정(모표준편차 알 때)"
   ]
  },
  {
   "cell_type": "code",
   "execution_count": null,
   "metadata": {},
   "outputs": [],
   "source": [
    "# 데이터 직접입력\n",
    "df = pd.DataFrame({'wgt':[3.6, 2.9, 2.8, 2.6, 3.4, 3.2, 2.2, 2.6, \n",
    "                          2.6, 2.4, 2.4, 2.6, 3.4, 2.4, 2.1, 2.6, \n",
    "                          3.0, 2.4, 2.7, 2.4, 2.6, 2.9, 2.9, 2.0, \n",
    "                          2.7, 2.2, 2.8, 2.7, 1.8, 2.5, 3.0, 3.2, \n",
    "                          2.8, 2.6, 3.2, 3.1, 2.9, 2.7, 2.7, 2.2]})\n",
    "df.head()"
   ]
  },
  {
   "cell_type": "code",
   "execution_count": null,
   "metadata": {},
   "outputs": [],
   "source": [
    "# 정규분포 구간 추정 함수 실행 \n",
    "\n",
    "lower, upper = stats.norm.interval(0.95, loc = np.mean(df), scale = 0.397/np.sqrt(40))\n",
    "print(\"신뢰구간: ({0}, {1})\" .format(lower.round(2), upper.round(2)))"
   ]
  },
  {
   "cell_type": "markdown",
   "metadata": {},
   "source": [
    "- 모평균 구간추정(모표준편차 모를 때)"
   ]
  },
  {
   "cell_type": "code",
   "execution_count": null,
   "metadata": {},
   "outputs": [],
   "source": [
    "# df를 직접 입력 \n",
    "df = pd.DataFrame({'streng':[54.1, 53.3, 56.1, 55.7, 54.0, 54.1, 54.5, \n",
    "                             57.1, 55.2, 53.8, 54.1, 54.1, 56.1, 55.0, \n",
    "                             55.9, 56.0, 54.9, 54.3, 53.9, 55.0]})\n",
    "df.head()"
   ]
  },
  {
   "cell_type": "code",
   "execution_count": null,
   "metadata": {},
   "outputs": [],
   "source": [
    "# t 분포 구간추정 함수 실행 : (loc: 평균의 값, scale: 변동 정도)  \n",
    "lower, upper = stats.t.interval(0.95, len(df)-1, loc = np.mean(df), scale = stats.sem(df))\n",
    "lower.round(2), upper.round(2)"
   ]
  },
  {
   "cell_type": "markdown",
   "metadata": {},
   "source": [
    "- 1-Sample t-test : 모표준편차를 모를 때"
   ]
  },
  {
   "cell_type": "code",
   "execution_count": null,
   "metadata": {},
   "outputs": [],
   "source": [
    "# df를 직접 입력 \n",
    "df = pd.DataFrame({'satisfaction': [74.5, 81.2, 73.8, 82.0, 76.3, 75.7, 80.2, 72.6, \n",
    "                                    77.9, 82.8]})\n",
    "df.head()"
   ]
  },
  {
   "cell_type": "code",
   "execution_count": null,
   "metadata": {},
   "outputs": [],
   "source": [
    "# boxplot\n",
    "df.boxplot()"
   ]
  },
  {
   "cell_type": "code",
   "execution_count": null,
   "metadata": {},
   "outputs": [],
   "source": [
    "# satisfaction 정규성 검정: Shapiro-Wilk Test\n",
    "statistic, p = stats.shapiro(df['satisfaction'])\n",
    "print(\"statistic={}, p-value={}\".format(statistic,p))"
   ]
  },
  {
   "cell_type": "code",
   "execution_count": null,
   "metadata": {},
   "outputs": [],
   "source": [
    "# 1-Sample t-test\n",
    "t_result = stats.ttest_1samp(df, 76.7)"
   ]
  },
  {
   "cell_type": "code",
   "execution_count": null,
   "metadata": {},
   "outputs": [],
   "source": [
    "# 1-Sample t-test의 t값 p값 저장\n",
    "t, p = t_result.statistic.round(3), \\\n",
    "       t_result.pvalue.round(3)"
   ]
  },
  {
   "cell_type": "code",
   "execution_count": null,
   "metadata": {},
   "outputs": [],
   "source": [
    "# 1-Sample t-test의 t값  p값 출력\n",
    "print( \"1-Sample t-test \")\n",
    "print( \" t 통계량 : {} \" .format(t))\n",
    "print( \" p-value : {} \" .format(p))"
   ]
  },
  {
   "cell_type": "markdown",
   "metadata": {},
   "source": [
    "- 2 Sample t-test : 두 집단 간 평균이 같은지 비교 "
   ]
  },
  {
   "cell_type": "code",
   "execution_count": null,
   "metadata": {},
   "outputs": [],
   "source": [
    "# Data직접 입력 \n",
    "df = pd.DataFrame({'A': [6, 5, 5, 4, 6, 7, 6, 4, 5, 6, 4, 5, 5, 6, 4, 8, 6, 5, 6, 7], \n",
    "                   'B': [7, 6, 7, 8, 7, 8, 8, 5, 7, 6, 5, 5, 6, 6, 5, 7, 9, 7, 7, 8]})\n",
    "df.head()"
   ]
  },
  {
   "cell_type": "code",
   "execution_count": null,
   "metadata": {},
   "outputs": [],
   "source": [
    "# Group별 boxplot\n",
    "df.boxplot(['A','B'])\n",
    "plt.show()"
   ]
  },
  {
   "cell_type": "code",
   "execution_count": null,
   "metadata": {},
   "outputs": [],
   "source": [
    "# ‘A‘, ‘B’ 정규성 검정: Shapiro-Wilk Test\n",
    "statistic, p = stats.shapiro(df['A'])\n",
    "print(\"statistic={}, p-value={}\".format(statistic,p))"
   ]
  },
  {
   "cell_type": "code",
   "execution_count": null,
   "metadata": {},
   "outputs": [],
   "source": [
    "statistic, p = stats.shapiro(df['B'])\n",
    "print(\"statistic={}, p-value={}\".format(statistic,p))"
   ]
  },
  {
   "cell_type": "code",
   "execution_count": null,
   "metadata": {},
   "outputs": [],
   "source": [
    "# 등분산성 검정\n",
    "stats.bartlett(df['A'], df['B'])"
   ]
  },
  {
   "cell_type": "code",
   "execution_count": null,
   "metadata": {},
   "outputs": [],
   "source": [
    "# 2-Sample t-test\n",
    "t_result = stats.ttest_ind(df['A'], df['B'])\n",
    "\n",
    "# 2-Sample t-test의 t값 p값 저장\n",
    "t, p = t_result.statistic.round(3), t_result.pvalue.round(3)"
   ]
  },
  {
   "cell_type": "code",
   "execution_count": null,
   "metadata": {},
   "outputs": [],
   "source": [
    "# 2-Sample t-test의 t값 p값 출력\n",
    "print( \"2-Sample t-test \")\n",
    "print( \" t: {} \" .format(t))\n",
    "print( \" p: {} \" .format(p))"
   ]
  },
  {
   "cell_type": "markdown",
   "metadata": {},
   "source": [
    "- Paired t-test : 짝을 이루는 집단의 평균의 차이가 있는지 검정"
   ]
  },
  {
   "cell_type": "code",
   "execution_count": null,
   "metadata": {},
   "outputs": [],
   "source": [
    "# df1, df2를 직접 입력 \n",
    "df1 = pd.DataFrame({'before': [720, 589, 780, 648, 720, 589, 780, 648, 780, 648]})\n",
    "df2 = pd.DataFrame({'after': [810, 670, 790, 712, 810, 670, 790, 712, 790, 712]})\n",
    "\n",
    "# Paired t-test\n",
    "t_result = stats.ttest_rel(df1, df2)\n",
    "\n",
    "# Paired t-test의 t값 p값 저장\n",
    "t, p = t_result.statistic.round(3), t_result.pvalue.round(3)"
   ]
  },
  {
   "cell_type": "code",
   "execution_count": null,
   "metadata": {},
   "outputs": [],
   "source": [
    "# Paired t-test의 t값 p값 출력\n",
    "print( \"Paired t-test \")\n",
    "print( \" t: {} \" .format(t))\n",
    "print( \" p: {} \" .format(p))"
   ]
  },
  {
   "cell_type": "markdown",
   "metadata": {},
   "source": [
    "- 1 Proportion test"
   ]
  },
  {
   "cell_type": "code",
   "execution_count": null,
   "metadata": {},
   "outputs": [],
   "source": [
    "# 변수 선언 \n",
    "count = 15\n",
    "n_obs = 100\n",
    "value = 0.1\n",
    "\n",
    "# Proportion test 실행\n",
    "z, p = proportions_ztest(count, n_obs, value)"
   ]
  },
  {
   "cell_type": "code",
   "execution_count": null,
   "metadata": {},
   "outputs": [],
   "source": [
    "# Proportion test 결과 출력\n",
    "print( \"1 Proportion test \")\n",
    "print( ' z: {0:0.3f}' .format(z))\n",
    "print( ' p: {0:0.3f}'.format(p))"
   ]
  },
  {
   "cell_type": "markdown",
   "metadata": {},
   "source": [
    "- 2 Proportion test"
   ]
  },
  {
   "cell_type": "code",
   "execution_count": null,
   "metadata": {},
   "outputs": [],
   "source": [
    "# 변수 선언 \n",
    "count = np.array([4, 1])\n",
    "nobs = np.array([1000, 1200])\n",
    "\n",
    "# Proportion test 실행\n",
    "z, p = proportions_ztest(count, nobs)"
   ]
  },
  {
   "cell_type": "code",
   "execution_count": null,
   "metadata": {},
   "outputs": [],
   "source": [
    "# Proportion test 결과 출력\n",
    "print( \"2 Proportion test \")\n",
    "print( ' z: {0:0.3f}' .format(z))\n",
    "print( ' p: {0:0.3f}'.format(p))"
   ]
  },
  {
   "cell_type": "markdown",
   "metadata": {},
   "source": [
    "- chi-square test"
   ]
  },
  {
   "cell_type": "code",
   "execution_count": null,
   "metadata": {},
   "outputs": [],
   "source": [
    "# df 생성  \n",
    "df = pd.DataFrame({'Work_1': [270, 228, 277], \n",
    "                   'Work_2': [260, 285, 284], \n",
    "                   'Work_3': [236, 225, 231],\n",
    "                   'Work_4':[234, 262, 208]})\n",
    "\n",
    "# chi-square test 실행\n",
    "chi, pval, dof, expected = stats.chi2_contingency(df)\n",
    "\n",
    "# chi-square test 결과 출력\n",
    "print( \"chi-square test \")\n",
    "print( ' chisq: {0:0.3f}' .format(chi))\n",
    "print( ' p: {0:0.3f}'.format(pval))\n",
    "print( ' degree pf freedom: {}' .format(dof))\n",
    "print( ' expected value: \\n{}' .format(expected.round(3)))"
   ]
  },
  {
   "cell_type": "markdown",
   "metadata": {},
   "source": [
    "- ANOVA"
   ]
  },
  {
   "cell_type": "code",
   "execution_count": null,
   "metadata": {},
   "outputs": [],
   "source": [
    "# df 입력\n",
    "df = pd.DataFrame({'A': [892, 623, 721, 678, 723, 790, 720, 670, 690, 771],\n",
    "                                  'B': [721, 821, 910, 678, 723, 790, 711, 790, 745, 891],\n",
    "                                  'C': [750, 915, 888, 721, 894, 834, 841, 912, 845, 889]})\n",
    "df.head()"
   ]
  },
  {
   "cell_type": "code",
   "execution_count": null,
   "metadata": {},
   "outputs": [],
   "source": [
    "# Group별 boxplot \n",
    "df.boxplot(['A','B','C'])\n",
    "plt.show()"
   ]
  },
  {
   "cell_type": "code",
   "execution_count": null,
   "metadata": {},
   "outputs": [],
   "source": [
    "# 'A‘. ’B’, ’C’ 정규성 검정: Shapiro-Wilk Test\n",
    "f, p = stats.shapiro(df['A'])\n",
    "print(\"statistic={}, p-value={}\".format(f,p))"
   ]
  },
  {
   "cell_type": "code",
   "execution_count": null,
   "metadata": {},
   "outputs": [],
   "source": [
    "f, p = stats.shapiro(df['B'])\n",
    "print(\"statistic={}, p-value={}\".format(f,p))"
   ]
  },
  {
   "cell_type": "code",
   "execution_count": null,
   "metadata": {},
   "outputs": [],
   "source": [
    "f, p = stats.shapiro(df['C'])\n",
    "print(\"statistic={}, p-value={}\".format(f,p))"
   ]
  },
  {
   "cell_type": "code",
   "execution_count": null,
   "metadata": {},
   "outputs": [],
   "source": [
    "# 'A‘. ’B’, ’C’ 등분산성 검정: bartlett Test\n",
    "stats.bartlett(df['A'], df['B'], df['C'])"
   ]
  },
  {
   "cell_type": "code",
   "execution_count": null,
   "metadata": {},
   "outputs": [],
   "source": [
    "# ANOVA 실행\n",
    "f_result = stats.f_oneway(df['A'],df['B'], df['C'])\n",
    "\n",
    "# ANOVA의 f값 p값 저장\n",
    "f, p = f_result.statistic.round(3),\\\n",
    "       f_result.pvalue.round(3)"
   ]
  },
  {
   "cell_type": "code",
   "execution_count": null,
   "metadata": {},
   "outputs": [],
   "source": [
    "# ANOVA의 f값 p값 출력\n",
    "print( \"One-way ANOVA\")\n",
    "print( \" F 통계량 : {}\" .format(f))\n",
    "print( \" p-value : {} \" .format(p))"
   ]
  },
  {
   "cell_type": "markdown",
   "metadata": {},
   "source": [
    "- Correlation Analysis"
   ]
  },
  {
   "cell_type": "code",
   "execution_count": null,
   "metadata": {},
   "outputs": [],
   "source": [
    "# df 생성  \n",
    "df1 = [1, 2, 3, 4, 4, 5, 6, 6, 7, 8]\n",
    "df2 = [23, 29, 49, 64, 74, 87, 96, 97, 109, 119]\n",
    "\n",
    "# Correlation Analysis 실행\n",
    "corr, pval = stats.pearsonr(df1, df2)\n",
    "\n",
    "# Correlation, p-value 결과 출력 \n",
    "print( \"Correlation Analysis \")\n",
    "print( ' corr: {0:0.3f}' .format(corr))\n",
    "print( ' p-value : {0:0.3f}'.format(pval))"
   ]
  },
  {
   "cell_type": "code",
   "execution_count": null,
   "metadata": {},
   "outputs": [],
   "source": []
  }
 ],
 "metadata": {
  "kernelspec": {
   "display_name": "Python 3 (ipykernel)",
   "language": "python",
   "name": "python3"
  },
  "language_info": {
   "codemirror_mode": {
    "name": "ipython",
    "version": 3
   },
   "file_extension": ".py",
   "mimetype": "text/x-python",
   "name": "python",
   "nbconvert_exporter": "python",
   "pygments_lexer": "ipython3",
   "version": "3.10.9"
  }
 },
 "nbformat": 4,
 "nbformat_minor": 2
}
