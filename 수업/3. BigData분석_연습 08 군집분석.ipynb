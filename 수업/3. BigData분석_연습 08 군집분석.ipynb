{
 "cells": [
  {
   "cell_type": "raw",
   "metadata": {},
   "source": [
    "!pip install yellowbrick"
   ]
  },
  {
   "cell_type": "code",
   "execution_count": null,
   "metadata": {},
   "outputs": [],
   "source": [
    "# 데이터 구성:Series, DataFrame\n",
    "import pandas as pd\n",
    "# 행렬 연산\n",
    "import numpy as np\n",
    "# 데이터 시각화\n",
    "import matplotlib\n",
    "import matplotlib.pyplot as plt\n",
    "\n",
    "# Scale 변환:평균,표준편차 기준\n",
    "from sklearn.preprocessing import StandardScaler\n",
    "# linkage: 계층형 군집분석, dendrogram: 계층구조 나무, cluster: linkage로부터 얻은 값으로 군집 생성\n",
    "from scipy.cluster.hierarchy import linkage, dendrogram, fcluster\n",
    "# 군집 방법 : AgglomerativeClustering(계층형), KMeans(k-평균), DBSCAN\n",
    "from sklearn.cluster import AgglomerativeClustering, KMeans, DBSCAN\n",
    "\n",
    "# 실루엣(Silhouette) 계수 산출\n",
    "from sklearn.metrics import silhouette_samples, silhouette_score\n",
    "# 실루엣 계수 산출 및 시각화 라이브러리 (pip install yellowbrick 실행)\n",
    "from yellowbrick.cluster import SilhouetteVisualizer"
   ]
  },
  {
   "cell_type": "markdown",
   "metadata": {},
   "source": [
    "#### 그래프 옵션 지정"
   ]
  },
  {
   "cell_type": "code",
   "execution_count": null,
   "metadata": {},
   "outputs": [],
   "source": [
    "# 그래프 한글폰트 적용:맑은 고딕\n",
    "matplotlib.rc(\"font\", family = \"Malgun Gothic\")\n",
    "# 그래프 (-) 기호 표시\n",
    "matplotlib.rc(\"axes\", unicode_minus = False)"
   ]
  },
  {
   "cell_type": "markdown",
   "metadata": {},
   "source": [
    "### 데이터 구성하기"
   ]
  },
  {
   "cell_type": "code",
   "execution_count": null,
   "metadata": {},
   "outputs": [],
   "source": [
    "# df_raw = pd.read_csv(\"D:/WORK/Data/직무능력평가.csv\", engine = \"python\")\n",
    "df_raw = pd.read_csv(\"D:/WORK/Data/직무능력평가.csv\")\n",
    "df_raw.head()"
   ]
  },
  {
   "cell_type": "code",
   "execution_count": null,
   "metadata": {},
   "outputs": [],
   "source": [
    "# 데이터 표준화\n",
    "scaler = StandardScaler()\n",
    "df_raw_scaled = scaler.fit_transform(df_raw)\n",
    "\n",
    "# 위에서부터 자료 5개 확인\n",
    "df_raw_scaled[:5]"
   ]
  },
  {
   "cell_type": "markdown",
   "metadata": {},
   "source": [
    "#### 데이터 분리"
   ]
  },
  {
   "cell_type": "code",
   "execution_count": null,
   "metadata": {},
   "outputs": [],
   "source": [
    "# 목표 변수:모든 행 & 1번째 열\n",
    "df_raw_y = df_raw_scaled[:, 0]\n",
    "# 설명 변수::모든 행 & 1번째 제외한 모든 열\n",
    "df_raw_x = df_raw_scaled[:,1::]"
   ]
  },
  {
   "cell_type": "markdown",
   "metadata": {},
   "source": [
    "## @계층형 군집분석"
   ]
  },
  {
   "cell_type": "code",
   "execution_count": null,
   "metadata": {},
   "outputs": [],
   "source": [
    "# 연결: ward, 거리 계산: Euclidean: ward~Euclidean\n",
    "Z_ward = linkage(df_raw_x, method = \"ward\", metric = \"euclidean\")\n",
    "# 연결: average, 거리 계산: Euclidean\n",
    "Z_average = linkage(df_raw_x, method = \"average\", metric = \"euclidean\")"
   ]
  },
  {
   "cell_type": "code",
   "execution_count": null,
   "metadata": {
    "scrolled": false
   },
   "outputs": [],
   "source": [
    "# 군집 생성 결과 확인\n",
    "Z_ward"
   ]
  },
  {
   "cell_type": "code",
   "execution_count": null,
   "metadata": {},
   "outputs": [],
   "source": [
    "#덴드로그램[연결: ward, 거리 계산: Euclidean]\n",
    "plt.figure(figsize=(10,6))\n",
    "ax = plt.subplot(111) \n",
    "# DataFrame 변경:Z_ward, Z_average, Z_Minkowski\n",
    "dendrogram(Z_ward, leaf_font_size=10, orientation= \"top\")\n",
    "plt.title(\"군집 Dendrogram - Ward, Euclidean\")\n",
    "plt.xlabel(\"# of Data\")\n",
    "plt.ylabel(\"Distance\")"
   ]
  },
  {
   "cell_type": "code",
   "execution_count": null,
   "metadata": {},
   "outputs": [],
   "source": [
    "#덴드로그램[연결: average, 거리 계산: Euclidean]\n",
    "plt.figure(figsize=(10,6))\n",
    "ax = plt.subplot(111) \n",
    "dendrogram(Z_average, leaf_font_size=10, orientation= \"top\")\n",
    "plt.title(\"군집 Dendrogram - Average, Euclidean\")\n",
    "plt.xlabel(\"# of Data\")\n",
    "plt.ylabel(\"Distance\")"
   ]
  },
  {
   "cell_type": "code",
   "execution_count": null,
   "metadata": {
    "scrolled": false
   },
   "outputs": [],
   "source": [
    "# linkage 함수를 통해 얻은 Z_ward 행렬 데이터를 이용하여 군집 생성\n",
    "cluster_H = fcluster(Z = Z_ward, t = 5, criterion=\"distance\")\n",
    "# 데이터에 계층형 군집 결과 입력\n",
    "df_raw[\"cluster_H\"] = cluster_H\n",
    "df_raw.head()"
   ]
  },
  {
   "cell_type": "code",
   "execution_count": null,
   "metadata": {
    "scrolled": false
   },
   "outputs": [],
   "source": [
    "# 집계 함수를 이용한 군집별 데이터 요약\n",
    "df_summary_H = df_raw.groupby(\"cluster_H\").agg([\"min\", \"mean\", \"max\"])\n",
    "# 집계 함수를 이용할 경우 열 이름이 두 줄에 걸쳐 나오므로 한 줄로 변환\n",
    "level0 = df_summary_H.columns.get_level_values(0)\n",
    "level1 = df_summary_H.columns.get_level_values(1)\n",
    "df_summary_H.columns = level0 + \"_\" + level1\n",
    "df_summary_H.reset_index(inplace = True)\n",
    "df_summary_H.round(3)"
   ]
  },
  {
   "cell_type": "code",
   "execution_count": null,
   "metadata": {},
   "outputs": [],
   "source": [
    "# Boxplot을 활용한 군집별 설명변수 분포\n",
    "df_raw.boxplot(column=[\"DISSATIS\", \"PRIVILEGE\",\"CHANCE\", \"ADVANCE\", \"CRITISM\", \"PROMOTION\"]\n",
    "               , by = \"cluster_H\")"
   ]
  },
  {
   "cell_type": "code",
   "execution_count": null,
   "metadata": {},
   "outputs": [],
   "source": [
    "# Boxplot을 활용한 군집별 변수 분포\n",
    "df_raw.boxplot(column=[\"DISSATIS\", \"PRIVILEGE\",\"CHANCE\", \"ADVANCE\", \"CRITISM\", \"PROMOTION\"]\n",
    "               , by = \"cluster_H\")"
   ]
  },
  {
   "cell_type": "code",
   "execution_count": null,
   "metadata": {},
   "outputs": [],
   "source": [
    "# Boxplot을 활용한 군집별 목표변수 분포\n",
    "df_raw.boxplot(column=[\"EVAL\"], by = \"cluster_H\", figsize=(4,3))"
   ]
  },
  {
   "cell_type": "markdown",
   "metadata": {},
   "source": [
    "## @k-평균 군집분석"
   ]
  },
  {
   "cell_type": "code",
   "execution_count": null,
   "metadata": {
    "scrolled": false
   },
   "outputs": [],
   "source": [
    "# 최대 군집 생성 개수\n",
    "n_iter_cluster = 15\n",
    "cluster_range = [i+1 for i in range(n_iter_cluster)]\n",
    "clus_error = []\n",
    "for v_n_clus in cluster_range:\n",
    "    clus = KMeans(v_n_clus)\n",
    "    clus.fit(df_raw_x)\n",
    "    \n",
    "    # 각 데이터로부터 가장 가까운 군집 중심점까지 거리 제곱합\n",
    "    clus_error.append(clus.inertia_)\n",
    "df_error = pd.DataFrame({\"NumberofCluster\": cluster_range, \"Error\": clus_error})\n",
    "df_error.round(3)"
   ]
  },
  {
   "cell_type": "code",
   "execution_count": null,
   "metadata": {
    "scrolled": false
   },
   "outputs": [],
   "source": [
    "plt.figure(figsize=(6,4))\n",
    "plt.plot(df_error[\"NumberofCluster\"], df_error[\"Error\"])\n",
    "plt.title(\"Clusters vs. Sum of Square\")\n",
    "plt.xlabel(\"# of Clusters\")\n",
    "plt.ylabel(\"Sum of Square\")"
   ]
  },
  {
   "cell_type": "code",
   "execution_count": null,
   "metadata": {
    "scrolled": false
   },
   "outputs": [],
   "source": [
    "clus = KMeans(5)\n",
    "clus.fit(df_raw_x)\n",
    "cluster_KM = [i+1 for i in clus.labels_]\n",
    "df_raw[\"cluster_KM\"] = cluster_KM\n",
    "df_raw.head(10)"
   ]
  },
  {
   "cell_type": "code",
   "execution_count": null,
   "metadata": {
    "scrolled": true
   },
   "outputs": [],
   "source": [
    "df_summary_KM = df_raw.drop(\"cluster_H\", axis = 1, inplace=False). \\\n",
    "    groupby(\"cluster_KM\").agg([\"min\", \"mean\", \"max\"])\n",
    "level0 = df_summary_KM.columns.get_level_values(0)\n",
    "level1 = df_summary_KM.columns.get_level_values(1)\n",
    "df_summary_KM.columns = level0 + \"_\" + level1\n",
    "df_summary_KM.reset_index(inplace = True)\n",
    "df_summary_KM.round(3)"
   ]
  },
  {
   "cell_type": "code",
   "execution_count": null,
   "metadata": {},
   "outputs": [],
   "source": [
    "# Boxplot을 활용한 군집별 tjfaud변수 분포\n",
    "df_raw.boxplot(column=[\"DISSATIS\", \"PRIVILEGE\",\"CHANCE\", \"ADVANCE\", \"CRITISM\", \"PROMOTION\"]\n",
    "               , by = \"cluster_KM\")"
   ]
  },
  {
   "cell_type": "code",
   "execution_count": null,
   "metadata": {},
   "outputs": [],
   "source": [
    "# Boxplot을 활용한 군집별 목표변수 분포\n",
    "df_raw.boxplot(column=[\"EVAL\"], by = \"cluster_KM\", figsize=(4,3))"
   ]
  },
  {
   "cell_type": "markdown",
   "metadata": {},
   "source": [
    "## 적정 군집 수 결정"
   ]
  },
  {
   "cell_type": "markdown",
   "metadata": {},
   "source": [
    "### @예제-적정 군집 수 결정\n",
    ". sklearn에서 지원하는 AgglomerativeClustering, KMeans (실루엣 계수는 silhouette_score 활용)"
   ]
  },
  {
   "cell_type": "code",
   "execution_count": null,
   "metadata": {},
   "outputs": [],
   "source": [
    "# scipy.cluster.hierarchy의 계층형 군집분석은 실루엣 계수 산출 안됨\n",
    "# 실루엣 계수 산출:sklearn.AgglomerativeClustering(계층형군집분석)\n",
    "cls_h = AgglomerativeClustering(n_clusters=3).fit_predict(df_raw_x)  # 군집 수 =3\n",
    "sil_score = silhouette_score(df_raw_x, cls_h, metric='euclidean')\n",
    "print( \"계층형(군집 수=3) 실루엣 계수 = \",format(round(sil_score,3)))\n",
    "\n",
    "cls_h = AgglomerativeClustering(n_clusters=4).fit_predict(df_raw_x)  # 군집 수 =4\n",
    "sil_score = silhouette_score(df_raw_x, cls_h, metric='euclidean')\n",
    "print( \"계층형(군집 수=4) 실루엣 계수 = \",format(round(sil_score,3)))"
   ]
  },
  {
   "cell_type": "code",
   "execution_count": null,
   "metadata": {
    "scrolled": true
   },
   "outputs": [],
   "source": [
    "# 실루엣 계수 산출:sklearn.KMeans(k평균군집분석)\n",
    "cls_k = KMeans(3).fit_predict(df_raw_x)  # 군집 수 =3\n",
    "sil_score = silhouette_score(df_raw_x, cls_k)\n",
    "print( \"k-평균(군집 수=3) 실루엣 계수 = \",format(round(sil_score,3)))\n",
    "\n",
    "cls_k = KMeans(4).fit_predict(df_raw_x)  # 군집 수 =4\n",
    "sil_score = silhouette_score(df_raw_x, cls_k)\n",
    "print( \"k-평균(군집 수=4) 실루엣 계수 = \",format(round(sil_score,3)))"
   ]
  },
  {
   "attachments": {
    "image.png": {
     "image/png": "[encoded data removed]"
    }
   },
   "cell_type": "markdown",
   "metadata": {},
   "source": [
    "#### @@ 해석\n",
    "![image.png](attachment:image.png)"
   ]
  },
  {
   "cell_type": "markdown",
   "metadata": {},
   "source": [
    "### @참조-적정 군집 수 결정\n",
    ". sklearn에서 지원하는 AgglomerativeClustering (실루엣 계수는 silhouette_samples, silhouette_score 활용)"
   ]
  },
  {
   "cell_type": "code",
   "execution_count": null,
   "metadata": {},
   "outputs": [],
   "source": [
    "f, axes = plt.subplots(1, 5, sharex=True, sharey=True)\n",
    "f.set_size_inches(15, 3)\n",
    "\n",
    "for i, ax in enumerate(axes):\n",
    "#     cluster_nums = AgglomerativeClustering(n_clusters=i+2).fit_predict(df_raw_x)\n",
    "    cluster_nums = KMeans(n_clusters=i+2).fit_predict(df_raw_x)\n",
    "    \n",
    "    sil_samples = silhouette_samples(df_raw_x, cluster_nums, metric='euclidean')\n",
    "    sil_score = silhouette_score(df_raw_x, cluster_nums, metric='euclidean')\n",
    "    ax.plot(sorted(sil_samples), color='red',linestyle='dashed', linewidth=2)\n",
    "    ax.set_title(\"# of Cluster:{} , score:{}\".format(round(i+2), format(round(sil_score, 2))))\n",
    "plt.savefig('../sil_of_cluster.svg')\n",
    "plt.show()"
   ]
  },
  {
   "cell_type": "markdown",
   "metadata": {},
   "source": [
    "### @@적정 군집 수 결정\n",
    ". 실루엣 계수 점수/라이브러리(yellowbrick) 활용"
   ]
  },
  {
   "cell_type": "code",
   "execution_count": null,
   "metadata": {},
   "outputs": [],
   "source": [
    "# yellowbrick 라이브러리의 SilhouetteVisualizer 이용\n",
    "\n",
    "clus = KMeans(3)\n",
    "graph_sil = SilhouetteVisualizer(clus, colors='yellowbrick')\n",
    "\n",
    "#생성된 visualizer에 데이터 입력 \n",
    "graph_sil.fit(df_raw_x)      \n",
    "graph_sil.show()\n",
    "print( \"실루엣 계수 = \",format(round(graph_sil.silhouette_score_,4)))"
   ]
  },
  {
   "cell_type": "code",
   "execution_count": null,
   "metadata": {
    "scrolled": false
   },
   "outputs": [],
   "source": [
    "clus = KMeans(4)\n",
    "\n",
    "#visualizer 생성\n",
    "graph_sil = SilhouetteVisualizer(clus, colors='yellowbrick')\n",
    "#생성된 visualizer에 데이터 입력 \n",
    "graph_sil.fit(df_raw_x)      \n",
    "graph_sil.show()\n",
    "print( \"실루엣 계수 = \",format(round(graph_sil.silhouette_score_,4)))"
   ]
  },
  {
   "cell_type": "code",
   "execution_count": null,
   "metadata": {},
   "outputs": [],
   "source": [
    "clus = KMeans(5)\n",
    "\n",
    "#visualizer 생성\n",
    "graph_sil = SilhouetteVisualizer(clus, colors='yellowbrick')\n",
    "#생성된 visualizer에 데이터 입력 \n",
    "graph_sil.fit(df_raw_x)      \n",
    "graph_sil.show()\n",
    "print( \"실루엣 계수 = \",format(round(graph_sil.silhouette_score_,4)))"
   ]
  },
  {
   "cell_type": "markdown",
   "metadata": {},
   "source": [
    "### @참조:DBSCAN 군집"
   ]
  },
  {
   "cell_type": "code",
   "execution_count": null,
   "metadata": {},
   "outputs": [],
   "source": [
    "# X축: DISSATIS 변수, Y축: CHANCE\n",
    "X = df_raw[\"DISSATIS\"]\n",
    "Y = df_raw[\"CHANCE\"]\n",
    "# 데이터 point 그림 종류\n",
    "markers = [\"o\", \"v\", \"^\", \"s\", \"<\", \">\", \"p\", \"D\"]\n",
    "# eps: 1.0~1.5, min_sample: 2~5\n",
    "para_eps = [k/10 for k in range(10, 16, 1)]\n",
    "para_min_sample = [2,3,4,5]\n",
    "fig, axes = plt.subplots(len(para_eps), len(para_min_sample), figsize = (15, 15)) # plot 개수\n",
    "fig.tight_layout(w_pad=1, h_pad=3) # plot 간 간격\n",
    "# enumerate(): 값의 index와 값을 순차적으로 반환\n",
    "for i, eps in enumerate(para_eps):\n",
    "    for j, min_sample in enumerate(para_min_sample):\n",
    "        dbscan = DBSCAN(min_samples=min_sample, eps = eps) # dbscan 실행\n",
    "        clusters = dbscan.fit_predict(df_raw_x) # 예측 분류\n",
    "        clusters = clusters + 1 # noise의 경우 -1로 표기되므로 1씩 더하여 0으로 변환\n",
    "        for (n_clus, clus) in enumerate(range(min(clusters), max(clusters)+1, 1)): # 군집별 다른 그림 지정\n",
    "            axes[i, j].scatter(X[clusters == clus], Y[clusters == clus], marker = markers[n_clus], s = 100)\n",
    "            axes[i, j].set_title(\"eps = \" + str(eps) + \", min_sample = \" + str(min_sample) +\\\n",
    "                                 \"\\n # of cluser = \" + str(max(clusters)), fontsize = 15)\n"
   ]
  },
  {
   "cell_type": "code",
   "execution_count": null,
   "metadata": {},
   "outputs": [],
   "source": [
    "# eps: 특정 데이터로부터 다른 데이터를 포함하는 거리 min_samples: 군집이 되기 위한 최소 데이터 수\n",
    "dbscan = DBSCAN(eps=1.4, min_samples=2).fit(df_raw_x)\n",
    "# 군집 결과\n",
    "cluster_DB = dbscan.labels_\n",
    "# sklearn의 DBSCAN에서는 noise 데이터의 경우 군집이 -1로 표시되며 0번 군집부터 시작\n",
    "# 다른 계층형, K-평균은 1번 군집부터 시작하므로 다른 군집 번호와 통일. Noise 데이터는 0번 군집으로 표기\n",
    "for (i, val) in enumerate(cluster_DB):\n",
    "    if val < 0:\n",
    "        cluster_DB[i] = 0\n",
    "    else:\n",
    "        cluster_DB[i] = cluster_DB[i] + 1\n",
    "df_raw[\"cluster_DB\"] = cluster_DB\n",
    "df_raw.head()\n"
   ]
  },
  {
   "cell_type": "code",
   "execution_count": null,
   "metadata": {},
   "outputs": [],
   "source": [
    "# DB 스캔 군집별 요약 통계량\n",
    "df_summary_DB = df_raw.drop([\"cluster_H\", \"cluster_KM\"],\n",
    "                                   axis = 1,\n",
    "                                   inplace=False).\\\n",
    "                groupby(\"cluster_DB\").agg([\"min\", \"mean\", \"max\"])\n",
    "level0 = df_summary_DB.columns.get_level_values(0)\n",
    "level1 = df_summary_DB.columns.get_level_values(1)\n",
    "df_summary_DB.columns = level0 + \"_\" + level1\n",
    "df_summary_DB.reset_index(inplace = True)\n",
    "df_summary_DB.round(3)\n"
   ]
  },
  {
   "cell_type": "markdown",
   "metadata": {},
   "source": [
    "## End of 군집분석"
   ]
  }
 ],
 "metadata": {
  "kernelspec": {
   "display_name": "Python 3 (ipykernel)",
   "language": "python",
   "name": "python3"
  },
  "language_info": {
   "codemirror_mode": {
    "name": "ipython",
    "version": 3
   },
   "file_extension": ".py",
   "mimetype": "text/x-python",
   "name": "python",
   "nbconvert_exporter": "python",
   "pygments_lexer": "ipython3",
   "version": "3.10.9"
  }
 },
 "nbformat": 4,
 "nbformat_minor": 2
}
