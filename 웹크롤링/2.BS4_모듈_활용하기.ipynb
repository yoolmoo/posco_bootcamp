{
 "cells": [
  {
   "cell_type": "markdown",
   "metadata": {},
   "source": [
    "## 모듈 import 방법 및 기본 사용법"
   ]
  },
  {
   "cell_type": "code",
   "execution_count": null,
   "metadata": {},
   "outputs": [],
   "source": []
  },
  {
   "cell_type": "markdown",
   "metadata": {},
   "source": [
    "### 1. soup 객체 생성"
   ]
  },
  {
   "cell_type": "code",
   "execution_count": null,
   "metadata": {},
   "outputs": [],
   "source": []
  },
  {
   "cell_type": "markdown",
   "metadata": {},
   "source": [
    "### 2. select() 메소드"
   ]
  },
  {
   "cell_type": "code",
   "execution_count": null,
   "metadata": {},
   "outputs": [],
   "source": []
  },
  {
   "cell_type": "markdown",
   "metadata": {},
   "source": [
    "### 3. text 속성"
   ]
  },
  {
   "cell_type": "code",
   "execution_count": null,
   "metadata": {},
   "outputs": [],
   "source": []
  },
  {
   "cell_type": "markdown",
   "metadata": {},
   "source": [
    "### 연습1) BS로 데이터 선택하기"
   ]
  },
  {
   "cell_type": "markdown",
   "metadata": {},
   "source": [
    "- BeautifulSoup 모듈과 CSS Selector를 활용해 아래의 html 태그 데이터에서 '매출액/100/200'만 선택하여 출력해 봅시다."
   ]
  },
  {
   "cell_type": "code",
   "execution_count": null,
   "metadata": {},
   "outputs": [],
   "source": []
  },
  {
   "cell_type": "markdown",
   "metadata": {},
   "source": [
    "### 연습2) BS로 데이터 선택하기"
   ]
  },
  {
   "cell_type": "markdown",
   "metadata": {},
   "source": [
    " - BeautifulSoup 모듈과 CSS Selector를 활용해 아래에서 '100'만 선택하여 출력해 봅시다.<br>\n",
    "   *힌트1 : nth-child() 사용 시 오류가 날 경우 nth-of-type()을 사용해 보세요!<br>\n",
    "   *힌트2 : soup.select() 메소드는 요소 하나만 선택하더라도 리스트 형태로 결과값을 리턴합니다."
   ]
  },
  {
   "cell_type": "code",
   "execution_count": null,
   "metadata": {},
   "outputs": [],
   "source": []
  },
  {
   "cell_type": "markdown",
   "metadata": {},
   "source": [
    "### 연습3) BS로 데이터 선택하기"
   ]
  },
  {
   "cell_type": "markdown",
   "metadata": {},
   "source": [
    "- BeautifulSoup 모듈과 CSS Selector를 활용해 아래에서 '새우깡'만 선택하여 출력해 봅시다.<br>\n",
    "  *힌트 : soup.select() 메소드는 요소 하나만 선택하더라도 리스트 형태로 결과값을 리턴합니다."
   ]
  },
  {
   "cell_type": "code",
   "execution_count": null,
   "metadata": {},
   "outputs": [],
   "source": []
  },
  {
   "cell_type": "markdown",
   "metadata": {},
   "source": [
    "### 연습4) BS로 데이터 선택하기"
   ]
  },
  {
   "cell_type": "markdown",
   "metadata": {},
   "source": [
    "- BeautifulSoup 모듈과 CSS Selector를 활용해 아래에서 '죠스바'만 선택하여 출력해 봅시다.<br>\n",
    "  *힌트1 : nth-child() 사용 시 오류가 날 경우 nth-of-type()을 사용해 보세요!<br>\n",
    "  *힌트2 : soup.select() 메소드는 요소 하나만 선택하더라도 리스트 형태로 결과값을 리턴합니다."
   ]
  },
  {
   "cell_type": "code",
   "execution_count": null,
   "metadata": {},
   "outputs": [],
   "source": []
  },
  {
   "cell_type": "markdown",
   "metadata": {},
   "source": [
    "### 4. requests 모듈로 받아온 html text를 BS로 파싱하기"
   ]
  },
  {
   "cell_type": "code",
   "execution_count": 18,
   "metadata": {},
   "outputs": [
    {
     "data": {
      "text/plain": [
       "[<a href=\"/news/news_read.naver?mode=mainnews&amp;office_id=648&amp;article_id=0000023917\" onclick=\"clickcr(this, 'tdn.list', '648_0000023917', '0', event);\">'엔비디아 급락에도'…코스피 2700 가능한 이유</a>,\n",
       " <a href=\"/news/news_read.naver?mode=mainnews&amp;office_id=009&amp;article_id=0005270435\" onclick=\"clickcr(this, 'tdn.list', '009_0005270435', '1', event);\">4대 금융지주 외국인 지분 줄줄이↑…‘상생 압박’에 탈출하다 ‘밸류업’에 돌아왔다</a>,\n",
       " <a href=\"/news/news_read.naver?mode=mainnews&amp;office_id=009&amp;article_id=0005270424\" onclick=\"clickcr(this, 'tdn.list', '009_0005270424', '2', event);\">치열한 美장기채 ETF 전쟁···‘월배당’이 갈랐다</a>,\n",
       " <a href=\"/news/news_read.naver?mode=mainnews&amp;office_id=031&amp;article_id=0000819265\" onclick=\"clickcr(this, 'tdn.list', '031_0000819265', '3', event);\">삼성·인텔 '각축' 꿈의 기술 AI반도체 유리기판...와이씨켐, 세계 첫 유리기판 기술 개발</a>,\n",
       " <a href=\"/news/news_read.naver?mode=mainnews&amp;office_id=009&amp;article_id=0005270395\" onclick=\"clickcr(this, 'tdn.list', '009_0005270395', '4', event);\">1년 안돼 수익률 800% 넘더니 금새 반토막…‘의료 AI’ 무슨 일</a>,\n",
       " <a href=\"/news/news_read.naver?mode=mainnews&amp;office_id=009&amp;article_id=0005270383\" onclick=\"clickcr(this, 'tdn.list', '009_0005270383', '5', event);\">‘중국 MZ세대 재테크’로 떠오른 금…서학개미, 금·채굴주 ETF 매매 저울질</a>,\n",
       " <a class=\"btn_more\" href=\"/news/mainnews.naver\" onclick=\"clickcr(this, 'tdn.more', '', '', event);\"><em class=\"btn_more4\"><span class=\"blind\">주요뉴스 더보기</span></em></a>]"
      ]
     },
     "execution_count": 18,
     "metadata": {},
     "output_type": "execute_result"
    }
   ],
   "source": [
    "import requests\n",
    "from bs4 import BeautifulSoup as bs4\n",
    "\n",
    "url='https://finance.naver.com/'\n",
    "res = requests.get(url)\n",
    "soup=bs4(res.text, 'html.parser')\n",
    "soup\n",
    "\n",
    "news_list = soup.select(\".section_strategy a\")\n",
    "news_list"
   ]
  },
  {
   "cell_type": "code",
   "execution_count": 3,
   "metadata": {},
   "outputs": [],
   "source": [
    "news_list = soup.select('.cjs_t')"
   ]
  },
  {
   "cell_type": "code",
   "execution_count": 4,
   "metadata": {},
   "outputs": [
    {
     "data": {
      "text/plain": [
       "bs4.BeautifulSoup"
      ]
     },
     "execution_count": 4,
     "metadata": {},
     "output_type": "execute_result"
    }
   ],
   "source": [
    "type(soup)"
   ]
  },
  {
   "cell_type": "code",
   "execution_count": 10,
   "metadata": {},
   "outputs": [
    {
     "name": "stdout",
     "output_type": "stream",
     "text": [
      "\n",
      "주요뉴스\n",
      "\n",
      "\n",
      "1년 안돼 수익률 800% 넘더니 금새 반토막…‘의료 AI’ 무슨 일\n",
      "\n",
      "\n",
      "‘중국 MZ세대 재테크’로 떠오른 금…서학개미, 금·채굴주 ETF 매매 저울질\n",
      "\n",
      "\n",
      "리서치알음 \"저스템, 세계 1위 반도체공정 습도제어 기업..AI반도체 핵심 기술 보유\"\n",
      "\n",
      "\n",
      "금융노조 \"NH證, 제대로 된 사람 선임해야…정영채 왕국 불가\"\n",
      "\n",
      "\n",
      "홍콩H지수 ELS 불완전판매 책임, 증권사도 못 피했다\n",
      "\n",
      "\n",
      "비트코인 약세 보일때마다 두터워지는 ‘김프’ [매일코인]\n",
      "\n",
      "\n",
      "주요뉴스 더보기\n",
      "\n"
     ]
    }
   ],
   "source": [
    "n = []\n",
    "for news in news_list:\n",
    "    n.append(news.text)\n",
    "    print(news.text)"
   ]
  },
  {
   "cell_type": "code",
   "execution_count": 17,
   "metadata": {},
   "outputs": [
    {
     "data": {
      "text/plain": [
       "['\\n주요뉴스\\n\\n\\n1년 안돼 수익률 800% 넘더니 금새 반토막…‘의료 AI’ 무슨 일\\n\\n\\n‘중국 MZ세대 재테크’로 떠오른 금…서학개미, 금·채굴주 ETF 매매 저울질\\n\\n\\n리서치알음 \"저스템, 세계 1위 반도체공정 습도제어 기업..AI반도체 핵심 기술 보유\"\\n\\n\\n금융노조 \"NH證, 제대로 된 사람 선임해야…정영채 왕국 불가\"\\n\\n\\n홍콩H지수 ELS 불완전판매 책임, 증권사도 못 피했다\\n\\n\\n비트코인 약세 보일때마다 두터워지는 ‘김프’ [매일코인]\\n\\n\\n주요뉴스 더보기\\n']"
      ]
     },
     "execution_count": 17,
     "metadata": {},
     "output_type": "execute_result"
    }
   ],
   "source": [
    "n"
   ]
  },
  {
   "cell_type": "markdown",
   "metadata": {},
   "source": [
    "## 실전연습) 네이버증권 금융관련 주요뉴스 가져오기(HTML)"
   ]
  },
  {
   "cell_type": "markdown",
   "metadata": {},
   "source": [
    "아래 링크로 접속해 금융관련 주요뉴스 6건의 제목을 뽑아 출력해 보세요.<br>\n",
    "링크 : https://finance.naver.com/"
   ]
  },
  {
   "cell_type": "code",
   "execution_count": null,
   "metadata": {},
   "outputs": [],
   "source": []
  }
 ],
 "metadata": {
  "kernelspec": {
   "display_name": "Python 3 (ipykernel)",
   "language": "python",
   "name": "python3"
  },
  "language_info": {
   "codemirror_mode": {
    "name": "ipython",
    "version": 3
   },
   "file_extension": ".py",
   "mimetype": "text/x-python",
   "name": "python",
   "nbconvert_exporter": "python",
   "pygments_lexer": "ipython3",
   "version": "3.11.4"
  },
  "vscode": {
   "interpreter": {
    "hash": "e2782e0ab7cab974e8fb2dfc8cec048a29dc3b50e54743df0c4a34ac41b2be7e"
   }
  }
 },
 "nbformat": 4,
 "nbformat_minor": 2
}
