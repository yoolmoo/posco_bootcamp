{
 "cells": [
  {
   "cell_type": "markdown",
   "metadata": {},
   "source": [
    "## requests 모듈 활용하기"
   ]
  },
  {
   "cell_type": "markdown",
   "metadata": {},
   "source": [
    "### 1. get() 메소드 / text 속성"
   ]
  },
  {
   "cell_type": "code",
   "execution_count": 1,
   "metadata": {},
   "outputs": [],
   "source": [
    "import requests\n",
    "import warnings\n",
    "\n",
    "warnings.filterwarnings(action='ignore')\n",
    "url=\"https://www.naver.com/\"\n",
    "res = requests.get(url)"
   ]
  },
  {
   "cell_type": "code",
   "execution_count": 2,
   "metadata": {},
   "outputs": [
    {
     "data": {
      "text/plain": [
       "<Response [200]>"
      ]
     },
     "execution_count": 2,
     "metadata": {},
     "output_type": "execute_result"
    }
   ],
   "source": [
    "res #200은 정상이라는 의미"
   ]
  },
  {
   "cell_type": "code",
   "execution_count": 3,
   "metadata": {},
   "outputs": [
    {
     "data": {
      "text/plain": [
       "'   <!doctype html> <html lang=\"ko\" class=\"fzoom\"> <head> <meta charset=\"utf-8\"> <meta name=\"Referrer\" content=\"origin\"> <meta http-equiv=\"X-UA-Compatible\" content=\"IE=edge\"> <meta name=\"viewport\" content=\"width=1190\"> <title>NAVER</title> <meta name=\"apple-mobile-web-app-title\" content=\"NAVER\"/> <meta name=\"robots\" content=\"index,nofollow\"/> <meta name=\"description\" content=\"네이버 메인에서 다양한 정보와 유용한 컨텐츠를 만나 보세요\"/> <meta property=\"og:title\" content=\"네이버\"> <meta property=\"og:url\" content=\"https://www.naver.com/\"> <meta property=\"og:image\" content=\"https://s.pstatic.net/static/www/mobile/edit/2016/0705/mobile_212852414260.png\"> <meta property=\"og:description\" content=\"네이버 메인에서 다양한 정보와 유용한 컨텐츠를 만나 보세요\"/> <meta name=\"twitter:card\" content=\"summary\"> <meta name=\"twitter:title\" content=\"\"> <meta name=\"twitter:url\" content=\"https://www.naver.com/\"> <meta name=\"twitter:image\" content=\"https://s.pstatic.net/static/www/mobile/edit/2016/0705/mobile_212852414260.png\"> <meta name=\"twitter:description\" c'"
      ]
     },
     "execution_count": 3,
     "metadata": {},
     "output_type": "execute_result"
    }
   ],
   "source": [
    "res.text[:1000]"
   ]
  },
  {
   "cell_type": "markdown",
   "metadata": {},
   "source": [
    "### 2. params 파라미터"
   ]
  },
  {
   "cell_type": "code",
   "execution_count": 4,
   "metadata": {},
   "outputs": [
    {
     "data": {
      "text/plain": [
       "'<!doctype html> <html lang=\"ko\"><head> <meta charset=\"utf-8\"> <meta name=\"referrer\" content=\"always\">  <meta name=\"format-detection\" content=\"telephone=no,address=no,email=no\"> <meta property=\"og:title\" content=\"날씨 : 네이버 통합검색\"/> <meta property=\"og:image\" content=\"https://ssl.pstatic.net/sstatic/search/common/og_v3.png\"> <meta property=\"og:description\" content=\"\\'날씨\\'의 네이버 통합검색 결과입니다.\"> <meta name=\"description\" lang=\"ko\" content=\"\\'날씨\\'의 네이버 통합검색 결과입니다.\"> <title>날씨 : 네이버 통합검색</title> <link rel=\"shortcut icon\" href=\"https://ssl.pstatic.net/sstatic/search/favicon/favicon_191118_pc.ico\">  <link rel=\"search\" type=\"application/opensearchdescription+xml\" href=\"https://ssl.pstatic.net/sstatic/search/opensearch-description.https.xml\" title=\"Naver\" /><script> if (top.frames.length!=0 || window!=top) window.open(location, \"_top\"); </script><link rel=\"stylesheet\" type=\"text/css\" href=\"https://ssl.pstatic.net/sstatic/search/pc/css/search1_240307.css\"> <link rel=\"stylesheet\" type=\"text/css\" href=\"https://ssl.pstatic.net/sstatic/search/pc/css/search2_240228.css\"> <link rel=\"stylesheet\" type=\"text/css\" href=\"https://ssl.pstatic.net/sstatic/search/pc/css/sp_autocomplete_231130.css\"><script> naver = window.naver || {}; naver.search = naver.search || {}; naver.search.abt_param = \"\"; </script><script> naver = window.naver || {}; naver.search = naver.search || {}; naver.search.error = (function () { var errorList = Array() ; return { add : function (s) { errorList.push(s) ; }, clear : function () { delete errorList ; }, get : function (s) { return errorList ; }, getString : function (d) { if (typeof d === \\'undefined\\') d = \\'|\\' ; return errorList.join(d) ; } } })(); function nx_add_event_handler (event, func) { $Fn(func).attach(document, event) ; } function bt(id, after) { document.getElementById(id).src = after; } function document_write (s) { document.write(s) ; } </script><script> var nx_au_cookie_domain = \".search.naver.com\" ; var g_site = \"\" ; function nx_defer_eval (id) { var codeElemen'"
      ]
     },
     "execution_count": 4,
     "metadata": {},
     "output_type": "execute_result"
    }
   ],
   "source": [
    "import requests\n",
    "import warnings\n",
    "\n",
    "warnings.filterwarnings(action='ignore')\n",
    "key = '날씨'\n",
    "p = {'query' : key}\n",
    "url = \"https://search.naver.com/search.naver\"\n",
    "res = requests.get(url, params=p)\n",
    "res.text[:2000]"
   ]
  },
  {
   "cell_type": "markdown",
   "metadata": {},
   "source": [
    "### 3. headers 파라미터"
   ]
  },
  {
   "cell_type": "markdown",
   "metadata": {},
   "source": [
    " - headers 파라미터: User-Agent 정보 변경하기\n",
    " - 사용중인 기기/브라우저의 User-Agent 보기(추천 : 방법1)\n",
    "    - 방법1) 특정 페이지 접속 후 크롬 개발자 모드의 네트워크탭에서 Request Header를 보면 확인가능\n",
    "    - 방법2) https://www.whatismybrowser.com/detect/what-is-my-user-agent 접속 *스마트폰 등 개발자 모드를 사용하기 어려운 환경에서 유용"
   ]
  },
  {
   "cell_type": "markdown",
   "metadata": {},
   "source": [
    "#### - header 없이"
   ]
  },
  {
   "cell_type": "code",
   "execution_count": 5,
   "metadata": {},
   "outputs": [
    {
     "data": {
      "text/plain": [
       "'\\n<!DOCTYPE HTML PUBLIC \"-//W3C//DTD HTML 4.01 Transitional//EN\" \"http://www.w3.org/TR/html4/loose.dtd\">\\n<html>\\n<head>\\n<meta http-equiv=\"Content-Type\" content=\"text/html; charset=euc-kr\">\\n<title>네이버 :: 세상의 모든 지식, 네이버</title>\\n\\n<style type=\"text/css\">\\n.error_content * {margin:0;padding:0;}\\n.error_content img{border:none;}\\n.error_content em {font-style:normal;}\\n.error_content {width:410px; margin:80px auto 0; padding:57px 0 0 0; font-size:12px; font-family:\"나눔고딕\", \"NanumGothic\", \"돋움\", Dotum, AppleGothic, Sans-serif; text-align:left; line-height:14px; background:url(https://ssl.pstatic.net/static/common/error/090610/bg_thumb.gif) no-repeat center top; white-space:nowrap;}\\n.error_content p{margin:0;}\\n.error_content .error_desc {margin-bottom:21px; overflow:hidden; text-align:center;}\\n.error_content .error_desc2 {margin-bottom:11px; padding-bottom:7px; color:#888; line-height:18px; border-bottom:1px solid #eee;}\\n.error_content .error_desc3 {clear:both; color:#888;}\\n.error_content .error_desc3 a {color:#004790; text-decoration:underline;}\\n.error_content .error_list_type {clear:both; float:left; width:410px; _width:428px; margin:0 0 18px 0; *margin:0 0 7px 0; padding-bottom:13px; font-size:13px; color:#000; line-height:18px; border-bottom:1px solid #eee;}\\n.error_content .error_list_type dt {float:left; width:60px; _width /**/:70px; padding-left:10px; background:url(https://ssl.pstatic.net/static/common/error/090610/bg_dot.gif) no-repeat 2px 8px;}\\n.error_content .error_list_type dd {float:left; width:336px; _width /**/:340px; padding:0 0 0 4px;}\\n.error_content .error_list_type dd span {color:#339900; letter-spacing:0;}\\n.error_content .error_list_type dd a{color:#339900;}\\n.error_content p.btn{margin:29px 0 100px; text-align:center;}\\n</style>\\n</head>\\n<!-- ERROR -->\\n<body>\\n<div class=\"error_content\">\\n\\t<p class=\"error_desc\"><img src=\"https://ssl.pstatic.net/static/common/error/090610/txt_desc5.gif\" width=\"319\" height=\"30\" alt=\"페이지를 찾을 수 없습니다.\"></p>\\n\\t<p class=\"error_desc2\">방문하시려는 페이지의 주소가 잘못 입력되었거나,<br>\\n\\t\\t페이지의 주소가 변경 혹은 삭제되어 요청하신 페이지를 찾을 수 없습니다.<br>\\n\\t\\t입력하신 주소가 정확한지 다시 한번 확인해 주시기 바랍니다.\\n\\t</p>\\n\\t<p class=\"error_desc3\">관련 문의사항은 <a href=\"https://help.naver.com/\" target=\"_blank\">고객센터</a>에 알려주시면 친절히 안내해드리겠습니다. 감사합니다.</p>\\n\\t<p class=\"btn\">\\n\\t\\t<a href=\"javascript:history.back()\"><img src=\"https://ssl.pstatic.net/static/common/error/090610/btn_prevpage.gif\" width=\"115\" height=\"35\" alt=\"이전 페이지로\"></a>\\n\\t\\t<a href=\"https://finance.naver.com\"><img src=\"https://ssl.pstatic.net/static/nfinance/btn_home.gif\" width=\"115\" height=\"35\" alt=\"증권홈으로\"></a>\\n\\t</p>\\n</div>\\n</body>\\n</html>\\n'"
      ]
     },
     "execution_count": 5,
     "metadata": {},
     "output_type": "execute_result"
    }
   ],
   "source": [
    "import requests\n",
    "import warnings\n",
    "warnings.filterwarnings(action='ignore')\n",
    "\n",
    "url = \"https://finance.naver.com/item/sise_day.naver?code=005490\"\n",
    "res = requests.get(url)\n",
    "res.text"
   ]
  },
  {
   "cell_type": "markdown",
   "metadata": {},
   "source": [
    "#### - header추가"
   ]
  },
  {
   "cell_type": "code",
   "execution_count": 6,
   "metadata": {},
   "outputs": [
    {
     "data": {
      "text/plain": [
       "'\\n<html lang=\"ko\">\\n<head>\\n<meta http-equiv=\"Content-Type\" content=\"text/html; charset=euc-kr\">\\n<title>네이버페이 증권</title>\\n\\n<link rel=\"stylesheet\" type=\"text/css\" href=\"https://ssl.pstatic.net/imgstock/static.pc/20240306115636/css/newstock.css\">\\n<link rel=\"stylesheet\" type=\"text/css\" href=\"https://ssl.pstatic.net/imgstock/static.pc/20240306115636/css/common.css\">\\n<link rel=\"stylesheet\" type=\"text/css\" href=\"https://ssl.pstatic.net/imgstock/static.pc/20240306115636/css/layout.css\">\\n<link rel=\"stylesheet\" type=\"text/css\" href=\"https://ssl.pstatic.net/imgstock/static.pc/20240306115636/css/main.css\">\\n<link rel=\"stylesheet\" type=\"text/css\" href=\"https://ssl.pstatic.net/imgstock/static.pc/20240306115636/css/newstock2.css\">\\n<link rel=\"stylesheet\" type=\"text/css\" href=\"https://ssl.pstatic.net/imgstock/static.pc/20240306115636/css/newstock3.css\">\\n<link rel=\"stylesheet\" type=\"text/css\" href=\"https://ssl.pstatic.net/imgstock/static.pc/20240306115636/css/world.css\">\\n</head>\\n<body>\\n<script language=\"JavaScript\">\\nfunction mouseOver(obj){\\n  obj.style.backgroundColor=\"#f6f4e5\";\\n}\\nfunction mouseOut(obj){\\n  obj.style.backgroundColor=\"#ffffff\";\\n}\\n</script>\\n\\t\\t\\t\\t<h4 class=\"tlline2\"><strong><span class=\"red03\">일별</span>시세</strong></h4>\\t\\t\\t\\n\\t\\t\\t\\t<table cellspacing=\"0\" class=\"type2\">\\n\\t\\t\\t\\t<tr>\\n\\t\\t\\t\\t<th>날짜</th>\\n\\t\\t\\t\\t<th>종가</th>\\n\\t\\t\\t\\t<th>전일비</th>\\n\\t\\t\\t\\t<th>시가</th>\\n\\t\\t\\t\\t<th>고가</th>\\n\\t\\t\\t\\t<th>저가</th>\\n\\t\\t\\t\\t<th>거래량</th>\\n\\t\\t\\t\\t</tr>\\n\\t\\t\\t\\t<tr>\\n\\t\\t\\t\\t<td colspan=\"7\" height=\"8\"></td>\\n\\t\\t\\t\\t</tr>\\n\\n\\n\\t\\n\\t\\t\\t\\t<tr onMouseOver=\"mouseOver(this)\" onMouseOut=\"mouseOut(this)\">\\n\\t\\t\\t\\t<td align=\"center\"><span class=\"tah p10 gray03\">2024.03.11</span></td>\\n\\t\\t\\t\\t<td class=\"num\"><span class=\"tah p11\">437,000</span></td>\\n\\t\\t\\t\\t<td class=\"num\">\\n\\t\\t\\t\\t<img src=\"https://ssl.pstatic.net/imgstock/images/images4/ico_down.gif\" width=\"7\" height=\"6\" style=\"margin-right:4px;\" alt=\"하락\"><span class=\"tah p11 nv01\">\\n\\t\\t\\t\\t7,500\\n\\t\\t\\t\\t</span>\\n\\t\\t\\t</td>\\n\\t\\t\\t\\t<td class=\"num\"><span class=\"tah p11\">444,500</span></td>\\n\\t\\t\\t\\t<td class=\"num\"><span class=\"tah p11\">445,500</span></td>\\n\\t\\t\\t\\t<td class=\"num\"><span class=\"tah p11\">436,000</span></td>\\n\\t\\t\\t\\t<td class=\"num\"><span class=\"tah p11\">388,580</span></td>\\n\\t\\t\\t\\t</tr>\\n\\t\\t\\n\\t\\t\\t\\n\\t\\t\\t\\t\\n\\t\\t\\t\\t\\t<tr onMouseOver=\"mouseOver(this)\" onMouseOut=\"mouseOut(this)\">\\n\\t\\t\\t\\t\\t<td align=\"center\"><span class=\"tah p10 gray03\">2024.03.08</span></td>\\n\\t\\t\\t\\t\\t<td class=\"num\"><span class=\"tah p11\">444,500</span></td>\\n\\t\\t\\t\\t\\t<td class=\"num\">\\n\\t\\t\\t\\t<img src=\"https://ssl.pstatic.net/imgstock/images/images4/ico_up.gif\" width=\"7\" height=\"6\" style=\"margin-right:4px;\" alt=\"상승\"><span class=\"tah p11 red02\">\\n\\t\\t\\t\\t1,500\\n\\t\\t\\t\\t</span>\\n\\t\\t\\t</td>\\n\\t\\t\\t\\t\\t<td class=\"num\"><span class=\"tah p11\">447,000</span></td>\\n\\t\\t\\t\\t\\t<td class=\"num\"><span class=\"tah p11\">456,500</span></td>\\n\\t\\t\\t\\t\\t<td class=\"num\"><span class=\"tah p11\">444,000</span></td>\\n\\t\\t\\t\\t\\t<td class=\"num\"><span class=\"tah p11\">489,844</span></td>\\n\\t\\t\\t\\t\\t</tr>\\n\\t\\t\\t\\t\\n\\t\\t\\t\\t\\n\\t\\t\\t\\n\\t\\t\\t\\n\\t\\t\\t\\n\\t\\t\\t\\n\\t\\t\\t\\n\\t\\n\\t\\t\\n\\t\\t\\t\\n\\t\\t\\t\\t\\n\\t\\t\\t\\t\\t<tr onMouseOver=\"mouseOver(this)\" onMouseOut=\"mouseOut(this)\">\\n\\t\\t\\t\\t\\t<td align=\"center\"><span class=\"tah p10 gray03\">2024.03.07</span></td>\\n\\t\\t\\t\\t\\t<td class=\"num\"><span class=\"tah p11\">443,000</span></td>\\n\\t\\t\\t\\t\\t<td class=\"num\">\\n\\t\\t\\t\\t<img src=\"https://ssl.pstatic.net/imgstock/images/images4/ico_up.gif\" width=\"7\" height=\"6\" style=\"margin-right:4px;\" alt=\"상승\"><span class=\"tah p11 red02\">\\n\\t\\t\\t\\t3,500\\n\\t\\t\\t\\t</span>\\n\\t\\t\\t</td>\\n\\t\\t\\t\\t\\t<td class=\"num\"><span class=\"tah p11\">443,500</span></td>\\n\\t\\t\\t\\t\\t<td class=\"num\"><span class=\"tah p11\">449,000</span></td>\\n\\t\\t\\t\\t\\t<td class=\"num\"><span class=\"tah p11\">439,000</span></td>\\n\\t\\t\\t\\t\\t<td class=\"num\"><span class=\"tah p11\">402,186</span></td>\\n\\t\\t\\t\\t\\t</tr>\\n\\t\\t\\t\\t\\n\\t\\t\\t\\t\\n\\t\\t\\t\\n\\t\\t\\t\\n\\t\\t\\t\\n\\t\\t\\t\\n\\t\\t\\t\\n\\t\\n\\t\\t\\n\\t\\t\\t\\n\\t\\t\\t\\t\\n\\t\\t\\t\\t\\t<tr onMouseOver=\"mouseOver(this)\" onMouseOut=\"mouseOut(this)\">\\n\\t\\t\\t\\t\\t<td align=\"center\"><span class=\"tah p10 gray03\">2024.03.06</span></td>\\n\\t\\t\\t\\t\\t<td class=\"num\"><span class=\"tah p11\">439,500</span></td>\\n\\t\\t\\t\\t\\t<td class=\"num\">\\n\\t\\t\\t\\t<img src=\"https://ssl.pstatic.net/imgstock/images/images4/ico_down.gif\" width=\"7\" height=\"6\" style=\"margin-right:4px;\" alt=\"하락\"><span class=\"tah p11 nv01\">\\n\\t\\t\\t\\t7,500\\n\\t\\t\\t\\t</span>\\n\\t\\t\\t</td>\\n\\t\\t\\t\\t\\t<td class=\"num\"><span class=\"tah p11\">444,000</span></td>\\n\\t\\t\\t\\t\\t<td class=\"num\"><span class=\"tah p11\">449,000</span></td>\\n\\t\\t\\t\\t\\t<td class=\"num\"><span class=\"tah p11\">438,500</span></td>\\n\\t\\t\\t\\t\\t<td class=\"num\"><span class=\"tah p11\">475,291</span></td>\\n\\t\\t\\t\\t\\t</tr>\\n\\t\\t\\t\\t\\n\\t\\t\\t\\t\\n\\t\\t\\t\\n\\t\\t\\t\\n\\t\\t\\t\\n\\t\\t\\t\\n\\t\\t\\t\\n\\t\\n\\t\\t\\n\\t\\t\\t\\n\\t\\t\\t\\t\\n\\t\\t\\t\\t\\t<tr onMouseOver=\"mouseOver(this)\" onMouseOut=\"mouseOut(this)\">\\n\\t\\t\\t\\t\\t<td align=\"center\"><span class=\"tah p10 gray03\">2024.03.05</span></td>\\n\\t\\t\\t\\t\\t<td class=\"num\"><span class=\"tah p11\">447,000</span></td>\\n\\t\\t\\t\\t\\t<td class=\"num\">\\n\\t\\t\\t\\t<img src=\"https://ssl.pstatic.net/imgstock/images/images4/ico_down.gif\" width=\"7\" height=\"6\" style=\"margin-right:4px;\" alt=\"하락\"><span class=\"tah p11 nv01\">\\n\\t\\t\\t\\t11,000\\n\\t\\t\\t\\t</span>\\n\\t\\t\\t</td>\\n\\t\\t\\t\\t\\t<td class=\"num\"><span class=\"tah p11\">453,000</span></td>\\n\\t\\t\\t\\t\\t<td class=\"num\"><span class=\"tah p11\">471,000</span></td>\\n\\t\\t\\t\\t\\t<td class=\"num\"><span class=\"tah p11\">447,000</span></td>\\n\\t\\t\\t\\t\\t<td class=\"num\"><span class=\"tah p11\">923,980</span></td>\\n\\t\\t\\t\\t\\t</tr>\\n\\t\\t\\t\\t\\n\\t\\t\\t\\t\\n\\t\\t\\t\\n\\t\\t\\t\\n\\t\\t\\t\\n\\t\\t\\t\\n\\t\\t\\t\\t<tr>\\n\\t\\t\\t\\t<td colspan=\"7\" height=\"8\"></td>\\n\\t\\t\\t\\t</tr>\\n\\t\\t\\t\\t<tr>\\n\\t\\t\\t\\t<td colspan=\"7\" height=\"1\" bgcolor=\"#e1e1e1\"></td>\\n\\t\\t\\t\\t</tr>\\n\\t\\t\\t\\t<tr>\\n\\t\\t\\t\\t<td colspan=\"7\" height=\"8\"></td>\\n\\t\\t\\t\\t</tr>\\n\\t\\t\\t\\n\\t\\t\\t\\n\\t\\n\\t\\t\\n\\t\\t\\t\\n\\t\\t\\t\\t\\n\\t\\t\\t\\t\\t<tr onMouseOver=\"mouseOver(this)\" onMouseOut=\"mouseOut(this)\">\\n\\t\\t\\t\\t\\t<td align=\"center\"><span class=\"tah p10 gray03\">2024.03.04</span></td>\\n\\t\\t\\t\\t\\t<td class=\"num\"><span class=\"tah p11\">458,000</span></td>\\n\\t\\t\\t\\t\\t<td class=\"num\">\\n\\t\\t\\t\\t<img src=\"https://ssl.pstatic.net/imgstock/images/images4/ico_up.gif\" width=\"7\" height=\"6\" style=\"margin-right:4px;\" alt=\"상승\"><span class=\"tah p11 red02\">\\n\\t\\t\\t\\t26,500\\n\\t\\t\\t\\t</span>\\n\\t\\t\\t</td>\\n\\t\\t\\t\\t\\t<td class=\"num\"><span class=\"tah p11\">434,000</span></td>\\n\\t\\t\\t\\t\\t<td class=\"num\"><span class=\"tah p11\">460,000</span></td>\\n\\t\\t\\t\\t\\t<td class=\"num\"><span class=\"tah p11\">434,000</span></td>\\n\\t\\t\\t\\t\\t<td class=\"num\"><span class=\"tah p11\">1,057,367</span></td>\\n\\t\\t\\t\\t\\t</tr>\\n\\t\\t\\t\\t\\n\\t\\t\\t\\t\\n\\t\\t\\t\\n\\t\\t\\t\\n\\t\\t\\t\\n\\t\\t\\t\\n\\t\\t\\t\\n\\t\\n\\t\\t\\n\\t\\t\\t\\n\\t\\t\\t\\t\\n\\t\\t\\t\\t\\t<tr onMouseOver=\"mouseOver(this)\" onMouseOut=\"mouseOut(this)\">\\n\\t\\t\\t\\t\\t<td align=\"center\"><span class=\"tah p10 gray03\">2024.02.29</span></td>\\n\\t\\t\\t\\t\\t<td class=\"num\"><span class=\"tah p11\">431,500</span></td>\\n\\t\\t\\t\\t\\t<td class=\"num\">\\n\\t\\t\\t\\t<img src=\"https://ssl.pstatic.net/imgstock/images/images4/ico_down.gif\" width=\"7\" height=\"6\" style=\"margin-right:4px;\" alt=\"하락\"><span class=\"tah p11 nv01\">\\n\\t\\t\\t\\t6,000\\n\\t\\t\\t\\t</span>\\n\\t\\t\\t</td>\\n\\t\\t\\t\\t\\t<td class=\"num\"><span class=\"tah p11\">435,500</span></td>\\n\\t\\t\\t\\t\\t<td class=\"num\"><span class=\"tah p11\">437,000</span></td>\\n\\t\\t\\t\\t\\t<td class=\"num\"><span class=\"tah p11\">431,500</span></td>\\n\\t\\t\\t\\t\\t<td class=\"num\"><span class=\"tah p11\">427,024</span></td>\\n\\t\\t\\t\\t\\t</tr>\\n\\t\\t\\t\\t\\n\\t\\t\\t\\t\\n\\t\\t\\t\\n\\t\\t\\t\\n\\t\\t\\t\\n\\t\\t\\t\\n\\t\\t\\t\\n\\t\\n\\t\\t\\n\\t\\t\\t\\n\\t\\t\\t\\t\\n\\t\\t\\t\\t\\t<tr onMouseOver=\"mouseOver(this)\" onMouseOut=\"mouseOut(this)\">\\n\\t\\t\\t\\t\\t<td align=\"center\"><span class=\"tah p10 gray03\">2024.02.28</span></td>\\n\\t\\t\\t\\t\\t<td class=\"num\"><span class=\"tah p11\">437,500</span></td>\\n\\t\\t\\t\\t\\t<td class=\"num\">\\n\\t\\t\\t\\t<img src=\"https://ssl.pstatic.net/imgstock/images/images4/ico_up.gif\" width=\"7\" height=\"6\" style=\"margin-right:4px;\" alt=\"상승\"><span class=\"tah p11 red02\">\\n\\t\\t\\t\\t10,500\\n\\t\\t\\t\\t</span>\\n\\t\\t\\t</td>\\n\\t\\t\\t\\t\\t<td class=\"num\"><span class=\"tah p11\">430,000</span></td>\\n\\t\\t\\t\\t\\t<td class=\"num\"><span class=\"tah p11\">441,500</span></td>\\n\\t\\t\\t\\t\\t<td class=\"num\"><span class=\"tah p11\">430,000</span></td>\\n\\t\\t\\t\\t\\t<td class=\"num\"><span class=\"tah p11\">510,943</span></td>\\n\\t\\t\\t\\t\\t</tr>\\n\\t\\t\\t\\t\\n\\t\\t\\t\\t\\n\\t\\t\\t\\n\\t\\t\\t\\n\\t\\t\\t\\n\\t\\t\\t\\n\\t\\t\\t\\n\\t\\n\\t\\t\\n\\t\\t\\t\\n\\t\\t\\t\\t\\n\\t\\t\\t\\t\\t<tr onMouseOver=\"mouseOver(this)\" onMouseOut=\"mouseOut(this)\">\\n\\t\\t\\t\\t\\t<td align=\"center\"><span class=\"tah p10 gray03\">2024.02.27</span></td>\\n\\t\\t\\t\\t\\t<td class=\"num\"><span class=\"tah p11\">427,000</span></td>\\n\\t\\t\\t\\t\\t<td class=\"num\">\\n\\t\\t\\t\\t<img src=\"https://ssl.pstatic.net/imgstock/images/images4/ico_down.gif\" width=\"7\" height=\"6\" style=\"margin-right:4px;\" alt=\"하락\"><span class=\"tah p11 nv01\">\\n\\t\\t\\t\\t5,500\\n\\t\\t\\t\\t</span>\\n\\t\\t\\t</td>\\n\\t\\t\\t\\t\\t<td class=\"num\"><span class=\"tah p11\">435,000</span></td>\\n\\t\\t\\t\\t\\t<td class=\"num\"><span class=\"tah p11\">438,500</span></td>\\n\\t\\t\\t\\t\\t<td class=\"num\"><span class=\"tah p11\">425,500</span></td>\\n\\t\\t\\t\\t\\t<td class=\"num\"><span class=\"tah p11\">426,286</span></td>\\n\\t\\t\\t\\t\\t</tr>\\n\\t\\t\\t\\t\\n\\t\\t\\t\\t\\n\\t\\t\\t\\n\\t\\t\\t\\n\\t\\t\\t\\n\\t\\t\\t\\n\\t\\t\\t\\n\\t\\n\\t\\t\\n\\t\\t\\t\\n\\t\\t\\t\\t\\n\\t\\t\\t\\t\\t<tr onMouseOver=\"mouseOver(this)\" onMouseOut=\"mouseOut(this)\">\\n\\t\\t\\t\\t\\t<td align=\"center\"><span class=\"tah p10 gray03\">2024.02.26</span></td>\\n\\t\\t\\t\\t\\t<td class=\"num\"><span class=\"tah p11\">432,500</span></td>\\n\\t\\t\\t\\t\\t<td class=\"num\">\\n\\t\\t\\t\\t<img src=\"https://ssl.pstatic.net/imgstock/images/images4/ico_down.gif\" width=\"7\" height=\"6\" style=\"margin-right:4px;\" alt=\"하락\"><span class=\"tah p11 nv01\">\\n\\t\\t\\t\\t3,000\\n\\t\\t\\t\\t</span>\\n\\t\\t\\t</td>\\n\\t\\t\\t\\t\\t<td class=\"num\"><span class=\"tah p11\">435,500</span></td>\\n\\t\\t\\t\\t\\t<td class=\"num\"><span class=\"tah p11\">443,000</span></td>\\n\\t\\t\\t\\t\\t<td class=\"num\"><span class=\"tah p11\">432,000</span></td>\\n\\t\\t\\t\\t\\t<td class=\"num\"><span class=\"tah p11\">401,741</span></td>\\n\\t\\t\\t\\t\\t</tr>\\n\\t\\t\\t\\t\\n\\t\\t\\t\\t\\n\\t\\t\\t\\n\\t\\t\\t\\n\\t\\t\\t\\n\\t\\t\\t\\n\\t\\t\\t\\n\\t\\n\\t\\t\\n\\t\\n\\t\\n\\t\\n\\n\\t\\t\\t\\t<tr>\\n\\t\\t\\t\\t<td colspan=\"7\" height=\"8\"></td>\\n\\t\\t\\t\\t</tr>\\n\\t\\t\\t\\t</table>\\n\\t\\t\\t\\t<!--- 페이지 네비게이션 시작--->\\n\\t\\t\\t\\t<table summary=\"페이지 네비게이션 리스트\" class=\"Nnavi\" align=\"center\">\\n\\t\\t\\t\\t<caption>페이지 네비게이션</caption>\\n\\t\\t\\t\\t<tr>\\t\\t\\n\\t\\t\\t\\n\\t\\t\\t\\t\\n                \\n                <td class=\"on\">\\n\\t\\t\\t\\t<a href=\"/item/sise_day.naver?code=005490&amp;page=1\"  >1</a>\\n\\t\\t\\t\\t</td>\\n<td>\\n\\t\\t\\t\\t<a href=\"/item/sise_day.naver?code=005490&amp;page=2\"  >2</a>\\n\\t\\t\\t\\t</td>\\n<td>\\n\\t\\t\\t\\t<a href=\"/item/sise_day.naver?code=005490&amp;page=3\"  >3</a>\\n\\t\\t\\t\\t</td>\\n<td>\\n\\t\\t\\t\\t<a href=\"/item/sise_day.naver?code=005490&amp;page=4\"  >4</a>\\n\\t\\t\\t\\t</td>\\n<td>\\n\\t\\t\\t\\t<a href=\"/item/sise_day.naver?code=005490&amp;page=5\"  >5</a>\\n\\t\\t\\t\\t</td>\\n<td>\\n\\t\\t\\t\\t<a href=\"/item/sise_day.naver?code=005490&amp;page=6\"  >6</a>\\n\\t\\t\\t\\t</td>\\n<td>\\n\\t\\t\\t\\t<a href=\"/item/sise_day.naver?code=005490&amp;page=7\"  >7</a>\\n\\t\\t\\t\\t</td>\\n<td>\\n\\t\\t\\t\\t<a href=\"/item/sise_day.naver?code=005490&amp;page=8\"  >8</a>\\n\\t\\t\\t\\t</td>\\n<td>\\n\\t\\t\\t\\t<a href=\"/item/sise_day.naver?code=005490&amp;page=9\"  >9</a>\\n\\t\\t\\t\\t</td>\\n<td>\\n\\t\\t\\t\\t<a href=\"/item/sise_day.naver?code=005490&amp;page=10\"  >10</a>\\n\\t\\t\\t\\t</td>\\n\\n                <td class=\"pgR\">\\n\\t\\t\\t\\t<a href=\"/item/sise_day.naver?code=005490&amp;page=11\"  >\\n\\t\\t\\t\\t다음<img src=\"https://ssl.pstatic.net/static/n/cmn/bu_pgarR.gif\" width=\"3\" height=\"5\" alt=\"\" border=\"0\">\\n\\t\\t\\t\\t</a>\\n\\t\\t\\t\\t</td>\\n\\n                <td class=\"pgRR\">\\n\\t\\t\\t\\t<a href=\"/item/sise_day.naver?code=005490&amp;page=695\"  >맨뒤\\n\\t\\t\\t\\t<img src=\"https://ssl.pstatic.net/static/n/cmn/bu_pgarRR.gif\" width=\"8\" height=\"5\" alt=\"\" border=\"0\">\\n\\t\\t\\t\\t</a>\\n\\t\\t\\t\\t</td>\\n\\n            \\n\\t\\t\\t\\t</tr>\\n\\t\\t\\t\\t</table>\\n\\t\\t\\t\\t<!--- 페이지 네비게이션 끝--->\\n\\n\\n</body>\\n'"
      ]
     },
     "execution_count": 6,
     "metadata": {},
     "output_type": "execute_result"
    }
   ],
   "source": [
    "URL = 'https://finance.naver.com/item/sise_day.naver?code=005490'\n",
    "\n",
    "h = {'User-Agent':'Mozilla/5.0 (Windows NT 10.0; Win64; x64) AppleWebKit/537.36 (KHTML, like Gecko) Chrome/122.0.0.0 Safari/537.36'}\n",
    "\n",
    "res = requests.get(url, headers=h)\n",
    "res.text"
   ]
  },
  {
   "cell_type": "markdown",
   "metadata": {},
   "source": [
    "### 4. json() 메소드"
   ]
  },
  {
   "cell_type": "code",
   "execution_count": 7,
   "metadata": {},
   "outputs": [
    {
     "data": {
      "text/plain": [
       "'{\"명단\":[{\"이름\":\"홍길동\",\"부서\":\"인사팀\",\"직급\":\"과장\",\"역할\":\"동호회 회장\"}, {\"이름\":\"이순신\",\"부서\":\"구매팀\",\"직급\":\"대리\",\"역할\":\"동호회 총무\"}],\"메타데이터\":{\"데이터 설명\":\"사내 파이썬 동호회 회원명단\",\"등록일\":\"2022-01-18\",\"수정일\":\"2022-01-20\",\"등록자\":\"김두환\"}}'"
      ]
     },
     "execution_count": 7,
     "metadata": {},
     "output_type": "execute_result"
    }
   ],
   "source": [
    "json_str = '{\"명단\":[{\"이름\":\"홍길동\",\"부서\":\"인사팀\",\"직급\":\"과장\",\"역할\":\"동호회 회장\"}, {\"이름\":\"이순신\",\"부서\":\"구매팀\",\"직급\":\"대리\",\"역할\":\"동호회 총무\"}],\"메타데이터\":{\"데이터 설명\":\"사내 파이썬 동호회 회원명단\",\"등록일\":\"2022-01-18\",\"수정일\":\"2022-01-20\",\"등록자\":\"김두환\"}}'\n",
    "json_str"
   ]
  },
  {
   "cell_type": "code",
   "execution_count": 8,
   "metadata": {},
   "outputs": [
    {
     "data": {
      "text/plain": [
       "'{\"명단\":[{\"이름\":\"홍길동\",\"부서\":\"인사팀\",\"직급\":\"과장\",\"역할\":\"동호회 회장\"}, {\"이름\":\"이순신\",\"부서\":\"구매팀\",\"직급\":\"대리\",\"역할\":\"동호회 총무\"}],\"메타데이터\":{\"데이터 설명\":\"사내 파이썬 동호회 회원명단\",\"등록일\":\"2022-01-18\",\"수정일\":\"2022-01-20\",\"등록자\":\"김두환\"}}'"
      ]
     },
     "execution_count": 8,
     "metadata": {},
     "output_type": "execute_result"
    }
   ],
   "source": [
    "json_str"
   ]
  },
  {
   "cell_type": "code",
   "execution_count": 9,
   "metadata": {},
   "outputs": [
    {
     "data": {
      "text/plain": [
       "{'명단': [{'이름': '홍길동', '부서': '인사팀', '직급': '과장', '역할': '동호회 회장'},\n",
       "  {'이름': '이순신', '부서': '구매팀', '직급': '대리', '역할': '동호회 총무'}],\n",
       " '메타데이터': {'데이터 설명': '사내 파이썬 동호회 회원명단',\n",
       "  '등록일': '2022-01-18',\n",
       "  '수정일': '2022-01-20',\n",
       "  '등록자': '김두환'}}"
      ]
     },
     "execution_count": 9,
     "metadata": {},
     "output_type": "execute_result"
    }
   ],
   "source": [
    "import json\n",
    "json_data = json.loads(json_str)\n",
    "json_data"
   ]
  },
  {
   "cell_type": "code",
   "execution_count": 10,
   "metadata": {},
   "outputs": [
    {
     "data": {
      "text/plain": [
       "[{'이름': '홍길동', '부서': '인사팀', '직급': '과장', '역할': '동호회 회장'},\n",
       " {'이름': '이순신', '부서': '구매팀', '직급': '대리', '역할': '동호회 총무'}]"
      ]
     },
     "execution_count": 10,
     "metadata": {},
     "output_type": "execute_result"
    }
   ],
   "source": [
    "json_data['명단']"
   ]
  }
 ],
 "metadata": {
  "interpreter": {
   "hash": "e2782e0ab7cab974e8fb2dfc8cec048a29dc3b50e54743df0c4a34ac41b2be7e"
  },
  "kernelspec": {
   "display_name": "Python 3 (ipykernel)",
   "language": "python",
   "name": "python3"
  },
  "language_info": {
   "codemirror_mode": {
    "name": "ipython",
    "version": 3
   },
   "file_extension": ".py",
   "mimetype": "text/x-python",
   "name": "python",
   "nbconvert_exporter": "python",
   "pygments_lexer": "ipython3",
   "version": "3.11.4"
  }
 },
 "nbformat": 4,
 "nbformat_minor": 2
}
