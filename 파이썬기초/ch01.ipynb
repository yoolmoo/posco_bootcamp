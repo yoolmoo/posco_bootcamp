{
 "cells": [
  {
   "cell_type": "markdown",
   "id": "f1875a96-ab51-42e2-bb15-334e863abab5",
   "metadata": {},
   "source": [
    "## Hello, World! 출력\n",
    "print함수로  Hello, World!를 출력합니다."
   ]
  },
  {
   "cell_type": "code",
   "execution_count": 2,
   "id": "b214bf8a-3ff7-4023-91c1-e623b58be065",
   "metadata": {},
   "outputs": [
    {
     "name": "stdout",
     "output_type": "stream",
     "text": [
      "Hello, World!\n"
     ]
    }
   ],
   "source": [
    "print(\"Hello, World!\")"
   ]
  },
  {
   "cell_type": "code",
   "execution_count": 34,
   "id": "2bf1c63e-a998-4813-ad4a-b827c030b4ba",
   "metadata": {},
   "outputs": [
    {
     "name": "stdin",
     "output_type": "stream",
     "text": [
      " 2\n",
      " 3\n"
     ]
    }
   ],
   "source": [
    "a = input()#a라는 변수에 저장\n",
    "b = input()#b라는 변수에 저장\n",
    "\n",
    "c = int(a)\n",
    "d = int(b)"
   ]
  },
  {
   "cell_type": "code",
   "execution_count": 35,
   "id": "939f10be-4564-4a10-935b-14f4fe1464f6",
   "metadata": {},
   "outputs": [
    {
     "name": "stdin",
     "output_type": "stream",
     "text": [
      "첫 번째 정수를 입력하세요: 10\n",
      "두 번째 정수를 입력하세요: 20\n"
     ]
    }
   ],
   "source": [
    "a = input(\"첫 번째 정수를 입력하세요:\")#입력값을 a라는 문자열에 저장\n",
    "b = input(\"두 번째 정수를 입력하세요:\")#입력값을 b라는 문자열에 저장"
   ]
  },
  {
   "cell_type": "code",
   "execution_count": 36,
   "id": "da2e9d1b-bc6a-4632-a1fc-0bc96ad5dc11",
   "metadata": {},
   "outputs": [
    {
     "name": "stdin",
     "output_type": "stream",
     "text": [
      "첫 번째 정수를 입력하세요: 11\n",
      "두 번째 정수를 입력하세요: 22\n"
     ]
    },
    {
     "name": "stdout",
     "output_type": "stream",
     "text": [
      "11 22\n"
     ]
    }
   ],
   "source": [
    "a = input(\"첫 번째 정수를 입력하세요:\")\n",
    "b = input(\"두 번째 정수를 입력하세요:\")\n",
    "\n",
    "print(a, b)"
   ]
  },
  {
   "cell_type": "code",
   "execution_count": 39,
   "id": "d8e46e80-e5e3-4138-8ce0-f1960c7f42f6",
   "metadata": {},
   "outputs": [
    {
     "name": "stdin",
     "output_type": "stream",
     "text": [
      "첫 번째 정수를 입력하세요: 10\n",
      "두 번째 정수를 입력하세요: 20\n"
     ]
    },
    {
     "name": "stdout",
     "output_type": "stream",
     "text": [
      "10 + 20 = 30\n"
     ]
    }
   ],
   "source": [
    "a = input(\"첫 번째 정수를 입력하세요:\")\n",
    "b = input(\"두 번째 정수를 입력하세요:\")\n",
    "\n",
    "print(a,\"+\", b,\"=\", int(a)+int(b))"
   ]
  },
  {
   "cell_type": "markdown",
   "id": "0bcc72f4-f2de-41be-97a1-e67073b73a1d",
   "metadata": {},
   "source": [
    "## 파이썬 실습01\n",
    ": 두개의 정수를 입력 받아 사칙 연산의 결과를 아래와 같이 출력하는 프로그램을 작성하시오. "
   ]
  },
  {
   "cell_type": "code",
   "execution_count": 30,
   "id": "7a9d202e-ae42-4513-a136-e63e7199cb2c",
   "metadata": {},
   "outputs": [
    {
     "name": "stdin",
     "output_type": "stream",
     "text": [
      "첫 번째 정수를 입력하세요:  10\n",
      "두 번째 정수를 입력하세요:  5\n"
     ]
    },
    {
     "name": "stdout",
     "output_type": "stream",
     "text": [
      "10 + 5 = 15\n",
      "10 - 5 = 5\n",
      "10 * 5 = 50\n",
      "10 / 5 = 2.0\n"
     ]
    }
   ],
   "source": [
    "a=int(input(\"첫 번째 정수를 입력하세요: \"))\n",
    "b=int(input(\"두 번째 정수를 입력하세요: \"))\n",
    "print(a ,\"+\", b, \"=\", a+b)\n",
    "print(a ,\"-\", b, \"=\", a-b)\n",
    "print(a ,\"*\", b, \"=\", a*b)\n",
    "print(a ,\"/\", b, \"=\", a/b)"
   ]
  },
  {
   "cell_type": "code",
   "execution_count": null,
   "id": "258ea465-c1c3-4cc0-9349-9c8832143b5c",
   "metadata": {},
   "outputs": [],
   "source": []
  },
  {
   "cell_type": "code",
   "execution_count": null,
   "id": "9d188705-6b38-4e46-af04-ac06b2ccc3a7",
   "metadata": {},
   "outputs": [],
   "source": []
  },
  {
   "cell_type": "code",
   "execution_count": null,
   "id": "998b84e3-4973-47fc-9c36-eb7ecec96763",
   "metadata": {},
   "outputs": [],
   "source": []
  }
 ],
 "metadata": {
  "kernelspec": {
   "display_name": "Python 3 (ipykernel)",
   "language": "python",
   "name": "python3"
  },
  "language_info": {
   "codemirror_mode": {
    "name": "ipython",
    "version": 3
   },
   "file_extension": ".py",
   "mimetype": "text/x-python",
   "name": "python",
   "nbconvert_exporter": "python",
   "pygments_lexer": "ipython3",
   "version": "3.11.5"
  }
 },
 "nbformat": 4,
 "nbformat_minor": 5
}
