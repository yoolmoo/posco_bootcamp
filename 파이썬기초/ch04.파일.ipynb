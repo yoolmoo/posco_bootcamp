{
 "cells": [
  {
   "cell_type": "markdown",
   "id": "55cf4bd4-dfe3-4cc2-8fa4-e178568ca1aa",
   "metadata": {},
   "source": [
    "## 파일"
   ]
  },
  {
   "cell_type": "code",
   "execution_count": 3,
   "id": "fa21ca50-3a4b-4d4f-b66a-f01de2cd6664",
   "metadata": {},
   "outputs": [],
   "source": [
    "f = open(\"new.txt\", \"w\")\n",
    "\n",
    "for i in range(1, 6):\n",
    "    data = \"%d line\\n\" % i\n",
    "    f.write(data)\n",
    "\n",
    "f.close()"
   ]
  },
  {
   "cell_type": "code",
   "execution_count": 4,
   "id": "842552ab-67b2-4675-b311-a348ec49ae32",
   "metadata": {},
   "outputs": [
    {
     "name": "stdout",
     "output_type": "stream",
     "text": [
      "1 line\n",
      "\n",
      "2 line\n",
      "\n",
      "3 line\n",
      "\n"
     ]
    }
   ],
   "source": [
    "f = open('new.txt','r')\n",
    "\n",
    "line=f.readline() #1번째 줄 읽기\n",
    "print(line)\n",
    "\n",
    "line2=f.readline()#2번째 줄 읽기\n",
    "print(line2)\n",
    "\n",
    "line3=f.readline()\n",
    "print(line3)\n",
    "\n",
    "f.close()"
   ]
  },
  {
   "cell_type": "code",
   "execution_count": 5,
   "id": "2699e854-35e0-4dc2-b839-534fa033d787",
   "metadata": {},
   "outputs": [
    {
     "data": {
      "text/plain": [
       "['1 line\\n', '2 line\\n', '3 line\\n', '4 line\\n', '5 line\\n']"
      ]
     },
     "execution_count": 5,
     "metadata": {},
     "output_type": "execute_result"
    }
   ],
   "source": [
    "f = open('new.txt', 'r')\n",
    "\n",
    "f.readlines()"
   ]
  },
  {
   "cell_type": "markdown",
   "id": "e22dfd66-fc7b-4e02-aed6-369394a703d8",
   "metadata": {},
   "source": [
    "## readlines()\n",
    "- 파일에서 한 줄 읽어옴"
   ]
  },
  {
   "cell_type": "code",
   "execution_count": 7,
   "id": "971e2e3c-d636-4cc7-9c7c-31ea8b302c82",
   "metadata": {},
   "outputs": [
    {
     "name": "stdout",
     "output_type": "stream",
     "text": [
      "1 line\n",
      "2 line\n",
      "3 line\n",
      "4 line\n",
      "5 line\n"
     ]
    }
   ],
   "source": [
    "f=open(\"new.txt\",\"r\")\n",
    "data=f.read()#파일을 전부 읽은 문자열 반환\n",
    "print(data, end='')\n",
    "f.close()"
   ]
  },
  {
   "cell_type": "code",
   "execution_count": 10,
   "id": "298d7eda-ed28-40de-85ad-7b518f81ca33",
   "metadata": {},
   "outputs": [
    {
     "name": "stdout",
     "output_type": "stream",
     "text": [
      "1 line\n",
      "\n",
      "2 line\n",
      "\n",
      "3 line\n",
      "\n",
      "4 line\n",
      "\n",
      "5 line\n",
      "\n"
     ]
    }
   ],
   "source": [
    "f = open('new.txt','r')\n",
    "\n",
    "for line in f:\n",
    "    print(line)#원래 뒤에도 디폴트값으로 개행이 되고 있어서 두번식 개행 진행중\n",
    "\n",
    "f.close()"
   ]
  },
  {
   "cell_type": "code",
   "execution_count": 2,
   "id": "427aeb94-e5ed-4436-954e-7f321f7cbb98",
   "metadata": {},
   "outputs": [],
   "source": [
    "f=open('new.txt', 'a')\n",
    "\n",
    "for i in range(6, 11): #i:6~10\n",
    "    data = str(i)+' line \\n'\n",
    "    f.write(data)\n",
    "\n",
    "f.close()"
   ]
  },
  {
   "cell_type": "code",
   "execution_count": null,
   "id": "7fe7eca4-b473-4141-bb75-3f9b4dc4e1de",
   "metadata": {},
   "outputs": [],
   "source": []
  },
  {
   "cell_type": "code",
   "execution_count": null,
   "id": "2f3414da-7835-4772-810e-5204e3272528",
   "metadata": {},
   "outputs": [],
   "source": []
  },
  {
   "cell_type": "code",
   "execution_count": null,
   "id": "c6059efd-d943-403b-b01f-ddb9f3e77a8b",
   "metadata": {},
   "outputs": [],
   "source": []
  },
  {
   "cell_type": "code",
   "execution_count": null,
   "id": "66104c1c-78e4-452a-bd69-9a18b46107a8",
   "metadata": {},
   "outputs": [],
   "source": []
  },
  {
   "cell_type": "code",
   "execution_count": null,
   "id": "d26fac6d-08aa-484a-bf5e-cf4ef23c2491",
   "metadata": {},
   "outputs": [],
   "source": []
  },
  {
   "cell_type": "code",
   "execution_count": null,
   "id": "193586f0-60b4-4dd6-8f0b-687063e81ffb",
   "metadata": {},
   "outputs": [],
   "source": []
  },
  {
   "cell_type": "code",
   "execution_count": null,
   "id": "b5563715-7a02-48e4-8226-09c591d5e905",
   "metadata": {},
   "outputs": [],
   "source": []
  },
  {
   "cell_type": "code",
   "execution_count": null,
   "id": "bafe5e23-59ef-4bab-bea3-57a1bb25b79e",
   "metadata": {},
   "outputs": [],
   "source": []
  },
  {
   "cell_type": "code",
   "execution_count": null,
   "id": "057f4a36-da44-49c6-96ae-b903e03b6bfa",
   "metadata": {},
   "outputs": [],
   "source": []
  }
 ],
 "metadata": {
  "kernelspec": {
   "display_name": "Python 3 (ipykernel)",
   "language": "python",
   "name": "python3"
  },
  "language_info": {
   "codemirror_mode": {
    "name": "ipython",
    "version": 3
   },
   "file_extension": ".py",
   "mimetype": "text/x-python",
   "name": "python",
   "nbconvert_exporter": "python",
   "pygments_lexer": "ipython3",
   "version": "3.11.5"
  }
 },
 "nbformat": 4,
 "nbformat_minor": 5
}
